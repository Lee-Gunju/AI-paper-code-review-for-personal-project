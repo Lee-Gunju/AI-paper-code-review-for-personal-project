{
  "nbformat": 4,
  "nbformat_minor": 0,
  "metadata": {
    "accelerator": "GPU",
    "colab": {
      "name": "[문제]_LSTM을_활용해_주가_예측_모델_구현하기.ipynb",
      "provenance": [],
      "collapsed_sections": [],
      "include_colab_link": true
    },
    "kernelspec": {
      "display_name": "Python 3",
      "language": "python",
      "name": "python3"
    },
    "language_info": {
      "codemirror_mode": {
        "name": "ipython",
        "version": 3
      },
      "file_extension": ".py",
      "mimetype": "text/x-python",
      "name": "python",
      "nbconvert_exporter": "python",
      "pygments_lexer": "ipython3",
      "version": "3.6.10"
    }
  },
  "cells": [
    {
      "cell_type": "markdown",
      "metadata": {
        "id": "view-in-github",
        "colab_type": "text"
      },
      "source": [
        "<a href=\"https://colab.research.google.com/github/Lee-Gunju/AI-paper-code-review-for-personal-project/blob/master/%5B%EB%AC%B8%EC%A0%9C%5D_LSTM%EC%9D%84_%ED%99%9C%EC%9A%A9%ED%95%B4_%EC%A3%BC%EA%B0%80_%EC%98%88%EC%B8%A1_%EB%AA%A8%EB%8D%B8_%EA%B5%AC%ED%98%84%ED%95%98%EA%B8%B0.ipynb\" target=\"_parent\"><img src=\"https://colab.research.google.com/assets/colab-badge.svg\" alt=\"Open In Colab\"/></a>"
      ]
    },
    {
      "cell_type": "markdown",
      "metadata": {
        "id": "OF9lUuqwBudU"
      },
      "source": [
        "# 주제 : LSTM을 활용해 주가 예측 모델 구현하기"
      ]
    },
    {
      "cell_type": "markdown",
      "metadata": {
        "id": "G-rOVLn7Budf"
      },
      "source": [
        "이번 튜토리얼 에서는 다음과 같은 **프로세스 파이프라인**으로 주가 예측을 진행합니다.\n",
        "\n",
        "- FinanceDataReader를 활용하여 주가 데이터 받아오기\n",
        "- TensorFlow Dataset 클래스를 활용하여 주가 데이터 구축\n",
        "- LSTM 을 활용한 주가 예측 모델 구축"
      ]
    },
    {
      "cell_type": "markdown",
      "metadata": {
        "id": "UshzfuK6CJX4"
      },
      "source": [
        "## Step 1. 데이터 불러오기 및 EDA"
      ]
    },
    {
      "cell_type": "markdown",
      "metadata": {
        "id": "EZFBO9GwBudh"
      },
      "source": [
        "### 문제 01. 필요한 모듈 import"
      ]
    },
    {
      "cell_type": "code",
      "metadata": {
        "id": "pYEgcrR1Budi"
      },
      "source": [
        "import pandas as pd\n",
        "import numpy as np\n",
        "import matplotlib.pyplot as plt\n",
        "import seaborn as sns\n",
        "import warnings\n",
        "import os\n",
        "\n",
        "%matplotlib inline\n",
        "warnings.filterwarnings('ignore')\n",
        "\n",
        "plt.rcParams['font.family'] = 'NanumGothic'"
      ],
      "execution_count": null,
      "outputs": []
    },
    {
      "cell_type": "markdown",
      "metadata": {
        "id": "5N-NMRFVBudi"
      },
      "source": [
        "### 문제 02. FinanceDataReader import"
      ]
    },
    {
      "cell_type": "markdown",
      "metadata": {
        "id": "a7FGN9gGBudj"
      },
      "source": [
        "**FinanceDataReader**는 주가 데이터를 편리하게 가져올 수 있는 파이썬 패키지입니다.\n",
        "\n",
        "- [GitHub Repo](https://github.com/FinanceData/FinanceDataReader)"
      ]
    },
    {
      "cell_type": "markdown",
      "metadata": {
        "id": "o6_RB59yBudj"
      },
      "source": [
        "**FinanceDataReader**가 아직 설치 되지 않으신 분들은 아래의 주석을 해제한 후 명령어로 설치해 주시기 바랍니다."
      ]
    },
    {
      "cell_type": "code",
      "metadata": {
        "id": "99EggRzTBudk",
        "colab": {
          "base_uri": "https://localhost:8080/"
        },
        "outputId": "ba491567-64b4-44f0-bca7-1eec54aa0df5"
      },
      "source": [
        "!pip install finance-datareader"
      ],
      "execution_count": null,
      "outputs": [
        {
          "output_type": "stream",
          "text": [
            "Collecting finance-datareader\n",
            "  Downloading https://files.pythonhosted.org/packages/83/5e/54306e72b5ff5d5ec6cc9f32cdf19602237f9bb70d64efcd527338388be3/finance_datareader-0.9.31-py3-none-any.whl\n",
            "Requirement already satisfied: requests>=2.3.0 in /usr/local/lib/python3.7/dist-packages (from finance-datareader) (2.23.0)\n",
            "Requirement already satisfied: lxml in /usr/local/lib/python3.7/dist-packages (from finance-datareader) (4.2.6)\n",
            "Collecting requests-file\n",
            "  Downloading https://files.pythonhosted.org/packages/77/86/cdb5e8eaed90796aa83a6d9f75cfbd37af553c47a291cd47bc410ef9bdb2/requests_file-1.5.1-py2.py3-none-any.whl\n",
            "Requirement already satisfied: tqdm in /usr/local/lib/python3.7/dist-packages (from finance-datareader) (4.41.1)\n",
            "Requirement already satisfied: pandas>=0.19.2 in /usr/local/lib/python3.7/dist-packages (from finance-datareader) (1.1.5)\n",
            "Requirement already satisfied: idna<3,>=2.5 in /usr/local/lib/python3.7/dist-packages (from requests>=2.3.0->finance-datareader) (2.10)\n",
            "Requirement already satisfied: urllib3!=1.25.0,!=1.25.1,<1.26,>=1.21.1 in /usr/local/lib/python3.7/dist-packages (from requests>=2.3.0->finance-datareader) (1.24.3)\n",
            "Requirement already satisfied: certifi>=2017.4.17 in /usr/local/lib/python3.7/dist-packages (from requests>=2.3.0->finance-datareader) (2021.5.30)\n",
            "Requirement already satisfied: chardet<4,>=3.0.2 in /usr/local/lib/python3.7/dist-packages (from requests>=2.3.0->finance-datareader) (3.0.4)\n",
            "Requirement already satisfied: six in /usr/local/lib/python3.7/dist-packages (from requests-file->finance-datareader) (1.15.0)\n",
            "Requirement already satisfied: python-dateutil>=2.7.3 in /usr/local/lib/python3.7/dist-packages (from pandas>=0.19.2->finance-datareader) (2.8.1)\n",
            "Requirement already satisfied: numpy>=1.15.4 in /usr/local/lib/python3.7/dist-packages (from pandas>=0.19.2->finance-datareader) (1.19.5)\n",
            "Requirement already satisfied: pytz>=2017.2 in /usr/local/lib/python3.7/dist-packages (from pandas>=0.19.2->finance-datareader) (2018.9)\n",
            "Installing collected packages: requests-file, finance-datareader\n",
            "Successfully installed finance-datareader-0.9.31 requests-file-1.5.1\n"
          ],
          "name": "stdout"
        }
      ]
    },
    {
      "cell_type": "code",
      "metadata": {
        "id": "4vkRR9dQBudk"
      },
      "source": [
        "import FinanceDataReader as fdr"
      ],
      "execution_count": null,
      "outputs": []
    },
    {
      "cell_type": "markdown",
      "metadata": {
        "id": "x4C9neevEYYr"
      },
      "source": [
        "### 문제 03. 삼성전자 데이터 불러오기"
      ]
    },
    {
      "cell_type": "code",
      "metadata": {
        "id": "9IqphMM7Budl"
      },
      "source": [
        "# fdr 라이브러리를 활용해 삼성전자 주가 데이터를 불러오세요.\n",
        "# 대상 : 삼성전자(005930) 전체 (1996-11-05 ~ 현재)\n",
        "samsung = fdr.DataReader('005930')"
      ],
      "execution_count": null,
      "outputs": []
    },
    {
      "cell_type": "markdown",
      "metadata": {
        "id": "T-WOxATwBudl"
      },
      "source": [
        "매우 편리하게 삼성전자 주가 데이터를 `DataFrame`형식으로 받아옵니다.\n",
        "\n",
        "기본 **오름차순 정렬**이 된 데이터임을 알 수 있습니다.\n",
        "\n",
        "### 컬럼 설명\n",
        "\n",
        "- `Open`:   시가\n",
        "- `High`:   고가\n",
        "- `Low`:    저가\n",
        "- `Close`:  종가\n",
        "- `Volume`: 거래량\n",
        "- `Change`: 대비"
      ]
    },
    {
      "cell_type": "markdown",
      "metadata": {
        "id": "K9w60KnkEeqW"
      },
      "source": [
        "### 문제 04. 삼성전자 데이터 EDA"
      ]
    },
    {
      "cell_type": "code",
      "metadata": {
        "id": "WfLJ5zHXBudl",
        "colab": {
          "base_uri": "https://localhost:8080/",
          "height": 450
        },
        "outputId": "8df7ced7-61f9-432b-abe3-c6be34da3010"
      },
      "source": [
        "samsung"
      ],
      "execution_count": null,
      "outputs": [
        {
          "output_type": "execute_result",
          "data": {
            "text/html": [
              "<div>\n",
              "<style scoped>\n",
              "    .dataframe tbody tr th:only-of-type {\n",
              "        vertical-align: middle;\n",
              "    }\n",
              "\n",
              "    .dataframe tbody tr th {\n",
              "        vertical-align: top;\n",
              "    }\n",
              "\n",
              "    .dataframe thead th {\n",
              "        text-align: right;\n",
              "    }\n",
              "</style>\n",
              "<table border=\"1\" class=\"dataframe\">\n",
              "  <thead>\n",
              "    <tr style=\"text-align: right;\">\n",
              "      <th></th>\n",
              "      <th>Open</th>\n",
              "      <th>High</th>\n",
              "      <th>Low</th>\n",
              "      <th>Close</th>\n",
              "      <th>Volume</th>\n",
              "      <th>Change</th>\n",
              "    </tr>\n",
              "    <tr>\n",
              "      <th>Date</th>\n",
              "      <th></th>\n",
              "      <th></th>\n",
              "      <th></th>\n",
              "      <th></th>\n",
              "      <th></th>\n",
              "      <th></th>\n",
              "    </tr>\n",
              "  </thead>\n",
              "  <tbody>\n",
              "    <tr>\n",
              "      <th>1997-07-01</th>\n",
              "      <td>1259</td>\n",
              "      <td>1286</td>\n",
              "      <td>1259</td>\n",
              "      <td>1269</td>\n",
              "      <td>167900</td>\n",
              "      <td>NaN</td>\n",
              "    </tr>\n",
              "    <tr>\n",
              "      <th>1997-07-02</th>\n",
              "      <td>1277</td>\n",
              "      <td>1313</td>\n",
              "      <td>1277</td>\n",
              "      <td>1296</td>\n",
              "      <td>169940</td>\n",
              "      <td>0.021277</td>\n",
              "    </tr>\n",
              "    <tr>\n",
              "      <th>1997-07-03</th>\n",
              "      <td>1295</td>\n",
              "      <td>1304</td>\n",
              "      <td>1283</td>\n",
              "      <td>1290</td>\n",
              "      <td>108460</td>\n",
              "      <td>-0.004630</td>\n",
              "    </tr>\n",
              "    <tr>\n",
              "      <th>1997-07-04</th>\n",
              "      <td>1295</td>\n",
              "      <td>1304</td>\n",
              "      <td>1286</td>\n",
              "      <td>1296</td>\n",
              "      <td>101780</td>\n",
              "      <td>0.004651</td>\n",
              "    </tr>\n",
              "    <tr>\n",
              "      <th>1997-07-05</th>\n",
              "      <td>1286</td>\n",
              "      <td>1301</td>\n",
              "      <td>1286</td>\n",
              "      <td>1287</td>\n",
              "      <td>56160</td>\n",
              "      <td>-0.006944</td>\n",
              "    </tr>\n",
              "    <tr>\n",
              "      <th>...</th>\n",
              "      <td>...</td>\n",
              "      <td>...</td>\n",
              "      <td>...</td>\n",
              "      <td>...</td>\n",
              "      <td>...</td>\n",
              "      <td>...</td>\n",
              "    </tr>\n",
              "    <tr>\n",
              "      <th>2021-07-01</th>\n",
              "      <td>80500</td>\n",
              "      <td>80600</td>\n",
              "      <td>80000</td>\n",
              "      <td>80100</td>\n",
              "      <td>13382882</td>\n",
              "      <td>-0.007435</td>\n",
              "    </tr>\n",
              "    <tr>\n",
              "      <th>2021-07-02</th>\n",
              "      <td>80000</td>\n",
              "      <td>80400</td>\n",
              "      <td>79900</td>\n",
              "      <td>80000</td>\n",
              "      <td>8753097</td>\n",
              "      <td>-0.001248</td>\n",
              "    </tr>\n",
              "    <tr>\n",
              "      <th>2021-07-05</th>\n",
              "      <td>80100</td>\n",
              "      <td>80800</td>\n",
              "      <td>80000</td>\n",
              "      <td>80400</td>\n",
              "      <td>8330969</td>\n",
              "      <td>0.005000</td>\n",
              "    </tr>\n",
              "    <tr>\n",
              "      <th>2021-07-06</th>\n",
              "      <td>80600</td>\n",
              "      <td>81200</td>\n",
              "      <td>80500</td>\n",
              "      <td>81200</td>\n",
              "      <td>12131651</td>\n",
              "      <td>0.009950</td>\n",
              "    </tr>\n",
              "    <tr>\n",
              "      <th>2021-07-07</th>\n",
              "      <td>81200</td>\n",
              "      <td>81300</td>\n",
              "      <td>80300</td>\n",
              "      <td>80800</td>\n",
              "      <td>10873915</td>\n",
              "      <td>-0.004926</td>\n",
              "    </tr>\n",
              "  </tbody>\n",
              "</table>\n",
              "<p>6000 rows × 6 columns</p>\n",
              "</div>"
            ],
            "text/plain": [
              "             Open   High    Low  Close    Volume    Change\n",
              "Date                                                      \n",
              "1997-07-01   1259   1286   1259   1269    167900       NaN\n",
              "1997-07-02   1277   1313   1277   1296    169940  0.021277\n",
              "1997-07-03   1295   1304   1283   1290    108460 -0.004630\n",
              "1997-07-04   1295   1304   1286   1296    101780  0.004651\n",
              "1997-07-05   1286   1301   1286   1287     56160 -0.006944\n",
              "...           ...    ...    ...    ...       ...       ...\n",
              "2021-07-01  80500  80600  80000  80100  13382882 -0.007435\n",
              "2021-07-02  80000  80400  79900  80000   8753097 -0.001248\n",
              "2021-07-05  80100  80800  80000  80400   8330969  0.005000\n",
              "2021-07-06  80600  81200  80500  81200  12131651  0.009950\n",
              "2021-07-07  81200  81300  80300  80800  10873915 -0.004926\n",
              "\n",
              "[6000 rows x 6 columns]"
            ]
          },
          "metadata": {
            "tags": []
          },
          "execution_count": 7
        }
      ]
    },
    {
      "cell_type": "markdown",
      "metadata": {
        "id": "C0i4k1S-Budn"
      },
      "source": [
        "**미국 주식 데이터**도 가져올 수 있습니다."
      ]
    },
    {
      "cell_type": "markdown",
      "metadata": {
        "id": "ubGAbVaxEjGG"
      },
      "source": [
        "### 문제 05. 애플 데이터 불러오기"
      ]
    },
    {
      "cell_type": "code",
      "metadata": {
        "id": "_4isQ8KTBudn"
      },
      "source": [
        "# Apple(AAPL), 애플\n",
        "apple = fdr.DataReader('AAPL')"
      ],
      "execution_count": null,
      "outputs": []
    },
    {
      "cell_type": "markdown",
      "metadata": {
        "id": "addJd0MGE6RD"
      },
      "source": [
        "### 문제 06. 애플 데이터 EDA"
      ]
    },
    {
      "cell_type": "code",
      "metadata": {
        "id": "-0JPVT6UBudn",
        "colab": {
          "base_uri": "https://localhost:8080/",
          "height": 235
        },
        "outputId": "032ab08b-3702-4cac-e93c-d518ea365fd7"
      },
      "source": [
        "apple.tail()"
      ],
      "execution_count": null,
      "outputs": [
        {
          "output_type": "execute_result",
          "data": {
            "text/html": [
              "<div>\n",
              "<style scoped>\n",
              "    .dataframe tbody tr th:only-of-type {\n",
              "        vertical-align: middle;\n",
              "    }\n",
              "\n",
              "    .dataframe tbody tr th {\n",
              "        vertical-align: top;\n",
              "    }\n",
              "\n",
              "    .dataframe thead th {\n",
              "        text-align: right;\n",
              "    }\n",
              "</style>\n",
              "<table border=\"1\" class=\"dataframe\">\n",
              "  <thead>\n",
              "    <tr style=\"text-align: right;\">\n",
              "      <th></th>\n",
              "      <th>Close</th>\n",
              "      <th>Open</th>\n",
              "      <th>High</th>\n",
              "      <th>Low</th>\n",
              "      <th>Volume</th>\n",
              "      <th>Change</th>\n",
              "    </tr>\n",
              "    <tr>\n",
              "      <th>Date</th>\n",
              "      <th></th>\n",
              "      <th></th>\n",
              "      <th></th>\n",
              "      <th></th>\n",
              "      <th></th>\n",
              "      <th></th>\n",
              "    </tr>\n",
              "  </thead>\n",
              "  <tbody>\n",
              "    <tr>\n",
              "      <th>2021-06-29</th>\n",
              "      <td>136.33</td>\n",
              "      <td>134.82</td>\n",
              "      <td>136.49</td>\n",
              "      <td>134.38</td>\n",
              "      <td>64560000.0</td>\n",
              "      <td>0.0115</td>\n",
              "    </tr>\n",
              "    <tr>\n",
              "      <th>2021-06-30</th>\n",
              "      <td>136.96</td>\n",
              "      <td>136.13</td>\n",
              "      <td>137.38</td>\n",
              "      <td>135.89</td>\n",
              "      <td>63260000.0</td>\n",
              "      <td>0.0046</td>\n",
              "    </tr>\n",
              "    <tr>\n",
              "      <th>2021-07-01</th>\n",
              "      <td>137.27</td>\n",
              "      <td>136.68</td>\n",
              "      <td>137.30</td>\n",
              "      <td>135.77</td>\n",
              "      <td>52490000.0</td>\n",
              "      <td>0.0023</td>\n",
              "    </tr>\n",
              "    <tr>\n",
              "      <th>2021-07-02</th>\n",
              "      <td>139.96</td>\n",
              "      <td>137.90</td>\n",
              "      <td>140.00</td>\n",
              "      <td>137.74</td>\n",
              "      <td>78950000.0</td>\n",
              "      <td>0.0196</td>\n",
              "    </tr>\n",
              "    <tr>\n",
              "      <th>2021-07-06</th>\n",
              "      <td>142.02</td>\n",
              "      <td>140.17</td>\n",
              "      <td>143.11</td>\n",
              "      <td>140.15</td>\n",
              "      <td>108180000.0</td>\n",
              "      <td>0.0147</td>\n",
              "    </tr>\n",
              "  </tbody>\n",
              "</table>\n",
              "</div>"
            ],
            "text/plain": [
              "             Close    Open    High     Low       Volume  Change\n",
              "Date                                                           \n",
              "2021-06-29  136.33  134.82  136.49  134.38   64560000.0  0.0115\n",
              "2021-06-30  136.96  136.13  137.38  135.89   63260000.0  0.0046\n",
              "2021-07-01  137.27  136.68  137.30  135.77   52490000.0  0.0023\n",
              "2021-07-02  139.96  137.90  140.00  137.74   78950000.0  0.0196\n",
              "2021-07-06  142.02  140.17  143.11  140.15  108180000.0  0.0147"
            ]
          },
          "metadata": {
            "tags": []
          },
          "execution_count": 9
        }
      ]
    },
    {
      "cell_type": "markdown",
      "metadata": {
        "id": "3FmQB8fOBudo"
      },
      "source": [
        "### 문제 07. 특정 시점(2017년) 이후 데이터 불러오기"
      ]
    },
    {
      "cell_type": "code",
      "metadata": {
        "id": "96jnHiNtBudo"
      },
      "source": [
        "# Apple(AAPL), 2017년\n",
        "apple = fdr.DataReader('AAPL', '2017')"
      ],
      "execution_count": null,
      "outputs": []
    },
    {
      "cell_type": "code",
      "metadata": {
        "id": "T2smiyL7Budo",
        "colab": {
          "base_uri": "https://localhost:8080/",
          "height": 235
        },
        "outputId": "c4bf77f5-b827-4837-d936-c8b438db9253"
      },
      "source": [
        "apple.head()"
      ],
      "execution_count": null,
      "outputs": [
        {
          "output_type": "execute_result",
          "data": {
            "text/html": [
              "<div>\n",
              "<style scoped>\n",
              "    .dataframe tbody tr th:only-of-type {\n",
              "        vertical-align: middle;\n",
              "    }\n",
              "\n",
              "    .dataframe tbody tr th {\n",
              "        vertical-align: top;\n",
              "    }\n",
              "\n",
              "    .dataframe thead th {\n",
              "        text-align: right;\n",
              "    }\n",
              "</style>\n",
              "<table border=\"1\" class=\"dataframe\">\n",
              "  <thead>\n",
              "    <tr style=\"text-align: right;\">\n",
              "      <th></th>\n",
              "      <th>Close</th>\n",
              "      <th>Open</th>\n",
              "      <th>High</th>\n",
              "      <th>Low</th>\n",
              "      <th>Volume</th>\n",
              "      <th>Change</th>\n",
              "    </tr>\n",
              "    <tr>\n",
              "      <th>Date</th>\n",
              "      <th></th>\n",
              "      <th></th>\n",
              "      <th></th>\n",
              "      <th></th>\n",
              "      <th></th>\n",
              "      <th></th>\n",
              "    </tr>\n",
              "  </thead>\n",
              "  <tbody>\n",
              "    <tr>\n",
              "      <th>2017-01-03</th>\n",
              "      <td>29.04</td>\n",
              "      <td>28.95</td>\n",
              "      <td>29.08</td>\n",
              "      <td>28.69</td>\n",
              "      <td>115130000.0</td>\n",
              "      <td>0.0031</td>\n",
              "    </tr>\n",
              "    <tr>\n",
              "      <th>2017-01-04</th>\n",
              "      <td>29.00</td>\n",
              "      <td>28.96</td>\n",
              "      <td>29.13</td>\n",
              "      <td>28.94</td>\n",
              "      <td>84470000.0</td>\n",
              "      <td>-0.0014</td>\n",
              "    </tr>\n",
              "    <tr>\n",
              "      <th>2017-01-05</th>\n",
              "      <td>29.15</td>\n",
              "      <td>28.98</td>\n",
              "      <td>29.22</td>\n",
              "      <td>28.95</td>\n",
              "      <td>88770000.0</td>\n",
              "      <td>0.0052</td>\n",
              "    </tr>\n",
              "    <tr>\n",
              "      <th>2017-01-06</th>\n",
              "      <td>29.48</td>\n",
              "      <td>29.20</td>\n",
              "      <td>29.54</td>\n",
              "      <td>29.12</td>\n",
              "      <td>127010000.0</td>\n",
              "      <td>0.0113</td>\n",
              "    </tr>\n",
              "    <tr>\n",
              "      <th>2017-01-09</th>\n",
              "      <td>29.75</td>\n",
              "      <td>29.49</td>\n",
              "      <td>29.86</td>\n",
              "      <td>29.48</td>\n",
              "      <td>134250000.0</td>\n",
              "      <td>0.0092</td>\n",
              "    </tr>\n",
              "  </tbody>\n",
              "</table>\n",
              "</div>"
            ],
            "text/plain": [
              "            Close   Open   High    Low       Volume  Change\n",
              "Date                                                       \n",
              "2017-01-03  29.04  28.95  29.08  28.69  115130000.0  0.0031\n",
              "2017-01-04  29.00  28.96  29.13  28.94   84470000.0 -0.0014\n",
              "2017-01-05  29.15  28.98  29.22  28.95   88770000.0  0.0052\n",
              "2017-01-06  29.48  29.20  29.54  29.12  127010000.0  0.0113\n",
              "2017-01-09  29.75  29.49  29.86  29.48  134250000.0  0.0092"
            ]
          },
          "metadata": {
            "tags": []
          },
          "execution_count": 11
        }
      ]
    },
    {
      "cell_type": "markdown",
      "metadata": {
        "id": "-ter25eMBudp"
      },
      "source": [
        "### 문제 08. 날짜를 지정하여 특정 범위(40년간) 데이터 불러오기"
      ]
    },
    {
      "cell_type": "code",
      "metadata": {
        "id": "vyR92-HABudp"
      },
      "source": [
        "# Ford(F), 1980-01-01 ~ 2019-12-30 (40년 데이터)\n",
        "ford = fdr.DataReader('F', '1980-01-01', '2019-12-30')"
      ],
      "execution_count": null,
      "outputs": []
    },
    {
      "cell_type": "code",
      "metadata": {
        "id": "j1N0Y2XXBudp",
        "colab": {
          "base_uri": "https://localhost:8080/",
          "height": 235
        },
        "outputId": "fd22fc6f-2df2-4868-aa40-cb9f45e222fd"
      },
      "source": [
        "ford.head()"
      ],
      "execution_count": null,
      "outputs": [
        {
          "output_type": "execute_result",
          "data": {
            "text/html": [
              "<div>\n",
              "<style scoped>\n",
              "    .dataframe tbody tr th:only-of-type {\n",
              "        vertical-align: middle;\n",
              "    }\n",
              "\n",
              "    .dataframe tbody tr th {\n",
              "        vertical-align: top;\n",
              "    }\n",
              "\n",
              "    .dataframe thead th {\n",
              "        text-align: right;\n",
              "    }\n",
              "</style>\n",
              "<table border=\"1\" class=\"dataframe\">\n",
              "  <thead>\n",
              "    <tr style=\"text-align: right;\">\n",
              "      <th></th>\n",
              "      <th>Close</th>\n",
              "      <th>Open</th>\n",
              "      <th>High</th>\n",
              "      <th>Low</th>\n",
              "      <th>Volume</th>\n",
              "      <th>Change</th>\n",
              "    </tr>\n",
              "    <tr>\n",
              "      <th>Date</th>\n",
              "      <th></th>\n",
              "      <th></th>\n",
              "      <th></th>\n",
              "      <th></th>\n",
              "      <th></th>\n",
              "      <th></th>\n",
              "    </tr>\n",
              "  </thead>\n",
              "  <tbody>\n",
              "    <tr>\n",
              "      <th>1980-03-18</th>\n",
              "      <td>1.83</td>\n",
              "      <td>1.83</td>\n",
              "      <td>1.85</td>\n",
              "      <td>1.82</td>\n",
              "      <td>3770000.0</td>\n",
              "      <td>-0.0108</td>\n",
              "    </tr>\n",
              "    <tr>\n",
              "      <th>1980-03-19</th>\n",
              "      <td>1.85</td>\n",
              "      <td>1.85</td>\n",
              "      <td>1.86</td>\n",
              "      <td>1.83</td>\n",
              "      <td>1560000.0</td>\n",
              "      <td>0.0109</td>\n",
              "    </tr>\n",
              "    <tr>\n",
              "      <th>1980-03-20</th>\n",
              "      <td>1.86</td>\n",
              "      <td>1.86</td>\n",
              "      <td>1.88</td>\n",
              "      <td>1.85</td>\n",
              "      <td>1450000.0</td>\n",
              "      <td>0.0054</td>\n",
              "    </tr>\n",
              "    <tr>\n",
              "      <th>1980-03-21</th>\n",
              "      <td>1.78</td>\n",
              "      <td>1.78</td>\n",
              "      <td>1.85</td>\n",
              "      <td>1.76</td>\n",
              "      <td>5020000.0</td>\n",
              "      <td>-0.0430</td>\n",
              "    </tr>\n",
              "    <tr>\n",
              "      <th>1980-03-24</th>\n",
              "      <td>1.71</td>\n",
              "      <td>1.71</td>\n",
              "      <td>1.75</td>\n",
              "      <td>1.66</td>\n",
              "      <td>3330000.0</td>\n",
              "      <td>-0.0393</td>\n",
              "    </tr>\n",
              "  </tbody>\n",
              "</table>\n",
              "</div>"
            ],
            "text/plain": [
              "            Close  Open  High   Low     Volume  Change\n",
              "Date                                                  \n",
              "1980-03-18   1.83  1.83  1.85  1.82  3770000.0 -0.0108\n",
              "1980-03-19   1.85  1.85  1.86  1.83  1560000.0  0.0109\n",
              "1980-03-20   1.86  1.86  1.88  1.85  1450000.0  0.0054\n",
              "1980-03-21   1.78  1.78  1.85  1.76  5020000.0 -0.0430\n",
              "1980-03-24   1.71  1.71  1.75  1.66  3330000.0 -0.0393"
            ]
          },
          "metadata": {
            "tags": []
          },
          "execution_count": 13
        }
      ]
    },
    {
      "cell_type": "markdown",
      "metadata": {
        "id": "BxmJoqteBudq"
      },
      "source": [
        "### 문제 09. '금'과 '달러' 데이터도 가져올 수 있습니다. 두 데이터를 불러와 head를 출력해보세요."
      ]
    },
    {
      "cell_type": "markdown",
      "metadata": {
        "id": "WEJpAQ7EBudq"
      },
      "source": [
        "*[GitHub 페이지 링크](https://github.com/FinanceData/FinanceDataReader) 참고"
      ]
    },
    {
      "cell_type": "code",
      "metadata": {
        "id": "Rv85AHqkGJp0",
        "colab": {
          "base_uri": "https://localhost:8080/",
          "height": 235
        },
        "outputId": "87df23aa-a3c3-4926-bbd2-39ff2199b491"
      },
      "source": [
        "gold = fdr.DataReader('ZG') # 금 선물 (ICE)\n",
        "gold.head()"
      ],
      "execution_count": null,
      "outputs": [
        {
          "output_type": "execute_result",
          "data": {
            "text/html": [
              "<div>\n",
              "<style scoped>\n",
              "    .dataframe tbody tr th:only-of-type {\n",
              "        vertical-align: middle;\n",
              "    }\n",
              "\n",
              "    .dataframe tbody tr th {\n",
              "        vertical-align: top;\n",
              "    }\n",
              "\n",
              "    .dataframe thead th {\n",
              "        text-align: right;\n",
              "    }\n",
              "</style>\n",
              "<table border=\"1\" class=\"dataframe\">\n",
              "  <thead>\n",
              "    <tr style=\"text-align: right;\">\n",
              "      <th></th>\n",
              "      <th>Close</th>\n",
              "      <th>Open</th>\n",
              "      <th>High</th>\n",
              "      <th>Low</th>\n",
              "      <th>Volume</th>\n",
              "      <th>Change</th>\n",
              "    </tr>\n",
              "    <tr>\n",
              "      <th>Date</th>\n",
              "      <th></th>\n",
              "      <th></th>\n",
              "      <th></th>\n",
              "      <th></th>\n",
              "      <th></th>\n",
              "      <th></th>\n",
              "    </tr>\n",
              "  </thead>\n",
              "  <tbody>\n",
              "    <tr>\n",
              "      <th>1980-01-02</th>\n",
              "      <td>575.5</td>\n",
              "      <td>562.5</td>\n",
              "      <td>577.0</td>\n",
              "      <td>558.0</td>\n",
              "      <td>7260.0</td>\n",
              "      <td>0.0785</td>\n",
              "    </tr>\n",
              "    <tr>\n",
              "      <th>1980-01-03</th>\n",
              "      <td>625.0</td>\n",
              "      <td>627.0</td>\n",
              "      <td>640.0</td>\n",
              "      <td>603.0</td>\n",
              "      <td>20750.0</td>\n",
              "      <td>0.0860</td>\n",
              "    </tr>\n",
              "    <tr>\n",
              "      <th>1980-01-04</th>\n",
              "      <td>603.6</td>\n",
              "      <td>609.5</td>\n",
              "      <td>621.0</td>\n",
              "      <td>573.0</td>\n",
              "      <td>2660.0</td>\n",
              "      <td>-0.0342</td>\n",
              "    </tr>\n",
              "    <tr>\n",
              "      <th>1980-01-07</th>\n",
              "      <td>627.0</td>\n",
              "      <td>629.0</td>\n",
              "      <td>635.0</td>\n",
              "      <td>611.0</td>\n",
              "      <td>3000.0</td>\n",
              "      <td>0.0388</td>\n",
              "    </tr>\n",
              "    <tr>\n",
              "      <th>1980-01-08</th>\n",
              "      <td>602.5</td>\n",
              "      <td>611.5</td>\n",
              "      <td>619.0</td>\n",
              "      <td>600.0</td>\n",
              "      <td>750.0</td>\n",
              "      <td>-0.0391</td>\n",
              "    </tr>\n",
              "  </tbody>\n",
              "</table>\n",
              "</div>"
            ],
            "text/plain": [
              "            Close   Open   High    Low   Volume  Change\n",
              "Date                                                   \n",
              "1980-01-02  575.5  562.5  577.0  558.0   7260.0  0.0785\n",
              "1980-01-03  625.0  627.0  640.0  603.0  20750.0  0.0860\n",
              "1980-01-04  603.6  609.5  621.0  573.0   2660.0 -0.0342\n",
              "1980-01-07  627.0  629.0  635.0  611.0   3000.0  0.0388\n",
              "1980-01-08  602.5  611.5  619.0  600.0    750.0 -0.0391"
            ]
          },
          "metadata": {
            "tags": []
          },
          "execution_count": 14
        }
      ]
    },
    {
      "cell_type": "code",
      "metadata": {
        "id": "whRbcKezGJ5V",
        "colab": {
          "base_uri": "https://localhost:8080/",
          "height": 235
        },
        "outputId": "57dd6038-ed2d-4670-9d5c-6f09b73db1b2"
      },
      "source": [
        "# 달러 가격\n",
        "usdkrw = fdr.DataReader('USD/KRW', '1995-01-01') \n",
        "usdkrw.head()"
      ],
      "execution_count": null,
      "outputs": [
        {
          "output_type": "execute_result",
          "data": {
            "text/html": [
              "<div>\n",
              "<style scoped>\n",
              "    .dataframe tbody tr th:only-of-type {\n",
              "        vertical-align: middle;\n",
              "    }\n",
              "\n",
              "    .dataframe tbody tr th {\n",
              "        vertical-align: top;\n",
              "    }\n",
              "\n",
              "    .dataframe thead th {\n",
              "        text-align: right;\n",
              "    }\n",
              "</style>\n",
              "<table border=\"1\" class=\"dataframe\">\n",
              "  <thead>\n",
              "    <tr style=\"text-align: right;\">\n",
              "      <th></th>\n",
              "      <th>Close</th>\n",
              "      <th>Open</th>\n",
              "      <th>High</th>\n",
              "      <th>Low</th>\n",
              "      <th>Change</th>\n",
              "    </tr>\n",
              "    <tr>\n",
              "      <th>Date</th>\n",
              "      <th></th>\n",
              "      <th></th>\n",
              "      <th></th>\n",
              "      <th></th>\n",
              "      <th></th>\n",
              "    </tr>\n",
              "  </thead>\n",
              "  <tbody>\n",
              "    <tr>\n",
              "      <th>1995-01-02</th>\n",
              "      <td>788.50</td>\n",
              "      <td>788.50</td>\n",
              "      <td>788.50</td>\n",
              "      <td>788.50</td>\n",
              "      <td>0.0000</td>\n",
              "    </tr>\n",
              "    <tr>\n",
              "      <th>1995-01-03</th>\n",
              "      <td>788.65</td>\n",
              "      <td>788.05</td>\n",
              "      <td>788.85</td>\n",
              "      <td>787.55</td>\n",
              "      <td>0.0002</td>\n",
              "    </tr>\n",
              "    <tr>\n",
              "      <th>1995-01-04</th>\n",
              "      <td>789.95</td>\n",
              "      <td>788.65</td>\n",
              "      <td>790.05</td>\n",
              "      <td>788.45</td>\n",
              "      <td>0.0016</td>\n",
              "    </tr>\n",
              "    <tr>\n",
              "      <th>1995-01-05</th>\n",
              "      <td>789.90</td>\n",
              "      <td>789.80</td>\n",
              "      <td>790.20</td>\n",
              "      <td>789.30</td>\n",
              "      <td>-0.0001</td>\n",
              "    </tr>\n",
              "    <tr>\n",
              "      <th>1995-01-06</th>\n",
              "      <td>791.55</td>\n",
              "      <td>789.75</td>\n",
              "      <td>791.65</td>\n",
              "      <td>789.65</td>\n",
              "      <td>0.0021</td>\n",
              "    </tr>\n",
              "  </tbody>\n",
              "</table>\n",
              "</div>"
            ],
            "text/plain": [
              "             Close    Open    High     Low  Change\n",
              "Date                                              \n",
              "1995-01-02  788.50  788.50  788.50  788.50  0.0000\n",
              "1995-01-03  788.65  788.05  788.85  787.55  0.0002\n",
              "1995-01-04  789.95  788.65  790.05  788.45  0.0016\n",
              "1995-01-05  789.90  789.80  790.20  789.30 -0.0001\n",
              "1995-01-06  791.55  789.75  791.65  789.65  0.0021"
            ]
          },
          "metadata": {
            "tags": []
          },
          "execution_count": 15
        }
      ]
    },
    {
      "cell_type": "markdown",
      "metadata": {
        "id": "RJtxeKQm0l2w"
      },
      "source": [
        "### 문제 10. 삼성전자 데이터를 STOCK_CODE에 저장하고 인덱스를 확인해보세요"
      ]
    },
    {
      "cell_type": "code",
      "metadata": {
        "id": "_8Gy3cagBudr"
      },
      "source": [
        "# 삼성전자 주식코드: 005930\n",
        "STOCK_CODE = '005930'"
      ],
      "execution_count": null,
      "outputs": []
    },
    {
      "cell_type": "code",
      "metadata": {
        "id": "xx8f86AgBudr"
      },
      "source": [
        "# fdr 라이브러리를 활용해 삼성전자 데이터를 불러오세요 \n",
        "stock = fdr.DataReader(STOCK_CODE)"
      ],
      "execution_count": null,
      "outputs": []
    },
    {
      "cell_type": "code",
      "metadata": {
        "id": "-jBfNkQVBuds",
        "colab": {
          "base_uri": "https://localhost:8080/",
          "height": 235
        },
        "outputId": "141304a0-06b1-4b39-bd00-917f22d246d5"
      },
      "source": [
        "stock.tail()"
      ],
      "execution_count": null,
      "outputs": [
        {
          "output_type": "execute_result",
          "data": {
            "text/html": [
              "<div>\n",
              "<style scoped>\n",
              "    .dataframe tbody tr th:only-of-type {\n",
              "        vertical-align: middle;\n",
              "    }\n",
              "\n",
              "    .dataframe tbody tr th {\n",
              "        vertical-align: top;\n",
              "    }\n",
              "\n",
              "    .dataframe thead th {\n",
              "        text-align: right;\n",
              "    }\n",
              "</style>\n",
              "<table border=\"1\" class=\"dataframe\">\n",
              "  <thead>\n",
              "    <tr style=\"text-align: right;\">\n",
              "      <th></th>\n",
              "      <th>Open</th>\n",
              "      <th>High</th>\n",
              "      <th>Low</th>\n",
              "      <th>Close</th>\n",
              "      <th>Volume</th>\n",
              "      <th>Change</th>\n",
              "    </tr>\n",
              "    <tr>\n",
              "      <th>Date</th>\n",
              "      <th></th>\n",
              "      <th></th>\n",
              "      <th></th>\n",
              "      <th></th>\n",
              "      <th></th>\n",
              "      <th></th>\n",
              "    </tr>\n",
              "  </thead>\n",
              "  <tbody>\n",
              "    <tr>\n",
              "      <th>2021-07-01</th>\n",
              "      <td>80500</td>\n",
              "      <td>80600</td>\n",
              "      <td>80000</td>\n",
              "      <td>80100</td>\n",
              "      <td>13382882</td>\n",
              "      <td>-0.007435</td>\n",
              "    </tr>\n",
              "    <tr>\n",
              "      <th>2021-07-02</th>\n",
              "      <td>80000</td>\n",
              "      <td>80400</td>\n",
              "      <td>79900</td>\n",
              "      <td>80000</td>\n",
              "      <td>8753097</td>\n",
              "      <td>-0.001248</td>\n",
              "    </tr>\n",
              "    <tr>\n",
              "      <th>2021-07-05</th>\n",
              "      <td>80100</td>\n",
              "      <td>80800</td>\n",
              "      <td>80000</td>\n",
              "      <td>80400</td>\n",
              "      <td>8330969</td>\n",
              "      <td>0.005000</td>\n",
              "    </tr>\n",
              "    <tr>\n",
              "      <th>2021-07-06</th>\n",
              "      <td>80600</td>\n",
              "      <td>81200</td>\n",
              "      <td>80500</td>\n",
              "      <td>81200</td>\n",
              "      <td>12131651</td>\n",
              "      <td>0.009950</td>\n",
              "    </tr>\n",
              "    <tr>\n",
              "      <th>2021-07-07</th>\n",
              "      <td>81200</td>\n",
              "      <td>81300</td>\n",
              "      <td>80300</td>\n",
              "      <td>80700</td>\n",
              "      <td>10984309</td>\n",
              "      <td>-0.006158</td>\n",
              "    </tr>\n",
              "  </tbody>\n",
              "</table>\n",
              "</div>"
            ],
            "text/plain": [
              "             Open   High    Low  Close    Volume    Change\n",
              "Date                                                      \n",
              "2021-07-01  80500  80600  80000  80100  13382882 -0.007435\n",
              "2021-07-02  80000  80400  79900  80000   8753097 -0.001248\n",
              "2021-07-05  80100  80800  80000  80400   8330969  0.005000\n",
              "2021-07-06  80600  81200  80500  81200  12131651  0.009950\n",
              "2021-07-07  81200  81300  80300  80700  10984309 -0.006158"
            ]
          },
          "metadata": {
            "tags": []
          },
          "execution_count": 18
        }
      ]
    },
    {
      "cell_type": "code",
      "metadata": {
        "id": "3VgxOeT3Buds",
        "colab": {
          "base_uri": "https://localhost:8080/"
        },
        "outputId": "3b48b6c0-2990-4ca6-c479-c34e9208d1fb"
      },
      "source": [
        "# 인덱스를 확인해보세요.\n",
        "stock.index"
      ],
      "execution_count": null,
      "outputs": [
        {
          "output_type": "execute_result",
          "data": {
            "text/plain": [
              "DatetimeIndex(['1997-07-01', '1997-07-02', '1997-07-03', '1997-07-04',\n",
              "               '1997-07-05', '1997-07-07', '1997-07-08', '1997-07-09',\n",
              "               '1997-07-10', '1997-07-11',\n",
              "               ...\n",
              "               '2021-06-24', '2021-06-25', '2021-06-28', '2021-06-29',\n",
              "               '2021-06-30', '2021-07-01', '2021-07-02', '2021-07-05',\n",
              "               '2021-07-06', '2021-07-07'],\n",
              "              dtype='datetime64[ns]', name='Date', length=6000, freq=None)"
            ]
          },
          "metadata": {
            "tags": []
          },
          "execution_count": 19
        }
      ]
    },
    {
      "cell_type": "code",
      "metadata": {
        "id": "y9NRSMYTBuds"
      },
      "source": [
        "# 인덱스를 확인해보세요.\n"
      ],
      "execution_count": null,
      "outputs": []
    },
    {
      "cell_type": "markdown",
      "metadata": {
        "id": "Ngpi6jHxMsz7"
      },
      "source": [
        "## Step 2. 시계열 데이터 시각화"
      ]
    },
    {
      "cell_type": "markdown",
      "metadata": {
        "id": "B1loczVzBudt"
      },
      "source": [
        "\n",
        "### 문제 11. 인덱스가 `DatetimeIndex`로 정의되어 있다면, 연도, 월, 일을 쪼갤 수 있습니다. 데이터를 분리해주세요."
      ]
    },
    {
      "cell_type": "code",
      "metadata": {
        "id": "fif43Fh-0l4L"
      },
      "source": [
        "stock['Year'] = stock.index.year\n",
        "stock['Month'] = stock.index.month\n",
        "stock['Day'] = stock.index.day"
      ],
      "execution_count": null,
      "outputs": []
    },
    {
      "cell_type": "code",
      "metadata": {
        "id": "0yAKE9Ag0l4S",
        "colab": {
          "base_uri": "https://localhost:8080/",
          "height": 235
        },
        "outputId": "ede30364-cf8f-4cbd-ce8f-49bb165ba142"
      },
      "source": [
        "stock.head()"
      ],
      "execution_count": null,
      "outputs": [
        {
          "output_type": "execute_result",
          "data": {
            "text/html": [
              "<div>\n",
              "<style scoped>\n",
              "    .dataframe tbody tr th:only-of-type {\n",
              "        vertical-align: middle;\n",
              "    }\n",
              "\n",
              "    .dataframe tbody tr th {\n",
              "        vertical-align: top;\n",
              "    }\n",
              "\n",
              "    .dataframe thead th {\n",
              "        text-align: right;\n",
              "    }\n",
              "</style>\n",
              "<table border=\"1\" class=\"dataframe\">\n",
              "  <thead>\n",
              "    <tr style=\"text-align: right;\">\n",
              "      <th></th>\n",
              "      <th>Open</th>\n",
              "      <th>High</th>\n",
              "      <th>Low</th>\n",
              "      <th>Close</th>\n",
              "      <th>Volume</th>\n",
              "      <th>Change</th>\n",
              "      <th>Year</th>\n",
              "      <th>Month</th>\n",
              "      <th>Day</th>\n",
              "    </tr>\n",
              "    <tr>\n",
              "      <th>Date</th>\n",
              "      <th></th>\n",
              "      <th></th>\n",
              "      <th></th>\n",
              "      <th></th>\n",
              "      <th></th>\n",
              "      <th></th>\n",
              "      <th></th>\n",
              "      <th></th>\n",
              "      <th></th>\n",
              "    </tr>\n",
              "  </thead>\n",
              "  <tbody>\n",
              "    <tr>\n",
              "      <th>1997-07-01</th>\n",
              "      <td>1259</td>\n",
              "      <td>1286</td>\n",
              "      <td>1259</td>\n",
              "      <td>1269</td>\n",
              "      <td>167900</td>\n",
              "      <td>NaN</td>\n",
              "      <td>1997</td>\n",
              "      <td>7</td>\n",
              "      <td>1</td>\n",
              "    </tr>\n",
              "    <tr>\n",
              "      <th>1997-07-02</th>\n",
              "      <td>1277</td>\n",
              "      <td>1313</td>\n",
              "      <td>1277</td>\n",
              "      <td>1296</td>\n",
              "      <td>169940</td>\n",
              "      <td>0.021277</td>\n",
              "      <td>1997</td>\n",
              "      <td>7</td>\n",
              "      <td>2</td>\n",
              "    </tr>\n",
              "    <tr>\n",
              "      <th>1997-07-03</th>\n",
              "      <td>1295</td>\n",
              "      <td>1304</td>\n",
              "      <td>1283</td>\n",
              "      <td>1290</td>\n",
              "      <td>108460</td>\n",
              "      <td>-0.004630</td>\n",
              "      <td>1997</td>\n",
              "      <td>7</td>\n",
              "      <td>3</td>\n",
              "    </tr>\n",
              "    <tr>\n",
              "      <th>1997-07-04</th>\n",
              "      <td>1295</td>\n",
              "      <td>1304</td>\n",
              "      <td>1286</td>\n",
              "      <td>1296</td>\n",
              "      <td>101780</td>\n",
              "      <td>0.004651</td>\n",
              "      <td>1997</td>\n",
              "      <td>7</td>\n",
              "      <td>4</td>\n",
              "    </tr>\n",
              "    <tr>\n",
              "      <th>1997-07-05</th>\n",
              "      <td>1286</td>\n",
              "      <td>1301</td>\n",
              "      <td>1286</td>\n",
              "      <td>1287</td>\n",
              "      <td>56160</td>\n",
              "      <td>-0.006944</td>\n",
              "      <td>1997</td>\n",
              "      <td>7</td>\n",
              "      <td>5</td>\n",
              "    </tr>\n",
              "  </tbody>\n",
              "</table>\n",
              "</div>"
            ],
            "text/plain": [
              "            Open  High   Low  Close  Volume    Change  Year  Month  Day\n",
              "Date                                                                   \n",
              "1997-07-01  1259  1286  1259   1269  167900       NaN  1997      7    1\n",
              "1997-07-02  1277  1313  1277   1296  169940  0.021277  1997      7    2\n",
              "1997-07-03  1295  1304  1283   1290  108460 -0.004630  1997      7    3\n",
              "1997-07-04  1295  1304  1286   1296  101780  0.004651  1997      7    4\n",
              "1997-07-05  1286  1301  1286   1287   56160 -0.006944  1997      7    5"
            ]
          },
          "metadata": {
            "tags": []
          },
          "execution_count": 21
        }
      ]
    },
    {
      "cell_type": "markdown",
      "metadata": {
        "id": "ZpeXdWzWG2KO"
      },
      "source": [
        "### 문제 12. 연도별, 월별 피봇테이블을 각각 구현해보세요."
      ]
    },
    {
      "cell_type": "code",
      "metadata": {
        "id": "L73tGJhhG9Av",
        "colab": {
          "base_uri": "https://localhost:8080/",
          "height": 450
        },
        "outputId": "2c91b0f5-a8ad-4d0a-8471-c709aa18cdaa"
      },
      "source": [
        "stock.groupby(['Year', 'Month']).mean()"
      ],
      "execution_count": null,
      "outputs": [
        {
          "output_type": "execute_result",
          "data": {
            "text/html": [
              "<div>\n",
              "<style scoped>\n",
              "    .dataframe tbody tr th:only-of-type {\n",
              "        vertical-align: middle;\n",
              "    }\n",
              "\n",
              "    .dataframe tbody tr th {\n",
              "        vertical-align: top;\n",
              "    }\n",
              "\n",
              "    .dataframe thead th {\n",
              "        text-align: right;\n",
              "    }\n",
              "</style>\n",
              "<table border=\"1\" class=\"dataframe\">\n",
              "  <thead>\n",
              "    <tr style=\"text-align: right;\">\n",
              "      <th></th>\n",
              "      <th></th>\n",
              "      <th>Open</th>\n",
              "      <th>High</th>\n",
              "      <th>Low</th>\n",
              "      <th>Close</th>\n",
              "      <th>Volume</th>\n",
              "      <th>Change</th>\n",
              "      <th>Day</th>\n",
              "    </tr>\n",
              "    <tr>\n",
              "      <th>Year</th>\n",
              "      <th>Month</th>\n",
              "      <th></th>\n",
              "      <th></th>\n",
              "      <th></th>\n",
              "      <th></th>\n",
              "      <th></th>\n",
              "      <th></th>\n",
              "      <th></th>\n",
              "    </tr>\n",
              "  </thead>\n",
              "  <tbody>\n",
              "    <tr>\n",
              "      <th rowspan=\"5\" valign=\"top\">1997</th>\n",
              "      <th>7</th>\n",
              "      <td>1228.769231</td>\n",
              "      <td>1241.461538</td>\n",
              "      <td>1216.423077</td>\n",
              "      <td>1227.500000</td>\n",
              "      <td>7.374308e+04</td>\n",
              "      <td>-0.003517</td>\n",
              "      <td>15.884615</td>\n",
              "    </tr>\n",
              "    <tr>\n",
              "      <th>8</th>\n",
              "      <td>1261.840000</td>\n",
              "      <td>1278.040000</td>\n",
              "      <td>1250.640000</td>\n",
              "      <td>1267.280000</td>\n",
              "      <td>1.537483e+05</td>\n",
              "      <td>0.003438</td>\n",
              "      <td>15.840000</td>\n",
              "    </tr>\n",
              "    <tr>\n",
              "      <th>9</th>\n",
              "      <td>1224.652174</td>\n",
              "      <td>1238.739130</td>\n",
              "      <td>1209.217391</td>\n",
              "      <td>1224.521739</td>\n",
              "      <td>6.507870e+04</td>\n",
              "      <td>-0.002450</td>\n",
              "      <td>15.086957</td>\n",
              "    </tr>\n",
              "    <tr>\n",
              "      <th>10</th>\n",
              "      <td>1027.230769</td>\n",
              "      <td>1045.730769</td>\n",
              "      <td>995.307692</td>\n",
              "      <td>1014.000000</td>\n",
              "      <td>1.376285e+05</td>\n",
              "      <td>-0.020538</td>\n",
              "      <td>16.576923</td>\n",
              "    </tr>\n",
              "    <tr>\n",
              "      <th>11</th>\n",
              "      <td>796.280000</td>\n",
              "      <td>817.440000</td>\n",
              "      <td>769.240000</td>\n",
              "      <td>796.800000</td>\n",
              "      <td>4.078504e+05</td>\n",
              "      <td>0.005632</td>\n",
              "      <td>15.400000</td>\n",
              "    </tr>\n",
              "    <tr>\n",
              "      <th>...</th>\n",
              "      <th>...</th>\n",
              "      <td>...</td>\n",
              "      <td>...</td>\n",
              "      <td>...</td>\n",
              "      <td>...</td>\n",
              "      <td>...</td>\n",
              "      <td>...</td>\n",
              "      <td>...</td>\n",
              "    </tr>\n",
              "    <tr>\n",
              "      <th rowspan=\"5\" valign=\"top\">2021</th>\n",
              "      <th>3</th>\n",
              "      <td>82250.000000</td>\n",
              "      <td>82763.636364</td>\n",
              "      <td>81609.090909</td>\n",
              "      <td>82072.727273</td>\n",
              "      <td>1.761874e+07</td>\n",
              "      <td>-0.000570</td>\n",
              "      <td>16.318182</td>\n",
              "    </tr>\n",
              "    <tr>\n",
              "      <th>4</th>\n",
              "      <td>83786.363636</td>\n",
              "      <td>84150.000000</td>\n",
              "      <td>83095.454545</td>\n",
              "      <td>83586.363636</td>\n",
              "      <td>1.695174e+07</td>\n",
              "      <td>0.000101</td>\n",
              "      <td>16.045455</td>\n",
              "    </tr>\n",
              "    <tr>\n",
              "      <th>5</th>\n",
              "      <td>80547.368421</td>\n",
              "      <td>81105.263158</td>\n",
              "      <td>80015.789474</td>\n",
              "      <td>80521.052632</td>\n",
              "      <td>1.853742e+07</td>\n",
              "      <td>-0.000592</td>\n",
              "      <td>16.684211</td>\n",
              "    </tr>\n",
              "    <tr>\n",
              "      <th>6</th>\n",
              "      <td>81195.454545</td>\n",
              "      <td>81590.909091</td>\n",
              "      <td>80740.909091</td>\n",
              "      <td>81104.545455</td>\n",
              "      <td>1.514088e+07</td>\n",
              "      <td>0.000147</td>\n",
              "      <td>15.318182</td>\n",
              "    </tr>\n",
              "    <tr>\n",
              "      <th>7</th>\n",
              "      <td>80480.000000</td>\n",
              "      <td>80860.000000</td>\n",
              "      <td>80140.000000</td>\n",
              "      <td>80480.000000</td>\n",
              "      <td>1.071658e+07</td>\n",
              "      <td>0.000022</td>\n",
              "      <td>4.200000</td>\n",
              "    </tr>\n",
              "  </tbody>\n",
              "</table>\n",
              "<p>289 rows × 7 columns</p>\n",
              "</div>"
            ],
            "text/plain": [
              "                    Open          High  ...    Change        Day\n",
              "Year Month                              ...                     \n",
              "1997 7       1228.769231   1241.461538  ... -0.003517  15.884615\n",
              "     8       1261.840000   1278.040000  ...  0.003438  15.840000\n",
              "     9       1224.652174   1238.739130  ... -0.002450  15.086957\n",
              "     10      1027.230769   1045.730769  ... -0.020538  16.576923\n",
              "     11       796.280000    817.440000  ...  0.005632  15.400000\n",
              "...                  ...           ...  ...       ...        ...\n",
              "2021 3      82250.000000  82763.636364  ... -0.000570  16.318182\n",
              "     4      83786.363636  84150.000000  ...  0.000101  16.045455\n",
              "     5      80547.368421  81105.263158  ... -0.000592  16.684211\n",
              "     6      81195.454545  81590.909091  ...  0.000147  15.318182\n",
              "     7      80480.000000  80860.000000  ...  0.000022   4.200000\n",
              "\n",
              "[289 rows x 7 columns]"
            ]
          },
          "metadata": {
            "tags": []
          },
          "execution_count": 22
        }
      ]
    },
    {
      "cell_type": "code",
      "metadata": {
        "id": "mFfwNxvWG9Uz"
      },
      "source": [
        ""
      ],
      "execution_count": null,
      "outputs": []
    },
    {
      "cell_type": "markdown",
      "metadata": {
        "id": "5FBTlube0l4d"
      },
      "source": [
        "### 문제 13. matplotlib을 활용해 시간에 따른 주식 가격 시계열 그래프를 그려보세요."
      ]
    },
    {
      "cell_type": "code",
      "metadata": {
        "id": "MWcaWEa80l4o",
        "colab": {
          "base_uri": "https://localhost:8080/",
          "height": 569
        },
        "outputId": "eb7c2477-9918-4b26-a1b0-17bf0fb75fae"
      },
      "source": [
        "plt.figure(figsize=(16, 9))\n",
        "sns.lineplot(y=stock['Close'], x=stock.index)\n",
        "plt.xlabel('time')\n",
        "plt.ylabel('price')"
      ],
      "execution_count": null,
      "outputs": [
        {
          "output_type": "execute_result",
          "data": {
            "text/plain": [
              "Text(0, 0.5, 'price')"
            ]
          },
          "metadata": {
            "tags": []
          },
          "execution_count": 25
        },
        {
          "output_type": "stream",
          "text": [
            "findfont: Font family ['NanumGothic'] not found. Falling back to DejaVu Sans.\n"
          ],
          "name": "stderr"
        },
        {
          "output_type": "display_data",
          "data": {
            "image/png": "[encoded data removed]",
            "text/plain": [
              "<Figure size 1152x648 with 1 Axes>"
            ]
          },
          "metadata": {
            "tags": [],
            "needs_background": "light"
          }
        }
      ]
    },
    {
      "cell_type": "markdown",
      "metadata": {
        "id": "fTr5lZHpHLCc"
      },
      "source": [
        "### 문제 14. subplots를 활용해 그래프 4개(2,2)를 동시에 그려보세요."
      ]
    },
    {
      "cell_type": "code",
      "metadata": {
        "id": "YHjPfMPjBudw",
        "colab": {
          "base_uri": "https://localhost:8080/",
          "height": 675
        },
        "outputId": "2b85dba3-6624-4d34-c960-edcb510d5c1d"
      },
      "source": [
        "# 1990~2000, 2000~2010, 2010~2015, 2015~2020\n",
        "time_steps = [['1990', '2000'], \n",
        "              ['2000', '2010'], \n",
        "              ['2010', '2015'], \n",
        "              ['2015', '2020']]\n",
        "\n",
        "fig, axes = plt.subplots(2, 2)\n",
        "fig.set_size_inches(16, 9)\n",
        "for i in range(4):\n",
        "    ax = axes[i//2, i%2]\n",
        "    df = stock.loc[(stock.index > time_steps[i][0]) & (stock.index < time_steps[i][1])]\n",
        "    sns.lineplot(y=df['Close'], x=df.index, ax=ax)\n",
        "    ax.set_title(f'{time_steps[i][0]}~{time_steps[i][1]}')\n",
        "    ax.set_xlabel('time')\n",
        "    ax.set_ylabel('price')\n",
        "plt.tight_layout()\n",
        "plt.show()"
      ],
      "execution_count": null,
      "outputs": [
        {
          "output_type": "stream",
          "text": [
            "findfont: Font family ['NanumGothic'] not found. Falling back to DejaVu Sans.\n"
          ],
          "name": "stderr"
        },
        {
          "output_type": "display_data",
          "data": {
            "image/png": "[encoded data removed]",
            "text/plain": [
              "<Figure size 1152x648 with 4 Axes>"
            ]
          },
          "metadata": {
            "tags": [],
            "needs_background": "light"
          }
        }
      ]
    },
    {
      "cell_type": "markdown",
      "metadata": {
        "id": "IyLCGJyTNAtc"
      },
      "source": [
        "## Step 3. 시계열 데이터의 전처리"
      ]
    },
    {
      "cell_type": "markdown",
      "metadata": {
        "id": "CDgThJtbBudw"
      },
      "source": [
        "### 문제 15. MinMaxScaler를 활요해 데이터 전처리를 수행합니다."
      ]
    },
    {
      "cell_type": "markdown",
      "metadata": {
        "id": "srjf2-yXBudx"
      },
      "source": [
        "주가 데이터에 대하여 딥러닝 모델이 더 잘 학습할 수 있도록 **정규화(Normalization)**를 해주도록 하겠습니다.\n",
        "\n",
        "**표준화 (Standardization)**와 **정규화(Normalization)**에 대한 내용은 아래 링크에서 더 자세히 다루니, 참고해 보시기 바랍니다.\n",
        "\n",
        "- [데이터 전처리에 관하여](https://teddylee777.github.io/scikit-learn/scikit-learn-preprocessing)"
      ]
    },
    {
      "cell_type": "code",
      "metadata": {
        "id": "4-4PgRMZ0l5Q",
        "colab": {
          "base_uri": "https://localhost:8080/"
        },
        "outputId": "f1ac1d03-3de7-402c-c21f-8da7446484a9"
      },
      "source": [
        "from sklearn.preprocessing import MinMaxScaler\n",
        "\n",
        "scaler = MinMaxScaler()\n",
        "# 스케일을 적용할 column을 정의합니다.\n",
        "scale_cols = ['Open', 'High', 'Low', 'Close', 'Volume']\n",
        "# 스케일 후 columns\n",
        "scaled = scaler.fit_transform(stock[scale_cols])\n",
        "scaled"
      ],
      "execution_count": null,
      "outputs": [
        {
          "output_type": "execute_result",
          "data": {
            "text/plain": [
              "array([[0.01394241, 0.01328512, 0.01406704, 0.00710389, 0.00185923],\n",
              "       [0.01414175, 0.01356405, 0.01426816, 0.00740265, 0.00188182],\n",
              "       [0.01434109, 0.01347107, 0.0143352 , 0.00733626, 0.00120103],\n",
              "       ...,\n",
              "       [0.88704319, 0.83471074, 0.89385475, 0.88270833, 0.09225248],\n",
              "       [0.89258029, 0.83884298, 0.89944134, 0.89156053, 0.13433911],\n",
              "       [0.89922481, 0.83987603, 0.8972067 , 0.88602791, 0.12163408]])"
            ]
          },
          "metadata": {
            "tags": []
          },
          "execution_count": 27
        }
      ]
    },
    {
      "cell_type": "markdown",
      "metadata": {
        "id": "sQQhs9BoBudx"
      },
      "source": [
        "스케일이 완료된 column으로 새로운 데이터프레임을 생성합니다.\n",
        "\n",
        "**시간 순으로 정렬**되어 있으며, datetime index는 제외했습니다.\n",
        "\n",
        "*6,000개의 row, 5개 column*으로 이루어진 데이터셋이 DataFrame으로 정리되었습니다."
      ]
    },
    {
      "cell_type": "code",
      "metadata": {
        "id": "dIJjE21B0l5m"
      },
      "source": [
        "# 아래 코드는 그대로 실행해주세요.\n",
        "df = pd.DataFrame(scaled, columns=scale_cols)"
      ],
      "execution_count": null,
      "outputs": []
    },
    {
      "cell_type": "code",
      "metadata": {
        "colab": {
          "base_uri": "https://localhost:8080/",
          "height": 419
        },
        "id": "qoGxByx9E-0O",
        "outputId": "77923aa9-f746-4864-e6c8-f2e34b7fd009"
      },
      "source": [
        "df"
      ],
      "execution_count": null,
      "outputs": [
        {
          "output_type": "execute_result",
          "data": {
            "text/html": [
              "<div>\n",
              "<style scoped>\n",
              "    .dataframe tbody tr th:only-of-type {\n",
              "        vertical-align: middle;\n",
              "    }\n",
              "\n",
              "    .dataframe tbody tr th {\n",
              "        vertical-align: top;\n",
              "    }\n",
              "\n",
              "    .dataframe thead th {\n",
              "        text-align: right;\n",
              "    }\n",
              "</style>\n",
              "<table border=\"1\" class=\"dataframe\">\n",
              "  <thead>\n",
              "    <tr style=\"text-align: right;\">\n",
              "      <th></th>\n",
              "      <th>Open</th>\n",
              "      <th>High</th>\n",
              "      <th>Low</th>\n",
              "      <th>Close</th>\n",
              "      <th>Volume</th>\n",
              "    </tr>\n",
              "  </thead>\n",
              "  <tbody>\n",
              "    <tr>\n",
              "      <th>0</th>\n",
              "      <td>0.013942</td>\n",
              "      <td>0.013285</td>\n",
              "      <td>0.014067</td>\n",
              "      <td>0.007104</td>\n",
              "      <td>0.001859</td>\n",
              "    </tr>\n",
              "    <tr>\n",
              "      <th>1</th>\n",
              "      <td>0.014142</td>\n",
              "      <td>0.013564</td>\n",
              "      <td>0.014268</td>\n",
              "      <td>0.007403</td>\n",
              "      <td>0.001882</td>\n",
              "    </tr>\n",
              "    <tr>\n",
              "      <th>2</th>\n",
              "      <td>0.014341</td>\n",
              "      <td>0.013471</td>\n",
              "      <td>0.014335</td>\n",
              "      <td>0.007336</td>\n",
              "      <td>0.001201</td>\n",
              "    </tr>\n",
              "    <tr>\n",
              "      <th>3</th>\n",
              "      <td>0.014341</td>\n",
              "      <td>0.013471</td>\n",
              "      <td>0.014369</td>\n",
              "      <td>0.007403</td>\n",
              "      <td>0.001127</td>\n",
              "    </tr>\n",
              "    <tr>\n",
              "      <th>4</th>\n",
              "      <td>0.014241</td>\n",
              "      <td>0.013440</td>\n",
              "      <td>0.014369</td>\n",
              "      <td>0.007303</td>\n",
              "      <td>0.000622</td>\n",
              "    </tr>\n",
              "    <tr>\n",
              "      <th>...</th>\n",
              "      <td>...</td>\n",
              "      <td>...</td>\n",
              "      <td>...</td>\n",
              "      <td>...</td>\n",
              "      <td>...</td>\n",
              "    </tr>\n",
              "    <tr>\n",
              "      <th>5995</th>\n",
              "      <td>0.891473</td>\n",
              "      <td>0.832645</td>\n",
              "      <td>0.893855</td>\n",
              "      <td>0.879389</td>\n",
              "      <td>0.148195</td>\n",
              "    </tr>\n",
              "    <tr>\n",
              "      <th>5996</th>\n",
              "      <td>0.885936</td>\n",
              "      <td>0.830579</td>\n",
              "      <td>0.892737</td>\n",
              "      <td>0.878282</td>\n",
              "      <td>0.096927</td>\n",
              "    </tr>\n",
              "    <tr>\n",
              "      <th>5997</th>\n",
              "      <td>0.887043</td>\n",
              "      <td>0.834711</td>\n",
              "      <td>0.893855</td>\n",
              "      <td>0.882708</td>\n",
              "      <td>0.092252</td>\n",
              "    </tr>\n",
              "    <tr>\n",
              "      <th>5998</th>\n",
              "      <td>0.892580</td>\n",
              "      <td>0.838843</td>\n",
              "      <td>0.899441</td>\n",
              "      <td>0.891561</td>\n",
              "      <td>0.134339</td>\n",
              "    </tr>\n",
              "    <tr>\n",
              "      <th>5999</th>\n",
              "      <td>0.899225</td>\n",
              "      <td>0.839876</td>\n",
              "      <td>0.897207</td>\n",
              "      <td>0.886028</td>\n",
              "      <td>0.121634</td>\n",
              "    </tr>\n",
              "  </tbody>\n",
              "</table>\n",
              "<p>6000 rows × 5 columns</p>\n",
              "</div>"
            ],
            "text/plain": [
              "          Open      High       Low     Close    Volume\n",
              "0     0.013942  0.013285  0.014067  0.007104  0.001859\n",
              "1     0.014142  0.013564  0.014268  0.007403  0.001882\n",
              "2     0.014341  0.013471  0.014335  0.007336  0.001201\n",
              "3     0.014341  0.013471  0.014369  0.007403  0.001127\n",
              "4     0.014241  0.013440  0.014369  0.007303  0.000622\n",
              "...        ...       ...       ...       ...       ...\n",
              "5995  0.891473  0.832645  0.893855  0.879389  0.148195\n",
              "5996  0.885936  0.830579  0.892737  0.878282  0.096927\n",
              "5997  0.887043  0.834711  0.893855  0.882708  0.092252\n",
              "5998  0.892580  0.838843  0.899441  0.891561  0.134339\n",
              "5999  0.899225  0.839876  0.897207  0.886028  0.121634\n",
              "\n",
              "[6000 rows x 5 columns]"
            ]
          },
          "metadata": {
            "tags": []
          },
          "execution_count": 29
        }
      ]
    },
    {
      "cell_type": "markdown",
      "metadata": {
        "id": "o91qHBM9Budy"
      },
      "source": [
        "### 문제 16. 모델 학습을 위해 train 데이터와 test 데이터로 분할해주세요."
      ]
    },
    {
      "cell_type": "code",
      "metadata": {
        "id": "EfLaczmvBudy"
      },
      "source": [
        "from sklearn.model_selection import train_test_split"
      ],
      "execution_count": null,
      "outputs": []
    },
    {
      "cell_type": "code",
      "metadata": {
        "id": "lWJLgnIZBudy"
      },
      "source": [
        "# Close 컬럼이 예측할 데이터입니다.\n",
        "# test_size는 0.2, random_state는 0으로 지정해주세요.\n",
        "# shuffle을 수행하지 않습니다.\n",
        "x_train, x_test, y_train, y_test = train_test_split(df.drop('Close', 1), df['Close'], test_size=0.2, random_state=0, shuffle=False)"
      ],
      "execution_count": null,
      "outputs": []
    },
    {
      "cell_type": "markdown",
      "metadata": {
        "id": "WIZKmyXKJXGI"
      },
      "source": [
        "### 문제 17. train 데이터와 test 데이터의 shape을 각각 살펴봅니다."
      ]
    },
    {
      "cell_type": "code",
      "metadata": {
        "id": "DB9gnTXzBudz",
        "colab": {
          "base_uri": "https://localhost:8080/"
        },
        "outputId": "685f2df4-b603-448a-dd12-066d5fe3e4c5"
      },
      "source": [
        "x_train.shape, y_train.shape"
      ],
      "execution_count": null,
      "outputs": [
        {
          "output_type": "execute_result",
          "data": {
            "text/plain": [
              "((4800, 4), (4800,))"
            ]
          },
          "metadata": {
            "tags": []
          },
          "execution_count": 34
        }
      ]
    },
    {
      "cell_type": "code",
      "metadata": {
        "id": "lNLz-MYcBudz",
        "colab": {
          "base_uri": "https://localhost:8080/"
        },
        "outputId": "f724f4b3-3dcd-46ff-f563-2acd0f750046"
      },
      "source": [
        "x_test.shape, y_test.shape"
      ],
      "execution_count": null,
      "outputs": [
        {
          "output_type": "execute_result",
          "data": {
            "text/plain": [
              "((1200, 4), (1200,))"
            ]
          },
          "metadata": {
            "tags": []
          },
          "execution_count": 35
        }
      ]
    },
    {
      "cell_type": "code",
      "metadata": {
        "id": "8DK9YaozBudz",
        "colab": {
          "base_uri": "https://localhost:8080/",
          "height": 419
        },
        "outputId": "80efaded-fc7c-448f-d60d-1480948a7829"
      },
      "source": [
        "x_train"
      ],
      "execution_count": null,
      "outputs": [
        {
          "output_type": "execute_result",
          "data": {
            "text/html": [
              "<div>\n",
              "<style scoped>\n",
              "    .dataframe tbody tr th:only-of-type {\n",
              "        vertical-align: middle;\n",
              "    }\n",
              "\n",
              "    .dataframe tbody tr th {\n",
              "        vertical-align: top;\n",
              "    }\n",
              "\n",
              "    .dataframe thead th {\n",
              "        text-align: right;\n",
              "    }\n",
              "</style>\n",
              "<table border=\"1\" class=\"dataframe\">\n",
              "  <thead>\n",
              "    <tr style=\"text-align: right;\">\n",
              "      <th></th>\n",
              "      <th>Open</th>\n",
              "      <th>High</th>\n",
              "      <th>Low</th>\n",
              "      <th>Volume</th>\n",
              "    </tr>\n",
              "  </thead>\n",
              "  <tbody>\n",
              "    <tr>\n",
              "      <th>0</th>\n",
              "      <td>0.013942</td>\n",
              "      <td>0.013285</td>\n",
              "      <td>0.014067</td>\n",
              "      <td>0.001859</td>\n",
              "    </tr>\n",
              "    <tr>\n",
              "      <th>1</th>\n",
              "      <td>0.014142</td>\n",
              "      <td>0.013564</td>\n",
              "      <td>0.014268</td>\n",
              "      <td>0.001882</td>\n",
              "    </tr>\n",
              "    <tr>\n",
              "      <th>2</th>\n",
              "      <td>0.014341</td>\n",
              "      <td>0.013471</td>\n",
              "      <td>0.014335</td>\n",
              "      <td>0.001201</td>\n",
              "    </tr>\n",
              "    <tr>\n",
              "      <th>3</th>\n",
              "      <td>0.014341</td>\n",
              "      <td>0.013471</td>\n",
              "      <td>0.014369</td>\n",
              "      <td>0.001127</td>\n",
              "    </tr>\n",
              "    <tr>\n",
              "      <th>4</th>\n",
              "      <td>0.014241</td>\n",
              "      <td>0.013440</td>\n",
              "      <td>0.014369</td>\n",
              "      <td>0.000622</td>\n",
              "    </tr>\n",
              "    <tr>\n",
              "      <th>...</th>\n",
              "      <td>...</td>\n",
              "      <td>...</td>\n",
              "      <td>...</td>\n",
              "      <td>...</td>\n",
              "    </tr>\n",
              "    <tr>\n",
              "      <th>4795</th>\n",
              "      <td>0.341307</td>\n",
              "      <td>0.322107</td>\n",
              "      <td>0.341006</td>\n",
              "      <td>0.002333</td>\n",
              "    </tr>\n",
              "    <tr>\n",
              "      <th>4796</th>\n",
              "      <td>0.345293</td>\n",
              "      <td>0.324380</td>\n",
              "      <td>0.345028</td>\n",
              "      <td>0.002320</td>\n",
              "    </tr>\n",
              "    <tr>\n",
              "      <th>4797</th>\n",
              "      <td>0.342193</td>\n",
              "      <td>0.325620</td>\n",
              "      <td>0.345251</td>\n",
              "      <td>0.002401</td>\n",
              "    </tr>\n",
              "    <tr>\n",
              "      <th>4798</th>\n",
              "      <td>0.347508</td>\n",
              "      <td>0.324370</td>\n",
              "      <td>0.346592</td>\n",
              "      <td>0.001649</td>\n",
              "    </tr>\n",
              "    <tr>\n",
              "      <th>4799</th>\n",
              "      <td>0.347065</td>\n",
              "      <td>0.339669</td>\n",
              "      <td>0.349944</td>\n",
              "      <td>0.004059</td>\n",
              "    </tr>\n",
              "  </tbody>\n",
              "</table>\n",
              "<p>4800 rows × 4 columns</p>\n",
              "</div>"
            ],
            "text/plain": [
              "          Open      High       Low    Volume\n",
              "0     0.013942  0.013285  0.014067  0.001859\n",
              "1     0.014142  0.013564  0.014268  0.001882\n",
              "2     0.014341  0.013471  0.014335  0.001201\n",
              "3     0.014341  0.013471  0.014369  0.001127\n",
              "4     0.014241  0.013440  0.014369  0.000622\n",
              "...        ...       ...       ...       ...\n",
              "4795  0.341307  0.322107  0.341006  0.002333\n",
              "4796  0.345293  0.324380  0.345028  0.002320\n",
              "4797  0.342193  0.325620  0.345251  0.002401\n",
              "4798  0.347508  0.324370  0.346592  0.001649\n",
              "4799  0.347065  0.339669  0.349944  0.004059\n",
              "\n",
              "[4800 rows x 4 columns]"
            ]
          },
          "metadata": {
            "tags": []
          },
          "execution_count": 36
        }
      ]
    },
    {
      "cell_type": "markdown",
      "metadata": {
        "id": "qr3eGxuxBud0"
      },
      "source": [
        "### 문제 18. TensroFlow Dataset을 활용해 시퀀스 데이터셋을 함수로 구현해주세요"
      ]
    },
    {
      "cell_type": "code",
      "metadata": {
        "id": "wOTgC-y2Bud0"
      },
      "source": [
        "import tensorflow as tf"
      ],
      "execution_count": null,
      "outputs": []
    },
    {
      "cell_type": "code",
      "metadata": {
        "id": "yOlPdfrsBud0"
      },
      "source": [
        "def windowed_dataset(series, window_size, batch_size, shuffle):\n",
        "    series = tf.expand_dims(series, axis=-1)\n",
        "    ds = tf.data.Dataset.from_tensor_slices(series)\n",
        "    ds = ds.window(window_size + 1, shift=1, drop_remainder=True)\n",
        "    ds = ds.flat_map(lambda w: w.batch(window_size + 1))\n",
        "    if shuffle:\n",
        "        ds = ds.shuffle(1000)\n",
        "    ds = ds.map(lambda w: (w[:-1], w[-1]))\n",
        "    return ds.batch(batch_size).prefetch(1)"
      ],
      "execution_count": null,
      "outputs": []
    },
    {
      "cell_type": "markdown",
      "metadata": {
        "id": "4UT0af9ANPTF"
      },
      "source": [
        "## Step 4. 모델 구현하기"
      ]
    },
    {
      "cell_type": "code",
      "metadata": {
        "colab": {
          "base_uri": "https://localhost:8080/"
        },
        "id": "AK7Sc4EZGq-n",
        "outputId": "4c4365a6-59cc-44a2-ea7f-2426403db9d2"
      },
      "source": [
        "y_train.shape"
      ],
      "execution_count": null,
      "outputs": [
        {
          "output_type": "execute_result",
          "data": {
            "text/plain": [
              "(4800,)"
            ]
          },
          "metadata": {
            "tags": []
          },
          "execution_count": 49
        }
      ]
    },
    {
      "cell_type": "markdown",
      "metadata": {
        "id": "ht3fvb2kBud0"
      },
      "source": [
        "### 문제 19. Hyperparameter를 정의하고 데이터에 적용해주세요."
      ]
    },
    {
      "cell_type": "code",
      "metadata": {
        "id": "C894WM_pBud1"
      },
      "source": [
        "# 아래 코드는 그대로 실행해주세요.\n",
        "WINDOW_SIZE=20\n",
        "BATCH_SIZE=32"
      ],
      "execution_count": null,
      "outputs": []
    },
    {
      "cell_type": "code",
      "metadata": {
        "id": "81VrjjujBud1"
      },
      "source": [
        "# trian_data는 학습용 데이터셋, test_data는 검증용 데이터셋 입니다.\n",
        "# WINDOW_SIZE와 BATCH_SIZE를 각 데이터셋에 적용해주세요.\n",
        "train_data = windowed_dataset(y_train, WINDOW_SIZE, BATCH_SIZE, True)\n",
        "test_data = windowed_dataset(y_test, WINDOW_SIZE, BATCH_SIZE, False)"
      ],
      "execution_count": null,
      "outputs": []
    },
    {
      "cell_type": "code",
      "metadata": {
        "id": "aYPa6fkNBud1",
        "colab": {
          "base_uri": "https://localhost:8080/"
        },
        "outputId": "6a46a211-0017-4889-de08-775f9780f636"
      },
      "source": [
        "# 아래의 코드로 데이터셋의 구성을 확인해 볼 수 있습니다. 그대로 실행해보고, 데이터의 shape을 살펴보세요.\n",
        "# X: (batch_size, window_size, feature)\n",
        "# Y: (batch_size, feature)\n",
        "for data in train_data.take(1):\n",
        "    print(f'데이터셋(X) 구성(batch_size, window_size, feature갯수): {data[0].shape}')\n",
        "    print(f'데이터셋(Y) 구성(batch_size, window_size, feature갯수): {data[1].shape}')"
      ],
      "execution_count": null,
      "outputs": [
        {
          "output_type": "stream",
          "text": [
            "데이터셋(X) 구성(batch_size, window_size, feature갯수): (32, 20, 1)\n",
            "데이터셋(Y) 구성(batch_size, window_size, feature갯수): (32, 1)\n"
          ],
          "name": "stdout"
        }
      ]
    },
    {
      "cell_type": "code",
      "metadata": {
        "colab": {
          "base_uri": "https://localhost:8080/"
        },
        "id": "iJA_x8HEF_hx",
        "outputId": "1e60b978-c7d3-4d48-fc72-00970c88b1ac"
      },
      "source": [
        "a, b = next(iter(train_data))\n",
        "a[0]"
      ],
      "execution_count": null,
      "outputs": [
        {
          "output_type": "execute_result",
          "data": {
            "text/plain": [
              "<tf.Tensor: shape=(20, 1), dtype=float64, numpy=\n",
              "array([[0.06166665],\n",
              "       [0.06244122],\n",
              "       [0.06454361],\n",
              "       [0.061556  ],\n",
              "       [0.06188795],\n",
              "       [0.0638797 ],\n",
              "       [0.06310513],\n",
              "       [0.06188795],\n",
              "       [0.05978556],\n",
              "       [0.05358901],\n",
              "       [0.05436358],\n",
              "       [0.05215053],\n",
              "       [0.05004813],\n",
              "       [0.05004813],\n",
              "       [0.04606464],\n",
              "       [0.04706052],\n",
              "       [0.04517942],\n",
              "       [0.04119593],\n",
              "       [0.03699114],\n",
              "       [0.03909353]])>"
            ]
          },
          "metadata": {
            "tags": []
          },
          "execution_count": 53
        }
      ]
    },
    {
      "cell_type": "markdown",
      "metadata": {
        "id": "rSmSQt-wBud1"
      },
      "source": [
        "### 문제 20. Sequential 모델을 구현합니다. "
      ]
    },
    {
      "cell_type": "code",
      "metadata": {
        "id": "mAkmGu1j0l8M",
        "colab": {
          "base_uri": "https://localhost:8080/"
        },
        "outputId": "fc7ecbd4-d197-4acc-d203-d61fe090c15e"
      },
      "source": [
        "from tensorflow.keras.models import Sequential\n",
        "from tensorflow.keras.layers import Dense, LSTM, Conv1D, Lambda\n",
        "from tensorflow.keras.losses import Huber\n",
        "from tensorflow.keras.optimizers import Adam\n",
        "from tensorflow.keras.callbacks import EarlyStopping, ModelCheckpoint\n",
        "\n",
        "\n",
        "model = Sequential([\n",
        "    # 1차원 feature map 생성합니다. filters는 32로, kernel_size는 5로 지정해주세요.\n",
        "    Conv1D(filters=32, kernel_size=5,\n",
        "           padding=\"causal\",\n",
        "           activation=\"relu\",\n",
        "           input_shape=[WINDOW_SIZE, 1]),\n",
        "    # LSTM과 Dense 레이러를 사용해주세요. 활성함수는 각각 tanh와 relu로 지정합니다.\n",
        "    LSTM(16, activation='relu'),\n",
        "    Dense(16, activation=\"relu\"),\n",
        "    Dense(1),\n",
        "])"
      ],
      "execution_count": null,
      "outputs": [
        {
          "output_type": "stream",
          "text": [
            "WARNING:tensorflow:Layer lstm_1 will not use cuDNN kernels since it doesn't meet the criteria. It will use a generic GPU kernel as fallback when running on GPU.\n"
          ],
          "name": "stdout"
        }
      ]
    },
    {
      "cell_type": "markdown",
      "metadata": {
        "id": "52H4IgnELRRt"
      },
      "source": [
        "### 문제 21. 모델을 Compile합니다. loss는 Huber 함수를 사용하고 optimizer는 Adam을 사용해주세요."
      ]
    },
    {
      "cell_type": "code",
      "metadata": {
        "id": "xShll_EX0l8T"
      },
      "source": [
        "# Sequence 학습에 비교적 좋은 퍼포먼스를 내는 Huber()를 사용합니다.\n",
        "loss = Huber()\n",
        "optimizer = Adam(0.0005)\n",
        "model.compile(loss=Huber(), optimizer=optimizer, metrics=['mse'])"
      ],
      "execution_count": null,
      "outputs": []
    },
    {
      "cell_type": "code",
      "metadata": {
        "id": "whZcvxsKBud2"
      },
      "source": [
        "# earlystopping은 10번 epoch통안 val_loss 개선이 없다면 학습을 멈춥니다.\n",
        "earlystopping = EarlyStopping(monitor='val_loss', patience=10)\n",
        "# val_loss 기준 체크포인터도 생성합니다.\n",
        "filename = os.path.join('tmp', 'ckeckpointer.ckpt')\n",
        "checkpoint = ModelCheckpoint(filename, \n",
        "                             save_weights_only=True, \n",
        "                             save_best_only=True, \n",
        "                             monitor='val_loss', \n",
        "                             verbose=1)"
      ],
      "execution_count": null,
      "outputs": []
    },
    {
      "cell_type": "code",
      "metadata": {
        "colab": {
          "base_uri": "https://localhost:8080/"
        },
        "id": "_UCJYpWuHUru",
        "outputId": "d30631d4-bbd4-43f4-aec6-14d7ccf84a98"
      },
      "source": [
        "model.summary()"
      ],
      "execution_count": null,
      "outputs": [
        {
          "output_type": "stream",
          "text": [
            "Model: \"sequential_1\"\n",
            "_________________________________________________________________\n",
            "Layer (type)                 Output Shape              Param #   \n",
            "=================================================================\n",
            "conv1d_1 (Conv1D)            (None, 20, 32)            192       \n",
            "_________________________________________________________________\n",
            "lstm_1 (LSTM)                (None, 16)                3136      \n",
            "_________________________________________________________________\n",
            "dense_2 (Dense)              (None, 16)                272       \n",
            "_________________________________________________________________\n",
            "dense_3 (Dense)              (None, 1)                 17        \n",
            "=================================================================\n",
            "Total params: 3,617\n",
            "Trainable params: 3,617\n",
            "Non-trainable params: 0\n",
            "_________________________________________________________________\n"
          ],
          "name": "stdout"
        }
      ]
    },
    {
      "cell_type": "code",
      "metadata": {
        "id": "y9OuVTeBBud2",
        "colab": {
          "base_uri": "https://localhost:8080/"
        },
        "outputId": "8282702b-d032-4d22-deff-cd2c9f0cd70d"
      },
      "source": [
        "# callbacks로 앞에서 구현한 earlystopping과 checkpoint를 지정해주세요.\n",
        "history = model.fit(train_data, \n",
        "                    validation_data=(test_data), \n",
        "                    epochs=50, \n",
        "                    callbacks=[checkpoint, earlystopping])"
      ],
      "execution_count": null,
      "outputs": [
        {
          "output_type": "stream",
          "text": [
            "Epoch 1/50\n",
            "150/150 [==============================] - 6s 38ms/step - loss: 1.9810e-05 - mse: 3.9621e-05 - val_loss: 0.1601 - val_mse: 0.4217\n",
            "\n",
            "Epoch 00001: val_loss did not improve from 0.07670\n",
            "Epoch 2/50\n",
            "150/150 [==============================] - 6s 37ms/step - loss: 1.8192e-05 - mse: 3.6385e-05 - val_loss: 0.2275 - val_mse: 0.7024\n",
            "\n",
            "Epoch 00002: val_loss did not improve from 0.07670\n",
            "Epoch 3/50\n",
            "150/150 [==============================] - 6s 36ms/step - loss: 1.8651e-05 - mse: 3.7302e-05 - val_loss: 0.2708 - val_mse: 0.9058\n",
            "\n",
            "Epoch 00003: val_loss did not improve from 0.07670\n",
            "Epoch 4/50\n",
            "150/150 [==============================] - 5s 36ms/step - loss: 1.6346e-05 - mse: 3.2692e-05 - val_loss: 0.3222 - val_mse: 1.1888\n",
            "\n",
            "Epoch 00004: val_loss did not improve from 0.07670\n",
            "Epoch 5/50\n",
            "150/150 [==============================] - 6s 37ms/step - loss: 1.6470e-05 - mse: 3.2939e-05 - val_loss: 0.2972 - val_mse: 1.0541\n",
            "\n",
            "Epoch 00005: val_loss did not improve from 0.07670\n",
            "Epoch 6/50\n",
            "150/150 [==============================] - 6s 37ms/step - loss: 1.6418e-05 - mse: 3.2836e-05 - val_loss: 0.2816 - val_mse: 0.9499\n",
            "\n",
            "Epoch 00006: val_loss did not improve from 0.07670\n",
            "Epoch 7/50\n",
            "150/150 [==============================] - 6s 37ms/step - loss: 1.5380e-05 - mse: 3.0761e-05 - val_loss: 0.2945 - val_mse: 1.0218\n",
            "\n",
            "Epoch 00007: val_loss did not improve from 0.07670\n",
            "Epoch 8/50\n",
            "150/150 [==============================] - 6s 37ms/step - loss: 1.5692e-05 - mse: 3.1384e-05 - val_loss: 0.2709 - val_mse: 0.9003\n",
            "\n",
            "Epoch 00008: val_loss did not improve from 0.07670\n",
            "Epoch 9/50\n",
            "150/150 [==============================] - 6s 38ms/step - loss: 1.6342e-05 - mse: 3.2683e-05 - val_loss: 0.2331 - val_mse: 0.7151\n",
            "\n",
            "Epoch 00009: val_loss did not improve from 0.07670\n",
            "Epoch 10/50\n",
            "150/150 [==============================] - 6s 38ms/step - loss: 1.4694e-05 - mse: 2.9388e-05 - val_loss: 0.2370 - val_mse: 0.7341\n",
            "\n",
            "Epoch 00010: val_loss did not improve from 0.07670\n",
            "Epoch 11/50\n",
            "150/150 [==============================] - 6s 38ms/step - loss: 1.4580e-05 - mse: 2.9161e-05 - val_loss: 0.2226 - val_mse: 0.6691\n",
            "\n",
            "Epoch 00011: val_loss did not improve from 0.07670\n"
          ],
          "name": "stdout"
        }
      ]
    },
    {
      "cell_type": "markdown",
      "metadata": {
        "id": "L0LQMnc-NZXo"
      },
      "source": [
        "## Step 5. 모델을 활용한 예측 및 결과 시각화"
      ]
    },
    {
      "cell_type": "markdown",
      "metadata": {
        "id": "qDTIxmbVBud3"
      },
      "source": [
        "### 문제 24. 저장한 ModelCheckpoint 를 불러옵니다."
      ]
    },
    {
      "cell_type": "code",
      "metadata": {
        "id": "RoPIDRSo32f-",
        "colab": {
          "base_uri": "https://localhost:8080/"
        },
        "outputId": "1580e252-639b-4b41-fcb7-1c025df1d34f"
      },
      "source": [
        "model.load_weights(filename)"
      ],
      "execution_count": null,
      "outputs": [
        {
          "output_type": "execute_result",
          "data": {
            "text/plain": [
              "<tensorflow.python.training.tracking.util.CheckpointLoadStatus at 0x7f5a4965ae10>"
            ]
          },
          "metadata": {
            "tags": []
          },
          "execution_count": 65
        }
      ]
    },
    {
      "cell_type": "markdown",
      "metadata": {
        "id": "x0-oum0bBud3"
      },
      "source": [
        "### 문제 25. `test_data`를 활용하여 예측을 수행합니다."
      ]
    },
    {
      "cell_type": "code",
      "metadata": {
        "id": "WxAxSLNL0l8Z"
      },
      "source": [
        "pred = model.predict(test_data)"
      ],
      "execution_count": null,
      "outputs": []
    },
    {
      "cell_type": "code",
      "metadata": {
        "id": "yMPXjSQ10l8d",
        "colab": {
          "base_uri": "https://localhost:8080/"
        },
        "outputId": "a93a6d74-8961-4027-ef27-306c4d57427c"
      },
      "source": [
        "pred.shape"
      ],
      "execution_count": null,
      "outputs": [
        {
          "output_type": "execute_result",
          "data": {
            "text/plain": [
              "(1180, 1)"
            ]
          },
          "metadata": {
            "tags": []
          },
          "execution_count": 67
        }
      ]
    },
    {
      "cell_type": "markdown",
      "metadata": {
        "id": "jaWpXnQf6zMt"
      },
      "source": [
        "### 문제 26. matplotlib을 활용해 예측 데이터를 시각화해주세요."
      ]
    },
    {
      "cell_type": "markdown",
      "metadata": {
        "id": "Vq2_mc7fBud4"
      },
      "source": [
        "아래 시각화 코드중 y_test 데이터에 **[20:]**으로 슬라이싱을 한 이유는\n",
        "\n",
        "예측 데이터에서 20일치의 데이터로 21일치를 예측해야하기 때문에 test_data로 예측 시 *앞의 20일은 예측하지 않습니다.*\n",
        "\n",
        "따라서, 20번 째 index와 비교하면 더욱 정확합니다."
      ]
    },
    {
      "cell_type": "code",
      "metadata": {
        "id": "2F4QQ1O_0l8m",
        "colab": {
          "base_uri": "https://localhost:8080/",
          "height": 537
        },
        "outputId": "5d9d6c3c-cb25-4083-9d84-8f640836fe92"
      },
      "source": [
        "# 20일치의 데이터로 21일치를 예측하므로 test_data 사용시 이전 20일은 예측하지 않습니다.\n",
        "# 따라서 y_test 데이터에 [20:]로 슬라이싱해주세요.\n",
        "plt.figure(figsize=(12, 9))\n",
        "plt.plot(np.asarray(y_test)[20:], label='actual')\n",
        "plt.plot(pred, label='prediction')\n",
        "plt.legend()\n",
        "plt.show()"
      ],
      "execution_count": null,
      "outputs": [
        {
          "output_type": "display_data",
          "data": {
            "image/png": "[encoded data removed]",
            "text/plain": [
              "<Figure size 864x648 with 1 Axes>"
            ]
          },
          "metadata": {
            "tags": [],
            "needs_background": "light"
          }
        }
      ]
    },
    {
      "cell_type": "code",
      "metadata": {
        "id": "CXV8lzmeJpkJ"
      },
      "source": [
        ""
      ],
      "execution_count": null,
      "outputs": []
    }
  ]
}