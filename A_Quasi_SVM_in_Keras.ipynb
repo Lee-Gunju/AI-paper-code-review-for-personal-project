{
  "nbformat": 4,
  "nbformat_minor": 0,
  "metadata": {
    "colab": {
      "name": "A Quasi-SVM in Keras.ipynb",
      "provenance": [],
      "collapsed_sections": [],
      "authorship_tag": "ABX9TyOCLt9bCIaDurxwsBhZsO3f",
      "include_colab_link": true
    },
    "kernelspec": {
      "name": "python3",
      "display_name": "Python 3"
    },
    "language_info": {
      "name": "python"
    },
    "accelerator": "GPU"
  },
  "cells": [
    {
      "cell_type": "markdown",
      "metadata": {
        "id": "view-in-github",
        "colab_type": "text"
      },
      "source": [
        "<a href=\"https://colab.research.google.com/github/Lee-Gunju/AI-paper-code-review-for-personal-project/blob/master/A_Quasi_SVM_in_Keras.ipynb\" target=\"_parent\"><img src=\"https://colab.research.google.com/assets/colab-badge.svg\" alt=\"Open In Colab\"/></a>"
      ]
    },
    {
      "cell_type": "code",
      "metadata": {
        "id": "ewdaYGUNvWg9"
      },
      "source": [
        "from tensorflow import keras\n",
        "from tensorflow.keras import layers\n",
        "from tensorflow.keras.layers.experimental import RandomFourierFeatures\n",
        "import random"
      ],
      "execution_count": null,
      "outputs": []
    },
    {
      "cell_type": "code",
      "metadata": {
        "colab": {
          "base_uri": "https://localhost:8080/"
        },
        "id": "8sXvex6_vbBX",
        "outputId": "ed38b7c3-692e-406e-8d49-eb3c0a806e25"
      },
      "source": [
        "model = keras.Sequential([\n",
        "                          keras.Input(shape = (784,)),\n",
        "                          RandomFourierFeatures(output_dim=4096, scale= 10.0, kernel_initializer='gaussian'),\n",
        "                          layers.Dense(units=10)\n",
        "])\n",
        "model.compile(optimizer= keras.optimizers.Adam(learning_rate=1e-3),\n",
        "              loss= keras.losses.hinge,\n",
        "              metrics = [keras.metrics.CategoricalAccuracy(name = 'acc')]\n",
        ")"
      ],
      "execution_count": null,
      "outputs": [
        {
          "output_type": "stream",
          "text": [
            "WARNING:tensorflow:Please add `keras.layers.InputLayer` instead of `keras.Input` to Sequential model. `keras.Input` is intended to be used by Functional model.\n"
          ],
          "name": "stdout"
        }
      ]
    },
    {
      "cell_type": "code",
      "metadata": {
        "colab": {
          "base_uri": "https://localhost:8080/"
        },
        "id": "yNdN28bfv3P_",
        "outputId": "5aae0341-6b1a-4bc2-cf76-3275f741349a"
      },
      "source": [
        "model.summary()"
      ],
      "execution_count": null,
      "outputs": [
        {
          "output_type": "stream",
          "text": [
            "Model: \"sequential\"\n",
            "_________________________________________________________________\n",
            "Layer (type)                 Output Shape              Param #   \n",
            "=================================================================\n",
            "random_fourier_features (Ran (None, 4096)              3215361   \n",
            "_________________________________________________________________\n",
            "dense (Dense)                (None, 10)                40970     \n",
            "=================================================================\n",
            "Total params: 3,256,331\n",
            "Trainable params: 40,970\n",
            "Non-trainable params: 3,215,361\n",
            "_________________________________________________________________\n"
          ],
          "name": "stdout"
        }
      ]
    },
    {
      "cell_type": "code",
      "metadata": {
        "colab": {
          "base_uri": "https://localhost:8080/"
        },
        "id": "IsqEsjFawCJd",
        "outputId": "fd76eb6c-8629-43bf-dff6-76090fc4fc83"
      },
      "source": [
        "(x_train, y_train), (x_test, y_test) = keras.datasets.mnist.load_data()"
      ],
      "execution_count": null,
      "outputs": [
        {
          "output_type": "stream",
          "text": [
            "Downloading data from https://storage.googleapis.com/tensorflow/tf-keras-datasets/mnist.npz\n",
            "11493376/11490434 [==============================] - 0s 0us/step\n"
          ],
          "name": "stdout"
        }
      ]
    },
    {
      "cell_type": "code",
      "metadata": {
        "id": "bMuncTcbwOKu"
      },
      "source": [
        "x_train = x_train.reshape(-1, 784).astype('float32') / 255.\n",
        "x_test = x_test.reshape(-1,784).astype('float32')/ 255.\n"
      ],
      "execution_count": null,
      "outputs": []
    },
    {
      "cell_type": "code",
      "metadata": {
        "id": "_Q_EjEmXwdIm"
      },
      "source": [
        "y_train = keras.utils.to_categorical(y_train)\n",
        "y_test = keras.utils.to_categorical(y_test)"
      ],
      "execution_count": null,
      "outputs": []
    },
    {
      "cell_type": "code",
      "metadata": {
        "colab": {
          "base_uri": "https://localhost:8080/"
        },
        "id": "E6oacO8swdv1",
        "outputId": "7a3965ab-ba91-44ff-d4aa-521fb4bcef62"
      },
      "source": [
        "model.fit(x_train, y = y_train, epochs=20, batch_size=128, validation_split=0.2)"
      ],
      "execution_count": null,
      "outputs": [
        {
          "output_type": "stream",
          "text": [
            "Epoch 1/20\n",
            "375/375 [==============================] - 4s 4ms/step - loss: 0.0835 - acc: 0.8665 - val_loss: 0.0442 - val_acc: 0.9365\n",
            "Epoch 2/20\n",
            "375/375 [==============================] - 1s 3ms/step - loss: 0.0417 - acc: 0.9388 - val_loss: 0.0352 - val_acc: 0.9493\n",
            "Epoch 3/20\n",
            "375/375 [==============================] - 1s 3ms/step - loss: 0.0335 - acc: 0.9507 - val_loss: 0.0327 - val_acc: 0.9519\n",
            "Epoch 4/20\n",
            "375/375 [==============================] - 1s 3ms/step - loss: 0.0286 - acc: 0.9594 - val_loss: 0.0275 - val_acc: 0.9613\n",
            "Epoch 5/20\n",
            "375/375 [==============================] - 1s 3ms/step - loss: 0.0258 - acc: 0.9643 - val_loss: 0.0283 - val_acc: 0.9595\n",
            "Epoch 6/20\n",
            "375/375 [==============================] - 1s 3ms/step - loss: 0.0235 - acc: 0.9677 - val_loss: 0.0286 - val_acc: 0.9624\n",
            "Epoch 7/20\n",
            "375/375 [==============================] - 1s 3ms/step - loss: 0.0219 - acc: 0.9703 - val_loss: 0.0280 - val_acc: 0.9617\n",
            "Epoch 8/20\n",
            "375/375 [==============================] - 1s 3ms/step - loss: 0.0198 - acc: 0.9740 - val_loss: 0.0256 - val_acc: 0.9647\n",
            "Epoch 9/20\n",
            "375/375 [==============================] - 1s 3ms/step - loss: 0.0183 - acc: 0.9758 - val_loss: 0.0240 - val_acc: 0.9657\n",
            "Epoch 10/20\n",
            "375/375 [==============================] - 1s 3ms/step - loss: 0.0177 - acc: 0.9772 - val_loss: 0.0232 - val_acc: 0.9700\n",
            "Epoch 11/20\n",
            "375/375 [==============================] - 1s 3ms/step - loss: 0.0167 - acc: 0.9785 - val_loss: 0.0239 - val_acc: 0.9681\n",
            "Epoch 12/20\n",
            "375/375 [==============================] - 1s 3ms/step - loss: 0.0152 - acc: 0.9804 - val_loss: 0.0236 - val_acc: 0.9684\n",
            "Epoch 13/20\n",
            "375/375 [==============================] - 1s 3ms/step - loss: 0.0147 - acc: 0.9818 - val_loss: 0.0215 - val_acc: 0.9727\n",
            "Epoch 14/20\n",
            "375/375 [==============================] - 1s 3ms/step - loss: 0.0134 - acc: 0.9834 - val_loss: 0.0242 - val_acc: 0.9667\n",
            "Epoch 15/20\n",
            "375/375 [==============================] - 1s 3ms/step - loss: 0.0132 - acc: 0.9845 - val_loss: 0.0240 - val_acc: 0.9703\n",
            "Epoch 16/20\n",
            "375/375 [==============================] - 1s 3ms/step - loss: 0.0132 - acc: 0.9846 - val_loss: 0.0228 - val_acc: 0.9704\n",
            "Epoch 17/20\n",
            "375/375 [==============================] - 1s 3ms/step - loss: 0.0125 - acc: 0.9853 - val_loss: 0.0226 - val_acc: 0.9714\n",
            "Epoch 18/20\n",
            "375/375 [==============================] - 1s 3ms/step - loss: 0.0116 - acc: 0.9869 - val_loss: 0.0230 - val_acc: 0.9694\n",
            "Epoch 19/20\n",
            "375/375 [==============================] - 1s 3ms/step - loss: 0.0114 - acc: 0.9869 - val_loss: 0.0215 - val_acc: 0.9721\n",
            "Epoch 20/20\n",
            "375/375 [==============================] - 1s 3ms/step - loss: 0.0113 - acc: 0.9867 - val_loss: 0.0210 - val_acc: 0.9718\n"
          ],
          "name": "stdout"
        },
        {
          "output_type": "execute_result",
          "data": {
            "text/plain": [
              "<tensorflow.python.keras.callbacks.History at 0x7ff6a01d0a90>"
            ]
          },
          "metadata": {
            "tags": []
          },
          "execution_count": 15
        }
      ]
    },
    {
      "cell_type": "code",
      "metadata": {
        "id": "bya5h9SWwmIt"
      },
      "source": [
        "import numpy as np\n",
        "\n",
        "image = np.random.normal(size=(1, 784))"
      ],
      "execution_count": null,
      "outputs": []
    },
    {
      "cell_type": "code",
      "metadata": {
        "colab": {
          "base_uri": "https://localhost:8080/",
          "height": 283
        },
        "id": "YO51DkpVxHKl",
        "outputId": "5c0df30c-23c3-4b74-ba51-1c43152a5ee0"
      },
      "source": [
        "import matplotlib.pyplot as plt\n",
        "\n",
        "plt.imshow(image)"
      ],
      "execution_count": null,
      "outputs": [
        {
          "output_type": "execute_result",
          "data": {
            "text/plain": [
              "<matplotlib.image.AxesImage at 0x7ff64e5dd5d0>"
            ]
          },
          "metadata": {
            "tags": []
          },
          "execution_count": 32
        },
        {
          "output_type": "display_data",
          "data": {
            "image/png": "[encoded data removed]",
            "text/plain": [
              "<Figure size 432x288 with 1 Axes>"
            ]
          },
          "metadata": {
            "tags": [],
            "needs_background": "light"
          }
        }
      ]
    },
    {
      "cell_type": "code",
      "metadata": {
        "id": "Wkpe6NJuxuSc"
      },
      "source": [
        "image = image.reshape((28, -1))"
      ],
      "execution_count": null,
      "outputs": []
    },
    {
      "cell_type": "code",
      "metadata": {
        "colab": {
          "base_uri": "https://localhost:8080/"
        },
        "id": "ZCmVjLVUxw_t",
        "outputId": "061cc4c2-5c11-4c11-e065-21457e308de6"
      },
      "source": [
        "image.shape"
      ],
      "execution_count": null,
      "outputs": [
        {
          "output_type": "execute_result",
          "data": {
            "text/plain": [
              "(1, 784)"
            ]
          },
          "metadata": {
            "tags": []
          },
          "execution_count": 44
        }
      ]
    },
    {
      "cell_type": "code",
      "metadata": {
        "id": "l3afOSDoyr8W"
      },
      "source": [
        "test = np.expand_dims(x_train[2], 0)"
      ],
      "execution_count": null,
      "outputs": []
    },
    {
      "cell_type": "code",
      "metadata": {
        "id": "pkeSnJa2x7cI"
      },
      "source": [
        "pred = model.predict(x = test)"
      ],
      "execution_count": null,
      "outputs": []
    },
    {
      "cell_type": "code",
      "metadata": {
        "colab": {
          "base_uri": "https://localhost:8080/"
        },
        "id": "hLh12jOcyCDt",
        "outputId": "ecbe8696-11c5-448f-d0d8-30607db42166"
      },
      "source": [
        "pred.argmax()"
      ],
      "execution_count": null,
      "outputs": [
        {
          "output_type": "execute_result",
          "data": {
            "text/plain": [
              "4"
            ]
          },
          "metadata": {
            "tags": []
          },
          "execution_count": 47
        }
      ]
    },
    {
      "cell_type": "code",
      "metadata": {
        "colab": {
          "base_uri": "https://localhost:8080/"
        },
        "id": "MBkhXb5nyJft",
        "outputId": "4c172670-1288-4cbc-afa1-8580ac67ef75"
      },
      "source": [
        "pred"
      ],
      "execution_count": null,
      "outputs": [
        {
          "output_type": "execute_result",
          "data": {
            "text/plain": [
              "array([[-9.692411 , -2.1137736, -5.014495 , -2.4133112,  2.849279 ,\n",
              "        -5.678699 , -5.78747  , -4.0353837, -4.2574   , -4.540453 ]],\n",
              "      dtype=float32)"
            ]
          },
          "metadata": {
            "tags": []
          },
          "execution_count": 48
        }
      ]
    },
    {
      "cell_type": "code",
      "metadata": {
        "colab": {
          "base_uri": "https://localhost:8080/",
          "height": 283
        },
        "id": "rNxy1wizyLbF",
        "outputId": "2efbf198-153f-4b12-ca4b-dc666a57b12b"
      },
      "source": [
        "plt.imshow(np.reshape(x_train[2], (-1,28)))"
      ],
      "execution_count": null,
      "outputs": [
        {
          "output_type": "execute_result",
          "data": {
            "text/plain": [
              "<matplotlib.image.AxesImage at 0x7ff643d8e0d0>"
            ]
          },
          "metadata": {
            "tags": []
          },
          "execution_count": 49
        },
        {
          "output_type": "display_data",
          "data": {
            "image/png": "[encoded data removed]",
            "text/plain": [
              "<Figure size 432x288 with 1 Axes>"
            ]
          },
          "metadata": {
            "tags": [],
            "needs_background": "light"
          }
        }
      ]
    },
    {
      "cell_type": "code",
      "metadata": {
        "id": "e790uR37ySDu"
      },
      "source": [
        ""
      ],
      "execution_count": null,
      "outputs": []
    }
  ]
}