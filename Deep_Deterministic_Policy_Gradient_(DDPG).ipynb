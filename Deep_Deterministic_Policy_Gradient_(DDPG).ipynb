{
  "nbformat": 4,
  "nbformat_minor": 0,
  "metadata": {
    "colab": {
      "name": "Deep Deterministic Policy Gradient (DDPG).ipynb",
      "provenance": [],
      "collapsed_sections": [],
      "authorship_tag": "ABX9TyM4wK+5REHmzFF7C8/onI0k",
      "include_colab_link": true
    },
    "kernelspec": {
      "name": "python3",
      "display_name": "Python 3"
    },
    "accelerator": "GPU"
  },
  "cells": [
    {
      "cell_type": "markdown",
      "metadata": {
        "id": "view-in-github",
        "colab_type": "text"
      },
      "source": [
        "<a href=\"https://colab.research.google.com/github/Lee-Gunju/AI-paper-code-review-for-personal-project/blob/master/Deep_Deterministic_Policy_Gradient_(DDPG).ipynb\" target=\"_parent\"><img src=\"https://colab.research.google.com/assets/colab-badge.svg\" alt=\"Open In Colab\"/></a>"
      ]
    },
    {
      "cell_type": "code",
      "metadata": {
        "id": "ACZQ4jcuELGc"
      },
      "source": [
        "import gym\n",
        "import tensorflow as tf\n",
        "from tensorflow.keras import layers\n",
        "import numpy as np\n",
        "import matplotlib.pyplot as plt"
      ],
      "execution_count": null,
      "outputs": []
    },
    {
      "cell_type": "code",
      "metadata": {
        "id": "h0y91SOjFfV_"
      },
      "source": [
        "problem = \"Pendulum-v0\"\n",
        "env = gym.make(problem)"
      ],
      "execution_count": null,
      "outputs": []
    },
    {
      "cell_type": "code",
      "metadata": {
        "colab": {
          "base_uri": "https://localhost:8080/"
        },
        "id": "c8gHcTIIFqwc",
        "outputId": "10177455-378b-4d7b-8caa-444396eb8cc8"
      },
      "source": [
        "problem = \"Pendulum-v0\"\n",
        "env = gym.make(problem)\n",
        "\n",
        "num_states = env.observation_space.shape[0]\n",
        "print(\"Size of State Space ->  {}\".format(num_states))\n",
        "num_actions = env.action_space.shape[0]\n",
        "print(\"Size of Action Space ->  {}\".format(num_actions))"
      ],
      "execution_count": null,
      "outputs": [
        {
          "output_type": "stream",
          "text": [
            "Size of State Space ->  3\n",
            "Size of Action Space ->  1\n"
          ],
          "name": "stdout"
        }
      ]
    },
    {
      "cell_type": "code",
      "metadata": {
        "colab": {
          "base_uri": "https://localhost:8080/"
        },
        "id": "R8VLpGbbFtp8",
        "outputId": "bf399cd9-26dd-487e-fc6f-0eec0ab20693"
      },
      "source": [
        "upper_bound = env.action_space.high[0]\n",
        "lower_bound = env.action_space.low[0]\n",
        "\n",
        "print(\"Max Value of Action ->  {}\".format(upper_bound))\n",
        "print(\"Min Value of Action ->  {}\".format(lower_bound))"
      ],
      "execution_count": null,
      "outputs": [
        {
          "output_type": "stream",
          "text": [
            "Max Value of Action ->  2.0\n",
            "Min Value of Action ->  -2.0\n"
          ],
          "name": "stdout"
        }
      ]
    },
    {
      "cell_type": "code",
      "metadata": {
        "id": "zCv9n1UmGAQE"
      },
      "source": [
        "class OUActionNoise:\n",
        "  def __init__(self, mean, std_deviation, theta = 0.15, dt = 1e-2, x_initial = None):\n",
        "    self.theta = theta\n",
        "    self.mean = mean\n",
        "    self.std_dev = std_deviation\n",
        "    self.dt = dt\n",
        "    self.x_initial = x_initial\n",
        "    self.reset()\n",
        "\n",
        "  def __call__(self):\n",
        "    x = (self.x_prev + self.theta * (self.mean - self.x_prev) * self.dt + self.std_dev * np.sqrt(self.dt) * np.random.normal(size = self.mean.shape))\n",
        "    self.x_prev = x \n",
        "    return x \n",
        "\n",
        "  def reset(self):\n",
        "        if self.x_initial is not None:\n",
        "            self.x_prev = self.x_initial\n",
        "        else:\n",
        "            self.x_prev = np.zeros_like(self.mean)"
      ],
      "execution_count": null,
      "outputs": []
    },
    {
      "cell_type": "code",
      "metadata": {
        "id": "kP6vTQOMHoy2"
      },
      "source": [
        "class Buffer:\n",
        "    def __init__(self, buffer_capacity=100000, batch_size=64):\n",
        "        # Number of \"experiences\" to store at max\n",
        "        self.buffer_capacity = buffer_capacity\n",
        "        # Num of tuples to train on.\n",
        "        self.batch_size = batch_size\n",
        "\n",
        "        # Its tells us num of times record() was called.\n",
        "        self.buffer_counter = 0\n",
        "\n",
        "        # Instead of list of tuples as the exp.replay concept go\n",
        "        # We use different np.arrays for each tuple element\n",
        "        self.state_buffer = np.zeros((self.buffer_capacity, num_states))\n",
        "        self.action_buffer = np.zeros((self.buffer_capacity, num_actions))\n",
        "        self.reward_buffer = np.zeros((self.buffer_capacity, 1))\n",
        "        self.next_state_buffer = np.zeros((self.buffer_capacity, num_states))\n",
        "\n",
        "    # Takes (s,a,r,s') obervation tuple as input\n",
        "    def record(self, obs_tuple):\n",
        "        # Set index to zero if buffer_capacity is exceeded,\n",
        "        # replacing old records\n",
        "        index = self.buffer_counter % self.buffer_capacity\n",
        "\n",
        "        self.state_buffer[index] = obs_tuple[0]\n",
        "        self.action_buffer[index] = obs_tuple[1]\n",
        "        self.reward_buffer[index] = obs_tuple[2]\n",
        "        self.next_state_buffer[index] = obs_tuple[3]\n",
        "\n",
        "        self.buffer_counter += 1\n",
        "\n",
        "    # Eager execution is turned on by default in TensorFlow 2. Decorating with tf.function allows\n",
        "    # TensorFlow to build a static graph out of the logic and computations in our function.\n",
        "    # This provides a large speed up for blocks of code that contain many small TensorFlow operations such as this one.\n",
        "    @tf.function\n",
        "    def update(\n",
        "        self, state_batch, action_batch, reward_batch, next_state_batch,\n",
        "    ):\n",
        "        # Training and updating Actor & Critic networks.\n",
        "        # See Pseudo Code.\n",
        "        with tf.GradientTape() as tape:\n",
        "            target_actions = target_actor(next_state_batch, training=True)\n",
        "            y = reward_batch + gamma * target_critic(\n",
        "                [next_state_batch, target_actions], training=True\n",
        "            )\n",
        "            critic_value = critic_model([state_batch, action_batch], training=True)\n",
        "            critic_loss = tf.math.reduce_mean(tf.math.square(y - critic_value))\n",
        "\n",
        "        critic_grad = tape.gradient(critic_loss, critic_model.trainable_variables)\n",
        "        critic_optimizer.apply_gradients(\n",
        "            zip(critic_grad, critic_model.trainable_variables)\n",
        "        )\n",
        "\n",
        "        with tf.GradientTape() as tape:\n",
        "            actions = actor_model(state_batch, training=True)\n",
        "            critic_value = critic_model([state_batch, actions], training=True)\n",
        "            # Used `-value` as we want to maximize the value given\n",
        "            # by the critic for our actions\n",
        "            actor_loss = -tf.math.reduce_mean(critic_value)\n",
        "\n",
        "        actor_grad = tape.gradient(actor_loss, actor_model.trainable_variables)\n",
        "        actor_optimizer.apply_gradients(\n",
        "            zip(actor_grad, actor_model.trainable_variables)\n",
        "        )\n",
        "\n",
        "    # We compute the loss and update parameters\n",
        "    def learn(self):\n",
        "        # Get sampling range\n",
        "        record_range = min(self.buffer_counter, self.buffer_capacity)\n",
        "        # Randomly sample indices\n",
        "        batch_indices = np.random.choice(record_range, self.batch_size)\n",
        "\n",
        "        # Convert to tensors\n",
        "        state_batch = tf.convert_to_tensor(self.state_buffer[batch_indices])\n",
        "        action_batch = tf.convert_to_tensor(self.action_buffer[batch_indices])\n",
        "        reward_batch = tf.convert_to_tensor(self.reward_buffer[batch_indices])\n",
        "        reward_batch = tf.cast(reward_batch, dtype=tf.float32)\n",
        "        next_state_batch = tf.convert_to_tensor(self.next_state_buffer[batch_indices])\n",
        "\n",
        "        self.update(state_batch, action_batch, reward_batch, next_state_batch)\n",
        "\n",
        "\n",
        "# This update target parameters slowly\n",
        "# Based on rate `tau`, which is much less than one.\n",
        "@tf.function\n",
        "def update_target(target_weights, weights, tau):\n",
        "    for (a, b) in zip(target_weights, weights):\n",
        "        a.assign(b * tau + a * (1 - tau))"
      ],
      "execution_count": null,
      "outputs": []
    },
    {
      "cell_type": "code",
      "metadata": {
        "id": "HYGP6L2KLOcD"
      },
      "source": [
        "def get_actor():\n",
        "    # Initialize weights between -3e-3 and 3-e3\n",
        "    last_init = tf.random_uniform_initializer(minval=-0.003, maxval=0.003)\n",
        "\n",
        "    inputs = layers.Input(shape=(num_states,))\n",
        "    out = layers.Dense(256, activation=\"relu\")(inputs)\n",
        "    out = layers.Dense(256, activation=\"relu\")(out)\n",
        "    outputs = layers.Dense(1, activation=\"tanh\", kernel_initializer=last_init)(out)\n",
        "\n",
        "    # Our upper bound is 2.0 for Pendulum.\n",
        "    outputs = outputs * upper_bound\n",
        "    model = tf.keras.Model(inputs, outputs)\n",
        "    return model\n",
        "\n",
        "\n",
        "def get_critic():\n",
        "    # State as input\n",
        "    state_input = layers.Input(shape=(num_states))\n",
        "    state_out = layers.Dense(16, activation=\"relu\")(state_input)\n",
        "    state_out = layers.Dense(32, activation=\"relu\")(state_out)\n",
        "\n",
        "    # Action as input\n",
        "    action_input = layers.Input(shape=(num_actions))\n",
        "    action_out = layers.Dense(32, activation=\"relu\")(action_input)\n",
        "\n",
        "    # Both are passed through seperate layer before concatenating\n",
        "    concat = layers.Concatenate()([state_out, action_out])\n",
        "\n",
        "    out = layers.Dense(256, activation=\"relu\")(concat)\n",
        "    out = layers.Dense(256, activation=\"relu\")(out)\n",
        "    outputs = layers.Dense(1)(out)\n",
        "\n",
        "    # Outputs single value for give state-action\n",
        "    model = tf.keras.Model([state_input, action_input], outputs)\n",
        "\n",
        "    return model"
      ],
      "execution_count": null,
      "outputs": []
    },
    {
      "cell_type": "code",
      "metadata": {
        "id": "K6ZktxFMMf_T"
      },
      "source": [
        "def policy(state, noise_object):\n",
        "    sampled_actions = tf.squeeze(actor_model(state))\n",
        "    noise = noise_object()\n",
        "    # Adding noise to action\n",
        "    sampled_actions = sampled_actions.numpy() + noise\n",
        "\n",
        "    # We make sure action is within bounds\n",
        "    legal_action = np.clip(sampled_actions, lower_bound, upper_bound)\n",
        "\n",
        "    return [np.squeeze(legal_action)]"
      ],
      "execution_count": null,
      "outputs": []
    },
    {
      "cell_type": "code",
      "metadata": {
        "id": "97_Bo_h9Mr6L"
      },
      "source": [
        "std_dev = 0.2\n",
        "\n",
        "ou_noise = OUActionNoise(mean=np.zeros(1), std_deviation=float(std_dev) * np.ones(1))\n",
        "\n",
        "actor_model = get_actor()\n",
        "critic_model = get_critic()\n",
        "\n",
        "target_actor = get_actor()\n",
        "target_critic = get_critic()\n",
        "\n",
        "# Making the weights equal initially\n",
        "target_actor.set_weights(actor_model.get_weights())\n",
        "target_critic.set_weights(critic_model.get_weights())\n",
        "\n",
        "# Learning rate for actor-critic models\n",
        "critic_lr = 0.002\n",
        "actor_lr = 0.001\n",
        "\n",
        "critic_optimizer = tf.keras.optimizers.Adam(critic_lr)\n",
        "actor_optimizer = tf.keras.optimizers.Adam(actor_lr)\n",
        "\n",
        "total_episodes = 100\n",
        "# Discount factor for future rewards\n",
        "gamma = 0.99\n",
        "# Used to update target networks\n",
        "tau = 0.005\n",
        "\n",
        "buffer = Buffer(50000, 64)"
      ],
      "execution_count": null,
      "outputs": []
    },
    {
      "cell_type": "code",
      "metadata": {
        "colab": {
          "base_uri": "https://localhost:8080/",
          "height": 1000
        },
        "id": "DNTo7UUxMt6k",
        "outputId": "806018e6-5302-4eab-fd55-3d6abb085bf4"
      },
      "source": [
        "# To store reward history of each episode\n",
        "ep_reward_list = []\n",
        "# To store average reward history of last few episodes\n",
        "avg_reward_list = []\n",
        "\n",
        "# Takes about 4 min to train\n",
        "for ep in range(total_episodes):\n",
        "\n",
        "    prev_state = env.reset()\n",
        "    episodic_reward = 0\n",
        "\n",
        "    while True:\n",
        "        # Uncomment this to see the Actor in action\n",
        "        # But not in a python notebook.\n",
        "        # env.render()\n",
        "\n",
        "        tf_prev_state = tf.expand_dims(tf.convert_to_tensor(prev_state), 0)\n",
        "\n",
        "        action = policy(tf_prev_state, ou_noise)\n",
        "        # Recieve state and reward from environment.\n",
        "        state, reward, done, info = env.step(action)\n",
        "\n",
        "        buffer.record((prev_state, action, reward, state))\n",
        "        episodic_reward += reward\n",
        "\n",
        "        buffer.learn()\n",
        "        update_target(target_actor.variables, actor_model.variables, tau)\n",
        "        update_target(target_critic.variables, critic_model.variables, tau)\n",
        "\n",
        "        # End this episode when `done` is True\n",
        "        if done:\n",
        "            break\n",
        "\n",
        "        prev_state = state\n",
        "\n",
        "    ep_reward_list.append(episodic_reward)\n",
        "\n",
        "    # Mean of last 40 episodes\n",
        "    avg_reward = np.mean(ep_reward_list[-40:])\n",
        "    print(\"Episode * {} * Avg Reward is ==> {}\".format(ep, avg_reward))\n",
        "    avg_reward_list.append(avg_reward)\n",
        "\n",
        "# Plotting graph\n",
        "# Episodes versus Avg. Rewards\n",
        "plt.plot(avg_reward_list)\n",
        "plt.xlabel(\"Episode\")\n",
        "plt.ylabel(\"Avg. Epsiodic Reward\")\n",
        "plt.show()"
      ],
      "execution_count": null,
      "outputs": [
        {
          "output_type": "stream",
          "text": [
            "Episode * 0 * Avg Reward is ==> -1187.7877002125397\n",
            "Episode * 1 * Avg Reward is ==> -1244.4097293781938\n",
            "Episode * 2 * Avg Reward is ==> -1205.1630832913088\n",
            "Episode * 3 * Avg Reward is ==> -1216.289885294449\n",
            "Episode * 4 * Avg Reward is ==> -1295.9880925243524\n",
            "Episode * 5 * Avg Reward is ==> -1317.8407524204467\n",
            "Episode * 6 * Avg Reward is ==> -1337.4200277912678\n",
            "Episode * 7 * Avg Reward is ==> -1365.9456007384488\n",
            "Episode * 8 * Avg Reward is ==> -1383.224120152453\n",
            "Episode * 9 * Avg Reward is ==> -1360.5179950163533\n",
            "Episode * 10 * Avg Reward is ==> -1375.8551452520642\n",
            "Episode * 11 * Avg Reward is ==> -1349.066015920567\n",
            "Episode * 12 * Avg Reward is ==> -1329.5839770577136\n",
            "Episode * 13 * Avg Reward is ==> -1320.6249542117287\n",
            "Episode * 14 * Avg Reward is ==> -1325.6897572515488\n",
            "Episode * 15 * Avg Reward is ==> -1250.9168786810812\n",
            "Episode * 16 * Avg Reward is ==> -1266.4148363953548\n",
            "Episode * 17 * Avg Reward is ==> -1213.5077669598586\n",
            "Episode * 18 * Avg Reward is ==> -1163.3700035404422\n",
            "Episode * 19 * Avg Reward is ==> -1117.5524323385346\n",
            "Episode * 20 * Avg Reward is ==> -1096.4758772283174\n",
            "Episode * 21 * Avg Reward is ==> -1046.7071349221026\n",
            "Episode * 22 * Avg Reward is ==> -1066.1881863926656\n",
            "Episode * 23 * Avg Reward is ==> -1021.7921955648031\n",
            "Episode * 24 * Avg Reward is ==> -980.9406239366731\n",
            "Episode * 25 * Avg Reward is ==> -948.0155292793071\n",
            "Episode * 26 * Avg Reward is ==> -922.533699687331\n",
            "Episode * 27 * Avg Reward is ==> -894.0371221555281\n",
            "Episode * 28 * Avg Reward is ==> -871.9949005460529\n",
            "Episode * 29 * Avg Reward is ==> -846.9152941171249\n",
            "Episode * 30 * Avg Reward is ==> -849.6142794988534\n",
            "Episode * 31 * Avg Reward is ==> -826.9005819103738\n",
            "Episode * 32 * Avg Reward is ==> -805.4489965551381\n",
            "Episode * 33 * Avg Reward is ==> -785.4376341371309\n",
            "Episode * 34 * Avg Reward is ==> -772.0832510831393\n",
            "Episode * 35 * Avg Reward is ==> -754.1488127465582\n",
            "Episode * 36 * Avg Reward is ==> -737.1370011363031\n",
            "Episode * 37 * Avg Reward is ==> -720.9333617995954\n",
            "Episode * 38 * Avg Reward is ==> -705.5803875382945\n",
            "Episode * 39 * Avg Reward is ==> -687.9593296549372\n",
            "Episode * 40 * Avg Reward is ==> -661.2967226869861\n",
            "Episode * 41 * Avg Reward is ==> -628.9111338536218\n",
            "Episode * 42 * Avg Reward is ==> -609.7651584638276\n",
            "Episode * 43 * Avg Reward is ==> -587.256037601437\n",
            "Episode * 44 * Avg Reward is ==> -549.974523516674\n",
            "Episode * 45 * Avg Reward is ==> -520.1268411096631\n",
            "Episode * 46 * Avg Reward is ==> -490.11546481651686\n",
            "Episode * 47 * Avg Reward is ==> -457.2204697061334\n",
            "Episode * 48 * Avg Reward is ==> -428.45154811992523\n",
            "Episode * 49 * Avg Reward is ==> -408.71500617074264\n",
            "Episode * 50 * Avg Reward is ==> -382.83667180400903\n",
            "Episode * 51 * Avg Reward is ==> -365.79204841260037\n",
            "Episode * 52 * Avg Reward is ==> -341.37015763516683\n",
            "Episode * 53 * Avg Reward is ==> -314.374334548883\n",
            "Episode * 54 * Avg Reward is ==> -285.36971233209596\n",
            "Episode * 55 * Avg Reward is ==> -285.22653354400825\n",
            "Episode * 56 * Avg Reward is ==> -250.5576783405292\n",
            "Episode * 57 * Avg Reward is ==> -245.68753390542184\n",
            "Episode * 58 * Avg Reward is ==> -245.09262934668217\n",
            "Episode * 59 * Avg Reward is ==> -241.83720674581713\n",
            "Episode * 60 * Avg Reward is ==> -233.48324055806452\n",
            "Episode * 61 * Avg Reward is ==> -242.22738091404085\n",
            "Episode * 62 * Avg Reward is ==> -208.00406007458332\n",
            "Episode * 63 * Avg Reward is ==> -214.033661860336\n",
            "Episode * 64 * Avg Reward is ==> -216.94795788693017\n",
            "Episode * 65 * Avg Reward is ==> -219.51583460169613\n",
            "Episode * 66 * Avg Reward is ==> -216.21382549523173\n",
            "Episode * 67 * Avg Reward is ==> -219.31621165203842\n",
            "Episode * 68 * Avg Reward is ==> -216.09423164709838\n",
            "Episode * 69 * Avg Reward is ==> -216.2182673708266\n",
            "Episode * 70 * Avg Reward is ==> -195.85109880827378\n",
            "Episode * 71 * Avg Reward is ==> -199.90689250650706\n",
            "Episode * 72 * Avg Reward is ==> -200.04006285396824\n",
            "Episode * 73 * Avg Reward is ==> -202.59071439258605\n",
            "Episode * 74 * Avg Reward is ==> -203.92227075379895\n",
            "Episode * 75 * Avg Reward is ==> -200.77087982450362\n",
            "Episode * 76 * Avg Reward is ==> -203.70650759571063\n",
            "Episode * 77 * Avg Reward is ==> -203.68154710251514\n",
            "Episode * 78 * Avg Reward is ==> -203.5717419258542\n",
            "Episode * 79 * Avg Reward is ==> -206.53215100143439\n",
            "Episode * 80 * Avg Reward is ==> -206.72990382790425\n",
            "Episode * 81 * Avg Reward is ==> -209.74941476717223\n",
            "Episode * 82 * Avg Reward is ==> -203.69906894851488\n",
            "Episode * 83 * Avg Reward is ==> -194.99743861145703\n",
            "Episode * 84 * Avg Reward is ==> -194.78734315983618\n",
            "Episode * 85 * Avg Reward is ==> -192.15362020111172\n",
            "Episode * 86 * Avg Reward is ==> -188.88542020221766\n",
            "Episode * 87 * Avg Reward is ==> -182.6654968436725\n",
            "Episode * 88 * Avg Reward is ==> -179.32637113367258\n",
            "Episode * 89 * Avg Reward is ==> -173.13552181942399\n",
            "Episode * 90 * Avg Reward is ==> -163.88074347158224\n",
            "Episode * 91 * Avg Reward is ==> -157.8155455655898\n",
            "Episode * 92 * Avg Reward is ==> -157.7499951623982\n",
            "Episode * 93 * Avg Reward is ==> -160.5321868537937\n",
            "Episode * 94 * Avg Reward is ==> -160.9809953782313\n",
            "Episode * 95 * Avg Reward is ==> -160.90571439430738\n",
            "Episode * 96 * Avg Reward is ==> -160.8139271184519\n",
            "Episode * 97 * Avg Reward is ==> -163.3986210173503\n",
            "Episode * 98 * Avg Reward is ==> -163.45901346453633\n",
            "Episode * 99 * Avg Reward is ==> -178.50290520282115\n"
          ],
          "name": "stdout"
        },
        {
          "output_type": "display_data",
          "data": {
            "image/png": "[encoded data removed]",
            "text/plain": [
              "<Figure size 432x288 with 1 Axes>"
            ]
          },
          "metadata": {
            "tags": [],
            "needs_background": "light"
          }
        }
      ]
    },
    {
      "cell_type": "code",
      "metadata": {
        "id": "zumIqzqOM7Tk"
      },
      "source": [
        "# Save the weights\n",
        "actor_model.save_weights(\"pendulum_actor.h5\")\n",
        "critic_model.save_weights(\"pendulum_critic.h5\")\n",
        "\n",
        "target_actor.save_weights(\"pendulum_target_actor.h5\")\n",
        "target_critic.save_weights(\"pendulum_target_critic.h5\")"
      ],
      "execution_count": null,
      "outputs": []
    },
    {
      "cell_type": "code",
      "metadata": {
        "id": "oOxy4OO9NF-c"
      },
      "source": [
        ""
      ],
      "execution_count": null,
      "outputs": []
    }
  ]
}