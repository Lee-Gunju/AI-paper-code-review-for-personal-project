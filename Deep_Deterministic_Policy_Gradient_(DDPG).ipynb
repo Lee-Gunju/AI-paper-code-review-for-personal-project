{
  "nbformat": 4,
  "nbformat_minor": 0,
  "metadata": {
    "colab": {
      "name": "Deep Deterministic Policy Gradient (DDPG).ipynb",
      "provenance": [],
      "collapsed_sections": [],
      "authorship_tag": "ABX9TyN35TzI69mQwH4rG5RXB3/F",
      "include_colab_link": true
    },
    "kernelspec": {
      "name": "python3",
      "display_name": "Python 3"
    },
    "language_info": {
      "name": "python"
    },
    "accelerator": "GPU"
  },
  "cells": [
    {
      "cell_type": "markdown",
      "metadata": {
        "id": "view-in-github",
        "colab_type": "text"
      },
      "source": [
        "<a href=\"https://colab.research.google.com/github/Lee-Gunju/AI-paper-code-review-for-personal-project/blob/master/Deep_Deterministic_Policy_Gradient_(DDPG).ipynb\" target=\"_parent\"><img src=\"https://colab.research.google.com/assets/colab-badge.svg\" alt=\"Open In Colab\"/></a>"
      ]
    },
    {
      "cell_type": "code",
      "metadata": {
        "id": "Ryap7ozlJgIy"
      },
      "source": [
        "import gym\n",
        "import tensorflow as tf\n",
        "from tensorflow.keras import layers\n",
        "import numpy as np\n",
        "import matplotlib.pyplot as plt"
      ],
      "execution_count": null,
      "outputs": []
    },
    {
      "cell_type": "code",
      "metadata": {
        "colab": {
          "base_uri": "https://localhost:8080/"
        },
        "id": "4c6MbfPtKP7y",
        "outputId": "009235c8-dc22-47e9-885d-96124bd226a6"
      },
      "source": [
        "problem = \"Pendulum-v0\"\n",
        "env = gym.make(problem)\n",
        "\n",
        "num_states = env.observation_space.shape[0]\n",
        "print(\"Size of State Space ->  {}\".format(num_states))\n",
        "num_actions = env.action_space.shape[0]\n",
        "print(\"Size of Action Space ->  {}\".format(num_actions))\n",
        "\n",
        "upper_bound = env.action_space.high[0]\n",
        "lower_bound = env.action_space.low[0]\n",
        "\n",
        "print(\"Max Value of Action ->  {}\".format(upper_bound))\n",
        "print(\"Min Value of Action ->  {}\".format(lower_bound))"
      ],
      "execution_count": null,
      "outputs": [
        {
          "output_type": "stream",
          "text": [
            "Size of State Space ->  3\n",
            "Size of Action Space ->  1\n",
            "Max Value of Action ->  2.0\n",
            "Min Value of Action ->  -2.0\n"
          ],
          "name": "stdout"
        }
      ]
    },
    {
      "cell_type": "code",
      "metadata": {
        "colab": {
          "base_uri": "https://localhost:8080/"
        },
        "id": "23wkFiIuKUhX",
        "outputId": "2044195d-de80-41dc-a2fd-76398b79983b"
      },
      "source": [
        "env.observation_space"
      ],
      "execution_count": null,
      "outputs": [
        {
          "output_type": "execute_result",
          "data": {
            "text/plain": [
              "Box(-8.0, 8.0, (3,), float32)"
            ]
          },
          "metadata": {
            "tags": []
          },
          "execution_count": 7
        }
      ]
    },
    {
      "cell_type": "code",
      "metadata": {
        "colab": {
          "base_uri": "https://localhost:8080/"
        },
        "id": "66zxAeF6KaYO",
        "outputId": "252a200c-2ab9-4ef2-b775-cec3083641c2"
      },
      "source": [
        "env.action_space"
      ],
      "execution_count": null,
      "outputs": [
        {
          "output_type": "execute_result",
          "data": {
            "text/plain": [
              "Box(-2.0, 2.0, (1,), float32)"
            ]
          },
          "metadata": {
            "tags": []
          },
          "execution_count": 8
        }
      ]
    },
    {
      "cell_type": "code",
      "metadata": {
        "id": "yzY3jWhwKna1"
      },
      "source": [
        "class OUActionNoise:\n",
        "  def __init__(self, mean, std_deviation, theta = 0.15, dt=1e-2, x_initial = None):\n",
        "    self.theta = theta\n",
        "    self.mean = mean\n",
        "    self.std_dev = std_deviation\n",
        "    self.dt = dt\n",
        "    self.x_initial = x_initial\n",
        "    self.reset() \n",
        "\n",
        "  def __call__(self):\n",
        "    x = (self.x_prev + self.theta * (self.mean - self.x_prev) * self.dt \n",
        "         + self.std_dev * np.sqrt(self.dt) * np.random.normal(size = self.mean.shape))\n",
        "\n",
        "    self.x_prev = x \n",
        "    return x \n",
        "\n",
        "  def reset(self):\n",
        "    if self.x_initial is not None:\n",
        "      self.x_prev = self.x_initial\n",
        "\n",
        "    else:\n",
        "      self.x_prev = np.zeros_like(self.mean)"
      ],
      "execution_count": null,
      "outputs": []
    },
    {
      "cell_type": "code",
      "metadata": {
        "id": "zYcexiacPEnF"
      },
      "source": [
        "class Buffer:\n",
        "    def __init__(self, buffer_capacity=100000, batch_size=64):\n",
        "        # Number of \"experiences\" to store at max\n",
        "        self.buffer_capacity = buffer_capacity\n",
        "        # Num of tuples to train on.\n",
        "        self.batch_size = batch_size\n",
        "\n",
        "        # Its tells us num of times record() was called.\n",
        "        self.buffer_counter = 0\n",
        "\n",
        "        # Instead of list of tuples as the exp.replay concept go\n",
        "        # We use different np.arrays for each tuple element\n",
        "        self.state_buffer = np.zeros((self.buffer_capacity, num_states))\n",
        "        self.action_buffer = np.zeros((self.buffer_capacity, num_actions))\n",
        "        self.reward_buffer = np.zeros((self.buffer_capacity, 1))\n",
        "        self.next_state_buffer = np.zeros((self.buffer_capacity, num_states))\n",
        "\n",
        "    # Takes (s,a,r,s') obervation tuple as input\n",
        "    def record(self, obs_tuple):\n",
        "        # Set index to zero if buffer_capacity is exceeded,\n",
        "        # replacing old records\n",
        "        index = self.buffer_counter % self.buffer_capacity\n",
        "\n",
        "        self.state_buffer[index] = obs_tuple[0]\n",
        "        self.action_buffer[index] = obs_tuple[1]\n",
        "        self.reward_buffer[index] = obs_tuple[2]\n",
        "        self.next_state_buffer[index] = obs_tuple[3]\n",
        "\n",
        "        self.buffer_counter += 1\n",
        "\n",
        "    # Eager execution is turned on by default in TensorFlow 2. Decorating with tf.function allows\n",
        "    # TensorFlow to build a static graph out of the logic and computations in our function.\n",
        "    # This provides a large speed up for blocks of code that contain many small TensorFlow operations such as this one.\n",
        "    @tf.function\n",
        "    def update(\n",
        "        self, state_batch, action_batch, reward_batch, next_state_batch,\n",
        "    ):\n",
        "        # Training and updating Actor & Critic networks.\n",
        "        # See Pseudo Code.\n",
        "        with tf.GradientTape() as tape:\n",
        "            target_actions = target_actor(next_state_batch, training=True)\n",
        "            y = reward_batch + gamma * target_critic(\n",
        "                [next_state_batch, target_actions], training=True\n",
        "            )\n",
        "            critic_value = critic_model([state_batch, action_batch], training=True)\n",
        "            critic_loss = tf.math.reduce_mean(tf.math.square(y - critic_value))\n",
        "\n",
        "        critic_grad = tape.gradient(critic_loss, critic_model.trainable_variables)\n",
        "        critic_optimizer.apply_gradients(\n",
        "            zip(critic_grad, critic_model.trainable_variables)\n",
        "        )\n",
        "\n",
        "        with tf.GradientTape() as tape:\n",
        "            actions = actor_model(state_batch, training=True)\n",
        "            critic_value = critic_model([state_batch, actions], training=True)\n",
        "            # Used `-value` as we want to maximize the value given\n",
        "            # by the critic for our actions\n",
        "            actor_loss = -tf.math.reduce_mean(critic_value)\n",
        "\n",
        "        actor_grad = tape.gradient(actor_loss, actor_model.trainable_variables)\n",
        "        actor_optimizer.apply_gradients(\n",
        "            zip(actor_grad, actor_model.trainable_variables)\n",
        "        )\n",
        "\n",
        "    # We compute the loss and update parameters\n",
        "    def learn(self):\n",
        "        # Get sampling range\n",
        "        record_range = min(self.buffer_counter, self.buffer_capacity)\n",
        "        # Randomly sample indices\n",
        "        batch_indices = np.random.choice(record_range, self.batch_size)\n",
        "\n",
        "        # Convert to tensors\n",
        "        state_batch = tf.convert_to_tensor(self.state_buffer[batch_indices])\n",
        "        action_batch = tf.convert_to_tensor(self.action_buffer[batch_indices])\n",
        "        reward_batch = tf.convert_to_tensor(self.reward_buffer[batch_indices])\n",
        "        reward_batch = tf.cast(reward_batch, dtype=tf.float32)\n",
        "        next_state_batch = tf.convert_to_tensor(self.next_state_buffer[batch_indices])\n",
        "\n",
        "        self.update(state_batch, action_batch, reward_batch, next_state_batch)\n",
        "\n",
        "\n",
        "# This update target parameters slowly\n",
        "# Based on rate `tau`, which is much less than one.\n",
        "@tf.function\n",
        "def update_target(target_weights, weights, tau):\n",
        "    for (a, b) in zip(target_weights, weights):\n",
        "        a.assign(b * tau + a * (1 - tau))"
      ],
      "execution_count": null,
      "outputs": []
    },
    {
      "cell_type": "code",
      "metadata": {
        "id": "ILAtrNOiSdxG"
      },
      "source": [
        "def get_actor():\n",
        "    # Initialize weights between -3e-3 and 3-e3\n",
        "    last_init = tf.random_uniform_initializer(minval=-0.003, maxval=0.003)\n",
        "\n",
        "    inputs = layers.Input(shape=(num_states,))\n",
        "    out = layers.Dense(256, activation=\"relu\")(inputs)\n",
        "    out = layers.Dense(256, activation=\"relu\")(out)\n",
        "    outputs = layers.Dense(1, activation=\"tanh\", kernel_initializer=last_init)(out)\n",
        "\n",
        "    # Our upper bound is 2.0 for Pendulum.\n",
        "    outputs = outputs * upper_bound\n",
        "    model = tf.keras.Model(inputs, outputs)\n",
        "    return model\n",
        "\n",
        "\n",
        "def get_critic():\n",
        "    # State as input\n",
        "    state_input = layers.Input(shape=(num_states))\n",
        "    state_out = layers.Dense(16, activation=\"relu\")(state_input)\n",
        "    state_out = layers.Dense(32, activation=\"relu\")(state_out)\n",
        "\n",
        "    # Action as input\n",
        "    action_input = layers.Input(shape=(num_actions))\n",
        "    action_out = layers.Dense(32, activation=\"relu\")(action_input)\n",
        "\n",
        "    # Both are passed through seperate layer before concatenating\n",
        "    concat = layers.Concatenate()([state_out, action_out])\n",
        "\n",
        "    out = layers.Dense(256, activation=\"relu\")(concat)\n",
        "    out = layers.Dense(256, activation=\"relu\")(out)\n",
        "    outputs = layers.Dense(1)(out)\n",
        "\n",
        "    # Outputs single value for give state-action\n",
        "    model = tf.keras.Model([state_input, action_input], outputs)\n",
        "\n",
        "    return model"
      ],
      "execution_count": null,
      "outputs": []
    },
    {
      "cell_type": "code",
      "metadata": {
        "id": "0WdX7dUzS1ob"
      },
      "source": [
        "def policy(state, noise_object):\n",
        "    sampled_actions = tf.squeeze(actor_model(state))\n",
        "    noise = noise_object()\n",
        "    # Adding noise to action\n",
        "    sampled_actions = sampled_actions.numpy() + noise\n",
        "\n",
        "    # We make sure action is within bounds\n",
        "    legal_action = np.clip(sampled_actions, lower_bound, upper_bound)\n",
        "\n",
        "    return [np.squeeze(legal_action)]"
      ],
      "execution_count": null,
      "outputs": []
    },
    {
      "cell_type": "code",
      "metadata": {
        "id": "yC2lPXaATqMz"
      },
      "source": [
        "std_dev = 0.2\n",
        "ou_noise = OUActionNoise(mean=np.zeros(1), std_deviation=float(std_dev) * np.ones(1))\n",
        "\n",
        "actor_model = get_actor()\n",
        "critic_model = get_critic()\n",
        "\n",
        "target_actor = get_actor()\n",
        "target_critic = get_critic()\n",
        "\n",
        "# Making the weights equal initially\n",
        "target_actor.set_weights(actor_model.get_weights())\n",
        "target_critic.set_weights(critic_model.get_weights())\n",
        "\n",
        "# Learning rate for actor-critic models\n",
        "critic_lr = 0.002\n",
        "actor_lr = 0.001\n",
        "\n",
        "critic_optimizer = tf.keras.optimizers.Adam(critic_lr)\n",
        "actor_optimizer = tf.keras.optimizers.Adam(actor_lr)\n",
        "\n",
        "total_episodes = 100\n",
        "# Discount factor for future rewards\n",
        "gamma = 0.99\n",
        "# Used to update target networks\n",
        "tau = 0.005\n",
        "\n",
        "buffer = Buffer(50000, 64)"
      ],
      "execution_count": null,
      "outputs": []
    },
    {
      "cell_type": "code",
      "metadata": {
        "colab": {
          "base_uri": "https://localhost:8080/",
          "height": 1000
        },
        "id": "3qHN4zZtUYTS",
        "outputId": "5f87b499-33b1-4f3e-8eaa-2a34c99af2aa"
      },
      "source": [
        "# To store reward history of each episode\n",
        "ep_reward_list = []\n",
        "# To store average reward history of last few episodes\n",
        "avg_reward_list = []\n",
        "\n",
        "# Takes about 4 min to train\n",
        "for ep in range(total_episodes):\n",
        "\n",
        "    prev_state = env.reset()\n",
        "    episodic_reward = 0\n",
        "\n",
        "    while True:\n",
        "        # Uncomment this to see the Actor in action\n",
        "        # But not in a python notebook.\n",
        "        # env.render()\n",
        "\n",
        "        tf_prev_state = tf.expand_dims(tf.convert_to_tensor(prev_state), 0)\n",
        "\n",
        "        action = policy(tf_prev_state, ou_noise)\n",
        "        # Recieve state and reward from environment.\n",
        "        state, reward, done, info = env.step(action)\n",
        "\n",
        "        buffer.record((prev_state, action, reward, state))\n",
        "        episodic_reward += reward\n",
        "\n",
        "        buffer.learn()\n",
        "        update_target(target_actor.variables, actor_model.variables, tau)\n",
        "        update_target(target_critic.variables, critic_model.variables, tau)\n",
        "\n",
        "        # End this episode when `done` is True\n",
        "        if done:\n",
        "            break\n",
        "\n",
        "        prev_state = state\n",
        "\n",
        "    ep_reward_list.append(episodic_reward)\n",
        "\n",
        "    # Mean of last 40 episodes\n",
        "    avg_reward = np.mean(ep_reward_list[-40:])\n",
        "    print(\"Episode * {} * Avg Reward is ==> {}\".format(ep, avg_reward))\n",
        "    avg_reward_list.append(avg_reward)\n",
        "\n",
        "# Plotting graph\n",
        "# Episodes versus Avg. Rewards\n",
        "plt.plot(avg_reward_list)\n",
        "plt.xlabel(\"Episode\")\n",
        "plt.ylabel(\"Avg. Epsiodic Reward\")\n",
        "plt.show()"
      ],
      "execution_count": null,
      "outputs": [
        {
          "output_type": "stream",
          "text": [
            "Episode * 0 * Avg Reward is ==> -1030.2774320314104\n",
            "Episode * 1 * Avg Reward is ==> -1337.8695046166322\n",
            "Episode * 2 * Avg Reward is ==> -1232.0194096661508\n",
            "Episode * 3 * Avg Reward is ==> -1354.334802135346\n",
            "Episode * 4 * Avg Reward is ==> -1355.3198182319768\n",
            "Episode * 5 * Avg Reward is ==> -1385.3122535051878\n",
            "Episode * 6 * Avg Reward is ==> -1400.535706009603\n",
            "Episode * 7 * Avg Reward is ==> -1397.0667298710914\n",
            "Episode * 8 * Avg Reward is ==> -1364.4205752635849\n",
            "Episode * 9 * Avg Reward is ==> -1316.4190997844285\n",
            "Episode * 10 * Avg Reward is ==> -1335.108116532667\n",
            "Episode * 11 * Avg Reward is ==> -1293.0897003823836\n",
            "Episode * 12 * Avg Reward is ==> -1247.6258203376851\n",
            "Episode * 13 * Avg Reward is ==> -1215.5779898125986\n",
            "Episode * 14 * Avg Reward is ==> -1169.5098696872399\n",
            "Episode * 15 * Avg Reward is ==> -1128.5251602006879\n",
            "Episode * 16 * Avg Reward is ==> -1092.2790436295306\n",
            "Episode * 17 * Avg Reward is ==> -1075.0267593009858\n",
            "Episode * 18 * Avg Reward is ==> -1038.4977170482568\n",
            "Episode * 19 * Avg Reward is ==> -993.0900132436676\n",
            "Episode * 20 * Avg Reward is ==> -1017.0869481361921\n",
            "Episode * 21 * Avg Reward is ==> -976.6377625972243\n",
            "Episode * 22 * Avg Reward is ==> -949.7268462386556\n",
            "Episode * 23 * Avg Reward is ==> -915.6130793974249\n",
            "Episode * 24 * Avg Reward is ==> -879.0302703370049\n",
            "Episode * 25 * Avg Reward is ==> -854.4479408586947\n",
            "Episode * 26 * Avg Reward is ==> -830.9798969727009\n",
            "Episode * 27 * Avg Reward is ==> -809.8852595911858\n",
            "Episode * 28 * Avg Reward is ==> -786.2840644740174\n",
            "Episode * 29 * Avg Reward is ==> -768.2854814182081\n",
            "Episode * 30 * Avg Reward is ==> -755.7152855084611\n",
            "Episode * 31 * Avg Reward is ==> -743.756644817972\n",
            "Episode * 32 * Avg Reward is ==> -728.2608033856122\n",
            "Episode * 33 * Avg Reward is ==> -710.5298906216905\n",
            "Episode * 34 * Avg Reward is ==> -700.9527949431401\n",
            "Episode * 35 * Avg Reward is ==> -684.8210612700622\n",
            "Episode * 36 * Avg Reward is ==> -672.713956232103\n",
            "Episode * 37 * Avg Reward is ==> -655.0707627240254\n",
            "Episode * 38 * Avg Reward is ==> -644.0803848012703\n",
            "Episode * 39 * Avg Reward is ==> -631.1318764300033\n",
            "Episode * 40 * Avg Reward is ==> -611.650757734631\n",
            "Episode * 41 * Avg Reward is ==> -579.0975329258979\n",
            "Episode * 42 * Avg Reward is ==> -556.8045653088159\n",
            "Episode * 43 * Avg Reward is ==> -516.80057265769\n",
            "Episode * 44 * Avg Reward is ==> -485.9416732059607\n",
            "Episode * 45 * Avg Reward is ==> -450.55591940682405\n",
            "Episode * 46 * Avg Reward is ==> -413.3556786004841\n",
            "Episode * 47 * Avg Reward is ==> -382.2541364570223\n",
            "Episode * 48 * Avg Reward is ==> -360.8479407262114\n",
            "Episode * 49 * Avg Reward is ==> -341.8883192157452\n",
            "Episode * 50 * Avg Reward is ==> -306.78430961307566\n",
            "Episode * 51 * Avg Reward is ==> -288.9140524363588\n",
            "Episode * 52 * Avg Reward is ==> -274.5592462932706\n",
            "Episode * 53 * Avg Reward is ==> -262.946718941589\n",
            "Episode * 54 * Avg Reward is ==> -253.10303599015114\n",
            "Episode * 55 * Avg Reward is ==> -243.677455708034\n",
            "Episode * 56 * Avg Reward is ==> -239.64529188429842\n",
            "Episode * 57 * Avg Reward is ==> -234.98623740877377\n",
            "Episode * 58 * Avg Reward is ==> -237.95850370230443\n",
            "Episode * 59 * Avg Reward is ==> -237.88145045351402\n",
            "Episode * 60 * Avg Reward is ==> -208.5841081369399\n",
            "Episode * 61 * Avg Reward is ==> -208.5857985447106\n",
            "Episode * 62 * Avg Reward is ==> -202.84539167006295\n",
            "Episode * 63 * Avg Reward is ==> -208.936343503231\n",
            "Episode * 64 * Avg Reward is ==> -221.0040042746963\n",
            "Episode * 65 * Avg Reward is ==> -224.37846188852527\n",
            "Episode * 66 * Avg Reward is ==> -224.9690425628418\n",
            "Episode * 67 * Avg Reward is ==> -222.08280161554484\n",
            "Episode * 68 * Avg Reward is ==> -219.05471129235065\n",
            "Episode * 69 * Avg Reward is ==> -219.1415528801921\n",
            "Episode * 70 * Avg Reward is ==> -212.77387612505635\n",
            "Episode * 71 * Avg Reward is ==> -206.4272185759625\n",
            "Episode * 72 * Avg Reward is ==> -206.5904940424547\n",
            "Episode * 73 * Avg Reward is ==> -206.68951889068975\n",
            "Episode * 74 * Avg Reward is ==> -200.5399078634812\n",
            "Episode * 75 * Avg Reward is ==> -203.73108956444582\n",
            "Episode * 76 * Avg Reward is ==> -207.267971919127\n",
            "Episode * 77 * Avg Reward is ==> -217.96904695176573\n",
            "Episode * 78 * Avg Reward is ==> -228.65109588744727\n",
            "Episode * 79 * Avg Reward is ==> -240.87186075635555\n",
            "Episode * 80 * Avg Reward is ==> -249.51402048978358\n",
            "Episode * 81 * Avg Reward is ==> -250.7302668079511\n",
            "Episode * 82 * Avg Reward is ==> -250.89358946770807\n",
            "Episode * 83 * Avg Reward is ==> -251.0607717550134\n",
            "Episode * 84 * Avg Reward is ==> -250.94676250957795\n",
            "Episode * 85 * Avg Reward is ==> -254.06858333509018\n",
            "Episode * 86 * Avg Reward is ==> -257.10370452998404\n",
            "Episode * 87 * Avg Reward is ==> -256.892468556141\n",
            "Episode * 88 * Avg Reward is ==> -253.8351525507832\n",
            "Episode * 89 * Avg Reward is ==> -257.1191702979998\n",
            "Episode * 90 * Avg Reward is ==> -262.6896300815176\n",
            "Episode * 91 * Avg Reward is ==> -266.04080209442884\n",
            "Episode * 92 * Avg Reward is ==> -266.0969641632979\n",
            "Episode * 93 * Avg Reward is ==> -258.0676260814861\n",
            "Episode * 94 * Avg Reward is ==> -258.1831565598495\n",
            "Episode * 95 * Avg Reward is ==> -260.99732841206855\n",
            "Episode * 96 * Avg Reward is ==> -258.0297356122525\n",
            "Episode * 97 * Avg Reward is ==> -246.40190019382234\n",
            "Episode * 98 * Avg Reward is ==> -234.22007246598446\n",
            "Episode * 99 * Avg Reward is ==> -234.3448998565356\n"
          ],
          "name": "stdout"
        },
        {
          "output_type": "display_data",
          "data": {
            "image/png": "[encoded data removed]",
            "text/plain": [
              "<Figure size 432x288 with 1 Axes>"
            ]
          },
          "metadata": {
            "tags": [],
            "needs_background": "light"
          }
        }
      ]
    },
    {
      "cell_type": "code",
      "metadata": {
        "id": "Emx5gTZAUjfS"
      },
      "source": [
        ""
      ],
      "execution_count": null,
      "outputs": []
    }
  ]
}