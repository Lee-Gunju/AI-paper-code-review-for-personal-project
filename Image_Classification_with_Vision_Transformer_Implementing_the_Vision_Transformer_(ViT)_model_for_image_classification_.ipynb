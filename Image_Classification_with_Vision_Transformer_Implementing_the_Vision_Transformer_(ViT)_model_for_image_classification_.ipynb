{
  "nbformat": 4,
  "nbformat_minor": 0,
  "metadata": {
    "colab": {
      "name": "Image Classification with Vision Transformer_Implementing the Vision Transformer (ViT) model for image classification..ipynb",
      "provenance": [],
      "collapsed_sections": [],
      "authorship_tag": "ABX9TyMo3UXcOSjvSKwW4scdl6AZ",
      "include_colab_link": true
    },
    "kernelspec": {
      "name": "python3",
      "display_name": "Python 3"
    },
    "language_info": {
      "name": "python"
    },
    "accelerator": "GPU"
  },
  "cells": [
    {
      "cell_type": "markdown",
      "metadata": {
        "id": "view-in-github",
        "colab_type": "text"
      },
      "source": [
        "<a href=\"https://colab.research.google.com/github/Lee-Gunju/AI-paper-code-review-for-personal-project/blob/master/Image_Classification_with_Vision_Transformer_Implementing_the_Vision_Transformer_(ViT)_model_for_image_classification_.ipynb\" target=\"_parent\"><img src=\"https://colab.research.google.com/assets/colab-badge.svg\" alt=\"Open In Colab\"/></a>"
      ]
    },
    {
      "cell_type": "code",
      "metadata": {
        "colab": {
          "base_uri": "https://localhost:8080/"
        },
        "id": "79LjTYHG4jQ-",
        "outputId": "8e248359-474e-4679-bf5b-446141b2f6f4"
      },
      "source": [
        "pip install -U tensorflow-addons\n"
      ],
      "execution_count": null,
      "outputs": [
        {
          "output_type": "stream",
          "text": [
            "Collecting tensorflow-addons\n",
            "\u001b[?25l  Downloading https://files.pythonhosted.org/packages/74/e3/56d2fe76f0bb7c88ed9b2a6a557e25e83e252aec08f13de34369cd850a0b/tensorflow_addons-0.12.1-cp37-cp37m-manylinux2010_x86_64.whl (703kB)\n",
            "\r\u001b[K     |▌                               | 10kB 20.2MB/s eta 0:00:01\r\u001b[K     |█                               | 20kB 18.4MB/s eta 0:00:01\r\u001b[K     |█▍                              | 30kB 15.8MB/s eta 0:00:01\r\u001b[K     |█▉                              | 40kB 14.3MB/s eta 0:00:01\r\u001b[K     |██▎                             | 51kB 9.6MB/s eta 0:00:01\r\u001b[K     |██▉                             | 61kB 9.7MB/s eta 0:00:01\r\u001b[K     |███▎                            | 71kB 10.2MB/s eta 0:00:01\r\u001b[K     |███▊                            | 81kB 11.3MB/s eta 0:00:01\r\u001b[K     |████▏                           | 92kB 10.5MB/s eta 0:00:01\r\u001b[K     |████▋                           | 102kB 9.2MB/s eta 0:00:01\r\u001b[K     |█████▏                          | 112kB 9.2MB/s eta 0:00:01\r\u001b[K     |█████▋                          | 122kB 9.2MB/s eta 0:00:01\r\u001b[K     |██████                          | 133kB 9.2MB/s eta 0:00:01\r\u001b[K     |██████▌                         | 143kB 9.2MB/s eta 0:00:01\r\u001b[K     |███████                         | 153kB 9.2MB/s eta 0:00:01\r\u001b[K     |███████▌                        | 163kB 9.2MB/s eta 0:00:01\r\u001b[K     |████████                        | 174kB 9.2MB/s eta 0:00:01\r\u001b[K     |████████▍                       | 184kB 9.2MB/s eta 0:00:01\r\u001b[K     |████████▉                       | 194kB 9.2MB/s eta 0:00:01\r\u001b[K     |█████████▎                      | 204kB 9.2MB/s eta 0:00:01\r\u001b[K     |█████████▉                      | 215kB 9.2MB/s eta 0:00:01\r\u001b[K     |██████████▎                     | 225kB 9.2MB/s eta 0:00:01\r\u001b[K     |██████████▊                     | 235kB 9.2MB/s eta 0:00:01\r\u001b[K     |███████████▏                    | 245kB 9.2MB/s eta 0:00:01\r\u001b[K     |███████████▋                    | 256kB 9.2MB/s eta 0:00:01\r\u001b[K     |████████████▏                   | 266kB 9.2MB/s eta 0:00:01\r\u001b[K     |████████████▋                   | 276kB 9.2MB/s eta 0:00:01\r\u001b[K     |█████████████                   | 286kB 9.2MB/s eta 0:00:01\r\u001b[K     |█████████████▌                  | 296kB 9.2MB/s eta 0:00:01\r\u001b[K     |██████████████                  | 307kB 9.2MB/s eta 0:00:01\r\u001b[K     |██████████████▍                 | 317kB 9.2MB/s eta 0:00:01\r\u001b[K     |███████████████                 | 327kB 9.2MB/s eta 0:00:01\r\u001b[K     |███████████████▍                | 337kB 9.2MB/s eta 0:00:01\r\u001b[K     |███████████████▉                | 348kB 9.2MB/s eta 0:00:01\r\u001b[K     |████████████████▎               | 358kB 9.2MB/s eta 0:00:01\r\u001b[K     |████████████████▊               | 368kB 9.2MB/s eta 0:00:01\r\u001b[K     |█████████████████▎              | 378kB 9.2MB/s eta 0:00:01\r\u001b[K     |█████████████████▊              | 389kB 9.2MB/s eta 0:00:01\r\u001b[K     |██████████████████▏             | 399kB 9.2MB/s eta 0:00:01\r\u001b[K     |██████████████████▋             | 409kB 9.2MB/s eta 0:00:01\r\u001b[K     |███████████████████             | 419kB 9.2MB/s eta 0:00:01\r\u001b[K     |███████████████████▋            | 430kB 9.2MB/s eta 0:00:01\r\u001b[K     |████████████████████            | 440kB 9.2MB/s eta 0:00:01\r\u001b[K     |████████████████████▌           | 450kB 9.2MB/s eta 0:00:01\r\u001b[K     |█████████████████████           | 460kB 9.2MB/s eta 0:00:01\r\u001b[K     |█████████████████████▍          | 471kB 9.2MB/s eta 0:00:01\r\u001b[K     |██████████████████████          | 481kB 9.2MB/s eta 0:00:01\r\u001b[K     |██████████████████████▍         | 491kB 9.2MB/s eta 0:00:01\r\u001b[K     |██████████████████████▉         | 501kB 9.2MB/s eta 0:00:01\r\u001b[K     |███████████████████████▎        | 512kB 9.2MB/s eta 0:00:01\r\u001b[K     |███████████████████████▊        | 522kB 9.2MB/s eta 0:00:01\r\u001b[K     |████████████████████████▎       | 532kB 9.2MB/s eta 0:00:01\r\u001b[K     |████████████████████████▊       | 542kB 9.2MB/s eta 0:00:01\r\u001b[K     |█████████████████████████▏      | 552kB 9.2MB/s eta 0:00:01\r\u001b[K     |█████████████████████████▋      | 563kB 9.2MB/s eta 0:00:01\r\u001b[K     |██████████████████████████      | 573kB 9.2MB/s eta 0:00:01\r\u001b[K     |██████████████████████████▋     | 583kB 9.2MB/s eta 0:00:01\r\u001b[K     |███████████████████████████     | 593kB 9.2MB/s eta 0:00:01\r\u001b[K     |███████████████████████████▌    | 604kB 9.2MB/s eta 0:00:01\r\u001b[K     |████████████████████████████    | 614kB 9.2MB/s eta 0:00:01\r\u001b[K     |████████████████████████████▍   | 624kB 9.2MB/s eta 0:00:01\r\u001b[K     |████████████████████████████▉   | 634kB 9.2MB/s eta 0:00:01\r\u001b[K     |█████████████████████████████▍  | 645kB 9.2MB/s eta 0:00:01\r\u001b[K     |█████████████████████████████▉  | 655kB 9.2MB/s eta 0:00:01\r\u001b[K     |██████████████████████████████▎ | 665kB 9.2MB/s eta 0:00:01\r\u001b[K     |██████████████████████████████▊ | 675kB 9.2MB/s eta 0:00:01\r\u001b[K     |███████████████████████████████▏| 686kB 9.2MB/s eta 0:00:01\r\u001b[K     |███████████████████████████████▊| 696kB 9.2MB/s eta 0:00:01\r\u001b[K     |████████████████████████████████| 706kB 9.2MB/s \n",
            "\u001b[?25hRequirement already satisfied, skipping upgrade: typeguard>=2.7 in /usr/local/lib/python3.7/dist-packages (from tensorflow-addons) (2.7.1)\n",
            "Installing collected packages: tensorflow-addons\n",
            "Successfully installed tensorflow-addons-0.12.1\n"
          ],
          "name": "stdout"
        }
      ]
    },
    {
      "cell_type": "code",
      "metadata": {
        "id": "LsL310124_6_"
      },
      "source": [
        "import numpy as np\n",
        "import tensorflow as tf\n",
        "from tensorflow import keras\n",
        "from tensorflow.keras import layers\n",
        "import tensorflow_addons as tfa"
      ],
      "execution_count": null,
      "outputs": []
    },
    {
      "cell_type": "code",
      "metadata": {
        "colab": {
          "base_uri": "https://localhost:8080/"
        },
        "id": "nLkOhObH5Bn-",
        "outputId": "e578a48c-f5c7-42dc-8bb6-1e7512b973ea"
      },
      "source": [
        "num_classes = 100\n",
        "input_shape = (32, 32, 3)\n",
        "\n",
        "(x_train, y_train), (x_test, y_test) = keras.datasets.cifar100.load_data()\n",
        "\n",
        "print(f\"x_train shape: {x_train.shape} - y_train shape: {y_train.shape}\")\n",
        "print(f\"x_test shape: {x_test.shape} - y_test shape: {y_test.shape}\")"
      ],
      "execution_count": null,
      "outputs": [
        {
          "output_type": "stream",
          "text": [
            "Downloading data from https://www.cs.toronto.edu/~kriz/cifar-100-python.tar.gz\n",
            "169009152/169001437 [==============================] - 4s 0us/step\n",
            "x_train shape: (50000, 32, 32, 3) - y_train shape: (50000, 1)\n",
            "x_test shape: (10000, 32, 32, 3) - y_test shape: (10000, 1)\n"
          ],
          "name": "stdout"
        }
      ]
    },
    {
      "cell_type": "code",
      "metadata": {
        "id": "R-z_5QoS6NN-"
      },
      "source": [
        "learning_rate = 0.001\n",
        "weight_decay = 0.0001\n",
        "batch_size = 256\n",
        "num_epochs = 100\n",
        "image_size = 72  # We'll resize input images to this size\n",
        "patch_size = 6  # Size of the patches to be extract from the input images\n",
        "num_patches = (image_size // patch_size) ** 2\n",
        "projection_dim = 64\n",
        "num_heads = 4\n",
        "transformer_units = [\n",
        "    projection_dim * 2,\n",
        "    projection_dim,\n",
        "]  # Size of the transformer layers\n",
        "transformer_layers = 8\n",
        "mlp_head_units = [2048, 1024]  # Size of the dense layers of the final classifier"
      ],
      "execution_count": null,
      "outputs": []
    },
    {
      "cell_type": "code",
      "metadata": {
        "id": "bK_BhAwJ6mn-"
      },
      "source": [
        "data_augmentation = keras.Sequential([\n",
        "                                      layers.experimental.preprocessing.Normalization(),\n",
        "                                      layers.experimental.preprocessing.Resizing(image_size, image_size),\n",
        "                                      layers.experimental.preprocessing.RandomFlip('horizontal'),\n",
        "                                      layers.experimental.preprocessing.RandomRotation(factor = 0.02),\n",
        "                                      layers.experimental.preprocessing.RandomZoom(height_factor=0.2, width_factor=0.2)\n",
        "], name = 'data_augmentation')\n",
        "\n",
        "# Compute the mean and the variance of the training data for normalization.\n",
        "data_augmentation.layers[0].adapt(x_train)"
      ],
      "execution_count": null,
      "outputs": []
    },
    {
      "cell_type": "code",
      "metadata": {
        "id": "whnv3kvA7PeQ"
      },
      "source": [
        "def mlp(x, hidden_units, dropout_rate):\n",
        "  for units in hidden_units:\n",
        "    x = layers.Dense(units, activation=tf.nn.gelu)(x)\n",
        "    x = layers.Dropout(dropout_rate)(x)\n",
        "  return x "
      ],
      "execution_count": null,
      "outputs": []
    },
    {
      "cell_type": "code",
      "metadata": {
        "id": "tbpnP1HU79v5"
      },
      "source": [
        "class Patches(layers.Layer):\n",
        "  def __init__(self, patch_size):\n",
        "    super(Patches, self).__init__()\n",
        "    self.patch_size = patch_size \n",
        "\n",
        "  def call(self, images):\n",
        "    batch_size = tf.shape(images)[0]\n",
        "    patches = tf.image.extract_patches(images=images, sizes=[1, self.patch_size, self.patch_size, 1], strides=[1, self.patch_size, self.patch_size, 1], rates=[1,1,1,1], padding='VALID')\n",
        "    patch_dims = patches.shape[-1]\n",
        "    patches = tf.reshape(patches, [batch_size, -1, patch_dims])\n",
        "    return patches"
      ],
      "execution_count": null,
      "outputs": []
    },
    {
      "cell_type": "code",
      "metadata": {
        "colab": {
          "base_uri": "https://localhost:8080/",
          "height": 320
        },
        "id": "ZCD46vn9-4vC",
        "outputId": "6a411050-57ab-4a24-e9d4-1fb96679d57a"
      },
      "source": [
        "import matplotlib.pyplot as plt\n",
        "\n",
        "plt.figure(figsize= (4,4))\n",
        "image = x_train[np.random.choice(range(x_train.shape[0]))]\n",
        "plt.imshow(image.astype('uint8'))\n",
        "plt.axis('off')\n",
        "\n",
        "resized_image = tf.image.resize(tf.convert_to_tensor([image]), size= (image_size, image_size))\n",
        "patches = Patches(patch_size)(resized_image)\n",
        "\n",
        "print(f\"Image size: {image_size} X {image_size}\")\n",
        "print(f\"Patch size: {patch_size} X {patch_size}\")\n",
        "print(f\"Patches per image: {patches.shape[1]}\")\n",
        "print(f\"Elements per patch: {patches.shape[-1]}\")"
      ],
      "execution_count": null,
      "outputs": [
        {
          "output_type": "stream",
          "text": [
            "Image size: 72 X 72\n",
            "Patch size: 6 X 6\n",
            "Patches per image: 144\n",
            "Elements per patch: 108\n"
          ],
          "name": "stdout"
        },
        {
          "output_type": "display_data",
          "data": {
            "image/png": "[encoded data removed]",
            "text/plain": [
              "<Figure size 288x288 with 1 Axes>"
            ]
          },
          "metadata": {
            "tags": [],
            "needs_background": "light"
          }
        }
      ]
    },
    {
      "cell_type": "code",
      "metadata": {
        "colab": {
          "base_uri": "https://localhost:8080/"
        },
        "id": "_YqDtLJyBBL4",
        "outputId": "e312ed56-33aa-4162-dd6e-861e3f1f2ce8"
      },
      "source": [
        "patches[0]"
      ],
      "execution_count": null,
      "outputs": [
        {
          "output_type": "execute_result",
          "data": {
            "text/plain": [
              "<tf.Tensor: shape=(144, 108), dtype=float32, numpy=\n",
              "array([[8.0000000e+00, 6.0000000e+00, 4.0000000e+00, ..., 5.9351850e+00,\n",
              "        4.3209895e-01, 5.0987654e+00],\n",
              "       [8.4444447e+00, 3.3888888e+00, 7.6111112e+00, ..., 6.9197525e+01,\n",
              "        5.1595676e+01, 3.6672836e+01],\n",
              "       [3.0000000e+00, 3.0555558e+00, 1.1111112e+01, ..., 6.7438264e+00,\n",
              "        1.2037036e+01, 1.2277778e+01],\n",
              "       ...,\n",
              "       [0.0000000e+00, 5.5555344e-02, 0.0000000e+00, ..., 6.0000000e+00,\n",
              "        1.0000000e+00, 1.0000000e+00],\n",
              "       [0.0000000e+00, 5.5555344e-02, 0.0000000e+00, ..., 6.0000000e+00,\n",
              "        1.0000000e+00, 1.0000000e+00],\n",
              "       [0.0000000e+00, 5.5555344e-02, 0.0000000e+00, ..., 7.0000000e+00,\n",
              "        0.0000000e+00, 0.0000000e+00]], dtype=float32)>"
            ]
          },
          "metadata": {
            "tags": []
          },
          "execution_count": 13
        }
      ]
    },
    {
      "cell_type": "code",
      "metadata": {
        "colab": {
          "base_uri": "https://localhost:8080/"
        },
        "id": "POvAZzj1CP82",
        "outputId": "8649baab-d2d2-4efe-d47c-d6e085f375e5"
      },
      "source": [
        "patches[0][0]"
      ],
      "execution_count": null,
      "outputs": [
        {
          "output_type": "execute_result",
          "data": {
            "text/plain": [
              "<tf.Tensor: shape=(108,), dtype=float32, numpy=\n",
              "array([8.        , 6.        , 4.        , 7.1666665 , 6.1666665 ,\n",
              "       4.3333335 , 4.9444447 , 6.611111  , 5.2222223 , 3.388889  ,\n",
              "       6.7777777 , 6.111111  , 6.5       , 5.        , 7.        ,\n",
              "       9.611111  , 3.2222223 , 7.888889  , 7.5       , 5.5       ,\n",
              "       3.5       , 6.722222  , 5.6666665 , 3.8333335 , 4.6481485 ,\n",
              "       6.111111  , 4.7222223 , 3.2037039 , 6.287037  , 5.6203704 ,\n",
              "       6.1666665 , 4.5833335 , 6.5833335 , 9.129629  , 2.8796296 ,\n",
              "       7.546296  , 6.1666665 , 4.1666665 , 2.1666667 , 5.537037  ,\n",
              "       4.3333335 , 2.5000002 , 3.8580248 , 4.7777777 , 3.388889  ,\n",
              "       2.7098768 , 4.978395  , 4.3117285 , 5.2777777 , 3.4722223 ,\n",
              "       5.4722223 , 7.845679  , 1.9660494 , 6.6327157 , 5.        ,\n",
              "       3.0555556 , 1.        , 4.5185184 , 3.2407408 , 1.3611112 ,\n",
              "       3.234568  , 3.734568  , 2.3240743 , 2.3796299 , 3.9876542 ,\n",
              "       3.3209877 , 4.5277777 , 2.5555556 , 4.5555553 , 6.675926  ,\n",
              "       1.1234568 , 5.790123  , 5.        , 3.5       , 1.        ,\n",
              "       4.666667  , 3.8333335 , 1.5833334 , 3.7777777 , 4.7222223 ,\n",
              "       3.1388888 , 3.1944447 , 5.222222  , 4.555556  , 4.75      ,\n",
              "       3.        , 5.        , 6.3055553 , 0.7777779 , 5.444444  ,\n",
              "       5.        , 3.9444444 , 1.        , 4.814815  , 4.4259257 ,\n",
              "       1.8055556 , 4.3209877 , 5.7098765 , 3.9537034 , 4.009259  ,\n",
              "       6.4567895 , 5.7901235 , 4.9722223 , 3.4444444 , 5.4444447 ,\n",
              "       5.935185  , 0.43209895, 5.0987654 ], dtype=float32)>"
            ]
          },
          "metadata": {
            "tags": []
          },
          "execution_count": 14
        }
      ]
    },
    {
      "cell_type": "code",
      "metadata": {
        "colab": {
          "base_uri": "https://localhost:8080/",
          "height": 248
        },
        "id": "EQiCFi9jBAB7",
        "outputId": "14a04a1c-c6bd-4a92-eb05-52d67030a110"
      },
      "source": [
        "\n",
        "n = int(np.sqrt(patches.shape[1]))\n",
        "plt.figure(figsize = (4,4))\n",
        "for i, patch in enumerate(patches[0]):\n",
        "  ax = plt.subplot(n, n, i +1)\n",
        "  patch_img = tf.reshape(patch, (patch_size, patch_size, 3))\n",
        "  plt.imshow(patch_img.numpy().astype('uint8'))\n",
        "  plt.axis('off')"
      ],
      "execution_count": null,
      "outputs": [
        {
          "output_type": "display_data",
          "data": {
            "image/png": "[encoded data removed]",
            "text/plain": [
              "<Figure size 288x288 with 144 Axes>"
            ]
          },
          "metadata": {
            "tags": [],
            "needs_background": "light"
          }
        }
      ]
    },
    {
      "cell_type": "code",
      "metadata": {
        "id": "NU-7ZCmzCC8c"
      },
      "source": [
        "class PatchEncoder(layers.Layer):\n",
        "    def __init__(self, num_patches, projection_dim):\n",
        "        super(PatchEncoder, self).__init__()\n",
        "        self.num_patches = num_patches\n",
        "        self.projection = layers.Dense(units=projection_dim)\n",
        "        self.position_embedding = layers.Embedding(\n",
        "            input_dim=num_patches, output_dim=projection_dim\n",
        "        )\n",
        "\n",
        "    def call(self, patch):\n",
        "        positions = tf.range(start=0, limit=self.num_patches, delta=1)\n",
        "        encoded = self.projection(patch) + self.position_embedding(positions)\n",
        "        return encoded"
      ],
      "execution_count": null,
      "outputs": []
    },
    {
      "cell_type": "code",
      "metadata": {
        "colab": {
          "base_uri": "https://localhost:8080/"
        },
        "id": "9kvj6XweDltn",
        "outputId": "aaa4b117-27c3-481b-c9d0-f676c1d13dc0"
      },
      "source": [
        "position = tf.range(start=0, limit=144, delta=1)\n",
        "position"
      ],
      "execution_count": null,
      "outputs": [
        {
          "output_type": "execute_result",
          "data": {
            "text/plain": [
              "<tf.Tensor: shape=(144,), dtype=int32, numpy=\n",
              "array([  0,   1,   2,   3,   4,   5,   6,   7,   8,   9,  10,  11,  12,\n",
              "        13,  14,  15,  16,  17,  18,  19,  20,  21,  22,  23,  24,  25,\n",
              "        26,  27,  28,  29,  30,  31,  32,  33,  34,  35,  36,  37,  38,\n",
              "        39,  40,  41,  42,  43,  44,  45,  46,  47,  48,  49,  50,  51,\n",
              "        52,  53,  54,  55,  56,  57,  58,  59,  60,  61,  62,  63,  64,\n",
              "        65,  66,  67,  68,  69,  70,  71,  72,  73,  74,  75,  76,  77,\n",
              "        78,  79,  80,  81,  82,  83,  84,  85,  86,  87,  88,  89,  90,\n",
              "        91,  92,  93,  94,  95,  96,  97,  98,  99, 100, 101, 102, 103,\n",
              "       104, 105, 106, 107, 108, 109, 110, 111, 112, 113, 114, 115, 116,\n",
              "       117, 118, 119, 120, 121, 122, 123, 124, 125, 126, 127, 128, 129,\n",
              "       130, 131, 132, 133, 134, 135, 136, 137, 138, 139, 140, 141, 142,\n",
              "       143], dtype=int32)>"
            ]
          },
          "metadata": {
            "tags": []
          },
          "execution_count": 19
        }
      ]
    },
    {
      "cell_type": "code",
      "metadata": {
        "colab": {
          "base_uri": "https://localhost:8080/"
        },
        "id": "VyheJ1y4DnM0",
        "outputId": "17c31975-ac52-4150-ef6f-bfb1e3041f11"
      },
      "source": [
        "patches[0]"
      ],
      "execution_count": null,
      "outputs": [
        {
          "output_type": "execute_result",
          "data": {
            "text/plain": [
              "<tf.Tensor: shape=(144, 108), dtype=float32, numpy=\n",
              "array([[8.0000000e+00, 6.0000000e+00, 4.0000000e+00, ..., 5.9351850e+00,\n",
              "        4.3209895e-01, 5.0987654e+00],\n",
              "       [8.4444447e+00, 3.3888888e+00, 7.6111112e+00, ..., 6.9197525e+01,\n",
              "        5.1595676e+01, 3.6672836e+01],\n",
              "       [3.0000000e+00, 3.0555558e+00, 1.1111112e+01, ..., 6.7438264e+00,\n",
              "        1.2037036e+01, 1.2277778e+01],\n",
              "       ...,\n",
              "       [0.0000000e+00, 5.5555344e-02, 0.0000000e+00, ..., 6.0000000e+00,\n",
              "        1.0000000e+00, 1.0000000e+00],\n",
              "       [0.0000000e+00, 5.5555344e-02, 0.0000000e+00, ..., 6.0000000e+00,\n",
              "        1.0000000e+00, 1.0000000e+00],\n",
              "       [0.0000000e+00, 5.5555344e-02, 0.0000000e+00, ..., 7.0000000e+00,\n",
              "        0.0000000e+00, 0.0000000e+00]], dtype=float32)>"
            ]
          },
          "metadata": {
            "tags": []
          },
          "execution_count": 22
        }
      ]
    },
    {
      "cell_type": "code",
      "metadata": {
        "id": "MqLhCmL0D59r"
      },
      "source": [
        "pos_emb = layers.Embedding(\n",
        "            input_dim=144, output_dim=64\n",
        "        )"
      ],
      "execution_count": null,
      "outputs": []
    },
    {
      "cell_type": "code",
      "metadata": {
        "colab": {
          "base_uri": "https://localhost:8080/"
        },
        "id": "ZRKiz8nmEZPj",
        "outputId": "a82416ac-982f-417a-a414-15614046faf3"
      },
      "source": [
        "pos_emb(position)"
      ],
      "execution_count": null,
      "outputs": [
        {
          "output_type": "execute_result",
          "data": {
            "text/plain": [
              "<tf.Tensor: shape=(144, 64), dtype=float32, numpy=\n",
              "array([[-0.017393  ,  0.03476483,  0.02592803, ...,  0.04680059,\n",
              "        -0.01337119, -0.02129182],\n",
              "       [-0.00931755,  0.00055482,  0.0470703 , ...,  0.0098343 ,\n",
              "        -0.00884547, -0.04280616],\n",
              "       [-0.00300659, -0.04514926,  0.00725985, ...,  0.02585385,\n",
              "         0.03183283, -0.01896323],\n",
              "       ...,\n",
              "       [-0.00330585,  0.03509942, -0.03261719, ...,  0.00229333,\n",
              "        -0.03517915, -0.03337842],\n",
              "       [-0.01658456,  0.04694679, -0.0420274 , ..., -0.00399871,\n",
              "        -0.02223175,  0.00459464],\n",
              "       [ 0.01082369, -0.02599728, -0.00699525, ...,  0.00918229,\n",
              "        -0.01427529, -0.0442184 ]], dtype=float32)>"
            ]
          },
          "metadata": {
            "tags": []
          },
          "execution_count": 21
        }
      ]
    },
    {
      "cell_type": "code",
      "metadata": {
        "colab": {
          "base_uri": "https://localhost:8080/"
        },
        "id": "d-xWbipaEc7z",
        "outputId": "4e91c05d-1243-490d-efdd-f5978e219811"
      },
      "source": [
        "projection = layers.Dense(units=64)\n",
        "projection(patches[0])"
      ],
      "execution_count": null,
      "outputs": [
        {
          "output_type": "execute_result",
          "data": {
            "text/plain": [
              "<tf.Tensor: shape=(144, 64), dtype=float32, numpy=\n",
              "array([[  0.6264125 , -10.158005  ,   7.2577057 , ...,   6.314879  ,\n",
              "          7.532458  ,   0.25044847],\n",
              "       [ -2.219657  ,  -2.3542538 ,   8.53534   , ...,  43.411613  ,\n",
              "         -5.24839   , -18.365847  ],\n",
              "       [-13.265923  , -10.329147  ,  20.373756  , ...,   7.0325246 ,\n",
              "          3.2497778 , -23.34047   ],\n",
              "       ...,\n",
              "       [ -3.7852037 ,   0.22870666,   1.2657931 , ...,   2.6196442 ,\n",
              "         -1.0158832 ,  -2.3418052 ],\n",
              "       [ -3.7852037 ,   0.22870666,   1.2657931 , ...,   2.6196442 ,\n",
              "         -1.0158832 ,  -2.3418052 ],\n",
              "       [ -3.6609495 ,   0.35115707,   1.1328446 , ...,   2.4123354 ,\n",
              "         -1.1643898 ,  -2.8673167 ]], dtype=float32)>"
            ]
          },
          "metadata": {
            "tags": []
          },
          "execution_count": 23
        }
      ]
    },
    {
      "cell_type": "code",
      "metadata": {
        "id": "M-wHhgPsEq8b"
      },
      "source": [
        "def create_vit_classifier():\n",
        "  inputs = layers.Input(shape = input_shape)\n",
        "  # Augment data.\n",
        "  augmented = data_augmentation(inputs)\n",
        "  # Create patches.\n",
        "  patches = Patches(patch_size)(augmented)\n",
        "  # Encode patches.\n",
        "  encoded_patches = PatchEncoder(num_patches, projection_dim)(patches)\n",
        "\n",
        "  #create multiple layers of the transformer block \n",
        "  for _ in range(transformer_layers):\n",
        "    # layer normalization 1 \n",
        "    x1 = layers.LayerNormalization(epsilon=1e-6)(encoded_patches)\n",
        "    # create a multi head attention layer \n",
        "    attention_output = layers.MultiHeadAttention(num_heads=num_heads, key_dim=projection_dim, dropout=0.1)(x1, x1)\n",
        "    # skip connection 1 \n",
        "    x2 = layers.Add()([attention_output, encoded_patches])\n",
        "    # layer normalization 2 \n",
        "    x3 = layers.LayerNormalization(epsilon=1e-6)(x2)\n",
        "    #MLP\n",
        "    x3 = mlp(x3, hidden_units=transformer_units, dropout_rate=0.1)\n",
        "    # skip connection 2 \n",
        "    encoded_patches = layers.Add()([x3, x2])\n",
        "\n",
        "  # create a [batch_size, projection_dim] tensor.\n",
        "  representation = layers.LayerNormalization(epsilon=1e-6)(encoded_patches)\n",
        "  representation = layers.Flatten()(representation)\n",
        "  representation = layers.Dropout(0.5)(representation)\n",
        "  # Add MLP.\n",
        "  features = mlp(representation, hidden_units=mlp_head_units, dropout_rate=0.5)\n",
        "  # Classify outputs.\n",
        "  logits = layers.Dense(num_classes)(features)\n",
        "  # Create the Keras model.\n",
        "  model = keras.Model(inputs=inputs, outputs=logits)\n",
        "  return model\n"
      ],
      "execution_count": null,
      "outputs": []
    },
    {
      "cell_type": "code",
      "metadata": {
        "id": "L8FtKziHId_X"
      },
      "source": [
        "vit_classifier = create_vit_classifier()"
      ],
      "execution_count": null,
      "outputs": []
    },
    {
      "cell_type": "code",
      "metadata": {
        "colab": {
          "base_uri": "https://localhost:8080/"
        },
        "id": "x-TeOVsyIghG",
        "outputId": "4988a25a-48f1-4baf-c638-323cf38b535d"
      },
      "source": [
        "vit_classifier.summary()"
      ],
      "execution_count": null,
      "outputs": [
        {
          "output_type": "stream",
          "text": [
            "Model: \"model\"\n",
            "__________________________________________________________________________________________________\n",
            "Layer (type)                    Output Shape         Param #     Connected to                     \n",
            "==================================================================================================\n",
            "input_2 (InputLayer)            [(None, 32, 32, 3)]  0                                            \n",
            "__________________________________________________________________________________________________\n",
            "data_augmentation (Sequential)  (None, 72, 72, 3)    7           input_2[0][0]                    \n",
            "__________________________________________________________________________________________________\n",
            "patches_2 (Patches)             (None, None, 108)    0           data_augmentation[1][0]          \n",
            "__________________________________________________________________________________________________\n",
            "patch_encoder_1 (PatchEncoder)  (None, 144, 64)      16192       patches_2[0][0]                  \n",
            "__________________________________________________________________________________________________\n",
            "layer_normalization_1 (LayerNor (None, 144, 64)      128         patch_encoder_1[0][0]            \n",
            "__________________________________________________________________________________________________\n",
            "multi_head_attention_1 (MultiHe (None, 144, 64)      66368       layer_normalization_1[0][0]      \n",
            "                                                                 layer_normalization_1[0][0]      \n",
            "__________________________________________________________________________________________________\n",
            "add_1 (Add)                     (None, 144, 64)      0           multi_head_attention_1[0][0]     \n",
            "                                                                 patch_encoder_1[0][0]            \n",
            "__________________________________________________________________________________________________\n",
            "layer_normalization_2 (LayerNor (None, 144, 64)      128         add_1[0][0]                      \n",
            "__________________________________________________________________________________________________\n",
            "dense_3 (Dense)                 (None, 144, 128)     8320        layer_normalization_2[0][0]      \n",
            "__________________________________________________________________________________________________\n",
            "dropout (Dropout)               (None, 144, 128)     0           dense_3[0][0]                    \n",
            "__________________________________________________________________________________________________\n",
            "dense_4 (Dense)                 (None, 144, 64)      8256        dropout[0][0]                    \n",
            "__________________________________________________________________________________________________\n",
            "dropout_1 (Dropout)             (None, 144, 64)      0           dense_4[0][0]                    \n",
            "__________________________________________________________________________________________________\n",
            "add_2 (Add)                     (None, 144, 64)      0           dropout_1[0][0]                  \n",
            "                                                                 add_1[0][0]                      \n",
            "__________________________________________________________________________________________________\n",
            "layer_normalization_3 (LayerNor (None, 144, 64)      128         add_2[0][0]                      \n",
            "__________________________________________________________________________________________________\n",
            "multi_head_attention_2 (MultiHe (None, 144, 64)      66368       layer_normalization_3[0][0]      \n",
            "                                                                 layer_normalization_3[0][0]      \n",
            "__________________________________________________________________________________________________\n",
            "add_3 (Add)                     (None, 144, 64)      0           multi_head_attention_2[0][0]     \n",
            "                                                                 add_2[0][0]                      \n",
            "__________________________________________________________________________________________________\n",
            "layer_normalization_4 (LayerNor (None, 144, 64)      128         add_3[0][0]                      \n",
            "__________________________________________________________________________________________________\n",
            "dense_5 (Dense)                 (None, 144, 128)     8320        layer_normalization_4[0][0]      \n",
            "__________________________________________________________________________________________________\n",
            "dropout_2 (Dropout)             (None, 144, 128)     0           dense_5[0][0]                    \n",
            "__________________________________________________________________________________________________\n",
            "dense_6 (Dense)                 (None, 144, 64)      8256        dropout_2[0][0]                  \n",
            "__________________________________________________________________________________________________\n",
            "dropout_3 (Dropout)             (None, 144, 64)      0           dense_6[0][0]                    \n",
            "__________________________________________________________________________________________________\n",
            "add_4 (Add)                     (None, 144, 64)      0           dropout_3[0][0]                  \n",
            "                                                                 add_3[0][0]                      \n",
            "__________________________________________________________________________________________________\n",
            "layer_normalization_5 (LayerNor (None, 144, 64)      128         add_4[0][0]                      \n",
            "__________________________________________________________________________________________________\n",
            "multi_head_attention_3 (MultiHe (None, 144, 64)      66368       layer_normalization_5[0][0]      \n",
            "                                                                 layer_normalization_5[0][0]      \n",
            "__________________________________________________________________________________________________\n",
            "add_5 (Add)                     (None, 144, 64)      0           multi_head_attention_3[0][0]     \n",
            "                                                                 add_4[0][0]                      \n",
            "__________________________________________________________________________________________________\n",
            "layer_normalization_6 (LayerNor (None, 144, 64)      128         add_5[0][0]                      \n",
            "__________________________________________________________________________________________________\n",
            "dense_7 (Dense)                 (None, 144, 128)     8320        layer_normalization_6[0][0]      \n",
            "__________________________________________________________________________________________________\n",
            "dropout_4 (Dropout)             (None, 144, 128)     0           dense_7[0][0]                    \n",
            "__________________________________________________________________________________________________\n",
            "dense_8 (Dense)                 (None, 144, 64)      8256        dropout_4[0][0]                  \n",
            "__________________________________________________________________________________________________\n",
            "dropout_5 (Dropout)             (None, 144, 64)      0           dense_8[0][0]                    \n",
            "__________________________________________________________________________________________________\n",
            "add_6 (Add)                     (None, 144, 64)      0           dropout_5[0][0]                  \n",
            "                                                                 add_5[0][0]                      \n",
            "__________________________________________________________________________________________________\n",
            "layer_normalization_7 (LayerNor (None, 144, 64)      128         add_6[0][0]                      \n",
            "__________________________________________________________________________________________________\n",
            "multi_head_attention_4 (MultiHe (None, 144, 64)      66368       layer_normalization_7[0][0]      \n",
            "                                                                 layer_normalization_7[0][0]      \n",
            "__________________________________________________________________________________________________\n",
            "add_7 (Add)                     (None, 144, 64)      0           multi_head_attention_4[0][0]     \n",
            "                                                                 add_6[0][0]                      \n",
            "__________________________________________________________________________________________________\n",
            "layer_normalization_8 (LayerNor (None, 144, 64)      128         add_7[0][0]                      \n",
            "__________________________________________________________________________________________________\n",
            "dense_9 (Dense)                 (None, 144, 128)     8320        layer_normalization_8[0][0]      \n",
            "__________________________________________________________________________________________________\n",
            "dropout_6 (Dropout)             (None, 144, 128)     0           dense_9[0][0]                    \n",
            "__________________________________________________________________________________________________\n",
            "dense_10 (Dense)                (None, 144, 64)      8256        dropout_6[0][0]                  \n",
            "__________________________________________________________________________________________________\n",
            "dropout_7 (Dropout)             (None, 144, 64)      0           dense_10[0][0]                   \n",
            "__________________________________________________________________________________________________\n",
            "add_8 (Add)                     (None, 144, 64)      0           dropout_7[0][0]                  \n",
            "                                                                 add_7[0][0]                      \n",
            "__________________________________________________________________________________________________\n",
            "layer_normalization_9 (LayerNor (None, 144, 64)      128         add_8[0][0]                      \n",
            "__________________________________________________________________________________________________\n",
            "multi_head_attention_5 (MultiHe (None, 144, 64)      66368       layer_normalization_9[0][0]      \n",
            "                                                                 layer_normalization_9[0][0]      \n",
            "__________________________________________________________________________________________________\n",
            "add_9 (Add)                     (None, 144, 64)      0           multi_head_attention_5[0][0]     \n",
            "                                                                 add_8[0][0]                      \n",
            "__________________________________________________________________________________________________\n",
            "layer_normalization_10 (LayerNo (None, 144, 64)      128         add_9[0][0]                      \n",
            "__________________________________________________________________________________________________\n",
            "dense_11 (Dense)                (None, 144, 128)     8320        layer_normalization_10[0][0]     \n",
            "__________________________________________________________________________________________________\n",
            "dropout_8 (Dropout)             (None, 144, 128)     0           dense_11[0][0]                   \n",
            "__________________________________________________________________________________________________\n",
            "dense_12 (Dense)                (None, 144, 64)      8256        dropout_8[0][0]                  \n",
            "__________________________________________________________________________________________________\n",
            "dropout_9 (Dropout)             (None, 144, 64)      0           dense_12[0][0]                   \n",
            "__________________________________________________________________________________________________\n",
            "add_10 (Add)                    (None, 144, 64)      0           dropout_9[0][0]                  \n",
            "                                                                 add_9[0][0]                      \n",
            "__________________________________________________________________________________________________\n",
            "layer_normalization_11 (LayerNo (None, 144, 64)      128         add_10[0][0]                     \n",
            "__________________________________________________________________________________________________\n",
            "multi_head_attention_6 (MultiHe (None, 144, 64)      66368       layer_normalization_11[0][0]     \n",
            "                                                                 layer_normalization_11[0][0]     \n",
            "__________________________________________________________________________________________________\n",
            "add_11 (Add)                    (None, 144, 64)      0           multi_head_attention_6[0][0]     \n",
            "                                                                 add_10[0][0]                     \n",
            "__________________________________________________________________________________________________\n",
            "layer_normalization_12 (LayerNo (None, 144, 64)      128         add_11[0][0]                     \n",
            "__________________________________________________________________________________________________\n",
            "dense_13 (Dense)                (None, 144, 128)     8320        layer_normalization_12[0][0]     \n",
            "__________________________________________________________________________________________________\n",
            "dropout_10 (Dropout)            (None, 144, 128)     0           dense_13[0][0]                   \n",
            "__________________________________________________________________________________________________\n",
            "dense_14 (Dense)                (None, 144, 64)      8256        dropout_10[0][0]                 \n",
            "__________________________________________________________________________________________________\n",
            "dropout_11 (Dropout)            (None, 144, 64)      0           dense_14[0][0]                   \n",
            "__________________________________________________________________________________________________\n",
            "add_12 (Add)                    (None, 144, 64)      0           dropout_11[0][0]                 \n",
            "                                                                 add_11[0][0]                     \n",
            "__________________________________________________________________________________________________\n",
            "layer_normalization_13 (LayerNo (None, 144, 64)      128         add_12[0][0]                     \n",
            "__________________________________________________________________________________________________\n",
            "multi_head_attention_7 (MultiHe (None, 144, 64)      66368       layer_normalization_13[0][0]     \n",
            "                                                                 layer_normalization_13[0][0]     \n",
            "__________________________________________________________________________________________________\n",
            "add_13 (Add)                    (None, 144, 64)      0           multi_head_attention_7[0][0]     \n",
            "                                                                 add_12[0][0]                     \n",
            "__________________________________________________________________________________________________\n",
            "layer_normalization_14 (LayerNo (None, 144, 64)      128         add_13[0][0]                     \n",
            "__________________________________________________________________________________________________\n",
            "dense_15 (Dense)                (None, 144, 128)     8320        layer_normalization_14[0][0]     \n",
            "__________________________________________________________________________________________________\n",
            "dropout_12 (Dropout)            (None, 144, 128)     0           dense_15[0][0]                   \n",
            "__________________________________________________________________________________________________\n",
            "dense_16 (Dense)                (None, 144, 64)      8256        dropout_12[0][0]                 \n",
            "__________________________________________________________________________________________________\n",
            "dropout_13 (Dropout)            (None, 144, 64)      0           dense_16[0][0]                   \n",
            "__________________________________________________________________________________________________\n",
            "add_14 (Add)                    (None, 144, 64)      0           dropout_13[0][0]                 \n",
            "                                                                 add_13[0][0]                     \n",
            "__________________________________________________________________________________________________\n",
            "layer_normalization_15 (LayerNo (None, 144, 64)      128         add_14[0][0]                     \n",
            "__________________________________________________________________________________________________\n",
            "multi_head_attention_8 (MultiHe (None, 144, 64)      66368       layer_normalization_15[0][0]     \n",
            "                                                                 layer_normalization_15[0][0]     \n",
            "__________________________________________________________________________________________________\n",
            "add_15 (Add)                    (None, 144, 64)      0           multi_head_attention_8[0][0]     \n",
            "                                                                 add_14[0][0]                     \n",
            "__________________________________________________________________________________________________\n",
            "layer_normalization_16 (LayerNo (None, 144, 64)      128         add_15[0][0]                     \n",
            "__________________________________________________________________________________________________\n",
            "dense_17 (Dense)                (None, 144, 128)     8320        layer_normalization_16[0][0]     \n",
            "__________________________________________________________________________________________________\n",
            "dropout_14 (Dropout)            (None, 144, 128)     0           dense_17[0][0]                   \n",
            "__________________________________________________________________________________________________\n",
            "dense_18 (Dense)                (None, 144, 64)      8256        dropout_14[0][0]                 \n",
            "__________________________________________________________________________________________________\n",
            "dropout_15 (Dropout)            (None, 144, 64)      0           dense_18[0][0]                   \n",
            "__________________________________________________________________________________________________\n",
            "add_16 (Add)                    (None, 144, 64)      0           dropout_15[0][0]                 \n",
            "                                                                 add_15[0][0]                     \n",
            "__________________________________________________________________________________________________\n",
            "layer_normalization_17 (LayerNo (None, 144, 64)      128         add_16[0][0]                     \n",
            "__________________________________________________________________________________________________\n",
            "flatten (Flatten)               (None, 9216)         0           layer_normalization_17[0][0]     \n",
            "__________________________________________________________________________________________________\n",
            "dropout_16 (Dropout)            (None, 9216)         0           flatten[0][0]                    \n",
            "__________________________________________________________________________________________________\n",
            "dense_19 (Dense)                (None, 2048)         18876416    dropout_16[0][0]                 \n",
            "__________________________________________________________________________________________________\n",
            "dropout_17 (Dropout)            (None, 2048)         0           dense_19[0][0]                   \n",
            "__________________________________________________________________________________________________\n",
            "dense_20 (Dense)                (None, 1024)         2098176     dropout_17[0][0]                 \n",
            "__________________________________________________________________________________________________\n",
            "dropout_18 (Dropout)            (None, 1024)         0           dense_20[0][0]                   \n",
            "__________________________________________________________________________________________________\n",
            "dense_21 (Dense)                (None, 100)          102500      dropout_18[0][0]                 \n",
            "==================================================================================================\n",
            "Total params: 21,759,019\n",
            "Trainable params: 21,759,012\n",
            "Non-trainable params: 7\n",
            "__________________________________________________________________________________________________\n"
          ],
          "name": "stdout"
        }
      ]
    },
    {
      "cell_type": "code",
      "metadata": {
        "id": "YiMvkcz9In2O"
      },
      "source": [
        "def run_experiment(model):\n",
        "  optimizer = tfa.optimizers.AdamW(learning_rate=learning_rate, weight_decay=weight_decay)\n",
        "\n",
        "  model.compile(optimizer=optimizer, loss = keras.losses.SparseCategoricalCrossentropy(from_logits=True),\n",
        "                metrics = [\n",
        "                           keras.metrics.SparseCategoricalAccuracy(name = 'accurcay'),\n",
        "                           keras.metrics.SparseTopKCategoricalAccuracy(5, name = 'top-5-accuracy')\n",
        "                ])\n",
        "  checkpoint_filepath = '/tmp/checkpoint'\n",
        "  checkpoint_callback = keras.callbacks.ModelCheckpoint(checkpoint_filepath, monitor='val_accuracy', save_best_only=True, save_weights_only=True)\n",
        "\n",
        "  history = model.fit(x = x_train, y=y_train, batch_size = batch_size, epochs = num_epochs, validation_split= 0.1, callbacks=[checkpoint_callback])\n",
        "\n",
        "  model.load_weights(checkpoint_filepath)\n",
        "  _, accuracy, top_5_accuracy = model.evaluate(x_test, y_test)\n",
        "  print(f'test acc:{round(accuracy * 100, 2)}%')\n",
        "  print(f\"Test top 5 accuracy: {round(top_5_accuracy * 100, 2)}%\")\n",
        "\n",
        "  return history \n",
        "\n",
        "\n"
      ],
      "execution_count": null,
      "outputs": []
    },
    {
      "cell_type": "code",
      "metadata": {
        "colab": {
          "base_uri": "https://localhost:8080/",
          "height": 1000
        },
        "id": "j0lubPrTKSh8",
        "outputId": "5983a3d2-759e-4135-a5a7-42790c29331c"
      },
      "source": [
        "history = run_experiment(vit_classifier)"
      ],
      "execution_count": null,
      "outputs": [
        {
          "output_type": "stream",
          "text": [
            "Epoch 1/100\n",
            "176/176 [==============================] - 76s 381ms/step - loss: 4.9005 - accurcay: 0.0300 - top-5-accuracy: 0.1099 - val_loss: 3.9541 - val_accurcay: 0.1030 - val_top-5-accuracy: 0.3174\n",
            "WARNING:tensorflow:Can save best model only with val_accuracy available, skipping.\n",
            "Epoch 2/100\n",
            "176/176 [==============================] - 66s 373ms/step - loss: 4.0327 - accurcay: 0.0829 - top-5-accuracy: 0.2622 - val_loss: 3.5710 - val_accurcay: 0.1552 - val_top-5-accuracy: 0.4070\n",
            "WARNING:tensorflow:Can save best model only with val_accuracy available, skipping.\n",
            "Epoch 3/100\n",
            "176/176 [==============================] - 66s 373ms/step - loss: 3.7382 - accurcay: 0.1240 - top-5-accuracy: 0.3515 - val_loss: 3.3313 - val_accurcay: 0.2002 - val_top-5-accuracy: 0.4730\n",
            "WARNING:tensorflow:Can save best model only with val_accuracy available, skipping.\n",
            "Epoch 4/100\n",
            "176/176 [==============================] - 66s 374ms/step - loss: 3.5399 - accurcay: 0.1522 - top-5-accuracy: 0.4099 - val_loss: 3.1461 - val_accurcay: 0.2328 - val_top-5-accuracy: 0.5192\n",
            "WARNING:tensorflow:Can save best model only with val_accuracy available, skipping.\n",
            "Epoch 5/100\n",
            "176/176 [==============================] - 66s 373ms/step - loss: 3.3759 - accurcay: 0.1871 - top-5-accuracy: 0.4578 - val_loss: 3.0264 - val_accurcay: 0.2526 - val_top-5-accuracy: 0.5536\n",
            "WARNING:tensorflow:Can save best model only with val_accuracy available, skipping.\n",
            "Epoch 6/100\n",
            "176/176 [==============================] - 66s 373ms/step - loss: 3.2481 - accurcay: 0.2079 - top-5-accuracy: 0.4921 - val_loss: 2.9445 - val_accurcay: 0.2674 - val_top-5-accuracy: 0.5694\n",
            "WARNING:tensorflow:Can save best model only with val_accuracy available, skipping.\n",
            "Epoch 7/100\n",
            "176/176 [==============================] - 66s 373ms/step - loss: 3.1141 - accurcay: 0.2305 - top-5-accuracy: 0.5284 - val_loss: 2.8246 - val_accurcay: 0.2990 - val_top-5-accuracy: 0.5948\n",
            "WARNING:tensorflow:Can save best model only with val_accuracy available, skipping.\n",
            "Epoch 8/100\n",
            "176/176 [==============================] - 66s 374ms/step - loss: 3.0063 - accurcay: 0.2548 - top-5-accuracy: 0.5564 - val_loss: 2.7522 - val_accurcay: 0.3148 - val_top-5-accuracy: 0.6274\n",
            "WARNING:tensorflow:Can save best model only with val_accuracy available, skipping.\n",
            "Epoch 9/100\n",
            "176/176 [==============================] - 66s 374ms/step - loss: 2.9035 - accurcay: 0.2750 - top-5-accuracy: 0.5789 - val_loss: 2.6384 - val_accurcay: 0.3342 - val_top-5-accuracy: 0.6378\n",
            "WARNING:tensorflow:Can save best model only with val_accuracy available, skipping.\n",
            "Epoch 10/100\n",
            "176/176 [==============================] - 66s 373ms/step - loss: 2.7900 - accurcay: 0.2947 - top-5-accuracy: 0.6041 - val_loss: 2.5443 - val_accurcay: 0.3476 - val_top-5-accuracy: 0.6602\n",
            "WARNING:tensorflow:Can save best model only with val_accuracy available, skipping.\n",
            "Epoch 11/100\n",
            "176/176 [==============================] - 66s 373ms/step - loss: 2.6931 - accurcay: 0.3123 - top-5-accuracy: 0.6306 - val_loss: 2.4931 - val_accurcay: 0.3692 - val_top-5-accuracy: 0.6688\n",
            "WARNING:tensorflow:Can save best model only with val_accuracy available, skipping.\n",
            "Epoch 12/100\n",
            "176/176 [==============================] - 66s 373ms/step - loss: 2.6416 - accurcay: 0.3331 - top-5-accuracy: 0.6421 - val_loss: 2.4432 - val_accurcay: 0.3802 - val_top-5-accuracy: 0.6768\n",
            "WARNING:tensorflow:Can save best model only with val_accuracy available, skipping.\n",
            "Epoch 13/100\n",
            "176/176 [==============================] - 66s 374ms/step - loss: 2.5455 - accurcay: 0.3475 - top-5-accuracy: 0.6646 - val_loss: 2.3936 - val_accurcay: 0.3928 - val_top-5-accuracy: 0.6948\n",
            "WARNING:tensorflow:Can save best model only with val_accuracy available, skipping.\n",
            "Epoch 14/100\n",
            "176/176 [==============================] - 66s 373ms/step - loss: 2.4756 - accurcay: 0.3631 - top-5-accuracy: 0.6771 - val_loss: 2.3177 - val_accurcay: 0.4032 - val_top-5-accuracy: 0.7026\n",
            "WARNING:tensorflow:Can save best model only with val_accuracy available, skipping.\n",
            "Epoch 15/100\n",
            "176/176 [==============================] - 66s 374ms/step - loss: 2.4158 - accurcay: 0.3762 - top-5-accuracy: 0.6910 - val_loss: 2.2764 - val_accurcay: 0.4146 - val_top-5-accuracy: 0.7112\n",
            "WARNING:tensorflow:Can save best model only with val_accuracy available, skipping.\n",
            "Epoch 16/100\n",
            "176/176 [==============================] - 66s 374ms/step - loss: 2.3286 - accurcay: 0.3902 - top-5-accuracy: 0.7095 - val_loss: 2.2713 - val_accurcay: 0.4226 - val_top-5-accuracy: 0.7108\n",
            "WARNING:tensorflow:Can save best model only with val_accuracy available, skipping.\n",
            "Epoch 17/100\n",
            "176/176 [==============================] - 66s 374ms/step - loss: 2.2844 - accurcay: 0.4019 - top-5-accuracy: 0.7180 - val_loss: 2.2235 - val_accurcay: 0.4278 - val_top-5-accuracy: 0.7218\n",
            "WARNING:tensorflow:Can save best model only with val_accuracy available, skipping.\n",
            "Epoch 18/100\n",
            "176/176 [==============================] - 66s 374ms/step - loss: 2.2069 - accurcay: 0.4181 - top-5-accuracy: 0.7364 - val_loss: 2.2025 - val_accurcay: 0.4346 - val_top-5-accuracy: 0.7282\n",
            "WARNING:tensorflow:Can save best model only with val_accuracy available, skipping.\n",
            "Epoch 19/100\n",
            "105/176 [================>.............] - ETA: 25s - loss: 2.1581 - accurcay: 0.4318 - top-5-accuracy: 0.7422"
          ],
          "name": "stdout"
        },
        {
          "output_type": "error",
          "ename": "KeyboardInterrupt",
          "evalue": "ignored",
          "traceback": [
            "\u001b[0;31m---------------------------------------------------------------------------\u001b[0m",
            "\u001b[0;31mKeyboardInterrupt\u001b[0m                         Traceback (most recent call last)",
            "\u001b[0;32m<ipython-input-31-d28eed0889c9>\u001b[0m in \u001b[0;36m<module>\u001b[0;34m()\u001b[0m\n\u001b[0;32m----> 1\u001b[0;31m \u001b[0mhistory\u001b[0m \u001b[0;34m=\u001b[0m \u001b[0mrun_experiment\u001b[0m\u001b[0;34m(\u001b[0m\u001b[0mvit_classifier\u001b[0m\u001b[0;34m)\u001b[0m\u001b[0;34m\u001b[0m\u001b[0;34m\u001b[0m\u001b[0m\n\u001b[0m",
            "\u001b[0;32m<ipython-input-30-ee8a6d98d4b6>\u001b[0m in \u001b[0;36mrun_experiment\u001b[0;34m(model)\u001b[0m\n\u001b[1;32m     10\u001b[0m   \u001b[0mcheckpoint_callback\u001b[0m \u001b[0;34m=\u001b[0m \u001b[0mkeras\u001b[0m\u001b[0;34m.\u001b[0m\u001b[0mcallbacks\u001b[0m\u001b[0;34m.\u001b[0m\u001b[0mModelCheckpoint\u001b[0m\u001b[0;34m(\u001b[0m\u001b[0mcheckpoint_filepath\u001b[0m\u001b[0;34m,\u001b[0m \u001b[0mmonitor\u001b[0m\u001b[0;34m=\u001b[0m\u001b[0;34m'val_accuracy'\u001b[0m\u001b[0;34m,\u001b[0m \u001b[0msave_best_only\u001b[0m\u001b[0;34m=\u001b[0m\u001b[0;32mTrue\u001b[0m\u001b[0;34m,\u001b[0m \u001b[0msave_weights_only\u001b[0m\u001b[0;34m=\u001b[0m\u001b[0;32mTrue\u001b[0m\u001b[0;34m)\u001b[0m\u001b[0;34m\u001b[0m\u001b[0;34m\u001b[0m\u001b[0m\n\u001b[1;32m     11\u001b[0m \u001b[0;34m\u001b[0m\u001b[0m\n\u001b[0;32m---> 12\u001b[0;31m   \u001b[0mhistory\u001b[0m \u001b[0;34m=\u001b[0m \u001b[0mmodel\u001b[0m\u001b[0;34m.\u001b[0m\u001b[0mfit\u001b[0m\u001b[0;34m(\u001b[0m\u001b[0mx\u001b[0m \u001b[0;34m=\u001b[0m \u001b[0mx_train\u001b[0m\u001b[0;34m,\u001b[0m \u001b[0my\u001b[0m\u001b[0;34m=\u001b[0m\u001b[0my_train\u001b[0m\u001b[0;34m,\u001b[0m \u001b[0mbatch_size\u001b[0m \u001b[0;34m=\u001b[0m \u001b[0mbatch_size\u001b[0m\u001b[0;34m,\u001b[0m \u001b[0mepochs\u001b[0m \u001b[0;34m=\u001b[0m \u001b[0mnum_epochs\u001b[0m\u001b[0;34m,\u001b[0m \u001b[0mvalidation_split\u001b[0m\u001b[0;34m=\u001b[0m \u001b[0;36m0.1\u001b[0m\u001b[0;34m,\u001b[0m \u001b[0mcallbacks\u001b[0m\u001b[0;34m=\u001b[0m\u001b[0;34m[\u001b[0m\u001b[0mcheckpoint_callback\u001b[0m\u001b[0;34m]\u001b[0m\u001b[0;34m)\u001b[0m\u001b[0;34m\u001b[0m\u001b[0;34m\u001b[0m\u001b[0m\n\u001b[0m\u001b[1;32m     13\u001b[0m \u001b[0;34m\u001b[0m\u001b[0m\n\u001b[1;32m     14\u001b[0m   \u001b[0mmodel\u001b[0m\u001b[0;34m.\u001b[0m\u001b[0mload_weights\u001b[0m\u001b[0;34m(\u001b[0m\u001b[0mcheckpoint_filepath\u001b[0m\u001b[0;34m)\u001b[0m\u001b[0;34m\u001b[0m\u001b[0;34m\u001b[0m\u001b[0m\n",
            "\u001b[0;32m/usr/local/lib/python3.7/dist-packages/tensorflow/python/keras/engine/training.py\u001b[0m in \u001b[0;36mfit\u001b[0;34m(self, x, y, batch_size, epochs, verbose, callbacks, validation_split, validation_data, shuffle, class_weight, sample_weight, initial_epoch, steps_per_epoch, validation_steps, validation_batch_size, validation_freq, max_queue_size, workers, use_multiprocessing)\u001b[0m\n\u001b[1;32m   1098\u001b[0m                 _r=1):\n\u001b[1;32m   1099\u001b[0m               \u001b[0mcallbacks\u001b[0m\u001b[0;34m.\u001b[0m\u001b[0mon_train_batch_begin\u001b[0m\u001b[0;34m(\u001b[0m\u001b[0mstep\u001b[0m\u001b[0;34m)\u001b[0m\u001b[0;34m\u001b[0m\u001b[0;34m\u001b[0m\u001b[0m\n\u001b[0;32m-> 1100\u001b[0;31m               \u001b[0mtmp_logs\u001b[0m \u001b[0;34m=\u001b[0m \u001b[0mself\u001b[0m\u001b[0;34m.\u001b[0m\u001b[0mtrain_function\u001b[0m\u001b[0;34m(\u001b[0m\u001b[0miterator\u001b[0m\u001b[0;34m)\u001b[0m\u001b[0;34m\u001b[0m\u001b[0;34m\u001b[0m\u001b[0m\n\u001b[0m\u001b[1;32m   1101\u001b[0m               \u001b[0;32mif\u001b[0m \u001b[0mdata_handler\u001b[0m\u001b[0;34m.\u001b[0m\u001b[0mshould_sync\u001b[0m\u001b[0;34m:\u001b[0m\u001b[0;34m\u001b[0m\u001b[0;34m\u001b[0m\u001b[0m\n\u001b[1;32m   1102\u001b[0m                 \u001b[0mcontext\u001b[0m\u001b[0;34m.\u001b[0m\u001b[0masync_wait\u001b[0m\u001b[0;34m(\u001b[0m\u001b[0;34m)\u001b[0m\u001b[0;34m\u001b[0m\u001b[0;34m\u001b[0m\u001b[0m\n",
            "\u001b[0;32m/usr/local/lib/python3.7/dist-packages/tensorflow/python/eager/def_function.py\u001b[0m in \u001b[0;36m__call__\u001b[0;34m(self, *args, **kwds)\u001b[0m\n\u001b[1;32m    826\u001b[0m     \u001b[0mtracing_count\u001b[0m \u001b[0;34m=\u001b[0m \u001b[0mself\u001b[0m\u001b[0;34m.\u001b[0m\u001b[0mexperimental_get_tracing_count\u001b[0m\u001b[0;34m(\u001b[0m\u001b[0;34m)\u001b[0m\u001b[0;34m\u001b[0m\u001b[0;34m\u001b[0m\u001b[0m\n\u001b[1;32m    827\u001b[0m     \u001b[0;32mwith\u001b[0m \u001b[0mtrace\u001b[0m\u001b[0;34m.\u001b[0m\u001b[0mTrace\u001b[0m\u001b[0;34m(\u001b[0m\u001b[0mself\u001b[0m\u001b[0;34m.\u001b[0m\u001b[0m_name\u001b[0m\u001b[0;34m)\u001b[0m \u001b[0;32mas\u001b[0m \u001b[0mtm\u001b[0m\u001b[0;34m:\u001b[0m\u001b[0;34m\u001b[0m\u001b[0;34m\u001b[0m\u001b[0m\n\u001b[0;32m--> 828\u001b[0;31m       \u001b[0mresult\u001b[0m \u001b[0;34m=\u001b[0m \u001b[0mself\u001b[0m\u001b[0;34m.\u001b[0m\u001b[0m_call\u001b[0m\u001b[0;34m(\u001b[0m\u001b[0;34m*\u001b[0m\u001b[0margs\u001b[0m\u001b[0;34m,\u001b[0m \u001b[0;34m**\u001b[0m\u001b[0mkwds\u001b[0m\u001b[0;34m)\u001b[0m\u001b[0;34m\u001b[0m\u001b[0;34m\u001b[0m\u001b[0m\n\u001b[0m\u001b[1;32m    829\u001b[0m       \u001b[0mcompiler\u001b[0m \u001b[0;34m=\u001b[0m \u001b[0;34m\"xla\"\u001b[0m \u001b[0;32mif\u001b[0m \u001b[0mself\u001b[0m\u001b[0;34m.\u001b[0m\u001b[0m_experimental_compile\u001b[0m \u001b[0;32melse\u001b[0m \u001b[0;34m\"nonXla\"\u001b[0m\u001b[0;34m\u001b[0m\u001b[0;34m\u001b[0m\u001b[0m\n\u001b[1;32m    830\u001b[0m       \u001b[0mnew_tracing_count\u001b[0m \u001b[0;34m=\u001b[0m \u001b[0mself\u001b[0m\u001b[0;34m.\u001b[0m\u001b[0mexperimental_get_tracing_count\u001b[0m\u001b[0;34m(\u001b[0m\u001b[0;34m)\u001b[0m\u001b[0;34m\u001b[0m\u001b[0;34m\u001b[0m\u001b[0m\n",
            "\u001b[0;32m/usr/local/lib/python3.7/dist-packages/tensorflow/python/eager/def_function.py\u001b[0m in \u001b[0;36m_call\u001b[0;34m(self, *args, **kwds)\u001b[0m\n\u001b[1;32m    853\u001b[0m       \u001b[0;31m# In this case we have created variables on the first call, so we run the\u001b[0m\u001b[0;34m\u001b[0m\u001b[0;34m\u001b[0m\u001b[0;34m\u001b[0m\u001b[0m\n\u001b[1;32m    854\u001b[0m       \u001b[0;31m# defunned version which is guaranteed to never create variables.\u001b[0m\u001b[0;34m\u001b[0m\u001b[0;34m\u001b[0m\u001b[0;34m\u001b[0m\u001b[0m\n\u001b[0;32m--> 855\u001b[0;31m       \u001b[0;32mreturn\u001b[0m \u001b[0mself\u001b[0m\u001b[0;34m.\u001b[0m\u001b[0m_stateless_fn\u001b[0m\u001b[0;34m(\u001b[0m\u001b[0;34m*\u001b[0m\u001b[0margs\u001b[0m\u001b[0;34m,\u001b[0m \u001b[0;34m**\u001b[0m\u001b[0mkwds\u001b[0m\u001b[0;34m)\u001b[0m  \u001b[0;31m# pylint: disable=not-callable\u001b[0m\u001b[0;34m\u001b[0m\u001b[0;34m\u001b[0m\u001b[0m\n\u001b[0m\u001b[1;32m    856\u001b[0m     \u001b[0;32melif\u001b[0m \u001b[0mself\u001b[0m\u001b[0;34m.\u001b[0m\u001b[0m_stateful_fn\u001b[0m \u001b[0;32mis\u001b[0m \u001b[0;32mnot\u001b[0m \u001b[0;32mNone\u001b[0m\u001b[0;34m:\u001b[0m\u001b[0;34m\u001b[0m\u001b[0;34m\u001b[0m\u001b[0m\n\u001b[1;32m    857\u001b[0m       \u001b[0;31m# Release the lock early so that multiple threads can perform the call\u001b[0m\u001b[0;34m\u001b[0m\u001b[0;34m\u001b[0m\u001b[0;34m\u001b[0m\u001b[0m\n",
            "\u001b[0;32m/usr/local/lib/python3.7/dist-packages/tensorflow/python/eager/function.py\u001b[0m in \u001b[0;36m__call__\u001b[0;34m(self, *args, **kwargs)\u001b[0m\n\u001b[1;32m   2941\u001b[0m        filtered_flat_args) = self._maybe_define_function(args, kwargs)\n\u001b[1;32m   2942\u001b[0m     return graph_function._call_flat(\n\u001b[0;32m-> 2943\u001b[0;31m         filtered_flat_args, captured_inputs=graph_function.captured_inputs)  # pylint: disable=protected-access\n\u001b[0m\u001b[1;32m   2944\u001b[0m \u001b[0;34m\u001b[0m\u001b[0m\n\u001b[1;32m   2945\u001b[0m   \u001b[0;34m@\u001b[0m\u001b[0mproperty\u001b[0m\u001b[0;34m\u001b[0m\u001b[0;34m\u001b[0m\u001b[0m\n",
            "\u001b[0;32m/usr/local/lib/python3.7/dist-packages/tensorflow/python/eager/function.py\u001b[0m in \u001b[0;36m_call_flat\u001b[0;34m(self, args, captured_inputs, cancellation_manager)\u001b[0m\n\u001b[1;32m   1917\u001b[0m       \u001b[0;31m# No tape is watching; skip to running the function.\u001b[0m\u001b[0;34m\u001b[0m\u001b[0;34m\u001b[0m\u001b[0;34m\u001b[0m\u001b[0m\n\u001b[1;32m   1918\u001b[0m       return self._build_call_outputs(self._inference_function.call(\n\u001b[0;32m-> 1919\u001b[0;31m           ctx, args, cancellation_manager=cancellation_manager))\n\u001b[0m\u001b[1;32m   1920\u001b[0m     forward_backward = self._select_forward_and_backward_functions(\n\u001b[1;32m   1921\u001b[0m         \u001b[0margs\u001b[0m\u001b[0;34m,\u001b[0m\u001b[0;34m\u001b[0m\u001b[0;34m\u001b[0m\u001b[0m\n",
            "\u001b[0;32m/usr/local/lib/python3.7/dist-packages/tensorflow/python/eager/function.py\u001b[0m in \u001b[0;36mcall\u001b[0;34m(self, ctx, args, cancellation_manager)\u001b[0m\n\u001b[1;32m    558\u001b[0m               \u001b[0minputs\u001b[0m\u001b[0;34m=\u001b[0m\u001b[0margs\u001b[0m\u001b[0;34m,\u001b[0m\u001b[0;34m\u001b[0m\u001b[0;34m\u001b[0m\u001b[0m\n\u001b[1;32m    559\u001b[0m               \u001b[0mattrs\u001b[0m\u001b[0;34m=\u001b[0m\u001b[0mattrs\u001b[0m\u001b[0;34m,\u001b[0m\u001b[0;34m\u001b[0m\u001b[0;34m\u001b[0m\u001b[0m\n\u001b[0;32m--> 560\u001b[0;31m               ctx=ctx)\n\u001b[0m\u001b[1;32m    561\u001b[0m         \u001b[0;32melse\u001b[0m\u001b[0;34m:\u001b[0m\u001b[0;34m\u001b[0m\u001b[0;34m\u001b[0m\u001b[0m\n\u001b[1;32m    562\u001b[0m           outputs = execute.execute_with_cancellation(\n",
            "\u001b[0;32m/usr/local/lib/python3.7/dist-packages/tensorflow/python/eager/execute.py\u001b[0m in \u001b[0;36mquick_execute\u001b[0;34m(op_name, num_outputs, inputs, attrs, ctx, name)\u001b[0m\n\u001b[1;32m     58\u001b[0m     \u001b[0mctx\u001b[0m\u001b[0;34m.\u001b[0m\u001b[0mensure_initialized\u001b[0m\u001b[0;34m(\u001b[0m\u001b[0;34m)\u001b[0m\u001b[0;34m\u001b[0m\u001b[0;34m\u001b[0m\u001b[0m\n\u001b[1;32m     59\u001b[0m     tensors = pywrap_tfe.TFE_Py_Execute(ctx._handle, device_name, op_name,\n\u001b[0;32m---> 60\u001b[0;31m                                         inputs, attrs, num_outputs)\n\u001b[0m\u001b[1;32m     61\u001b[0m   \u001b[0;32mexcept\u001b[0m \u001b[0mcore\u001b[0m\u001b[0;34m.\u001b[0m\u001b[0m_NotOkStatusException\u001b[0m \u001b[0;32mas\u001b[0m \u001b[0me\u001b[0m\u001b[0;34m:\u001b[0m\u001b[0;34m\u001b[0m\u001b[0;34m\u001b[0m\u001b[0m\n\u001b[1;32m     62\u001b[0m     \u001b[0;32mif\u001b[0m \u001b[0mname\u001b[0m \u001b[0;32mis\u001b[0m \u001b[0;32mnot\u001b[0m \u001b[0;32mNone\u001b[0m\u001b[0;34m:\u001b[0m\u001b[0;34m\u001b[0m\u001b[0;34m\u001b[0m\u001b[0m\n",
            "\u001b[0;31mKeyboardInterrupt\u001b[0m: "
          ]
        }
      ]
    },
    {
      "cell_type": "code",
      "metadata": {
        "id": "kxr9tZJMKS8f"
      },
      "source": [
        ""
      ],
      "execution_count": null,
      "outputs": []
    }
  ]
}