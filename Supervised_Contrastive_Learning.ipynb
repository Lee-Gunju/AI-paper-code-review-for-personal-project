{
  "nbformat": 4,
  "nbformat_minor": 0,
  "metadata": {
    "colab": {
      "name": "Supervised Contrastive Learning.ipynb",
      "provenance": [],
      "collapsed_sections": [],
      "authorship_tag": "ABX9TyPhC1cyl9Ih8vkS7hJHVNyu",
      "include_colab_link": true
    },
    "kernelspec": {
      "name": "python3",
      "display_name": "Python 3"
    },
    "language_info": {
      "name": "python"
    },
    "accelerator": "GPU"
  },
  "cells": [
    {
      "cell_type": "markdown",
      "metadata": {
        "id": "view-in-github",
        "colab_type": "text"
      },
      "source": [
        "<a href=\"https://colab.research.google.com/github/Lee-Gunju/AI-paper-code-review-for-personal-project/blob/master/Supervised_Contrastive_Learning.ipynb\" target=\"_parent\"><img src=\"https://colab.research.google.com/assets/colab-badge.svg\" alt=\"Open In Colab\"/></a>"
      ]
    },
    {
      "cell_type": "code",
      "metadata": {
        "colab": {
          "base_uri": "https://localhost:8080/"
        },
        "id": "5pvQU30pKr4R",
        "outputId": "de1ecd19-0fcb-4c19-956a-e2fb58ced4f9"
      },
      "source": [
        "pip install tensorflow-addons\n"
      ],
      "execution_count": null,
      "outputs": [
        {
          "output_type": "stream",
          "text": [
            "Collecting tensorflow-addons\n",
            "\u001b[?25l  Downloading https://files.pythonhosted.org/packages/74/e3/56d2fe76f0bb7c88ed9b2a6a557e25e83e252aec08f13de34369cd850a0b/tensorflow_addons-0.12.1-cp37-cp37m-manylinux2010_x86_64.whl (703kB)\n",
            "\r\u001b[K     |▌                               | 10kB 28.3MB/s eta 0:00:01\r\u001b[K     |█                               | 20kB 14.3MB/s eta 0:00:01\r\u001b[K     |█▍                              | 30kB 12.6MB/s eta 0:00:01\r\u001b[K     |█▉                              | 40kB 12.0MB/s eta 0:00:01\r\u001b[K     |██▎                             | 51kB 7.5MB/s eta 0:00:01\r\u001b[K     |██▉                             | 61kB 8.2MB/s eta 0:00:01\r\u001b[K     |███▎                            | 71kB 8.3MB/s eta 0:00:01\r\u001b[K     |███▊                            | 81kB 8.6MB/s eta 0:00:01\r\u001b[K     |████▏                           | 92kB 8.8MB/s eta 0:00:01\r\u001b[K     |████▋                           | 102kB 7.3MB/s eta 0:00:01\r\u001b[K     |█████▏                          | 112kB 7.3MB/s eta 0:00:01\r\u001b[K     |█████▋                          | 122kB 7.3MB/s eta 0:00:01\r\u001b[K     |██████                          | 133kB 7.3MB/s eta 0:00:01\r\u001b[K     |██████▌                         | 143kB 7.3MB/s eta 0:00:01\r\u001b[K     |███████                         | 153kB 7.3MB/s eta 0:00:01\r\u001b[K     |███████▌                        | 163kB 7.3MB/s eta 0:00:01\r\u001b[K     |████████                        | 174kB 7.3MB/s eta 0:00:01\r\u001b[K     |████████▍                       | 184kB 7.3MB/s eta 0:00:01\r\u001b[K     |████████▉                       | 194kB 7.3MB/s eta 0:00:01\r\u001b[K     |█████████▎                      | 204kB 7.3MB/s eta 0:00:01\r\u001b[K     |█████████▉                      | 215kB 7.3MB/s eta 0:00:01\r\u001b[K     |██████████▎                     | 225kB 7.3MB/s eta 0:00:01\r\u001b[K     |██████████▊                     | 235kB 7.3MB/s eta 0:00:01\r\u001b[K     |███████████▏                    | 245kB 7.3MB/s eta 0:00:01\r\u001b[K     |███████████▋                    | 256kB 7.3MB/s eta 0:00:01\r\u001b[K     |████████████▏                   | 266kB 7.3MB/s eta 0:00:01\r\u001b[K     |████████████▋                   | 276kB 7.3MB/s eta 0:00:01\r\u001b[K     |█████████████                   | 286kB 7.3MB/s eta 0:00:01\r\u001b[K     |█████████████▌                  | 296kB 7.3MB/s eta 0:00:01\r\u001b[K     |██████████████                  | 307kB 7.3MB/s eta 0:00:01\r\u001b[K     |██████████████▍                 | 317kB 7.3MB/s eta 0:00:01\r\u001b[K     |███████████████                 | 327kB 7.3MB/s eta 0:00:01\r\u001b[K     |███████████████▍                | 337kB 7.3MB/s eta 0:00:01\r\u001b[K     |███████████████▉                | 348kB 7.3MB/s eta 0:00:01\r\u001b[K     |████████████████▎               | 358kB 7.3MB/s eta 0:00:01\r\u001b[K     |████████████████▊               | 368kB 7.3MB/s eta 0:00:01\r\u001b[K     |█████████████████▎              | 378kB 7.3MB/s eta 0:00:01\r\u001b[K     |█████████████████▊              | 389kB 7.3MB/s eta 0:00:01\r\u001b[K     |██████████████████▏             | 399kB 7.3MB/s eta 0:00:01\r\u001b[K     |██████████████████▋             | 409kB 7.3MB/s eta 0:00:01\r\u001b[K     |███████████████████             | 419kB 7.3MB/s eta 0:00:01\r\u001b[K     |███████████████████▋            | 430kB 7.3MB/s eta 0:00:01\r\u001b[K     |████████████████████            | 440kB 7.3MB/s eta 0:00:01\r\u001b[K     |████████████████████▌           | 450kB 7.3MB/s eta 0:00:01\r\u001b[K     |█████████████████████           | 460kB 7.3MB/s eta 0:00:01\r\u001b[K     |█████████████████████▍          | 471kB 7.3MB/s eta 0:00:01\r\u001b[K     |██████████████████████          | 481kB 7.3MB/s eta 0:00:01\r\u001b[K     |██████████████████████▍         | 491kB 7.3MB/s eta 0:00:01\r\u001b[K     |██████████████████████▉         | 501kB 7.3MB/s eta 0:00:01\r\u001b[K     |███████████████████████▎        | 512kB 7.3MB/s eta 0:00:01\r\u001b[K     |███████████████████████▊        | 522kB 7.3MB/s eta 0:00:01\r\u001b[K     |████████████████████████▎       | 532kB 7.3MB/s eta 0:00:01\r\u001b[K     |████████████████████████▊       | 542kB 7.3MB/s eta 0:00:01\r\u001b[K     |█████████████████████████▏      | 552kB 7.3MB/s eta 0:00:01\r\u001b[K     |█████████████████████████▋      | 563kB 7.3MB/s eta 0:00:01\r\u001b[K     |██████████████████████████      | 573kB 7.3MB/s eta 0:00:01\r\u001b[K     |██████████████████████████▋     | 583kB 7.3MB/s eta 0:00:01\r\u001b[K     |███████████████████████████     | 593kB 7.3MB/s eta 0:00:01\r\u001b[K     |███████████████████████████▌    | 604kB 7.3MB/s eta 0:00:01\r\u001b[K     |████████████████████████████    | 614kB 7.3MB/s eta 0:00:01\r\u001b[K     |████████████████████████████▍   | 624kB 7.3MB/s eta 0:00:01\r\u001b[K     |████████████████████████████▉   | 634kB 7.3MB/s eta 0:00:01\r\u001b[K     |█████████████████████████████▍  | 645kB 7.3MB/s eta 0:00:01\r\u001b[K     |█████████████████████████████▉  | 655kB 7.3MB/s eta 0:00:01\r\u001b[K     |██████████████████████████████▎ | 665kB 7.3MB/s eta 0:00:01\r\u001b[K     |██████████████████████████████▊ | 675kB 7.3MB/s eta 0:00:01\r\u001b[K     |███████████████████████████████▏| 686kB 7.3MB/s eta 0:00:01\r\u001b[K     |███████████████████████████████▊| 696kB 7.3MB/s eta 0:00:01\r\u001b[K     |████████████████████████████████| 706kB 7.3MB/s \n",
            "\u001b[?25hRequirement already satisfied: typeguard>=2.7 in /usr/local/lib/python3.7/dist-packages (from tensorflow-addons) (2.7.1)\n",
            "Installing collected packages: tensorflow-addons\n",
            "Successfully installed tensorflow-addons-0.12.1\n"
          ],
          "name": "stdout"
        }
      ]
    },
    {
      "cell_type": "code",
      "metadata": {
        "id": "pneTp0zjYjH-"
      },
      "source": [
        "import tensorflow as tf\n",
        "import tensorflow_addons as tfa\n",
        "import numpy as np\n",
        "from tensorflow import keras\n",
        "from tensorflow.keras import layers\n",
        "import matplotlib.pyplot as plt\n"
      ],
      "execution_count": null,
      "outputs": []
    },
    {
      "cell_type": "code",
      "metadata": {
        "colab": {
          "base_uri": "https://localhost:8080/"
        },
        "id": "o8U4BQWtYk7h",
        "outputId": "13e73507-9a25-40f2-b0d8-fe702cd51eef"
      },
      "source": [
        "num_classes = 10\n",
        "input_shape = (32, 32, 3)\n",
        "\n",
        "# Load the train and test data splits\n",
        "(x_train, y_train), (x_test, y_test) = keras.datasets.cifar10.load_data()\n",
        "\n",
        "# Display shapes of train and test datasets\n",
        "print(f\"x_train shape: {x_train.shape} - y_train shape: {y_train.shape}\")\n",
        "print(f\"x_test shape: {x_test.shape} - y_test shape: {y_test.shape}\")"
      ],
      "execution_count": null,
      "outputs": [
        {
          "output_type": "stream",
          "text": [
            "Downloading data from https://www.cs.toronto.edu/~kriz/cifar-10-python.tar.gz\n",
            "170500096/170498071 [==============================] - 5s 0us/step\n",
            "x_train shape: (50000, 32, 32, 3) - y_train shape: (50000, 1)\n",
            "x_test shape: (10000, 32, 32, 3) - y_test shape: (10000, 1)\n"
          ],
          "name": "stdout"
        }
      ]
    },
    {
      "cell_type": "code",
      "metadata": {
        "id": "EvIF93B_Y1X6"
      },
      "source": [
        "data_augmentation = keras.Sequential([\n",
        "                                      layers.experimental.preprocessing.Normalization(),\n",
        "                                      layers.experimental.preprocessing.RandomFlip(\"horizontal\"),\n",
        "                                      layers.experimental.preprocessing.RandomRotation(0.02),\n",
        "                                      layers.experimental.preprocessing.RandomWidth(0.2),\n",
        "                                      layers.experimental.preprocessing.RandomHeight(0.2)\n",
        "])\n",
        "\n",
        "# Setting the state of the normalization layer.\n",
        "data_augmentation.layers[0].adapt(x_train)"
      ],
      "execution_count": null,
      "outputs": []
    },
    {
      "cell_type": "code",
      "metadata": {
        "colab": {
          "base_uri": "https://localhost:8080/",
          "height": 312
        },
        "id": "KnqV2pxrZbde",
        "outputId": "70ced040-d8fe-4ac8-dc78-9e671e2d4ae9"
      },
      "source": [
        "def create_encoder():\n",
        "  resnet = keras.applications.ResNet50V2(include_top=False, weights=None, input_shape=input_shape, pooling='avg')\n",
        "  inputs = keras.Input(shape = input_shape)\n",
        "  augmented = data_augmentation(inputs)\n",
        "  outputs = resnet(augmented)\n",
        "  model = keras.Model(inputs = inputs, outputs = outputs, name = \"cifar10-encoder\")\n",
        "  return model\n",
        "\n",
        "encoder = create_encoder()\n",
        "keras.utils.plot_model(encoder, show_shapes=True)\n"
      ],
      "execution_count": null,
      "outputs": [
        {
          "output_type": "execute_result",
          "data": {
            "image/png": "[encoded data removed]",
            "text/plain": [
              "<IPython.core.display.Image object>"
            ]
          },
          "metadata": {
            "tags": []
          },
          "execution_count": 11
        }
      ]
    },
    {
      "cell_type": "code",
      "metadata": {
        "id": "hOhf7ANEZeRS"
      },
      "source": [
        "learning_rate = 0.001\n",
        "batch_size = 265\n",
        "hidden_units = 512\n",
        "projection_units = 128\n",
        "num_epochs = 50\n",
        "dropout_rate = 0.5\n",
        "temperature = 0.05"
      ],
      "execution_count": null,
      "outputs": []
    },
    {
      "cell_type": "code",
      "metadata": {
        "id": "oVkT_esBaiO0"
      },
      "source": [
        "def create_classifier(encoder, trainable = True):\n",
        "  for i in encoder.layers:\n",
        "    i.trainable = trainable\n",
        "\n",
        "  inputs = keras.Input(shape= input_shape)\n",
        "  features = encoder(inputs)\n",
        "  features = layers.Dropout(dropout_rate)(features)\n",
        "  features = layers.Dense(hidden_units, activation='relu')(features)\n",
        "  features = layers.Dropout(dropout_rate)(features)\n",
        "  outputs = layers.Dense(num_classes, activation='softmax')(features)\n",
        "\n",
        "  model = keras.Model(inputs = inputs, outputs = outputs, name = \"cifar10-classifier\")\n",
        "  model.compile(optimizer = keras.optimizers.Adam(learning_rate=learning_rate),\n",
        "                loss = keras.losses.SparseCategoricalCrossentropy(),\n",
        "                metrics = [keras.metrics.SparseTopKCategoricalAccuracy()])\n",
        "  \n",
        "  return model \n"
      ],
      "execution_count": null,
      "outputs": []
    },
    {
      "cell_type": "code",
      "metadata": {
        "colab": {
          "base_uri": "https://localhost:8080/",
          "height": 1000
        },
        "id": "KRGYhjlVb_u1",
        "outputId": "6177fc88-6e58-4f26-928a-99c9ec7c0ccc"
      },
      "source": [
        "encoder = create_encoder()\n",
        "classifier = create_classifier(encoder)\n",
        "keras.utils.plot_model(classifier, show_shapes=True)\n",
        "\n",
        "history = classifier.fit(x = x_train, y = y_train, batch_size = batch_size, epochs= num_epochs)\n",
        "\n",
        "accuracy = classifier.evaluate(x_test, y_test)\n",
        "print(f\"Test accuracy: {round(accuracy * 100, 2)}%\")\n"
      ],
      "execution_count": null,
      "outputs": [
        {
          "output_type": "stream",
          "text": [
            "Epoch 1/50\n",
            "189/189 [==============================] - 94s 279ms/step - loss: 2.2262 - sparse_top_k_categorical_accuracy: 0.7059\n",
            "Epoch 2/50\n",
            "189/189 [==============================] - 31s 165ms/step - loss: 1.5742 - sparse_top_k_categorical_accuracy: 0.9034\n",
            "Epoch 3/50\n",
            "189/189 [==============================] - 29s 155ms/step - loss: 1.3957 - sparse_top_k_categorical_accuracy: 0.9316\n",
            "Epoch 4/50\n",
            "189/189 [==============================] - 24s 128ms/step - loss: 1.2542 - sparse_top_k_categorical_accuracy: 0.9463\n",
            "Epoch 5/50\n",
            "189/189 [==============================] - 25s 132ms/step - loss: 1.1626 - sparse_top_k_categorical_accuracy: 0.9545\n",
            "Epoch 6/50\n",
            "189/189 [==============================] - 28s 149ms/step - loss: 1.0936 - sparse_top_k_categorical_accuracy: 0.9605\n",
            "Epoch 7/50\n",
            "189/189 [==============================] - 25s 134ms/step - loss: 1.0152 - sparse_top_k_categorical_accuracy: 0.9651\n",
            "Epoch 8/50\n",
            "189/189 [==============================] - 25s 133ms/step - loss: 0.9607 - sparse_top_k_categorical_accuracy: 0.9695\n",
            "Epoch 9/50\n",
            "189/189 [==============================] - 25s 132ms/step - loss: 0.8997 - sparse_top_k_categorical_accuracy: 0.9739\n",
            "Epoch 10/50\n",
            "189/189 [==============================] - 25s 132ms/step - loss: 1.0177 - sparse_top_k_categorical_accuracy: 0.9662\n",
            "Epoch 11/50\n",
            "189/189 [==============================] - 25s 131ms/step - loss: 0.9295 - sparse_top_k_categorical_accuracy: 0.9714\n",
            "Epoch 12/50\n",
            "189/189 [==============================] - 25s 132ms/step - loss: 0.8201 - sparse_top_k_categorical_accuracy: 0.9784\n",
            "Epoch 13/50\n",
            "189/189 [==============================] - 25s 131ms/step - loss: 0.7892 - sparse_top_k_categorical_accuracy: 0.9799\n",
            "Epoch 14/50\n",
            "189/189 [==============================] - 25s 131ms/step - loss: 0.9137 - sparse_top_k_categorical_accuracy: 0.9749\n",
            "Epoch 15/50\n",
            "189/189 [==============================] - 25s 131ms/step - loss: 0.7096 - sparse_top_k_categorical_accuracy: 0.9842\n",
            "Epoch 16/50\n",
            "189/189 [==============================] - 24s 129ms/step - loss: 0.7059 - sparse_top_k_categorical_accuracy: 0.9841\n",
            "Epoch 17/50\n",
            "189/189 [==============================] - 25s 131ms/step - loss: 0.6537 - sparse_top_k_categorical_accuracy: 0.9863\n",
            "Epoch 18/50\n",
            "189/189 [==============================] - 24s 129ms/step - loss: 0.6162 - sparse_top_k_categorical_accuracy: 0.9875\n",
            "Epoch 19/50\n",
            "189/189 [==============================] - 25s 131ms/step - loss: 0.6830 - sparse_top_k_categorical_accuracy: 0.9857\n",
            "Epoch 20/50\n",
            "189/189 [==============================] - 25s 130ms/step - loss: 0.5980 - sparse_top_k_categorical_accuracy: 0.9880\n",
            "Epoch 21/50\n",
            "189/189 [==============================] - 25s 132ms/step - loss: 0.6206 - sparse_top_k_categorical_accuracy: 0.9875\n",
            "Epoch 22/50\n",
            "189/189 [==============================] - 26s 136ms/step - loss: 0.5670 - sparse_top_k_categorical_accuracy: 0.9899\n",
            "Epoch 23/50\n",
            "189/189 [==============================] - 25s 133ms/step - loss: 0.5386 - sparse_top_k_categorical_accuracy: 0.9903\n",
            "Epoch 24/50\n",
            "189/189 [==============================] - 25s 131ms/step - loss: 0.5225 - sparse_top_k_categorical_accuracy: 0.9909\n",
            "Epoch 25/50\n",
            "189/189 [==============================] - 25s 135ms/step - loss: 0.5116 - sparse_top_k_categorical_accuracy: 0.9910\n",
            "Epoch 26/50\n",
            "189/189 [==============================] - 25s 131ms/step - loss: 0.4885 - sparse_top_k_categorical_accuracy: 0.9919\n",
            "Epoch 27/50\n",
            "189/189 [==============================] - 25s 133ms/step - loss: 0.5368 - sparse_top_k_categorical_accuracy: 0.9911\n",
            "Epoch 28/50\n",
            "189/189 [==============================] - 24s 127ms/step - loss: 0.4940 - sparse_top_k_categorical_accuracy: 0.9921\n",
            "Epoch 29/50\n",
            "189/189 [==============================] - 25s 131ms/step - loss: 0.5628 - sparse_top_k_categorical_accuracy: 0.9893\n",
            "Epoch 30/50\n",
            "189/189 [==============================] - 24s 129ms/step - loss: 0.4675 - sparse_top_k_categorical_accuracy: 0.9929\n",
            "Epoch 31/50\n",
            "189/189 [==============================] - 25s 132ms/step - loss: 0.4330 - sparse_top_k_categorical_accuracy: 0.9937\n",
            "Epoch 32/50\n",
            "189/189 [==============================] - 24s 129ms/step - loss: 0.4177 - sparse_top_k_categorical_accuracy: 0.9944\n",
            "Epoch 33/50\n",
            "189/189 [==============================] - 25s 132ms/step - loss: 0.4149 - sparse_top_k_categorical_accuracy: 0.9946\n",
            "Epoch 34/50\n",
            "189/189 [==============================] - 25s 131ms/step - loss: 0.5371 - sparse_top_k_categorical_accuracy: 0.9886\n",
            "Epoch 35/50\n",
            "189/189 [==============================] - 24s 129ms/step - loss: 0.5289 - sparse_top_k_categorical_accuracy: 0.9902\n",
            "Epoch 36/50\n",
            "189/189 [==============================] - 25s 132ms/step - loss: 0.4313 - sparse_top_k_categorical_accuracy: 0.9940\n",
            "Epoch 37/50\n",
            "189/189 [==============================] - 25s 131ms/step - loss: 0.3922 - sparse_top_k_categorical_accuracy: 0.9947\n",
            "Epoch 38/50\n",
            "189/189 [==============================] - 25s 131ms/step - loss: 0.3714 - sparse_top_k_categorical_accuracy: 0.9960\n",
            "Epoch 39/50\n",
            "189/189 [==============================] - 25s 132ms/step - loss: 0.3416 - sparse_top_k_categorical_accuracy: 0.9965\n",
            "Epoch 40/50\n",
            "189/189 [==============================] - 25s 130ms/step - loss: 0.3449 - sparse_top_k_categorical_accuracy: 0.9961\n",
            "Epoch 41/50\n",
            "189/189 [==============================] - 25s 131ms/step - loss: 0.3361 - sparse_top_k_categorical_accuracy: 0.9966\n",
            "Epoch 42/50\n",
            "189/189 [==============================] - 25s 133ms/step - loss: 0.3335 - sparse_top_k_categorical_accuracy: 0.9960\n",
            "Epoch 43/50\n",
            "189/189 [==============================] - 24s 127ms/step - loss: 0.3217 - sparse_top_k_categorical_accuracy: 0.9965\n",
            "Epoch 44/50\n",
            "189/189 [==============================] - 25s 134ms/step - loss: 0.3113 - sparse_top_k_categorical_accuracy: 0.9972\n",
            "Epoch 45/50\n",
            "189/189 [==============================] - 25s 131ms/step - loss: 0.3027 - sparse_top_k_categorical_accuracy: 0.9970\n",
            "Epoch 46/50\n",
            "189/189 [==============================] - 24s 130ms/step - loss: 0.3008 - sparse_top_k_categorical_accuracy: 0.9970\n",
            "Epoch 47/50\n",
            "189/189 [==============================] - 24s 129ms/step - loss: 0.2915 - sparse_top_k_categorical_accuracy: 0.9977\n",
            "Epoch 48/50\n",
            "189/189 [==============================] - 24s 130ms/step - loss: 0.2921 - sparse_top_k_categorical_accuracy: 0.9977\n",
            "Epoch 49/50\n",
            "189/189 [==============================] - 25s 133ms/step - loss: 0.2732 - sparse_top_k_categorical_accuracy: 0.9974\n",
            "Epoch 50/50\n",
            "189/189 [==============================] - 25s 132ms/step - loss: 0.2781 - sparse_top_k_categorical_accuracy: 0.9974\n",
            "313/313 [==============================] - 6s 14ms/step - loss: 0.9505 - sparse_top_k_categorical_accuracy: 0.9835\n"
          ],
          "name": "stdout"
        },
        {
          "output_type": "error",
          "ename": "TypeError",
          "evalue": "ignored",
          "traceback": [
            "\u001b[0;31m---------------------------------------------------------------------------\u001b[0m",
            "\u001b[0;31mTypeError\u001b[0m                                 Traceback (most recent call last)",
            "\u001b[0;32m<ipython-input-15-d966403a4ed1>\u001b[0m in \u001b[0;36m<module>\u001b[0;34m()\u001b[0m\n\u001b[1;32m      6\u001b[0m \u001b[0;34m\u001b[0m\u001b[0m\n\u001b[1;32m      7\u001b[0m \u001b[0maccuracy\u001b[0m \u001b[0;34m=\u001b[0m \u001b[0mclassifier\u001b[0m\u001b[0;34m.\u001b[0m\u001b[0mevaluate\u001b[0m\u001b[0;34m(\u001b[0m\u001b[0mx_test\u001b[0m\u001b[0;34m,\u001b[0m \u001b[0my_test\u001b[0m\u001b[0;34m)\u001b[0m\u001b[0;34m\u001b[0m\u001b[0;34m\u001b[0m\u001b[0m\n\u001b[0;32m----> 8\u001b[0;31m \u001b[0mprint\u001b[0m\u001b[0;34m(\u001b[0m\u001b[0;34mf\"Test accuracy: {round(accuracy * 100, 2)}%\"\u001b[0m\u001b[0;34m)\u001b[0m\u001b[0;34m\u001b[0m\u001b[0;34m\u001b[0m\u001b[0m\n\u001b[0m",
            "\u001b[0;31mTypeError\u001b[0m: type list doesn't define __round__ method"
          ]
        }
      ]
    },
    {
      "cell_type": "code",
      "metadata": {
        "id": "4cgCTuDWchUH"
      },
      "source": [
        "class SupervisedContrastiveLoss(keras.losses.Loss):\n",
        "  def __init__(self, temperature = 1, name= None):\n",
        "    super(SupervisedContrastiveLoss, self).__init__(name = name)\n",
        "    self.temperature = temperature\n",
        "\n",
        "  def call(self, labels, feature_vectors, sample_weight = None):\n",
        "    # Normalize feature vectors\n",
        "    feature_vectors_normalized = tf.math.l2_normalize(feature_vectors, axis= 1)\n",
        "    # Compute logits\n",
        "    logits = tf.divide(tf.matmul(feature_vectors_normalized, tf.transpose(feature_vectors_normalized)),\n",
        "                       self.temperature)\n",
        "    return tfa.losses.npairs_loss(tf.squeeze(labels), logits)\n",
        "\n",
        "\n",
        "def add_projection_head(encoder):\n",
        "  inputs = keras.Input(shape = input_shape)\n",
        "  features = encoder(inputs)\n",
        "  outputs = layers.Dense(projection_units, activation = 'relu')(features)\n",
        "  model = keras.Model(inputs = inputs, outputs = outputs, name = \"cifar-encoder_with_projection-head\")\n",
        "  return model\n",
        "  \n",
        "   \n",
        "\n",
        "\n"
      ],
      "execution_count": null,
      "outputs": []
    },
    {
      "cell_type": "code",
      "metadata": {
        "colab": {
          "base_uri": "https://localhost:8080/"
        },
        "id": "MQtJBrjHgNT2",
        "outputId": "65174386-467c-4132-aa96-9ad1f9258878"
      },
      "source": [
        "encoder = create_encoder()\n",
        "\n",
        "encoder_with_projection_head = add_projection_head(encoder)\n",
        "encoder_with_projection_head.compile(\n",
        "    optimizer = keras.optimizers.Adam(learning_rate),\n",
        "    loss=SupervisedContrastiveLoss(temperature)\n",
        ")\n",
        "\n",
        "encoder_with_projection_head.summary()\n",
        "\n",
        "history = encoder_with_projection_head.fit(\n",
        "    x=x_train, y=y_train, batch_size=batch_size, epochs=num_epochs\n",
        ")"
      ],
      "execution_count": null,
      "outputs": [
        {
          "output_type": "stream",
          "text": [
            "Model: \"cifar-encoder_with_projection-head\"\n",
            "_________________________________________________________________\n",
            "Layer (type)                 Output Shape              Param #   \n",
            "=================================================================\n",
            "input_13 (InputLayer)        [(None, 32, 32, 3)]       0         \n",
            "_________________________________________________________________\n",
            "cifar10-encoder (Functional) (None, 2048)              23564807  \n",
            "_________________________________________________________________\n",
            "dense_3 (Dense)              (None, 128)               262272    \n",
            "=================================================================\n",
            "Total params: 23,827,079\n",
            "Trainable params: 23,781,632\n",
            "Non-trainable params: 45,447\n",
            "_________________________________________________________________\n",
            "Epoch 1/50\n",
            "189/189 [==============================] - 28s 124ms/step - loss: 5.5497\n",
            "Epoch 2/50\n",
            "189/189 [==============================] - 24s 126ms/step - loss: 5.1852\n",
            "Epoch 3/50\n",
            "189/189 [==============================] - 25s 130ms/step - loss: 5.0619\n",
            "Epoch 4/50\n",
            "189/189 [==============================] - 25s 135ms/step - loss: 4.9542\n",
            "Epoch 5/50\n",
            "189/189 [==============================] - 25s 132ms/step - loss: 4.8462\n",
            "Epoch 6/50\n",
            "189/189 [==============================] - 25s 130ms/step - loss: 4.7675\n",
            "Epoch 7/50\n",
            "189/189 [==============================] - 25s 131ms/step - loss: 4.6984\n",
            "Epoch 8/50\n",
            "189/189 [==============================] - 25s 132ms/step - loss: 4.6352\n",
            "Epoch 9/50\n",
            "189/189 [==============================] - 24s 128ms/step - loss: 4.5690\n",
            "Epoch 10/50\n",
            "189/189 [==============================] - 25s 131ms/step - loss: 4.5304\n",
            "Epoch 11/50\n",
            "189/189 [==============================] - 25s 131ms/step - loss: 4.4741\n",
            "Epoch 12/50\n",
            "189/189 [==============================] - 25s 131ms/step - loss: 4.4284\n",
            "Epoch 13/50\n",
            "189/189 [==============================] - 25s 133ms/step - loss: 4.4038\n",
            "Epoch 14/50\n",
            "189/189 [==============================] - 24s 128ms/step - loss: 4.3567\n",
            "Epoch 15/50\n",
            "189/189 [==============================] - 25s 134ms/step - loss: 4.3191\n",
            "Epoch 16/50\n",
            "189/189 [==============================] - 25s 134ms/step - loss: 4.2720\n",
            "Epoch 17/50\n",
            "189/189 [==============================] - 24s 129ms/step - loss: 4.2625\n",
            "Epoch 18/50\n",
            "189/189 [==============================] - 25s 131ms/step - loss: 4.2418\n",
            "Epoch 19/50\n",
            "189/189 [==============================] - 25s 134ms/step - loss: 4.2211\n",
            "Epoch 20/50\n",
            "189/189 [==============================] - 25s 130ms/step - loss: 4.1821\n",
            "Epoch 21/50\n",
            "189/189 [==============================] - 25s 131ms/step - loss: 4.1536\n",
            "Epoch 22/50\n",
            "189/189 [==============================] - 25s 132ms/step - loss: 4.1360\n",
            "Epoch 23/50\n",
            "189/189 [==============================] - 24s 130ms/step - loss: 4.1261\n",
            "Epoch 24/50\n",
            "189/189 [==============================] - 25s 133ms/step - loss: 4.1012\n",
            "Epoch 25/50\n",
            "189/189 [==============================] - 24s 128ms/step - loss: 4.0679\n",
            "Epoch 26/50\n",
            "189/189 [==============================] - 24s 130ms/step - loss: 4.0435\n",
            "Epoch 27/50\n",
            "189/189 [==============================] - 25s 130ms/step - loss: 4.0401\n",
            "Epoch 28/50\n",
            "189/189 [==============================] - 25s 133ms/step - loss: 4.0348\n",
            "Epoch 29/50\n",
            "189/189 [==============================] - 25s 130ms/step - loss: 4.0116\n",
            "Epoch 30/50\n",
            "189/189 [==============================] - 25s 133ms/step - loss: 4.0179\n",
            "Epoch 31/50\n",
            "189/189 [==============================] - 25s 130ms/step - loss: 3.9711\n",
            "Epoch 32/50\n",
            "189/189 [==============================] - 24s 130ms/step - loss: 3.9613\n",
            "Epoch 33/50\n",
            "189/189 [==============================] - 25s 131ms/step - loss: 3.9534\n",
            "Epoch 34/50\n",
            "189/189 [==============================] - 25s 132ms/step - loss: 3.9069\n",
            "Epoch 35/50\n",
            "189/189 [==============================] - 25s 131ms/step - loss: 3.9101\n",
            "Epoch 36/50\n",
            "189/189 [==============================] - 25s 130ms/step - loss: 3.9070\n",
            "Epoch 37/50\n",
            "189/189 [==============================] - 25s 134ms/step - loss: 3.8885\n",
            "Epoch 38/50\n",
            "189/189 [==============================] - 24s 129ms/step - loss: 3.8647\n",
            "Epoch 39/50\n",
            "189/189 [==============================] - 25s 130ms/step - loss: 3.8808\n",
            "Epoch 40/50\n",
            "189/189 [==============================] - 24s 129ms/step - loss: 3.8369\n",
            "Epoch 41/50\n",
            "189/189 [==============================] - 24s 127ms/step - loss: 3.8433\n",
            "Epoch 42/50\n",
            "189/189 [==============================] - 25s 133ms/step - loss: 3.8139\n",
            "Epoch 43/50\n",
            "189/189 [==============================] - 25s 131ms/step - loss: 3.8074\n",
            "Epoch 44/50\n",
            "189/189 [==============================] - 25s 130ms/step - loss: 3.7811\n",
            "Epoch 45/50\n",
            "189/189 [==============================] - 25s 130ms/step - loss: 3.7815\n",
            "Epoch 46/50\n",
            "189/189 [==============================] - 25s 130ms/step - loss: 3.7774\n",
            "Epoch 47/50\n",
            "189/189 [==============================] - 24s 129ms/step - loss: 3.7521\n",
            "Epoch 48/50\n",
            "189/189 [==============================] - 25s 131ms/step - loss: 3.7599\n",
            "Epoch 49/50\n",
            "189/189 [==============================] - 24s 128ms/step - loss: 3.7641\n",
            "Epoch 50/50\n",
            "189/189 [==============================] - 24s 128ms/step - loss: 3.7419\n"
          ],
          "name": "stdout"
        }
      ]
    },
    {
      "cell_type": "code",
      "metadata": {
        "colab": {
          "base_uri": "https://localhost:8080/"
        },
        "id": "MTDLuDhogoro",
        "outputId": "875080f2-2c06-4918-b0aa-14267e74b63b"
      },
      "source": [
        "classifier = create_classifier(encoder, trainable=False)\n",
        "\n",
        "history = classifier.fit(x=x_train, y=y_train, batch_size=batch_size, epochs=num_epochs)\n",
        "\n",
        "accuracy = classifier.evaluate(x_test, y_test)[1]\n",
        "print(f\"Test accuracy: {round(accuracy * 100, 2)}%\")"
      ],
      "execution_count": null,
      "outputs": [
        {
          "output_type": "stream",
          "text": [
            "Epoch 1/50\n",
            "189/189 [==============================] - 10s 37ms/step - loss: 0.4750 - sparse_top_k_categorical_accuracy: 0.9794\n",
            "Epoch 2/50\n",
            "189/189 [==============================] - 7s 36ms/step - loss: 0.3122 - sparse_top_k_categorical_accuracy: 0.9963\n",
            "Epoch 3/50\n",
            "189/189 [==============================] - 7s 37ms/step - loss: 0.3013 - sparse_top_k_categorical_accuracy: 0.9969\n",
            "Epoch 4/50\n",
            "189/189 [==============================] - 7s 36ms/step - loss: 0.2955 - sparse_top_k_categorical_accuracy: 0.9962\n",
            "Epoch 5/50\n",
            "189/189 [==============================] - 7s 37ms/step - loss: 0.2875 - sparse_top_k_categorical_accuracy: 0.9975\n",
            "Epoch 6/50\n",
            "189/189 [==============================] - 7s 37ms/step - loss: 0.3028 - sparse_top_k_categorical_accuracy: 0.9973\n",
            "Epoch 7/50\n",
            "189/189 [==============================] - 7s 37ms/step - loss: 0.2856 - sparse_top_k_categorical_accuracy: 0.9969\n",
            "Epoch 8/50\n",
            "189/189 [==============================] - 7s 36ms/step - loss: 0.2943 - sparse_top_k_categorical_accuracy: 0.9973\n",
            "Epoch 9/50\n",
            "189/189 [==============================] - 7s 37ms/step - loss: 0.2838 - sparse_top_k_categorical_accuracy: 0.9974\n",
            "Epoch 10/50\n",
            "189/189 [==============================] - 7s 37ms/step - loss: 0.2823 - sparse_top_k_categorical_accuracy: 0.9974\n",
            "Epoch 11/50\n",
            "189/189 [==============================] - 7s 36ms/step - loss: 0.2785 - sparse_top_k_categorical_accuracy: 0.9977\n",
            "Epoch 12/50\n",
            "189/189 [==============================] - 7s 36ms/step - loss: 0.2893 - sparse_top_k_categorical_accuracy: 0.9973\n",
            "Epoch 13/50\n",
            "189/189 [==============================] - 7s 36ms/step - loss: 0.2878 - sparse_top_k_categorical_accuracy: 0.9975\n",
            "Epoch 14/50\n",
            "189/189 [==============================] - 7s 36ms/step - loss: 0.2874 - sparse_top_k_categorical_accuracy: 0.9973\n",
            "Epoch 15/50\n",
            "189/189 [==============================] - 7s 37ms/step - loss: 0.2827 - sparse_top_k_categorical_accuracy: 0.9971\n",
            "Epoch 16/50\n",
            "189/189 [==============================] - 7s 36ms/step - loss: 0.2901 - sparse_top_k_categorical_accuracy: 0.9974\n",
            "Epoch 17/50\n",
            "189/189 [==============================] - 7s 36ms/step - loss: 0.3004 - sparse_top_k_categorical_accuracy: 0.9970\n",
            "Epoch 18/50\n",
            "189/189 [==============================] - 7s 36ms/step - loss: 0.2778 - sparse_top_k_categorical_accuracy: 0.9973\n",
            "Epoch 19/50\n",
            "189/189 [==============================] - 7s 36ms/step - loss: 0.2848 - sparse_top_k_categorical_accuracy: 0.9976\n",
            "Epoch 20/50\n",
            "189/189 [==============================] - 7s 36ms/step - loss: 0.2645 - sparse_top_k_categorical_accuracy: 0.9977\n",
            "Epoch 21/50\n",
            "189/189 [==============================] - 7s 37ms/step - loss: 0.2750 - sparse_top_k_categorical_accuracy: 0.9971\n",
            "Epoch 22/50\n",
            "189/189 [==============================] - 7s 37ms/step - loss: 0.2839 - sparse_top_k_categorical_accuracy: 0.9967\n",
            "Epoch 23/50\n",
            "189/189 [==============================] - 7s 36ms/step - loss: 0.2876 - sparse_top_k_categorical_accuracy: 0.9974\n",
            "Epoch 24/50\n",
            "189/189 [==============================] - 7s 36ms/step - loss: 0.2843 - sparse_top_k_categorical_accuracy: 0.9970\n",
            "Epoch 25/50\n",
            "189/189 [==============================] - 7s 37ms/step - loss: 0.2899 - sparse_top_k_categorical_accuracy: 0.9971\n",
            "Epoch 26/50\n",
            "189/189 [==============================] - 7s 37ms/step - loss: 0.2849 - sparse_top_k_categorical_accuracy: 0.9979\n",
            "Epoch 27/50\n",
            "189/189 [==============================] - 7s 36ms/step - loss: 0.2728 - sparse_top_k_categorical_accuracy: 0.9975\n",
            "Epoch 28/50\n",
            "189/189 [==============================] - 7s 36ms/step - loss: 0.2899 - sparse_top_k_categorical_accuracy: 0.9978\n",
            "Epoch 29/50\n",
            "189/189 [==============================] - 7s 36ms/step - loss: 0.2760 - sparse_top_k_categorical_accuracy: 0.9974\n",
            "Epoch 30/50\n",
            "189/189 [==============================] - 7s 37ms/step - loss: 0.2799 - sparse_top_k_categorical_accuracy: 0.9970\n",
            "Epoch 31/50\n",
            "189/189 [==============================] - 7s 37ms/step - loss: 0.2968 - sparse_top_k_categorical_accuracy: 0.9975\n",
            "Epoch 32/50\n",
            "189/189 [==============================] - 7s 37ms/step - loss: 0.2917 - sparse_top_k_categorical_accuracy: 0.9975\n",
            "Epoch 33/50\n",
            "189/189 [==============================] - 7s 36ms/step - loss: 0.2742 - sparse_top_k_categorical_accuracy: 0.9977\n",
            "Epoch 34/50\n",
            "189/189 [==============================] - 7s 37ms/step - loss: 0.2878 - sparse_top_k_categorical_accuracy: 0.9972\n",
            "Epoch 35/50\n",
            "189/189 [==============================] - 7s 37ms/step - loss: 0.2742 - sparse_top_k_categorical_accuracy: 0.9975\n",
            "Epoch 36/50\n",
            "189/189 [==============================] - 7s 36ms/step - loss: 0.2982 - sparse_top_k_categorical_accuracy: 0.9971\n",
            "Epoch 37/50\n",
            "189/189 [==============================] - 7s 36ms/step - loss: 0.2920 - sparse_top_k_categorical_accuracy: 0.9979\n",
            "Epoch 38/50\n",
            "189/189 [==============================] - 7s 37ms/step - loss: 0.2687 - sparse_top_k_categorical_accuracy: 0.9979\n",
            "Epoch 39/50\n",
            "189/189 [==============================] - 7s 36ms/step - loss: 0.2851 - sparse_top_k_categorical_accuracy: 0.9975\n",
            "Epoch 40/50\n",
            "189/189 [==============================] - 7s 37ms/step - loss: 0.2975 - sparse_top_k_categorical_accuracy: 0.9969\n",
            "Epoch 41/50\n",
            "189/189 [==============================] - 7s 37ms/step - loss: 0.2928 - sparse_top_k_categorical_accuracy: 0.9975\n",
            "Epoch 42/50\n",
            "189/189 [==============================] - 7s 37ms/step - loss: 0.2864 - sparse_top_k_categorical_accuracy: 0.9971\n",
            "Epoch 43/50\n",
            "189/189 [==============================] - 7s 37ms/step - loss: 0.2893 - sparse_top_k_categorical_accuracy: 0.9973\n",
            "Epoch 44/50\n",
            "189/189 [==============================] - 7s 38ms/step - loss: 0.2689 - sparse_top_k_categorical_accuracy: 0.9979\n",
            "Epoch 45/50\n",
            "189/189 [==============================] - 7s 37ms/step - loss: 0.2762 - sparse_top_k_categorical_accuracy: 0.9977\n",
            "Epoch 46/50\n",
            "189/189 [==============================] - 7s 36ms/step - loss: 0.2736 - sparse_top_k_categorical_accuracy: 0.9975\n",
            "Epoch 47/50\n",
            "189/189 [==============================] - 7s 36ms/step - loss: 0.2924 - sparse_top_k_categorical_accuracy: 0.9978\n",
            "Epoch 48/50\n",
            "189/189 [==============================] - 7s 37ms/step - loss: 0.2862 - sparse_top_k_categorical_accuracy: 0.9979\n",
            "Epoch 49/50\n",
            "189/189 [==============================] - 7s 37ms/step - loss: 0.2758 - sparse_top_k_categorical_accuracy: 0.9974\n",
            "Epoch 50/50\n",
            "189/189 [==============================] - 7s 36ms/step - loss: 0.2788 - sparse_top_k_categorical_accuracy: 0.9978\n",
            "313/313 [==============================] - 5s 13ms/step - loss: 0.6977 - sparse_top_k_categorical_accuracy: 0.9864\n",
            "Test accuracy: 98.64%\n"
          ],
          "name": "stdout"
        }
      ]
    },
    {
      "cell_type": "code",
      "metadata": {
        "id": "Si5VBo4kiAnu"
      },
      "source": [
        ""
      ],
      "execution_count": null,
      "outputs": []
    }
  ]
}