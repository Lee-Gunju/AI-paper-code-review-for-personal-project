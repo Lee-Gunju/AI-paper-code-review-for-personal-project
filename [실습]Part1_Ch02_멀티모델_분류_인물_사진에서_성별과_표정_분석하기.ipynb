{
  "nbformat": 4,
  "nbformat_minor": 0,
  "metadata": {
    "colab": {
      "name": "[실습]Part1_Ch02_멀티모델 분류 - 인물 사진에서 성별과 표정 분석하기.ipynb",
      "provenance": [],
      "collapsed_sections": [],
      "toc_visible": true,
      "include_colab_link": true
    },
    "kernelspec": {
      "name": "python3",
      "display_name": "Python 3"
    },
    "accelerator": "GPU",
    "widgets": {
      "application/vnd.jupyter.widget-state+json": {
        "97b87eec3fd5495ea59bf3293634aba5": {
          "model_module": "@jupyter-widgets/controls",
          "model_name": "HBoxModel",
          "model_module_version": "1.5.0",
          "state": {
            "_view_name": "HBoxView",
            "_dom_classes": [],
            "_model_name": "HBoxModel",
            "_view_module": "@jupyter-widgets/controls",
            "_model_module_version": "1.5.0",
            "_view_count": null,
            "_view_module_version": "1.5.0",
            "box_style": "",
            "layout": "IPY_MODEL_76a066ac2649456f9bf8f217b1154458",
            "_model_module": "@jupyter-widgets/controls",
            "children": [
              "IPY_MODEL_cc87d30234824ac39587bfb6cce9231b",
              "IPY_MODEL_e0081be6ad8a4aa485c510cfc1d62fd1"
            ]
          }
        },
        "76a066ac2649456f9bf8f217b1154458": {
          "model_module": "@jupyter-widgets/base",
          "model_name": "LayoutModel",
          "model_module_version": "1.2.0",
          "state": {
            "_view_name": "LayoutView",
            "grid_template_rows": null,
            "right": null,
            "justify_content": null,
            "_view_module": "@jupyter-widgets/base",
            "overflow": null,
            "_model_module_version": "1.2.0",
            "_view_count": null,
            "flex_flow": null,
            "width": null,
            "min_width": null,
            "border": null,
            "align_items": null,
            "bottom": null,
            "_model_module": "@jupyter-widgets/base",
            "top": null,
            "grid_column": null,
            "overflow_y": null,
            "overflow_x": null,
            "grid_auto_flow": null,
            "grid_area": null,
            "grid_template_columns": null,
            "flex": null,
            "_model_name": "LayoutModel",
            "justify_items": null,
            "grid_row": null,
            "max_height": null,
            "align_content": null,
            "visibility": null,
            "align_self": null,
            "height": null,
            "min_height": null,
            "padding": null,
            "grid_auto_rows": null,
            "grid_gap": null,
            "max_width": null,
            "order": null,
            "_view_module_version": "1.2.0",
            "grid_template_areas": null,
            "object_position": null,
            "object_fit": null,
            "grid_auto_columns": null,
            "margin": null,
            "display": null,
            "left": null
          }
        },
        "cc87d30234824ac39587bfb6cce9231b": {
          "model_module": "@jupyter-widgets/controls",
          "model_name": "FloatProgressModel",
          "model_module_version": "1.5.0",
          "state": {
            "_view_name": "ProgressView",
            "style": "IPY_MODEL_39a029e3feee4fcca348e42c143412b7",
            "_dom_classes": [],
            "description": "Dl Completed...:  25%",
            "_model_name": "FloatProgressModel",
            "bar_style": "danger",
            "max": 1,
            "_view_module": "@jupyter-widgets/controls",
            "_model_module_version": "1.5.0",
            "value": 1,
            "_view_count": null,
            "_view_module_version": "1.5.0",
            "orientation": "horizontal",
            "min": 0,
            "description_tooltip": null,
            "_model_module": "@jupyter-widgets/controls",
            "layout": "IPY_MODEL_8786235875224412953fd4a919401e0b"
          }
        },
        "e0081be6ad8a4aa485c510cfc1d62fd1": {
          "model_module": "@jupyter-widgets/controls",
          "model_name": "HTMLModel",
          "model_module_version": "1.5.0",
          "state": {
            "_view_name": "HTMLView",
            "style": "IPY_MODEL_3454ec044c4d4a36aafd4d3197d536dc",
            "_dom_classes": [],
            "description": "",
            "_model_name": "HTMLModel",
            "placeholder": "​",
            "_view_module": "@jupyter-widgets/controls",
            "_model_module_version": "1.5.0",
            "value": " 1/4 [00:01&lt;00:03,  1.22s/ url]",
            "_view_count": null,
            "_view_module_version": "1.5.0",
            "description_tooltip": null,
            "_model_module": "@jupyter-widgets/controls",
            "layout": "IPY_MODEL_d2965fc46116454bbde584a2c127a9d4"
          }
        },
        "39a029e3feee4fcca348e42c143412b7": {
          "model_module": "@jupyter-widgets/controls",
          "model_name": "ProgressStyleModel",
          "model_module_version": "1.5.0",
          "state": {
            "_view_name": "StyleView",
            "_model_name": "ProgressStyleModel",
            "description_width": "initial",
            "_view_module": "@jupyter-widgets/base",
            "_model_module_version": "1.5.0",
            "_view_count": null,
            "_view_module_version": "1.2.0",
            "bar_color": null,
            "_model_module": "@jupyter-widgets/controls"
          }
        },
        "8786235875224412953fd4a919401e0b": {
          "model_module": "@jupyter-widgets/base",
          "model_name": "LayoutModel",
          "model_module_version": "1.2.0",
          "state": {
            "_view_name": "LayoutView",
            "grid_template_rows": null,
            "right": null,
            "justify_content": null,
            "_view_module": "@jupyter-widgets/base",
            "overflow": null,
            "_model_module_version": "1.2.0",
            "_view_count": null,
            "flex_flow": null,
            "width": null,
            "min_width": null,
            "border": null,
            "align_items": null,
            "bottom": null,
            "_model_module": "@jupyter-widgets/base",
            "top": null,
            "grid_column": null,
            "overflow_y": null,
            "overflow_x": null,
            "grid_auto_flow": null,
            "grid_area": null,
            "grid_template_columns": null,
            "flex": null,
            "_model_name": "LayoutModel",
            "justify_items": null,
            "grid_row": null,
            "max_height": null,
            "align_content": null,
            "visibility": null,
            "align_self": null,
            "height": null,
            "min_height": null,
            "padding": null,
            "grid_auto_rows": null,
            "grid_gap": null,
            "max_width": null,
            "order": null,
            "_view_module_version": "1.2.0",
            "grid_template_areas": null,
            "object_position": null,
            "object_fit": null,
            "grid_auto_columns": null,
            "margin": null,
            "display": null,
            "left": null
          }
        },
        "3454ec044c4d4a36aafd4d3197d536dc": {
          "model_module": "@jupyter-widgets/controls",
          "model_name": "DescriptionStyleModel",
          "model_module_version": "1.5.0",
          "state": {
            "_view_name": "StyleView",
            "_model_name": "DescriptionStyleModel",
            "description_width": "",
            "_view_module": "@jupyter-widgets/base",
            "_model_module_version": "1.5.0",
            "_view_count": null,
            "_view_module_version": "1.2.0",
            "_model_module": "@jupyter-widgets/controls"
          }
        },
        "d2965fc46116454bbde584a2c127a9d4": {
          "model_module": "@jupyter-widgets/base",
          "model_name": "LayoutModel",
          "model_module_version": "1.2.0",
          "state": {
            "_view_name": "LayoutView",
            "grid_template_rows": null,
            "right": null,
            "justify_content": null,
            "_view_module": "@jupyter-widgets/base",
            "overflow": null,
            "_model_module_version": "1.2.0",
            "_view_count": null,
            "flex_flow": null,
            "width": null,
            "min_width": null,
            "border": null,
            "align_items": null,
            "bottom": null,
            "_model_module": "@jupyter-widgets/base",
            "top": null,
            "grid_column": null,
            "overflow_y": null,
            "overflow_x": null,
            "grid_auto_flow": null,
            "grid_area": null,
            "grid_template_columns": null,
            "flex": null,
            "_model_name": "LayoutModel",
            "justify_items": null,
            "grid_row": null,
            "max_height": null,
            "align_content": null,
            "visibility": null,
            "align_self": null,
            "height": null,
            "min_height": null,
            "padding": null,
            "grid_auto_rows": null,
            "grid_gap": null,
            "max_width": null,
            "order": null,
            "_view_module_version": "1.2.0",
            "grid_template_areas": null,
            "object_position": null,
            "object_fit": null,
            "grid_auto_columns": null,
            "margin": null,
            "display": null,
            "left": null
          }
        },
        "5460a7e2ea894b43aaae5fac9f185584": {
          "model_module": "@jupyter-widgets/controls",
          "model_name": "HBoxModel",
          "model_module_version": "1.5.0",
          "state": {
            "_view_name": "HBoxView",
            "_dom_classes": [],
            "_model_name": "HBoxModel",
            "_view_module": "@jupyter-widgets/controls",
            "_model_module_version": "1.5.0",
            "_view_count": null,
            "_view_module_version": "1.5.0",
            "box_style": "",
            "layout": "IPY_MODEL_15d95084a89041a19dff1d8035760e17",
            "_model_module": "@jupyter-widgets/controls",
            "children": [
              "IPY_MODEL_859ea992224a48939fa4231594f995cc",
              "IPY_MODEL_b193e47e04184b27b696bd0f2009c6f5"
            ]
          }
        },
        "15d95084a89041a19dff1d8035760e17": {
          "model_module": "@jupyter-widgets/base",
          "model_name": "LayoutModel",
          "model_module_version": "1.2.0",
          "state": {
            "_view_name": "LayoutView",
            "grid_template_rows": null,
            "right": null,
            "justify_content": null,
            "_view_module": "@jupyter-widgets/base",
            "overflow": null,
            "_model_module_version": "1.2.0",
            "_view_count": null,
            "flex_flow": null,
            "width": null,
            "min_width": null,
            "border": null,
            "align_items": null,
            "bottom": null,
            "_model_module": "@jupyter-widgets/base",
            "top": null,
            "grid_column": null,
            "overflow_y": null,
            "overflow_x": null,
            "grid_auto_flow": null,
            "grid_area": null,
            "grid_template_columns": null,
            "flex": null,
            "_model_name": "LayoutModel",
            "justify_items": null,
            "grid_row": null,
            "max_height": null,
            "align_content": null,
            "visibility": null,
            "align_self": null,
            "height": null,
            "min_height": null,
            "padding": null,
            "grid_auto_rows": null,
            "grid_gap": null,
            "max_width": null,
            "order": null,
            "_view_module_version": "1.2.0",
            "grid_template_areas": null,
            "object_position": null,
            "object_fit": null,
            "grid_auto_columns": null,
            "margin": null,
            "display": null,
            "left": null
          }
        },
        "859ea992224a48939fa4231594f995cc": {
          "model_module": "@jupyter-widgets/controls",
          "model_name": "FloatProgressModel",
          "model_module_version": "1.5.0",
          "state": {
            "_view_name": "ProgressView",
            "style": "IPY_MODEL_22f4ac49ecad4ce4ae69a0a03b41fdc4",
            "_dom_classes": [],
            "description": "Dl Size...: ",
            "_model_name": "FloatProgressModel",
            "bar_style": "success",
            "max": 1,
            "_view_module": "@jupyter-widgets/controls",
            "_model_module_version": "1.5.0",
            "value": 0,
            "_view_count": null,
            "_view_module_version": "1.5.0",
            "orientation": "horizontal",
            "min": 0,
            "description_tooltip": null,
            "_model_module": "@jupyter-widgets/controls",
            "layout": "IPY_MODEL_0d40bac31b564de083bff4b08984486f"
          }
        },
        "b193e47e04184b27b696bd0f2009c6f5": {
          "model_module": "@jupyter-widgets/controls",
          "model_name": "HTMLModel",
          "model_module_version": "1.5.0",
          "state": {
            "_view_name": "HTMLView",
            "style": "IPY_MODEL_be0b990961ad4e1aa75504edb9fef7ef",
            "_dom_classes": [],
            "description": "",
            "_model_name": "HTMLModel",
            "placeholder": "​",
            "_view_module": "@jupyter-widgets/controls",
            "_model_module_version": "1.5.0",
            "value": " 0/0 [00:01&lt;?, ? MiB/s]",
            "_view_count": null,
            "_view_module_version": "1.5.0",
            "description_tooltip": null,
            "_model_module": "@jupyter-widgets/controls",
            "layout": "IPY_MODEL_cddce9a29ed642f5a11cb1835e9c6b12"
          }
        },
        "22f4ac49ecad4ce4ae69a0a03b41fdc4": {
          "model_module": "@jupyter-widgets/controls",
          "model_name": "ProgressStyleModel",
          "model_module_version": "1.5.0",
          "state": {
            "_view_name": "StyleView",
            "_model_name": "ProgressStyleModel",
            "description_width": "initial",
            "_view_module": "@jupyter-widgets/base",
            "_model_module_version": "1.5.0",
            "_view_count": null,
            "_view_module_version": "1.2.0",
            "bar_color": null,
            "_model_module": "@jupyter-widgets/controls"
          }
        },
        "0d40bac31b564de083bff4b08984486f": {
          "model_module": "@jupyter-widgets/base",
          "model_name": "LayoutModel",
          "model_module_version": "1.2.0",
          "state": {
            "_view_name": "LayoutView",
            "grid_template_rows": null,
            "right": null,
            "justify_content": null,
            "_view_module": "@jupyter-widgets/base",
            "overflow": null,
            "_model_module_version": "1.2.0",
            "_view_count": null,
            "flex_flow": null,
            "width": null,
            "min_width": null,
            "border": null,
            "align_items": null,
            "bottom": null,
            "_model_module": "@jupyter-widgets/base",
            "top": null,
            "grid_column": null,
            "overflow_y": null,
            "overflow_x": null,
            "grid_auto_flow": null,
            "grid_area": null,
            "grid_template_columns": null,
            "flex": null,
            "_model_name": "LayoutModel",
            "justify_items": null,
            "grid_row": null,
            "max_height": null,
            "align_content": null,
            "visibility": null,
            "align_self": null,
            "height": null,
            "min_height": null,
            "padding": null,
            "grid_auto_rows": null,
            "grid_gap": null,
            "max_width": null,
            "order": null,
            "_view_module_version": "1.2.0",
            "grid_template_areas": null,
            "object_position": null,
            "object_fit": null,
            "grid_auto_columns": null,
            "margin": null,
            "display": null,
            "left": null
          }
        },
        "be0b990961ad4e1aa75504edb9fef7ef": {
          "model_module": "@jupyter-widgets/controls",
          "model_name": "DescriptionStyleModel",
          "model_module_version": "1.5.0",
          "state": {
            "_view_name": "StyleView",
            "_model_name": "DescriptionStyleModel",
            "description_width": "",
            "_view_module": "@jupyter-widgets/base",
            "_model_module_version": "1.5.0",
            "_view_count": null,
            "_view_module_version": "1.2.0",
            "_model_module": "@jupyter-widgets/controls"
          }
        },
        "cddce9a29ed642f5a11cb1835e9c6b12": {
          "model_module": "@jupyter-widgets/base",
          "model_name": "LayoutModel",
          "model_module_version": "1.2.0",
          "state": {
            "_view_name": "LayoutView",
            "grid_template_rows": null,
            "right": null,
            "justify_content": null,
            "_view_module": "@jupyter-widgets/base",
            "overflow": null,
            "_model_module_version": "1.2.0",
            "_view_count": null,
            "flex_flow": null,
            "width": null,
            "min_width": null,
            "border": null,
            "align_items": null,
            "bottom": null,
            "_model_module": "@jupyter-widgets/base",
            "top": null,
            "grid_column": null,
            "overflow_y": null,
            "overflow_x": null,
            "grid_auto_flow": null,
            "grid_area": null,
            "grid_template_columns": null,
            "flex": null,
            "_model_name": "LayoutModel",
            "justify_items": null,
            "grid_row": null,
            "max_height": null,
            "align_content": null,
            "visibility": null,
            "align_self": null,
            "height": null,
            "min_height": null,
            "padding": null,
            "grid_auto_rows": null,
            "grid_gap": null,
            "max_width": null,
            "order": null,
            "_view_module_version": "1.2.0",
            "grid_template_areas": null,
            "object_position": null,
            "object_fit": null,
            "grid_auto_columns": null,
            "margin": null,
            "display": null,
            "left": null
          }
        }
      }
    }
  },
  "cells": [
    {
      "cell_type": "markdown",
      "metadata": {
        "id": "view-in-github",
        "colab_type": "text"
      },
      "source": [
        "<a href=\"https://colab.research.google.com/github/Lee-Gunju/AI-paper-code-review-for-personal-project/blob/master/%5B%EC%8B%A4%EC%8A%B5%5DPart1_Ch02_%EB%A9%80%ED%8B%B0%EB%AA%A8%EB%8D%B8_%EB%B6%84%EB%A5%98_%EC%9D%B8%EB%AC%BC_%EC%82%AC%EC%A7%84%EC%97%90%EC%84%9C_%EC%84%B1%EB%B3%84%EA%B3%BC_%ED%91%9C%EC%A0%95_%EB%B6%84%EC%84%9D%ED%95%98%EA%B8%B0.ipynb\" target=\"_parent\"><img src=\"https://colab.research.google.com/assets/colab-badge.svg\" alt=\"Open In Colab\"/></a>"
      ]
    },
    {
      "cell_type": "markdown",
      "metadata": {
        "id": "BDT9i8QLzfXg"
      },
      "source": [
        "# 주제 : 성별과 웃음 여부를 동시에 판단하는 모델을 만들어보자\n",
        "--------------\n",
        "## 실습 가이드\n",
        "    1. 데이터를 다운로드하여 Colab에 불러옵니다.\n",
        "    2. 필요한 라이브러리는 모두 코드로 작성되어 있습니다.\n",
        "    3. 코드는 위에서부터 아래로 순서대로 실행합니다.\n",
        "    4. 전체 문제 구성은 좌측 첫 번째 아이콘을 통해 확인할 수 있습니다.\n",
        "\n",
        "## 데이터 소개\n",
        "    - 이번 주제의 데이터는 얼굴 데이터로 유명한 celeba dataset을 이용합니다.\n",
        "  ![celeba dataset](https://storage.googleapis.com/tfds-data/visualization/fig/celeb_a-2.0.1.png)\n",
        "\n",
        "     위의 이미지는 다음과 같은 것을 보여줍니다.  \n",
        "    - 10,177 개의 신원 \n",
        "    - 얼굴 이미지 수 202,599 개\n",
        "    - 5 개의 랜드 마크 위치, 이미지 당 40 개의 바이너리 속성 주석\n",
        "      - 성별\n",
        "      - 큰 코\n",
        "      - 매력적\n",
        "      - 젊음\n",
        "      - 웃음 여부\n",
        "      - 모자 착용 여부\n",
        "      - 안경 착요 여부\n",
        "      - etc\n",
        "\n",
        "\n",
        "\n",
        "- 데이터 출처:\n",
        " - [celeba dataset](https://www.tensorflow.org/datasets/catalog/celeb_a)\n",
        " - [celeba small](https://drive.google.com/file/d/1t2qIgpWdWX_n5OC8P2ZiDfPIQ98NY_PB/view?usp=sharing)\n",
        "\n",
        "## 최종 목표\n",
        "\n",
        "    - 작게 줄인 celeba 데이터를 이용하여 웃음, 성별 동시 구분\n",
        "    - 한 모델에서 여러 결과에 대한 분석을 하는 방법\n",
        "    - 큰 사진을 작게 줄이기\n",
        "\n",
        "* 출제자 : 손근영 강사\n",
        "---------------\n"
      ]
    },
    {
      "cell_type": "code",
      "metadata": {
        "id": "mUteMBoWzfXn"
      },
      "source": [
        "import tensorflow as tf\n",
        "from tensorflow import keras\n",
        "from keras.layers import Dense\n",
        "from keras.models import Sequential\n",
        "\n",
        "import pandas as pd\n",
        "import numpy as np\n",
        "import matplotlib.pyplot as plt\n",
        "import seaborn as sns\n",
        "import warnings \n",
        "from IPython.display import Image\n",
        "\n",
        "warnings.filterwarnings('ignore')\n",
        "%matplotlib inline\n",
        "\n",
        "SEED = 34\n"
      ],
      "execution_count": null,
      "outputs": []
    },
    {
      "cell_type": "markdown",
      "metadata": {
        "id": "A5NviQ1BzfXo"
      },
      "source": [
        "## Step 1. 도입전 기본 처리"
      ]
    },
    {
      "cell_type": "markdown",
      "metadata": {
        "id": "EmGJVKBrzfXo"
      },
      "source": [
        "### 문제 1. tfds를 이용하여 데이터셋 사용하기"
      ]
    },
    {
      "cell_type": "code",
      "metadata": {
        "id": "vgjOE7bMzfXo",
        "colab": {
          "base_uri": "https://localhost:8080/"
        },
        "outputId": "ef7c8569-0c18-4080-fe7b-c2b2e7871cc2"
      },
      "source": [
        "# tfds를 이용하여 데이터셋 사용하기\n",
        "import tensorflow_datasets as tfds \n",
        "tfds.list_builders()"
      ],
      "execution_count": null,
      "outputs": [
        {
          "output_type": "execute_result",
          "data": {
            "text/plain": [
              "['abstract_reasoning',\n",
              " 'accentdb',\n",
              " 'aeslc',\n",
              " 'aflw2k3d',\n",
              " 'ag_news_subset',\n",
              " 'ai2_arc',\n",
              " 'ai2_arc_with_ir',\n",
              " 'amazon_us_reviews',\n",
              " 'anli',\n",
              " 'arc',\n",
              " 'bair_robot_pushing_small',\n",
              " 'bccd',\n",
              " 'beans',\n",
              " 'big_patent',\n",
              " 'bigearthnet',\n",
              " 'billsum',\n",
              " 'binarized_mnist',\n",
              " 'binary_alpha_digits',\n",
              " 'blimp',\n",
              " 'bool_q',\n",
              " 'c4',\n",
              " 'caltech101',\n",
              " 'caltech_birds2010',\n",
              " 'caltech_birds2011',\n",
              " 'cars196',\n",
              " 'cassava',\n",
              " 'cats_vs_dogs',\n",
              " 'celeb_a',\n",
              " 'celeb_a_hq',\n",
              " 'cfq',\n",
              " 'chexpert',\n",
              " 'cifar10',\n",
              " 'cifar100',\n",
              " 'cifar10_1',\n",
              " 'cifar10_corrupted',\n",
              " 'citrus_leaves',\n",
              " 'cityscapes',\n",
              " 'civil_comments',\n",
              " 'clevr',\n",
              " 'clic',\n",
              " 'clinc_oos',\n",
              " 'cmaterdb',\n",
              " 'cnn_dailymail',\n",
              " 'coco',\n",
              " 'coco_captions',\n",
              " 'coil100',\n",
              " 'colorectal_histology',\n",
              " 'colorectal_histology_large',\n",
              " 'common_voice',\n",
              " 'coqa',\n",
              " 'cos_e',\n",
              " 'cosmos_qa',\n",
              " 'covid19sum',\n",
              " 'crema_d',\n",
              " 'curated_breast_imaging_ddsm',\n",
              " 'cycle_gan',\n",
              " 'deep_weeds',\n",
              " 'definite_pronoun_resolution',\n",
              " 'dementiabank',\n",
              " 'diabetic_retinopathy_detection',\n",
              " 'div2k',\n",
              " 'dmlab',\n",
              " 'downsampled_imagenet',\n",
              " 'dsprites',\n",
              " 'dtd',\n",
              " 'duke_ultrasound',\n",
              " 'emnist',\n",
              " 'eraser_multi_rc',\n",
              " 'esnli',\n",
              " 'eurosat',\n",
              " 'fashion_mnist',\n",
              " 'flic',\n",
              " 'flores',\n",
              " 'food101',\n",
              " 'forest_fires',\n",
              " 'fuss',\n",
              " 'gap',\n",
              " 'geirhos_conflict_stimuli',\n",
              " 'genomics_ood',\n",
              " 'german_credit_numeric',\n",
              " 'gigaword',\n",
              " 'glue',\n",
              " 'goemotions',\n",
              " 'gpt3',\n",
              " 'groove',\n",
              " 'gtzan',\n",
              " 'gtzan_music_speech',\n",
              " 'hellaswag',\n",
              " 'higgs',\n",
              " 'horses_or_humans',\n",
              " 'i_naturalist2017',\n",
              " 'imagenet2012',\n",
              " 'imagenet2012_corrupted',\n",
              " 'imagenet2012_real',\n",
              " 'imagenet2012_subset',\n",
              " 'imagenet_a',\n",
              " 'imagenet_r',\n",
              " 'imagenet_resized',\n",
              " 'imagenet_v2',\n",
              " 'imagenette',\n",
              " 'imagewang',\n",
              " 'imdb_reviews',\n",
              " 'irc_disentanglement',\n",
              " 'iris',\n",
              " 'kitti',\n",
              " 'kmnist',\n",
              " 'lfw',\n",
              " 'librispeech',\n",
              " 'librispeech_lm',\n",
              " 'libritts',\n",
              " 'ljspeech',\n",
              " 'lm1b',\n",
              " 'lost_and_found',\n",
              " 'lsun',\n",
              " 'malaria',\n",
              " 'math_dataset',\n",
              " 'mctaco',\n",
              " 'mnist',\n",
              " 'mnist_corrupted',\n",
              " 'movie_lens',\n",
              " 'movie_rationales',\n",
              " 'movielens',\n",
              " 'moving_mnist',\n",
              " 'multi_news',\n",
              " 'multi_nli',\n",
              " 'multi_nli_mismatch',\n",
              " 'natural_questions',\n",
              " 'natural_questions_open',\n",
              " 'newsroom',\n",
              " 'nsynth',\n",
              " 'nyu_depth_v2',\n",
              " 'omniglot',\n",
              " 'open_images_challenge2019_detection',\n",
              " 'open_images_v4',\n",
              " 'openbookqa',\n",
              " 'opinion_abstracts',\n",
              " 'opinosis',\n",
              " 'opus',\n",
              " 'oxford_flowers102',\n",
              " 'oxford_iiit_pet',\n",
              " 'para_crawl',\n",
              " 'patch_camelyon',\n",
              " 'paws_wiki',\n",
              " 'paws_x_wiki',\n",
              " 'pet_finder',\n",
              " 'pg19',\n",
              " 'places365_small',\n",
              " 'plant_leaves',\n",
              " 'plant_village',\n",
              " 'plantae_k',\n",
              " 'qa4mre',\n",
              " 'qasc',\n",
              " 'quickdraw_bitmap',\n",
              " 'radon',\n",
              " 'reddit',\n",
              " 'reddit_disentanglement',\n",
              " 'reddit_tifu',\n",
              " 'resisc45',\n",
              " 'robonet',\n",
              " 'rock_paper_scissors',\n",
              " 'rock_you',\n",
              " 'salient_span_wikipedia',\n",
              " 'samsum',\n",
              " 'savee',\n",
              " 'scan',\n",
              " 'scene_parse150',\n",
              " 'scicite',\n",
              " 'scientific_papers',\n",
              " 'sentiment140',\n",
              " 'shapes3d',\n",
              " 'smallnorb',\n",
              " 'snli',\n",
              " 'so2sat',\n",
              " 'speech_commands',\n",
              " 'spoken_digit',\n",
              " 'squad',\n",
              " 'stanford_dogs',\n",
              " 'stanford_online_products',\n",
              " 'starcraft_video',\n",
              " 'stl10',\n",
              " 'sun397',\n",
              " 'super_glue',\n",
              " 'svhn_cropped',\n",
              " 'ted_hrlr_translate',\n",
              " 'ted_multi_translate',\n",
              " 'tedlium',\n",
              " 'tf_flowers',\n",
              " 'the300w_lp',\n",
              " 'tiny_shakespeare',\n",
              " 'titanic',\n",
              " 'trec',\n",
              " 'trivia_qa',\n",
              " 'tydi_qa',\n",
              " 'uc_merced',\n",
              " 'ucf101',\n",
              " 'vctk',\n",
              " 'vgg_face2',\n",
              " 'visual_domain_decathlon',\n",
              " 'voc',\n",
              " 'voxceleb',\n",
              " 'voxforge',\n",
              " 'waymo_open_dataset',\n",
              " 'web_questions',\n",
              " 'wider_face',\n",
              " 'wiki40b',\n",
              " 'wikihow',\n",
              " 'wikipedia',\n",
              " 'wikipedia_toxicity_subtypes',\n",
              " 'wine_quality',\n",
              " 'winogrande',\n",
              " 'wmt14_translate',\n",
              " 'wmt15_translate',\n",
              " 'wmt16_translate',\n",
              " 'wmt17_translate',\n",
              " 'wmt18_translate',\n",
              " 'wmt19_translate',\n",
              " 'wmt_t2t_translate',\n",
              " 'wmt_translate',\n",
              " 'wordnet',\n",
              " 'xnli',\n",
              " 'xquad',\n",
              " 'xsum',\n",
              " 'yelp_polarity_reviews',\n",
              " 'yes_no']"
            ]
          },
          "metadata": {
            "tags": []
          },
          "execution_count": 2
        }
      ]
    },
    {
      "cell_type": "markdown",
      "metadata": {
        "id": "MrGNvmdSzfXp"
      },
      "source": [
        "### 문제 2. celeba의 정보중 이용할 데이터만 추출"
      ]
    },
    {
      "cell_type": "code",
      "metadata": {
        "id": "dBVjCFEXzfXp",
        "colab": {
          "base_uri": "https://localhost:8080/",
          "height": 548,
          "referenced_widgets": [
            "97b87eec3fd5495ea59bf3293634aba5",
            "76a066ac2649456f9bf8f217b1154458",
            "cc87d30234824ac39587bfb6cce9231b",
            "e0081be6ad8a4aa485c510cfc1d62fd1",
            "39a029e3feee4fcca348e42c143412b7",
            "8786235875224412953fd4a919401e0b",
            "3454ec044c4d4a36aafd4d3197d536dc",
            "d2965fc46116454bbde584a2c127a9d4",
            "5460a7e2ea894b43aaae5fac9f185584",
            "15d95084a89041a19dff1d8035760e17",
            "859ea992224a48939fa4231594f995cc",
            "b193e47e04184b27b696bd0f2009c6f5",
            "22f4ac49ecad4ce4ae69a0a03b41fdc4",
            "0d40bac31b564de083bff4b08984486f",
            "be0b990961ad4e1aa75504edb9fef7ef",
            "cddce9a29ed642f5a11cb1835e9c6b12"
          ]
        },
        "outputId": "b9f0e8b7-ae56-4356-9c15-9cead998597c"
      },
      "source": [
        "# celeba의 정보중 이용할 데이터만 추출\n",
        "celeb_a = tfds.load('celeb_a')"
      ],
      "execution_count": null,
      "outputs": [
        {
          "output_type": "stream",
          "text": [
            "\u001b[1mDownloading and preparing dataset celeb_a/2.0.1 (download: 1.38 GiB, generated: 1.62 GiB, total: 3.00 GiB) to /root/tensorflow_datasets/celeb_a/2.0.1...\u001b[0m\n"
          ],
          "name": "stdout"
        },
        {
          "output_type": "display_data",
          "data": {
            "application/vnd.jupyter.widget-view+json": {
              "model_id": "97b87eec3fd5495ea59bf3293634aba5",
              "version_minor": 0,
              "version_major": 2
            },
            "text/plain": [
              "HBox(children=(FloatProgress(value=1.0, bar_style='info', description='Dl Completed...', max=1.0, style=Progre…"
            ]
          },
          "metadata": {
            "tags": []
          }
        },
        {
          "output_type": "display_data",
          "data": {
            "application/vnd.jupyter.widget-view+json": {
              "model_id": "5460a7e2ea894b43aaae5fac9f185584",
              "version_minor": 0,
              "version_major": 2
            },
            "text/plain": [
              "HBox(children=(FloatProgress(value=1.0, bar_style='info', description='Dl Size...', max=1.0, style=ProgressSty…"
            ]
          },
          "metadata": {
            "tags": []
          }
        },
        {
          "output_type": "stream",
          "text": [
            "\n",
            "\n"
          ],
          "name": "stdout"
        },
        {
          "output_type": "error",
          "ename": "NonMatchingChecksumError",
          "evalue": "ignored",
          "traceback": [
            "\u001b[0;31m---------------------------------------------------------------------------\u001b[0m",
            "\u001b[0;31mNonMatchingChecksumError\u001b[0m                  Traceback (most recent call last)",
            "\u001b[0;32m<ipython-input-3-906a8cda52a2>\u001b[0m in \u001b[0;36m<module>\u001b[0;34m()\u001b[0m\n\u001b[1;32m      1\u001b[0m \u001b[0;31m# celeba의 정보중 이용할 데이터만 추출\u001b[0m\u001b[0;34m\u001b[0m\u001b[0;34m\u001b[0m\u001b[0;34m\u001b[0m\u001b[0m\n\u001b[0;32m----> 2\u001b[0;31m \u001b[0mceleb_a\u001b[0m \u001b[0;34m=\u001b[0m \u001b[0mtfds\u001b[0m\u001b[0;34m.\u001b[0m\u001b[0mload\u001b[0m\u001b[0;34m(\u001b[0m\u001b[0;34m'celeb_a'\u001b[0m\u001b[0;34m)\u001b[0m\u001b[0;34m\u001b[0m\u001b[0;34m\u001b[0m\u001b[0m\n\u001b[0m",
            "\u001b[0;32m/usr/local/lib/python3.7/dist-packages/tensorflow_datasets/core/load.py\u001b[0m in \u001b[0;36mload\u001b[0;34m(name, split, data_dir, batch_size, shuffle_files, download, as_supervised, decoders, read_config, with_info, builder_kwargs, download_and_prepare_kwargs, as_dataset_kwargs, try_gcs)\u001b[0m\n\u001b[1;32m    342\u001b[0m   \u001b[0;32mif\u001b[0m \u001b[0mdownload\u001b[0m\u001b[0;34m:\u001b[0m\u001b[0;34m\u001b[0m\u001b[0;34m\u001b[0m\u001b[0m\n\u001b[1;32m    343\u001b[0m     \u001b[0mdownload_and_prepare_kwargs\u001b[0m \u001b[0;34m=\u001b[0m \u001b[0mdownload_and_prepare_kwargs\u001b[0m \u001b[0;32mor\u001b[0m \u001b[0;34m{\u001b[0m\u001b[0;34m}\u001b[0m\u001b[0;34m\u001b[0m\u001b[0;34m\u001b[0m\u001b[0m\n\u001b[0;32m--> 344\u001b[0;31m     \u001b[0mdbuilder\u001b[0m\u001b[0;34m.\u001b[0m\u001b[0mdownload_and_prepare\u001b[0m\u001b[0;34m(\u001b[0m\u001b[0;34m**\u001b[0m\u001b[0mdownload_and_prepare_kwargs\u001b[0m\u001b[0;34m)\u001b[0m\u001b[0;34m\u001b[0m\u001b[0;34m\u001b[0m\u001b[0m\n\u001b[0m\u001b[1;32m    345\u001b[0m \u001b[0;34m\u001b[0m\u001b[0m\n\u001b[1;32m    346\u001b[0m   \u001b[0;32mif\u001b[0m \u001b[0mas_dataset_kwargs\u001b[0m \u001b[0;32mis\u001b[0m \u001b[0;32mNone\u001b[0m\u001b[0;34m:\u001b[0m\u001b[0;34m\u001b[0m\u001b[0;34m\u001b[0m\u001b[0m\n",
            "\u001b[0;32m/usr/local/lib/python3.7/dist-packages/tensorflow_datasets/core/dataset_builder.py\u001b[0m in \u001b[0;36mdownload_and_prepare\u001b[0;34m(self, download_dir, download_config)\u001b[0m\n\u001b[1;32m    385\u001b[0m           self._download_and_prepare(\n\u001b[1;32m    386\u001b[0m               \u001b[0mdl_manager\u001b[0m\u001b[0;34m=\u001b[0m\u001b[0mdl_manager\u001b[0m\u001b[0;34m,\u001b[0m\u001b[0;34m\u001b[0m\u001b[0;34m\u001b[0m\u001b[0m\n\u001b[0;32m--> 387\u001b[0;31m               download_config=download_config)\n\u001b[0m\u001b[1;32m    388\u001b[0m \u001b[0;34m\u001b[0m\u001b[0m\n\u001b[1;32m    389\u001b[0m           \u001b[0;31m# NOTE: If modifying the lines below to put additional information in\u001b[0m\u001b[0;34m\u001b[0m\u001b[0;34m\u001b[0m\u001b[0;34m\u001b[0m\u001b[0m\n",
            "\u001b[0;32m/usr/local/lib/python3.7/dist-packages/tensorflow_datasets/core/dataset_builder.py\u001b[0m in \u001b[0;36m_download_and_prepare\u001b[0;34m(self, dl_manager, download_config)\u001b[0m\n\u001b[1;32m   1022\u001b[0m     super(GeneratorBasedBuilder, self)._download_and_prepare(\n\u001b[1;32m   1023\u001b[0m         \u001b[0mdl_manager\u001b[0m\u001b[0;34m=\u001b[0m\u001b[0mdl_manager\u001b[0m\u001b[0;34m,\u001b[0m\u001b[0;34m\u001b[0m\u001b[0;34m\u001b[0m\u001b[0m\n\u001b[0;32m-> 1024\u001b[0;31m         \u001b[0mmax_examples_per_split\u001b[0m\u001b[0;34m=\u001b[0m\u001b[0mdownload_config\u001b[0m\u001b[0;34m.\u001b[0m\u001b[0mmax_examples_per_split\u001b[0m\u001b[0;34m,\u001b[0m\u001b[0;34m\u001b[0m\u001b[0;34m\u001b[0m\u001b[0m\n\u001b[0m\u001b[1;32m   1025\u001b[0m     )\n\u001b[1;32m   1026\u001b[0m \u001b[0;34m\u001b[0m\u001b[0m\n",
            "\u001b[0;32m/usr/local/lib/python3.7/dist-packages/tensorflow_datasets/core/dataset_builder.py\u001b[0m in \u001b[0;36m_download_and_prepare\u001b[0;34m(self, dl_manager, **prepare_split_kwargs)\u001b[0m\n\u001b[1;32m    960\u001b[0m         prepare_split_kwargs)\n\u001b[1;32m    961\u001b[0m     for split_generator in self._split_generators(\n\u001b[0;32m--> 962\u001b[0;31m         dl_manager, **split_generators_kwargs):\n\u001b[0m\u001b[1;32m    963\u001b[0m       \u001b[0;32mif\u001b[0m \u001b[0mstr\u001b[0m\u001b[0;34m(\u001b[0m\u001b[0msplit_generator\u001b[0m\u001b[0;34m.\u001b[0m\u001b[0msplit_info\u001b[0m\u001b[0;34m.\u001b[0m\u001b[0mname\u001b[0m\u001b[0;34m)\u001b[0m\u001b[0;34m.\u001b[0m\u001b[0mlower\u001b[0m\u001b[0;34m(\u001b[0m\u001b[0;34m)\u001b[0m \u001b[0;34m==\u001b[0m \u001b[0;34m\"all\"\u001b[0m\u001b[0;34m:\u001b[0m\u001b[0;34m\u001b[0m\u001b[0;34m\u001b[0m\u001b[0m\n\u001b[1;32m    964\u001b[0m         raise ValueError(\n",
            "\u001b[0;32m/usr/local/lib/python3.7/dist-packages/tensorflow_datasets/image/celeba.py\u001b[0m in \u001b[0;36m_split_generators\u001b[0;34m(self, dl_manager)\u001b[0m\n\u001b[1;32m    130\u001b[0m         \u001b[0;34m\"list_eval_partition\"\u001b[0m\u001b[0;34m:\u001b[0m \u001b[0mEVAL_LIST\u001b[0m\u001b[0;34m,\u001b[0m\u001b[0;34m\u001b[0m\u001b[0;34m\u001b[0m\u001b[0m\n\u001b[1;32m    131\u001b[0m         \u001b[0;34m\"list_attr_celeba\"\u001b[0m\u001b[0;34m:\u001b[0m \u001b[0mATTR_DATA\u001b[0m\u001b[0;34m,\u001b[0m\u001b[0;34m\u001b[0m\u001b[0;34m\u001b[0m\u001b[0m\n\u001b[0;32m--> 132\u001b[0;31m         \u001b[0;34m\"landmarks_celeba\"\u001b[0m\u001b[0;34m:\u001b[0m \u001b[0mLANDMARKS_DATA\u001b[0m\u001b[0;34m,\u001b[0m\u001b[0;34m\u001b[0m\u001b[0;34m\u001b[0m\u001b[0m\n\u001b[0m\u001b[1;32m    133\u001b[0m     })\n\u001b[1;32m    134\u001b[0m \u001b[0;34m\u001b[0m\u001b[0m\n",
            "\u001b[0;32m/usr/local/lib/python3.7/dist-packages/tensorflow_datasets/core/download/download_manager.py\u001b[0m in \u001b[0;36mdownload\u001b[0;34m(self, url_or_urls)\u001b[0m\n\u001b[1;32m    543\u001b[0m     \u001b[0;31m# Add progress bar to follow the download state\u001b[0m\u001b[0;34m\u001b[0m\u001b[0;34m\u001b[0m\u001b[0;34m\u001b[0m\u001b[0m\n\u001b[1;32m    544\u001b[0m     \u001b[0;32mwith\u001b[0m \u001b[0mself\u001b[0m\u001b[0;34m.\u001b[0m\u001b[0m_downloader\u001b[0m\u001b[0;34m.\u001b[0m\u001b[0mtqdm\u001b[0m\u001b[0;34m(\u001b[0m\u001b[0;34m)\u001b[0m\u001b[0;34m:\u001b[0m\u001b[0;34m\u001b[0m\u001b[0;34m\u001b[0m\u001b[0m\n\u001b[0;32m--> 545\u001b[0;31m       \u001b[0;32mreturn\u001b[0m \u001b[0m_map_promise\u001b[0m\u001b[0;34m(\u001b[0m\u001b[0mself\u001b[0m\u001b[0;34m.\u001b[0m\u001b[0m_download\u001b[0m\u001b[0;34m,\u001b[0m \u001b[0murl_or_urls\u001b[0m\u001b[0;34m)\u001b[0m\u001b[0;34m\u001b[0m\u001b[0;34m\u001b[0m\u001b[0m\n\u001b[0m\u001b[1;32m    546\u001b[0m \u001b[0;34m\u001b[0m\u001b[0m\n\u001b[1;32m    547\u001b[0m   \u001b[0;32mdef\u001b[0m \u001b[0miter_archive\u001b[0m\u001b[0;34m(\u001b[0m\u001b[0mself\u001b[0m\u001b[0;34m,\u001b[0m \u001b[0mresource\u001b[0m\u001b[0;34m)\u001b[0m\u001b[0;34m:\u001b[0m\u001b[0;34m\u001b[0m\u001b[0;34m\u001b[0m\u001b[0m\n",
            "\u001b[0;32m/usr/local/lib/python3.7/dist-packages/tensorflow_datasets/core/download/download_manager.py\u001b[0m in \u001b[0;36m_map_promise\u001b[0;34m(map_fn, all_inputs)\u001b[0m\n\u001b[1;32m    634\u001b[0m   \u001b[0;34m\"\"\"Map the function into each element and resolve the promise.\"\"\"\u001b[0m\u001b[0;34m\u001b[0m\u001b[0;34m\u001b[0m\u001b[0m\n\u001b[1;32m    635\u001b[0m   \u001b[0mall_promises\u001b[0m \u001b[0;34m=\u001b[0m \u001b[0mtf\u001b[0m\u001b[0;34m.\u001b[0m\u001b[0mnest\u001b[0m\u001b[0;34m.\u001b[0m\u001b[0mmap_structure\u001b[0m\u001b[0;34m(\u001b[0m\u001b[0mmap_fn\u001b[0m\u001b[0;34m,\u001b[0m \u001b[0mall_inputs\u001b[0m\u001b[0;34m)\u001b[0m  \u001b[0;31m# Apply the function\u001b[0m\u001b[0;34m\u001b[0m\u001b[0;34m\u001b[0m\u001b[0m\n\u001b[0;32m--> 636\u001b[0;31m   \u001b[0mres\u001b[0m \u001b[0;34m=\u001b[0m \u001b[0mtf\u001b[0m\u001b[0;34m.\u001b[0m\u001b[0mnest\u001b[0m\u001b[0;34m.\u001b[0m\u001b[0mmap_structure\u001b[0m\u001b[0;34m(\u001b[0m\u001b[0;32mlambda\u001b[0m \u001b[0mp\u001b[0m\u001b[0;34m:\u001b[0m \u001b[0mp\u001b[0m\u001b[0;34m.\u001b[0m\u001b[0mget\u001b[0m\u001b[0;34m(\u001b[0m\u001b[0;34m)\u001b[0m\u001b[0;34m,\u001b[0m \u001b[0mall_promises\u001b[0m\u001b[0;34m)\u001b[0m  \u001b[0;31m# Wait promises\u001b[0m\u001b[0;34m\u001b[0m\u001b[0;34m\u001b[0m\u001b[0m\n\u001b[0m\u001b[1;32m    637\u001b[0m   \u001b[0;32mreturn\u001b[0m \u001b[0mres\u001b[0m\u001b[0;34m\u001b[0m\u001b[0;34m\u001b[0m\u001b[0m\n",
            "\u001b[0;32m/usr/local/lib/python3.7/dist-packages/tensorflow/python/util/nest.py\u001b[0m in \u001b[0;36mmap_structure\u001b[0;34m(func, *structure, **kwargs)\u001b[0m\n\u001b[1;32m    865\u001b[0m \u001b[0;34m\u001b[0m\u001b[0m\n\u001b[1;32m    866\u001b[0m   return pack_sequence_as(\n\u001b[0;32m--> 867\u001b[0;31m       \u001b[0mstructure\u001b[0m\u001b[0;34m[\u001b[0m\u001b[0;36m0\u001b[0m\u001b[0;34m]\u001b[0m\u001b[0;34m,\u001b[0m \u001b[0;34m[\u001b[0m\u001b[0mfunc\u001b[0m\u001b[0;34m(\u001b[0m\u001b[0;34m*\u001b[0m\u001b[0mx\u001b[0m\u001b[0;34m)\u001b[0m \u001b[0;32mfor\u001b[0m \u001b[0mx\u001b[0m \u001b[0;32min\u001b[0m \u001b[0mentries\u001b[0m\u001b[0;34m]\u001b[0m\u001b[0;34m,\u001b[0m\u001b[0;34m\u001b[0m\u001b[0;34m\u001b[0m\u001b[0m\n\u001b[0m\u001b[1;32m    868\u001b[0m       expand_composites=expand_composites)\n\u001b[1;32m    869\u001b[0m \u001b[0;34m\u001b[0m\u001b[0m\n",
            "\u001b[0;32m/usr/local/lib/python3.7/dist-packages/tensorflow/python/util/nest.py\u001b[0m in \u001b[0;36m<listcomp>\u001b[0;34m(.0)\u001b[0m\n\u001b[1;32m    865\u001b[0m \u001b[0;34m\u001b[0m\u001b[0m\n\u001b[1;32m    866\u001b[0m   return pack_sequence_as(\n\u001b[0;32m--> 867\u001b[0;31m       \u001b[0mstructure\u001b[0m\u001b[0;34m[\u001b[0m\u001b[0;36m0\u001b[0m\u001b[0;34m]\u001b[0m\u001b[0;34m,\u001b[0m \u001b[0;34m[\u001b[0m\u001b[0mfunc\u001b[0m\u001b[0;34m(\u001b[0m\u001b[0;34m*\u001b[0m\u001b[0mx\u001b[0m\u001b[0;34m)\u001b[0m \u001b[0;32mfor\u001b[0m \u001b[0mx\u001b[0m \u001b[0;32min\u001b[0m \u001b[0mentries\u001b[0m\u001b[0;34m]\u001b[0m\u001b[0;34m,\u001b[0m\u001b[0;34m\u001b[0m\u001b[0;34m\u001b[0m\u001b[0m\n\u001b[0m\u001b[1;32m    868\u001b[0m       expand_composites=expand_composites)\n\u001b[1;32m    869\u001b[0m \u001b[0;34m\u001b[0m\u001b[0m\n",
            "\u001b[0;32m/usr/local/lib/python3.7/dist-packages/tensorflow_datasets/core/download/download_manager.py\u001b[0m in \u001b[0;36m<lambda>\u001b[0;34m(p)\u001b[0m\n\u001b[1;32m    634\u001b[0m   \u001b[0;34m\"\"\"Map the function into each element and resolve the promise.\"\"\"\u001b[0m\u001b[0;34m\u001b[0m\u001b[0;34m\u001b[0m\u001b[0m\n\u001b[1;32m    635\u001b[0m   \u001b[0mall_promises\u001b[0m \u001b[0;34m=\u001b[0m \u001b[0mtf\u001b[0m\u001b[0;34m.\u001b[0m\u001b[0mnest\u001b[0m\u001b[0;34m.\u001b[0m\u001b[0mmap_structure\u001b[0m\u001b[0;34m(\u001b[0m\u001b[0mmap_fn\u001b[0m\u001b[0;34m,\u001b[0m \u001b[0mall_inputs\u001b[0m\u001b[0;34m)\u001b[0m  \u001b[0;31m# Apply the function\u001b[0m\u001b[0;34m\u001b[0m\u001b[0;34m\u001b[0m\u001b[0m\n\u001b[0;32m--> 636\u001b[0;31m   \u001b[0mres\u001b[0m \u001b[0;34m=\u001b[0m \u001b[0mtf\u001b[0m\u001b[0;34m.\u001b[0m\u001b[0mnest\u001b[0m\u001b[0;34m.\u001b[0m\u001b[0mmap_structure\u001b[0m\u001b[0;34m(\u001b[0m\u001b[0;32mlambda\u001b[0m \u001b[0mp\u001b[0m\u001b[0;34m:\u001b[0m \u001b[0mp\u001b[0m\u001b[0;34m.\u001b[0m\u001b[0mget\u001b[0m\u001b[0;34m(\u001b[0m\u001b[0;34m)\u001b[0m\u001b[0;34m,\u001b[0m \u001b[0mall_promises\u001b[0m\u001b[0;34m)\u001b[0m  \u001b[0;31m# Wait promises\u001b[0m\u001b[0;34m\u001b[0m\u001b[0;34m\u001b[0m\u001b[0m\n\u001b[0m\u001b[1;32m    637\u001b[0m   \u001b[0;32mreturn\u001b[0m \u001b[0mres\u001b[0m\u001b[0;34m\u001b[0m\u001b[0;34m\u001b[0m\u001b[0m\n",
            "\u001b[0;32m/usr/local/lib/python3.7/dist-packages/promise/promise.py\u001b[0m in \u001b[0;36mget\u001b[0;34m(self, timeout)\u001b[0m\n\u001b[1;32m    510\u001b[0m         \u001b[0mtarget\u001b[0m \u001b[0;34m=\u001b[0m \u001b[0mself\u001b[0m\u001b[0;34m.\u001b[0m\u001b[0m_target\u001b[0m\u001b[0;34m(\u001b[0m\u001b[0;34m)\u001b[0m\u001b[0;34m\u001b[0m\u001b[0;34m\u001b[0m\u001b[0m\n\u001b[1;32m    511\u001b[0m         \u001b[0mself\u001b[0m\u001b[0;34m.\u001b[0m\u001b[0m_wait\u001b[0m\u001b[0;34m(\u001b[0m\u001b[0mtimeout\u001b[0m \u001b[0;32mor\u001b[0m \u001b[0mDEFAULT_TIMEOUT\u001b[0m\u001b[0;34m)\u001b[0m\u001b[0;34m\u001b[0m\u001b[0;34m\u001b[0m\u001b[0m\n\u001b[0;32m--> 512\u001b[0;31m         \u001b[0;32mreturn\u001b[0m \u001b[0mself\u001b[0m\u001b[0;34m.\u001b[0m\u001b[0m_target_settled_value\u001b[0m\u001b[0;34m(\u001b[0m\u001b[0m_raise\u001b[0m\u001b[0;34m=\u001b[0m\u001b[0;32mTrue\u001b[0m\u001b[0;34m)\u001b[0m\u001b[0;34m\u001b[0m\u001b[0;34m\u001b[0m\u001b[0m\n\u001b[0m\u001b[1;32m    513\u001b[0m \u001b[0;34m\u001b[0m\u001b[0m\n\u001b[1;32m    514\u001b[0m     \u001b[0;32mdef\u001b[0m \u001b[0m_target_settled_value\u001b[0m\u001b[0;34m(\u001b[0m\u001b[0mself\u001b[0m\u001b[0;34m,\u001b[0m \u001b[0m_raise\u001b[0m\u001b[0;34m=\u001b[0m\u001b[0;32mFalse\u001b[0m\u001b[0;34m)\u001b[0m\u001b[0;34m:\u001b[0m\u001b[0;34m\u001b[0m\u001b[0;34m\u001b[0m\u001b[0m\n",
            "\u001b[0;32m/usr/local/lib/python3.7/dist-packages/promise/promise.py\u001b[0m in \u001b[0;36m_target_settled_value\u001b[0;34m(self, _raise)\u001b[0m\n\u001b[1;32m    514\u001b[0m     \u001b[0;32mdef\u001b[0m \u001b[0m_target_settled_value\u001b[0m\u001b[0;34m(\u001b[0m\u001b[0mself\u001b[0m\u001b[0;34m,\u001b[0m \u001b[0m_raise\u001b[0m\u001b[0;34m=\u001b[0m\u001b[0;32mFalse\u001b[0m\u001b[0;34m)\u001b[0m\u001b[0;34m:\u001b[0m\u001b[0;34m\u001b[0m\u001b[0;34m\u001b[0m\u001b[0m\n\u001b[1;32m    515\u001b[0m         \u001b[0;31m# type: (bool) -> Any\u001b[0m\u001b[0;34m\u001b[0m\u001b[0;34m\u001b[0m\u001b[0;34m\u001b[0m\u001b[0m\n\u001b[0;32m--> 516\u001b[0;31m         \u001b[0;32mreturn\u001b[0m \u001b[0mself\u001b[0m\u001b[0;34m.\u001b[0m\u001b[0m_target\u001b[0m\u001b[0;34m(\u001b[0m\u001b[0;34m)\u001b[0m\u001b[0;34m.\u001b[0m\u001b[0m_settled_value\u001b[0m\u001b[0;34m(\u001b[0m\u001b[0m_raise\u001b[0m\u001b[0;34m)\u001b[0m\u001b[0;34m\u001b[0m\u001b[0;34m\u001b[0m\u001b[0m\n\u001b[0m\u001b[1;32m    517\u001b[0m \u001b[0;34m\u001b[0m\u001b[0m\n\u001b[1;32m    518\u001b[0m     \u001b[0m_value\u001b[0m \u001b[0;34m=\u001b[0m \u001b[0m_reason\u001b[0m \u001b[0;34m=\u001b[0m \u001b[0m_target_settled_value\u001b[0m\u001b[0;34m\u001b[0m\u001b[0;34m\u001b[0m\u001b[0m\n",
            "\u001b[0;32m/usr/local/lib/python3.7/dist-packages/promise/promise.py\u001b[0m in \u001b[0;36m_settled_value\u001b[0;34m(self, _raise)\u001b[0m\n\u001b[1;32m    224\u001b[0m             \u001b[0;32mif\u001b[0m \u001b[0m_raise\u001b[0m\u001b[0;34m:\u001b[0m\u001b[0;34m\u001b[0m\u001b[0;34m\u001b[0m\u001b[0m\n\u001b[1;32m    225\u001b[0m                 \u001b[0mraise_val\u001b[0m \u001b[0;34m=\u001b[0m \u001b[0mself\u001b[0m\u001b[0;34m.\u001b[0m\u001b[0m_fulfillment_handler0\u001b[0m\u001b[0;34m\u001b[0m\u001b[0;34m\u001b[0m\u001b[0m\n\u001b[0;32m--> 226\u001b[0;31m                 \u001b[0mreraise\u001b[0m\u001b[0;34m(\u001b[0m\u001b[0mtype\u001b[0m\u001b[0;34m(\u001b[0m\u001b[0mraise_val\u001b[0m\u001b[0;34m)\u001b[0m\u001b[0;34m,\u001b[0m \u001b[0mraise_val\u001b[0m\u001b[0;34m,\u001b[0m \u001b[0mself\u001b[0m\u001b[0;34m.\u001b[0m\u001b[0m_traceback\u001b[0m\u001b[0;34m)\u001b[0m\u001b[0;34m\u001b[0m\u001b[0;34m\u001b[0m\u001b[0m\n\u001b[0m\u001b[1;32m    227\u001b[0m             \u001b[0;32mreturn\u001b[0m \u001b[0mself\u001b[0m\u001b[0;34m.\u001b[0m\u001b[0m_fulfillment_handler0\u001b[0m\u001b[0;34m\u001b[0m\u001b[0;34m\u001b[0m\u001b[0m\n\u001b[1;32m    228\u001b[0m \u001b[0;34m\u001b[0m\u001b[0m\n",
            "\u001b[0;32m/usr/local/lib/python3.7/dist-packages/six.py\u001b[0m in \u001b[0;36mreraise\u001b[0;34m(tp, value, tb)\u001b[0m\n\u001b[1;32m    701\u001b[0m             \u001b[0;32mif\u001b[0m \u001b[0mvalue\u001b[0m\u001b[0;34m.\u001b[0m\u001b[0m__traceback__\u001b[0m \u001b[0;32mis\u001b[0m \u001b[0;32mnot\u001b[0m \u001b[0mtb\u001b[0m\u001b[0;34m:\u001b[0m\u001b[0;34m\u001b[0m\u001b[0;34m\u001b[0m\u001b[0m\n\u001b[1;32m    702\u001b[0m                 \u001b[0;32mraise\u001b[0m \u001b[0mvalue\u001b[0m\u001b[0;34m.\u001b[0m\u001b[0mwith_traceback\u001b[0m\u001b[0;34m(\u001b[0m\u001b[0mtb\u001b[0m\u001b[0;34m)\u001b[0m\u001b[0;34m\u001b[0m\u001b[0;34m\u001b[0m\u001b[0m\n\u001b[0;32m--> 703\u001b[0;31m             \u001b[0;32mraise\u001b[0m \u001b[0mvalue\u001b[0m\u001b[0;34m\u001b[0m\u001b[0;34m\u001b[0m\u001b[0m\n\u001b[0m\u001b[1;32m    704\u001b[0m         \u001b[0;32mfinally\u001b[0m\u001b[0;34m:\u001b[0m\u001b[0;34m\u001b[0m\u001b[0;34m\u001b[0m\u001b[0m\n\u001b[1;32m    705\u001b[0m             \u001b[0mvalue\u001b[0m \u001b[0;34m=\u001b[0m \u001b[0;32mNone\u001b[0m\u001b[0;34m\u001b[0m\u001b[0;34m\u001b[0m\u001b[0m\n",
            "\u001b[0;32m/usr/local/lib/python3.7/dist-packages/promise/promise.py\u001b[0m in \u001b[0;36mtry_catch\u001b[0;34m(handler, *args, **kwargs)\u001b[0m\n\u001b[1;32m     85\u001b[0m     \u001b[0;31m# type: (Callable, Any, Any) -> Union[Tuple[Any, None], Tuple[None, Tuple[Exception, Optional[TracebackType]]]]\u001b[0m\u001b[0;34m\u001b[0m\u001b[0;34m\u001b[0m\u001b[0;34m\u001b[0m\u001b[0m\n\u001b[1;32m     86\u001b[0m     \u001b[0;32mtry\u001b[0m\u001b[0;34m:\u001b[0m\u001b[0;34m\u001b[0m\u001b[0;34m\u001b[0m\u001b[0m\n\u001b[0;32m---> 87\u001b[0;31m         \u001b[0;32mreturn\u001b[0m \u001b[0;34m(\u001b[0m\u001b[0mhandler\u001b[0m\u001b[0;34m(\u001b[0m\u001b[0;34m*\u001b[0m\u001b[0margs\u001b[0m\u001b[0;34m,\u001b[0m \u001b[0;34m**\u001b[0m\u001b[0mkwargs\u001b[0m\u001b[0;34m)\u001b[0m\u001b[0;34m,\u001b[0m \u001b[0;32mNone\u001b[0m\u001b[0;34m)\u001b[0m\u001b[0;34m\u001b[0m\u001b[0;34m\u001b[0m\u001b[0m\n\u001b[0m\u001b[1;32m     88\u001b[0m     \u001b[0;32mexcept\u001b[0m \u001b[0mException\u001b[0m \u001b[0;32mas\u001b[0m \u001b[0me\u001b[0m\u001b[0;34m:\u001b[0m\u001b[0;34m\u001b[0m\u001b[0;34m\u001b[0m\u001b[0m\n\u001b[1;32m     89\u001b[0m         \u001b[0mtb\u001b[0m \u001b[0;34m=\u001b[0m \u001b[0mexc_info\u001b[0m\u001b[0;34m(\u001b[0m\u001b[0;34m)\u001b[0m\u001b[0;34m[\u001b[0m\u001b[0;36m2\u001b[0m\u001b[0;34m]\u001b[0m\u001b[0;34m\u001b[0m\u001b[0;34m\u001b[0m\u001b[0m\n",
            "\u001b[0;32m/usr/local/lib/python3.7/dist-packages/tensorflow_datasets/core/download/download_manager.py\u001b[0m in \u001b[0;36mcallback\u001b[0;34m(url_info)\u001b[0m\n\u001b[1;32m    480\u001b[0m           \u001b[0mtmp_dir_path\u001b[0m\u001b[0;34m=\u001b[0m\u001b[0mdownload_dir_path\u001b[0m\u001b[0;34m,\u001b[0m\u001b[0;34m\u001b[0m\u001b[0;34m\u001b[0m\u001b[0m\n\u001b[1;32m    481\u001b[0m           \u001b[0murl_path\u001b[0m\u001b[0;34m=\u001b[0m\u001b[0murl_path\u001b[0m\u001b[0;34m,\u001b[0m\u001b[0;34m\u001b[0m\u001b[0;34m\u001b[0m\u001b[0m\n\u001b[0;32m--> 482\u001b[0;31m           \u001b[0murl_info\u001b[0m\u001b[0;34m=\u001b[0m\u001b[0murl_info\u001b[0m\u001b[0;34m,\u001b[0m\u001b[0;34m\u001b[0m\u001b[0;34m\u001b[0m\u001b[0m\n\u001b[0m\u001b[1;32m    483\u001b[0m       )\n\u001b[1;32m    484\u001b[0m     \u001b[0;32mreturn\u001b[0m \u001b[0mself\u001b[0m\u001b[0;34m.\u001b[0m\u001b[0m_downloader\u001b[0m\u001b[0;34m.\u001b[0m\u001b[0mdownload\u001b[0m\u001b[0;34m(\u001b[0m\u001b[0murl\u001b[0m\u001b[0;34m,\u001b[0m \u001b[0mdownload_dir_path\u001b[0m\u001b[0;34m)\u001b[0m\u001b[0;34m.\u001b[0m\u001b[0mthen\u001b[0m\u001b[0;34m(\u001b[0m\u001b[0mcallback\u001b[0m\u001b[0;34m)\u001b[0m\u001b[0;34m\u001b[0m\u001b[0;34m\u001b[0m\u001b[0m\n",
            "\u001b[0;32m/usr/local/lib/python3.7/dist-packages/tensorflow_datasets/core/download/download_manager.py\u001b[0m in \u001b[0;36m_handle_download_result\u001b[0;34m(self, resource, tmp_dir_path, url_path, url_info)\u001b[0m\n\u001b[1;32m    341\u001b[0m       \u001b[0;31m# Otherwise, missing checksums, do nothing\u001b[0m\u001b[0;34m\u001b[0m\u001b[0;34m\u001b[0m\u001b[0;34m\u001b[0m\u001b[0m\n\u001b[1;32m    342\u001b[0m     \u001b[0;32melif\u001b[0m \u001b[0murl_info\u001b[0m \u001b[0;34m!=\u001b[0m \u001b[0mself\u001b[0m\u001b[0;34m.\u001b[0m\u001b[0m_url_infos\u001b[0m\u001b[0;34m.\u001b[0m\u001b[0mget\u001b[0m\u001b[0;34m(\u001b[0m\u001b[0mresource\u001b[0m\u001b[0;34m.\u001b[0m\u001b[0murl\u001b[0m\u001b[0;34m,\u001b[0m \u001b[0;32mNone\u001b[0m\u001b[0;34m)\u001b[0m\u001b[0;34m:\u001b[0m\u001b[0;34m\u001b[0m\u001b[0;34m\u001b[0m\u001b[0m\n\u001b[0;32m--> 343\u001b[0;31m       \u001b[0;32mraise\u001b[0m \u001b[0mNonMatchingChecksumError\u001b[0m\u001b[0;34m(\u001b[0m\u001b[0mresource\u001b[0m\u001b[0;34m.\u001b[0m\u001b[0murl\u001b[0m\u001b[0;34m,\u001b[0m \u001b[0mtmp_path\u001b[0m\u001b[0;34m)\u001b[0m\u001b[0;34m\u001b[0m\u001b[0;34m\u001b[0m\u001b[0m\n\u001b[0m\u001b[1;32m    344\u001b[0m \u001b[0;34m\u001b[0m\u001b[0m\n\u001b[1;32m    345\u001b[0m     \u001b[0;32mreturn\u001b[0m \u001b[0mdst_path\u001b[0m\u001b[0;34m\u001b[0m\u001b[0;34m\u001b[0m\u001b[0m\n",
            "\u001b[0;31mNonMatchingChecksumError\u001b[0m: Artifact https://drive.google.com/uc?export=download&id=0B7EVK8r0v71pZjFTYXZWM3FlRnM, downloaded to /root/tensorflow_datasets/downloads/ucexport_download_id_0B7EVK8r0v71pZjFTYXZWM3FlDDaXUAQO8EGH_a7VqGNLRtW52mva1LzDrb-V723OQN8.tmp.ef78a3dc4dc34213a89610cf3f2dd42c/uc, has wrong checksum. This might indicate:\n * The website may be down (e.g. returned a 503 status code). Please check the url.\n * For Google Drive URLs, try again later as Drive sometimes rejects downloads when too many people access the same URL. See https://github.com/tensorflow/datasets/issues/1482\n * The original datasets files may have been updated. In this case the TFDS dataset builder should be updated to use the new files and checksums. Sorry about that. Please open an issue or send us a PR with a fix.\n * If you're adding a new dataset, don't forget to register the checksums as explained in: https://www.tensorflow.org/datasets/add_dataset#2_run_download_and_prepare_locally\n"
          ]
        }
      ]
    },
    {
      "cell_type": "code",
      "metadata": {
        "id": "4bUnp78VVV2P"
      },
      "source": [
        "import imageio \n",
        "from skimage.transform import resize\n",
        "\n",
        "celeb_a_train, celeb_a_test = celeb_a['validation'], celeb_a['test']\n",
        "\n",
        "train_images = []\n",
        "train_labels = []\n",
        "\n",
        "for tensor in tfds.as_numpy(celeb_a_train):\n",
        "  isMale = tensor['attributes']['Male']\n",
        "  isSmiling = tensor['attributes']['Smiling']\n",
        "\n",
        "  label = np.array([isMale, isSmiling]).astype(np.int8)\n",
        "\n",
        "  img = resize(tensor['image'], (190//1.5, 89//1.5))\n",
        "\n",
        "  train_images.append(img)\n",
        "  train_labels.append(label)\n",
        "\n",
        "\n",
        "\n",
        "test_images = []\n",
        "test_labels = []\n",
        "\n",
        "for tensor in tfds.as_numpy(celeb_a_test):\n",
        "  isMale = tensor['attributes']['Male']\n",
        "  isSmiling = tensor['attributes']['Smiling']\n",
        "\n",
        "  label = np.array([isMale, isSmiling]).astype(np.int8)\n",
        "\n",
        "  img = resize(tensor['image'], (190//1.5, 89//1.5))\n",
        "\n",
        "  test_images.append(img)\n",
        "  test_labels.append(label)"
      ],
      "execution_count": null,
      "outputs": []
    },
    {
      "cell_type": "markdown",
      "metadata": {
        "id": "y2gc2vB8zfXp"
      },
      "source": [
        "### 문제 3. 데이터량 축소"
      ]
    },
    {
      "cell_type": "code",
      "metadata": {
        "id": "CerWeQM1zfXp"
      },
      "source": [
        "# 데이터량 축소\n",
        "m_s = []\n",
        "f_s = []\n",
        "m_n = []\n",
        "f_n = []\n",
        "\n",
        "for a, b in zip(test_images, test_labels):\n",
        "  if b[0] and b[1]:\n",
        "    m_s.append((a,b))\n",
        "  elif not b[0] and b[1]:\n",
        "    f_s.append((a,b))\n",
        "\n",
        "  elif b[0] and not b[1]:\n",
        "    m_n.append((a,b))\n",
        "  \n",
        "  elif not b[0] and not b[1]:\n",
        "    f_n.append((a,b))\n",
        "\n",
        "\n",
        "    "
      ],
      "execution_count": null,
      "outputs": []
    },
    {
      "cell_type": "code",
      "metadata": {
        "id": "5eFngjvqYueV"
      },
      "source": [
        "np.shape(m_s[0][0])\n",
        "plt.imshow(m_s[0][0])"
      ],
      "execution_count": null,
      "outputs": []
    },
    {
      "cell_type": "code",
      "metadata": {
        "id": "wMxQZB9HZT7N"
      },
      "source": [
        "total = m_s[:550] + f_s[:550] + m_n[:550] + f_n[:550]\n",
        "\n",
        "len(total)"
      ],
      "execution_count": null,
      "outputs": []
    },
    {
      "cell_type": "code",
      "metadata": {
        "id": "Q9tqjsPCZe7i"
      },
      "source": [
        "import random\n",
        "\n",
        "random.shuffle(total)\n",
        "trains = total[:2000]\n",
        "tests = total[2000:]\n",
        "len(trains), len(tests)"
      ],
      "execution_count": null,
      "outputs": []
    },
    {
      "cell_type": "code",
      "metadata": {
        "id": "q6hUtNcgZ8Yo"
      },
      "source": [
        "train_images, train_labels = list(zip(*trains))\n",
        "test_images, test_labels = list(zip(*tests))\n",
        "\n",
        "train_images = np.array(train_images)\n",
        "train_labels = np.array(train_labels)\n",
        "test_images = np.array(test_images)\n",
        "test_labels = np.array(test_labels)"
      ],
      "execution_count": null,
      "outputs": []
    },
    {
      "cell_type": "code",
      "metadata": {
        "id": "KtlCF0lXbNWv"
      },
      "source": [
        "plt.imshow(train_images[0])\n",
        "plt.title(train_labels[0])\n",
        "plt.axis('off')"
      ],
      "execution_count": null,
      "outputs": []
    },
    {
      "cell_type": "markdown",
      "metadata": {
        "id": "6_IiB2H3zfXq"
      },
      "source": [
        "### 문제 4. 사전 저장된 celeba small 데이터 확인"
      ]
    },
    {
      "cell_type": "code",
      "metadata": {
        "id": "jeVP1QF4zfXq"
      },
      "source": [
        "# 이미 저장된 celeba 데이터를 이용\n",
        "from google.colab import drive \n",
        "\n",
        "drive.mount('/gdrive', force_remount = True)"
      ],
      "execution_count": null,
      "outputs": []
    },
    {
      "cell_type": "code",
      "metadata": {
        "id": "IT1EeXI9b3-m",
        "colab": {
          "base_uri": "https://localhost:8080/"
        },
        "outputId": "9e31d6e5-78a2-4866-f97a-42be689963c4"
      },
      "source": [
        "!ls - al /gdrive/'My Drive'/'Colab Notebooks'/dataset/celeba_small.npz"
      ],
      "execution_count": null,
      "outputs": [
        {
          "output_type": "stream",
          "text": [
            "ls: cannot access '-': No such file or directory\n",
            "ls: cannot access 'al': No such file or directory\n",
            "ls: cannot access '/gdrive/My Drive/Colab Notebooks/dataset/celeba_small.npz': No such file or directory\n"
          ],
          "name": "stdout"
        }
      ]
    },
    {
      "cell_type": "code",
      "metadata": {
        "id": "vbICbiKPmKk2",
        "colab": {
          "base_uri": "https://localhost:8080/"
        },
        "outputId": "7efd5260-4a31-440a-e359-c42cce188968"
      },
      "source": [
        "#https://drive.google.com/file/d/1t2qIgpWdWX_n5OC8P2ZiDfPIQ98NY_PB/view?usp=sharing\n",
        "\n",
        "!gdown --id 1t2qIgpWdWX_n5OC8P2ZiDfPIQ98NY_PB"
      ],
      "execution_count": null,
      "outputs": [
        {
          "output_type": "stream",
          "text": [
            "Downloading...\n",
            "From: https://drive.google.com/uc?id=1t2qIgpWdWX_n5OC8P2ZiDfPIQ98NY_PB\n",
            "To: /content/celeba_small.npz\n",
            "174MB [00:01, 119MB/s]\n"
          ],
          "name": "stdout"
        }
      ]
    },
    {
      "cell_type": "code",
      "metadata": {
        "colab": {
          "base_uri": "https://localhost:8080/"
        },
        "id": "_ip7TECUcRP6",
        "outputId": "b9097612-945f-49ef-a403-e7ead80e0dc6"
      },
      "source": [
        "!ls - al /content/celeba_small.npz"
      ],
      "execution_count": null,
      "outputs": [
        {
          "output_type": "stream",
          "text": [
            "ls: cannot access '-': No such file or directory\n",
            "ls: cannot access 'al': No such file or directory\n",
            "/content/celeba_small.npz\n"
          ],
          "name": "stdout"
        }
      ]
    },
    {
      "cell_type": "markdown",
      "metadata": {
        "id": "pFQzrtS9zfXr"
      },
      "source": [
        "### 문제 5. celeba_small 데이터 살펴보기"
      ]
    },
    {
      "cell_type": "code",
      "metadata": {
        "id": "il6cKcv4zfXr"
      },
      "source": [
        "# 데이터를 train에서 사람 이미지 한장과 label 정보 한개를 불러오는 코드를 작성해주세요. (x, y로 변수 대입)\n",
        "celeb_a = np.load('/content/celeba_small.npz')"
      ],
      "execution_count": null,
      "outputs": []
    },
    {
      "cell_type": "code",
      "metadata": {
        "colab": {
          "base_uri": "https://localhost:8080/"
        },
        "id": "8Q0mBmWlcyM3",
        "outputId": "3c5a2bbf-2f63-450f-c24a-6ebcf299d499"
      },
      "source": [
        "list(celeb_a.keys())"
      ],
      "execution_count": null,
      "outputs": [
        {
          "output_type": "execute_result",
          "data": {
            "text/plain": [
              "['train_images', 'train_labels', 'test_images', 'test_labels']"
            ]
          },
          "metadata": {
            "tags": []
          },
          "execution_count": 7
        }
      ]
    },
    {
      "cell_type": "code",
      "metadata": {
        "id": "mw9HwWDCdAmT"
      },
      "source": [
        "x = celeb_a['train_images'][1]\n",
        "y = celeb_a['train_labels'][1]"
      ],
      "execution_count": null,
      "outputs": []
    },
    {
      "cell_type": "markdown",
      "metadata": {
        "id": "GCA5cjoczfXr"
      },
      "source": [
        "### 문제 6. x와 y의 shape을 출력해보세요."
      ]
    },
    {
      "cell_type": "code",
      "metadata": {
        "id": "VID5ngH3zfXr",
        "colab": {
          "base_uri": "https://localhost:8080/"
        },
        "outputId": "2ee6c468-3ba6-4563-bf69-cfc63e3ed86e"
      },
      "source": [
        "# 데이터의 크기를 shape 함수를 통해 출력해주세요.\n",
        "x.shape, y.shape"
      ],
      "execution_count": null,
      "outputs": [
        {
          "output_type": "execute_result",
          "data": {
            "text/plain": [
              "((72, 59, 3), (2,))"
            ]
          },
          "metadata": {
            "tags": []
          },
          "execution_count": 9
        }
      ]
    },
    {
      "cell_type": "markdown",
      "metadata": {
        "id": "oWWZjiR5zfXs"
      },
      "source": [
        "### 문제 7. x를 각각 plt를 통하여 출력하세요."
      ]
    },
    {
      "cell_type": "code",
      "metadata": {
        "id": "zCD8YxAFzfXs",
        "colab": {
          "base_uri": "https://localhost:8080/",
          "height": 299
        },
        "outputId": "f154ffe4-4745-4323-ba5c-14568b8838b1"
      },
      "source": [
        "# x를 plt를 이용하여 출력하는 코드를 작성해보세요\n",
        "plt.imshow(x)\n",
        "plt.title(y)"
      ],
      "execution_count": null,
      "outputs": [
        {
          "output_type": "execute_result",
          "data": {
            "text/plain": [
              "Text(0.5, 1.0, '[1 1]')"
            ]
          },
          "metadata": {
            "tags": []
          },
          "execution_count": 10
        },
        {
          "output_type": "display_data",
          "data": {
            "image/png": "[encoded data removed]",
            "text/plain": [
              "<Figure size 432x288 with 1 Axes>"
            ]
          },
          "metadata": {
            "tags": [],
            "needs_background": "light"
          }
        }
      ]
    },
    {
      "cell_type": "markdown",
      "metadata": {
        "id": "oblQdV_KzfXs"
      },
      "source": [
        "### 문제 8. celeba_small.npz 데이터에서 학습, 테스트 데이터를 로드하세요."
      ]
    },
    {
      "cell_type": "code",
      "metadata": {
        "id": "UbqJxnEKzfXs"
      },
      "source": [
        "# celeba_small.npz에서 train_images, test_images, train_labels, test_labels를 np array로 로드하세요.\n",
        "train_images = celeb_a['train_images']\n",
        "train_labels = celeb_a['train_labels']\n",
        "\n",
        "test_images = celeb_a['test_images']\n",
        "test_labels = celeb_a['test_labels']"
      ],
      "execution_count": null,
      "outputs": []
    },
    {
      "cell_type": "markdown",
      "metadata": {
        "id": "7KrxMSX1zfXs"
      },
      "source": [
        "### 문제 9. train_images에서 0이 아닌 값들을 출력해보세요."
      ]
    },
    {
      "cell_type": "code",
      "metadata": {
        "id": "gzVkaWY_zfXs",
        "colab": {
          "base_uri": "https://localhost:8080/"
        },
        "outputId": "d2f4df19-f757-4e25-ce6c-5286efc5968f"
      },
      "source": [
        "# 하나의 이미지에 대한 모든 0이 아닌 값을 출력하는 코드를 작성하세요.\n",
        "train_images[train_images != 0]"
      ],
      "execution_count": null,
      "outputs": [
        {
          "output_type": "execute_result",
          "data": {
            "text/plain": [
              "array([0.02352941, 0.04313725, 0.05490196, ..., 0.2467071 , 0.13315655,\n",
              "       0.06652404])"
            ]
          },
          "metadata": {
            "tags": []
          },
          "execution_count": 12
        }
      ]
    },
    {
      "cell_type": "markdown",
      "metadata": {
        "id": "ZHPt_38HzfXt"
      },
      "source": [
        "### 문제 10. train_images의 dtype을 출력해보세요."
      ]
    },
    {
      "cell_type": "code",
      "metadata": {
        "id": "U0CsxiLqzfXt",
        "colab": {
          "base_uri": "https://localhost:8080/"
        },
        "outputId": "ef295362-7c22-4073-c887-45702a1dd97b"
      },
      "source": [
        "# dtype을 이용하여 이미지의 np array type을 확인해보세요.\n",
        "train_images.dtype"
      ],
      "execution_count": null,
      "outputs": [
        {
          "output_type": "execute_result",
          "data": {
            "text/plain": [
              "dtype('float64')"
            ]
          },
          "metadata": {
            "tags": []
          },
          "execution_count": 13
        }
      ]
    },
    {
      "cell_type": "markdown",
      "metadata": {
        "id": "WTLJMKtgzfXt"
      },
      "source": [
        "## Step 2. 전처리"
      ]
    },
    {
      "cell_type": "markdown",
      "metadata": {
        "id": "RGSJWe6wzfXt"
      },
      "source": [
        "### 문제 11. 이미지 데이터의 범위 확인"
      ]
    },
    {
      "cell_type": "code",
      "metadata": {
        "id": "vmU5DLMWzfXt",
        "colab": {
          "base_uri": "https://localhost:8080/"
        },
        "outputId": "353d49ae-e77f-429f-ce0e-597324e3abfd"
      },
      "source": [
        "# train_images, train_labels의 shape과 dtype, 0이 아닌 숫자를 출력하는 코드를 작성하세요.\n",
        "list(train_images[train_images != 0])"
      ],
      "execution_count": null,
      "outputs": [
        {
          "output_type": "execute_result",
          "data": {
            "text/plain": [
              "[0.023529411764705882,\n",
              " 0.043137254901960784,\n",
              " 0.054901960784313725,\n",
              " 0.0196078431372549,\n",
              " 0.0392156862745098,\n",
              " 0.054901960784313725,\n",
              " 0.01977401129943498,\n",
              " 0.0392156862745098,\n",
              " 0.05114656031904282,\n",
              " 0.023529411764705882,\n",
              " 0.0392156862745098,\n",
              " 0.054901960784313725,\n",
              " 0.027450980392156862,\n",
              " 0.043137254901960784,\n",
              " 0.058823529411764705,\n",
              " 0.027450980392156862,\n",
              " 0.043137254901960784,\n",
              " 0.058823529411764705,\n",
              " 0.027450980392156862,\n",
              " 0.043137254901960784,\n",
              " 0.058823529411764705,\n",
              " 0.027450980392156862,\n",
              " 0.043137254901960784,\n",
              " 0.058823529411764705,\n",
              " 0.027450980392156862,\n",
              " 0.043137254901960784,\n",
              " 0.058823529411764705,\n",
              " 0.027450980392156862,\n",
              " 0.043137254901960784,\n",
              " 0.058823529411764705,\n",
              " 0.027450980392156862,\n",
              " 0.043137254901960784,\n",
              " 0.058823529411764705,\n",
              " 0.027450980392156862,\n",
              " 0.043137254901960784,\n",
              " 0.058823529411764705,\n",
              " 0.027450980392156862,\n",
              " 0.043137254901960784,\n",
              " 0.058823529411764705,\n",
              " 0.027450980392156862,\n",
              " 0.043137254901960784,\n",
              " 0.058823529411764705,\n",
              " 0.02743759462353683,\n",
              " 0.043137254901960784,\n",
              " 0.05881014364314467,\n",
              " 0.027396514161220166,\n",
              " 0.043137254901960784,\n",
              " 0.05876906318082801,\n",
              " 0.027396514161220166,\n",
              " 0.043137254901960784,\n",
              " 0.05876906318082801,\n",
              " 0.027396514161220166,\n",
              " 0.04700435729847507,\n",
              " 0.05876906318082801,\n",
              " 0.027396514161220166,\n",
              " 0.04700435729847507,\n",
              " 0.05876906318082801,\n",
              " 0.027396514161220166,\n",
              " 0.04700435729847507,\n",
              " 0.05876906318082801,\n",
              " 0.027396514161220166,\n",
              " 0.04700435729847507,\n",
              " 0.05876906318082801,\n",
              " 0.027396514161220166,\n",
              " 0.04700435729847507,\n",
              " 0.05876906318082801,\n",
              " 0.027396514161220166,\n",
              " 0.04700435729847507,\n",
              " 0.05876906318082801,\n",
              " 0.027396514161220166,\n",
              " 0.04700435729847507,\n",
              " 0.05876906318082801,\n",
              " 0.027396514161220166,\n",
              " 0.047058823529411764,\n",
              " 0.05876906318082801,\n",
              " 0.027450980392156862,\n",
              " 0.050980392156862744,\n",
              " 0.058823529411764705,\n",
              " 0.027450980392156862,\n",
              " 0.050980392156862744,\n",
              " 0.058823529411764705,\n",
              " 0.027450980392156862,\n",
              " 0.050980392156862744,\n",
              " 0.058823529411764705,\n",
              " 0.027450980392156862,\n",
              " 0.050980392156862744,\n",
              " 0.058823529411764705,\n",
              " 0.027450980392156862,\n",
              " 0.050980392156862744,\n",
              " 0.058823529411764705,\n",
              " 0.027450980392156862,\n",
              " 0.050980392156862744,\n",
              " 0.058823529411764705,\n",
              " 0.027450980392156862,\n",
              " 0.047058823529411764,\n",
              " 0.058823529411764705,\n",
              " 0.025290794283815407,\n",
              " 0.047058823529411764,\n",
              " 0.05666334330342325,\n",
              " 0.023529411764705882,\n",
              " 0.043137254901960784,\n",
              " 0.054901960784313725,\n",
              " 0.019662309368191598,\n",
              " 0.0392701525054465,\n",
              " 0.05103485838779944,\n",
              " 0.019662309368191598,\n",
              " 0.0392701525054465,\n",
              " 0.05103485838779944,\n",
              " 0.019662309368191598,\n",
              " 0.0392701525054465,\n",
              " 0.05103485838779944,\n",
              " 0.019662309368191598,\n",
              " 0.0392701525054465,\n",
              " 0.05103485838779944,\n",
              " 0.023529411764705882,\n",
              " 0.043137254901960784,\n",
              " 0.054901960784313725,\n",
              " 0.023529411764705882,\n",
              " 0.047058823529411764,\n",
              " 0.054901960784313725,\n",
              " 0.027450980392156862,\n",
              " 0.047058823529411764,\n",
              " 0.058823529411764705,\n",
              " 0.027450980392156862,\n",
              " 0.050980392156862744,\n",
              " 0.058823529411764705,\n",
              " 0.027450980392156862,\n",
              " 0.050980392156862744,\n",
              " 0.058823529411764705,\n",
              " 0.027450980392156862,\n",
              " 0.050980392156862744,\n",
              " 0.058823529411764705,\n",
              " 0.027450980392156862,\n",
              " 0.048022598870056755,\n",
              " 0.058823529411764705,\n",
              " 0.027450980392156862,\n",
              " 0.047058823529411764,\n",
              " 0.058823529411764705,\n",
              " 0.027450980392156862,\n",
              " 0.043137254901960784,\n",
              " 0.05577572837044432,\n",
              " 0.030608175473579045,\n",
              " 0.047058823529411764,\n",
              " 0.05495642701525042,\n",
              " 0.039161220043573114,\n",
              " 0.04319172113289748,\n",
              " 0.05108932461873614,\n",
              " 0.035248421402459394,\n",
              " 0.04643615449946428,\n",
              " 0.058200860381817224,\n",
              " 0.03137254901960784,\n",
              " 0.047058823529411764,\n",
              " 0.06274509803921569,\n",
              " 0.039161220043573114,\n",
              " 0.047058823529411764,\n",
              " 0.06274509803921569,\n",
              " 0.04308278867102409,\n",
              " 0.050980392156862744,\n",
              " 0.05495642701525042,\n",
              " 0.04308278867102409,\n",
              " 0.050980392156862744,\n",
              " 0.04360667996011966,\n",
              " 0.04308278867102409,\n",
              " 0.050980392156862744,\n",
              " 0.04681834127247845,\n",
              " 0.039161220043573114,\n",
              " 0.050980392156862744,\n",
              " 0.05103485838779944,\n",
              " 0.03529411764705882,\n",
              " 0.054738100513274664,\n",
              " 0.05865736124958425,\n",
              " 0.03137254901960784,\n",
              " 0.054901960784313725,\n",
              " 0.058823529411764705,\n",
              " 0.03137254901960784,\n",
              " 0.054901960784313725,\n",
              " 0.06663343303423037,\n",
              " 0.023529411764705882,\n",
              " 0.043137254901960784,\n",
              " 0.054901960784313725,\n",
              " 0.023529411764705882,\n",
              " 0.0392156862745098,\n",
              " 0.054901960784313725,\n",
              " 0.0196078431372549,\n",
              " 0.0392156862745098,\n",
              " 0.050980392156862744,\n",
              " 0.0196078431372549,\n",
              " 0.0392156862745098,\n",
              " 0.050980392156862744,\n",
              " 0.023529411764705882,\n",
              " 0.043137254901960784,\n",
              " 0.054901960784313725,\n",
              " 0.023529411764705882,\n",
              " 0.043137254901960784,\n",
              " 0.054901960784313725,\n",
              " 0.023529411764705882,\n",
              " 0.043137254901960784,\n",
              " 0.054901960784313725,\n",
              " 0.023529411764705882,\n",
              " 0.043137254901960784,\n",
              " 0.054901960784313725,\n",
              " 0.023529411764705882,\n",
              " 0.043137254901960784,\n",
              " 0.054901960784313725,\n",
              " 0.027450980392156862,\n",
              " 0.043137254901960784,\n",
              " 0.058823529411764705,\n",
              " 0.027450980392156862,\n",
              " 0.043137254901960784,\n",
              " 0.058823529411764705,\n",
              " 0.027450980392156862,\n",
              " 0.043137254901960784,\n",
              " 0.058823529411764705,\n",
              " 0.027450980392156862,\n",
              " 0.043137254901960784,\n",
              " 0.058823529411764705,\n",
              " 0.027450980392156862,\n",
              " 0.043137254901960784,\n",
              " 0.058823529411764705,\n",
              " 0.026487205051512235,\n",
              " 0.043137254901960784,\n",
              " 0.057859754071120074,\n",
              " 0.023529411764705882,\n",
              " 0.043137254901960784,\n",
              " 0.054901960784313725,\n",
              " 0.023529411764705882,\n",
              " 0.043137254901960784,\n",
              " 0.054901960784313725,\n",
              " 0.023366013071895547,\n",
              " 0.043137254901960784,\n",
              " 0.054901960784313725,\n",
              " 0.023366013071895547,\n",
              " 0.043137254901960784,\n",
              " 0.054901960784313725,\n",
              " 0.023366013071895547,\n",
              " 0.043137254901960784,\n",
              " 0.054901960784313725,\n",
              " 0.023529411764705882,\n",
              " 0.043137254901960784,\n",
              " 0.054901960784313725,\n",
              " 0.023529411764705882,\n",
              " 0.043137254901960784,\n",
              " 0.054901960784313725,\n",
              " 0.023529411764705882,\n",
              " 0.043137254901960784,\n",
              " 0.054901960784313725,\n",
              " 0.023529411764705882,\n",
              " 0.043137254901960784,\n",
              " 0.054901960784313725,\n",
              " 0.023529411764705882,\n",
              " 0.043137254901960784,\n",
              " 0.054901960784313725,\n",
              " 0.027450980392156862,\n",
              " 0.047058823529411764,\n",
              " 0.058823529411764705,\n",
              " 0.027450980392156862,\n",
              " 0.047058823529411764,\n",
              " 0.058823529411764705,\n",
              " 0.027450980392156862,\n",
              " 0.047058823529411764,\n",
              " 0.058823529411764705,\n",
              " 0.027450980392156862,\n",
              " 0.047058823529411764,\n",
              " 0.058823529411764705,\n",
              " 0.027450980392156862,\n",
              " 0.047058823529411764,\n",
              " 0.058823529411764705,\n",
              " 0.027450980392156862,\n",
              " 0.04908607510800917,\n",
              " 0.058823529411764705,\n",
              " 0.027450980392156862,\n",
              " 0.050980392156862744,\n",
              " 0.058823529411764705,\n",
              " 0.027450980392156862,\n",
              " 0.047058823529411764,\n",
              " 0.058823529411764705,\n",
              " 0.025317104242827206,\n",
              " 0.044924947380082104,\n",
              " 0.056689653262435045,\n",
              " 0.02369281045751622,\n",
              " 0.043300653594771116,\n",
              " 0.05506535947712406,\n",
              " 0.02369281045751622,\n",
              " 0.043300653594771116,\n",
              " 0.05506535947712406,\n",
              " 0.027450980392156862,\n",
              " 0.0472222222222221,\n",
              " 0.058823529411764705,\n",
              " 0.027450980392156862,\n",
              " 0.047058823529411764,\n",
              " 0.058823529411764705,\n",
              " 0.027450980392156862,\n",
              " 0.047058823529411764,\n",
              " 0.058823529411764705,\n",
              " 0.027450980392156862,\n",
              " 0.047058823529411764,\n",
              " 0.058823529411764705,\n",
              " 0.027450980392156862,\n",
              " 0.047058823529411764,\n",
              " 0.058823529411764705,\n",
              " 0.027614379084967198,\n",
              " 0.050980392156862744,\n",
              " 0.058986928104575044,\n",
              " 0.027614379084967198,\n",
              " 0.050980392156862744,\n",
              " 0.058986928104575044,\n",
              " 0.027493907167386703,\n",
              " 0.050980392156862744,\n",
              " 0.05886645618699455,\n",
              " 0.027450980392156862,\n",
              " 0.048022598870056755,\n",
              " 0.058823529411764705,\n",
              " 0.027450980392156862,\n",
              " 0.047058823529411764,\n",
              " 0.058823529411764705,\n",
              " 0.027450980392156862,\n",
              " 0.047058823529411764,\n",
              " 0.058823529411764705,\n",
              " 0.027450980392156862,\n",
              " 0.04719037332447092,\n",
              " 0.058955079206823864,\n",
              " 0.031209150326797507,\n",
              " 0.05031156530408749,\n",
              " 0.06293757616040753,\n",
              " 0.03137254901960784,\n",
              " 0.050980392156862744,\n",
              " 0.06652957793286818,\n",
              " 0.03137254901960784,\n",
              " 0.050980392156862744,\n",
              " 0.06650326797385632,\n",
              " 0.03137254901960784,\n",
              " 0.050980392156862744,\n",
              " 0.06664589564639416,\n",
              " 0.031209150326797507,\n",
              " 0.050980392156862744,\n",
              " 0.06681206380857416,\n",
              " 0.027287581699346523,\n",
              " 0.05114379084967308,\n",
              " 0.066830065359477,\n",
              " 0.027287581699346523,\n",
              " 0.05114379084967308,\n",
              " 0.06307189542483636,\n",
              " 0.03097651489974503,\n",
              " 0.054901960784313725,\n",
              " 0.06290849673202602,\n",
              " 0.03137254901960784,\n",
              " 0.054901960784313725,\n",
              " 0.058986928104575044,\n",
              " 0.03137254901960784,\n",
              " 0.054901960784313725,\n",
              " 0.058823529411764705,\n",
              " 0.03137254901960784,\n",
              " 0.054901960784313725,\n",
              " 0.0627118644067794,\n",
              " 0.023529411764705882,\n",
              " 0.043137254901960784,\n",
              " 0.054901960784313725,\n",
              " 0.023529411764705882,\n",
              " 0.039481093755769615,\n",
              " 0.054901960784313725,\n",
              " 0.0196078431372549,\n",
              " 0.0392156862745098,\n",
              " 0.050980392156862744,\n",
              " 0.0196078431372549,\n",
              " 0.0392156862745098,\n",
              " 0.050980392156862744,\n",
              " 0.023257080610021907,\n",
              " 0.04286492374727681,\n",
              " 0.05462962962962975,\n",
              " 0.023257080610021907,\n",
              " 0.04286492374727681,\n",
              " 0.05462962962962975,\n",
              " 0.023257080610021907,\n",
              " 0.04286492374727681,\n",
              " 0.05462962962962975,\n",
              " 0.023257080610021907,\n",
              " 0.04286492374727681,\n",
              " 0.05462962962962975,\n",
              " 0.023529411764705882,\n",
              " 0.04286492374727681,\n",
              " 0.054901960784313725,\n",
              " 0.027450980392156862,\n",
              " 0.043137254901960784,\n",
              " 0.058823529411764705,\n",
              " 0.027450980392156862,\n",
              " 0.043137254901960784,\n",
              " 0.058823529411764705,\n",
              " 0.027450980392156862,\n",
              " 0.043137254901960784,\n",
              " 0.058823529411764705,\n",
              " 0.027450980392156862,\n",
              " 0.043137254901960784,\n",
              " 0.058823529411764705,\n",
              " 0.027450980392156862,\n",
              " 0.043137254901960784,\n",
              " 0.058823529411764705,\n",
              " 0.026487205051512235,\n",
              " 0.043137254901960784,\n",
              " 0.057859754071120074,\n",
              " 0.023529411764705882,\n",
              " 0.043137254901960784,\n",
              " 0.054901960784313725,\n",
              " 0.023529411764705882,\n",
              " 0.043137254901960784,\n",
              " 0.054901960784313725,\n",
              " 0.0196078431372549,\n",
              " 0.0392156862745098,\n",
              " 0.050980392156862744,\n",
              " 0.0196078431372549,\n",
              " 0.0392156862745098,\n",
              " 0.050980392156862744,\n",
              " 0.0196078431372549,\n",
              " 0.0392156862745098,\n",
              " 0.050980392156862744,\n",
              " 0.019702466674051868,\n",
              " 0.03931030981130677,\n",
              " 0.051075015693659714,\n",
              " 0.019880174291938876,\n",
              " 0.03948801742919378,\n",
              " 0.05125272331154672,\n",
              " 0.019880174291938876,\n",
              " 0.03948801742919378,\n",
              " 0.05125272331154672,\n",
              " 0.019880174291938876,\n",
              " 0.03948801742919378,\n",
              " 0.05125272331154672,\n",
              " 0.023529411764705882,\n",
              " 0.043137254901960784,\n",
              " 0.054901960784313725,\n",
              " 0.027450980392156862,\n",
              " 0.047058823529411764,\n",
              " 0.058823529411764705,\n",
              " 0.027450980392156862,\n",
              " 0.047058823529411764,\n",
              " 0.058823529411764705,\n",
              " 0.027450980392156862,\n",
              " 0.047058823529411764,\n",
              " 0.058823529411764705,\n",
              " 0.027450980392156862,\n",
              " 0.047058823529411764,\n",
              " 0.058823529411764705,\n",
              " 0.027450980392156862,\n",
              " 0.047058823529411764,\n",
              " 0.058823529411764705,\n",
              " 0.027450980392156862,\n",
              " 0.04908607510800917,\n",
              " 0.058823529411764705,\n",
              " 0.027450980392156862,\n",
              " 0.050980392156862744,\n",
              " 0.058823529411764705,\n",
              " 0.031100217864923868,\n",
              " 0.050980392156862744,\n",
              " 0.06247276688453171,\n",
              " 0.027723311546840837,\n",
              " 0.04733115468409574,\n",
              " 0.05909586056644868,\n",
              " 0.027723311546840837,\n",
              " 0.04733115468409574,\n",
              " 0.05909586056644868,\n",
              " 0.027723311546840837,\n",
              " 0.04733115468409574,\n",
              " 0.05909586056644868,\n",
              " 0.03137254901960784,\n",
              " 0.050980392156862744,\n",
              " 0.06274509803921569,\n",
              " 0.03137254901960784,\n",
              " 0.050980392156862744,\n",
              " 0.06274509803921569,\n",
              " 0.027450980392156862,\n",
              " 0.04733115468409574,\n",
              " 0.058823529411764705,\n",
              " 0.027450980392156862,\n",
              " 0.04733115468409574,\n",
              " 0.058823529411764705,\n",
              " 0.027637919574609413,\n",
              " 0.04733115468409574,\n",
              " 0.059010468594217255,\n",
              " 0.03137254901960784,\n",
              " 0.050980392156862744,\n",
              " 0.06274509803921569,\n",
              " 0.03137254901960784,\n",
              " 0.050980392156862744,\n",
              " 0.06274509803921569,\n",
              " 0.03137254901960784,\n",
              " 0.050980392156862744,\n",
              " 0.06274509803921569,\n",
              " 0.02841475573280185,\n",
              " 0.048022598870056755,\n",
              " 0.05978730475240969,\n",
              " 0.027450980392156862,\n",
              " 0.047058823529411764,\n",
              " 0.058823529411764705,\n",
              " 0.027450980392156862,\n",
              " 0.047058823529411764,\n",
              " 0.058823529411764705,\n",
              " 0.027670230050588863,\n",
              " 0.05021601861083395,\n",
              " 0.06198072449318689,\n",
              " 0.027947176987555614,\n",
              " 0.05462962962962975,\n",
              " 0.06312220745171929,\n",
              " 0.039128909567593004,\n",
              " 0.05075191093386519,\n",
              " 0.05083868764078199,\n",
              " 0.04783658284406005,\n",
              " 0.05121348916214308,\n",
              " 0.04963766109080174,\n",
              " 0.032415715815516374,\n",
              " 0.047058823529411764,\n",
              " 0.05355184446660035,\n",
              " 0.024233780141058415,\n",
              " 0.05095038957202466,\n",
              " 0.06565996455079208,\n",
              " 0.019880174291938876,\n",
              " 0.05487657398175842,\n",
              " 0.07362495845795945,\n",
              " 0.023801742919389857,\n",
              " 0.054901960784313725,\n",
              " 0.07086656696576962,\n",
              " 0.027723311546840837,\n",
              " 0.054901960784313725,\n",
              " 0.06688314685572941,\n",
              " 0.03163334071858485,\n",
              " 0.054901960784313725,\n",
              " 0.06291126620139614,\n",
              " 0.03529411764705882,\n",
              " 0.054901960784313725,\n",
              " 0.05909586056644868,\n",
              " 0.03140347476090272,\n",
              " 0.054901960784313725,\n",
              " 0.0627118644067794,\n",
              " 0.023529411764705882,\n",
              " 0.043137254901960784,\n",
              " 0.054901960784313725,\n",
              " 0.023529411764705882,\n",
              " 0.043137254901960784,\n",
              " 0.054901960784313725,\n",
              " 0.023529411764705882,\n",
              " 0.043137254901960784,\n",
              " 0.054901960784313725,\n",
              " 0.023529411764705882,\n",
              " 0.043137254901960784,\n",
              " 0.054901960784313725,\n",
              " 0.0196078431372549,\n",
              " 0.0392156862745098,\n",
              " 0.050980392156862744,\n",
              " 0.0196078431372549,\n",
              " 0.0392156862745098,\n",
              " 0.050980392156862744,\n",
              " 0.019649846756028194,\n",
              " 0.0392156862745098,\n",
              " 0.05102239577563603,\n",
              " 0.023529411764705882,\n",
              " 0.04004698866363854,\n",
              " 0.054901960784313725,\n",
              " 0.023584339573870957,\n",
              " 0.043137254901960784,\n",
              " 0.054956888593478796,\n",
              " 0.027450980392156862,\n",
              " 0.043137254901960784,\n",
              " 0.058823529411764705,\n",
              " 0.027450980392156862,\n",
              " 0.043137254901960784,\n",
              " 0.058823529411764705,\n",
              " 0.027450980392156862,\n",
              " 0.043137254901960784,\n",
              " 0.058823529411764705,\n",
              " 0.027450980392156862,\n",
              " 0.043137254901960784,\n",
              " 0.058823529411764705,\n",
              " 0.027450980392156862,\n",
              " 0.043137254901960784,\n",
              " 0.058823529411764705,\n",
              " 0.026487205051512235,\n",
              " 0.043137254901960784,\n",
              " 0.057859754071120074,\n",
              " 0.023529411764705882,\n",
              " 0.043137254901960784,\n",
              " 0.054901960784313725,\n",
              " 0.023529411764705882,\n",
              " 0.043137254901960784,\n",
              " 0.054901960784313725,\n",
              " 0.0196078431372549,\n",
              " 0.0392156862745098,\n",
              " 0.050980392156862744,\n",
              " 0.0196078431372549,\n",
              " 0.0392156862745098,\n",
              " 0.050980392156862744,\n",
              " 0.0196078431372549,\n",
              " 0.0392156862745098,\n",
              " 0.050980392156862744,\n",
              " 0.020970422067131823,\n",
              " 0.040578265204386725,\n",
              " 0.052342971086739666,\n",
              " 0.023529411764705882,\n",
              " 0.043137254901960784,\n",
              " 0.054901960784313725,\n",
              " 0.023529411764705882,\n",
              " 0.043137254901960784,\n",
              " 0.054901960784313725,\n",
              " 0.023529411764705882,\n",
              " 0.043137254901960784,\n",
              " 0.054901960784313725,\n",
              " 0.023529411764705882,\n",
              " 0.043137254901960784,\n",
              " 0.054901960784313725,\n",
              " 0.027450980392156862,\n",
              " 0.047058823529411764,\n",
              " 0.058823529411764705,\n",
              " 0.027450980392156862,\n",
              " 0.047058823529411764,\n",
              " 0.058823529411764705,\n",
              " 0.027450980392156862,\n",
              " 0.047058823529411764,\n",
              " 0.058823529411764705,\n",
              " 0.027450980392156862,\n",
              " 0.047058823529411764,\n",
              " 0.058823529411764705,\n",
              " 0.027450980392156862,\n",
              " 0.047058823529411764,\n",
              " 0.058823529411764705,\n",
              " 0.027450980392156862,\n",
              " 0.047058823529411764,\n",
              " 0.058823529411764705,\n",
              " 0.027247424393486288,\n",
              " 0.047058823529411764,\n",
              " 0.058823529411764705,\n",
              " 0.02706971677559925,\n",
              " 0.046677559912854154,\n",
              " 0.058442265795207095,\n",
              " 0.02706971677559925,\n",
              " 0.046677559912854154,\n",
              " 0.058442265795207095,\n",
              " 0.027515601344115757,\n",
              " 0.04712344448137066,\n",
              " 0.0588881503637236,\n",
              " 0.027832244008714476,\n",
              " 0.04744008714596938,\n",
              " 0.05920479302832232,\n",
              " 0.031517946161515424,\n",
              " 0.05112578929877032,\n",
              " 0.06289049518112326,\n",
              " 0.03137254901960784,\n",
              " 0.050980392156862744,\n",
              " 0.06274509803921569,\n",
              " 0.027450980392156862,\n",
              " 0.050980392156862744,\n",
              " 0.058823529411764705,\n",
              " 0.030076437354602727,\n",
              " 0.050980392156862744,\n",
              " 0.06144898637421056,\n",
              " 0.03137254901960784,\n",
              " 0.050980392156862744,\n",
              " 0.06274509803921569,\n",
              " 0.03137254901960784,\n",
              " 0.050980392156862744,\n",
              " 0.06274509803921569,\n",
              " 0.03137254901960784,\n",
              " 0.050980392156862744,\n",
              " 0.06274509803921569,\n",
              " 0.03137254901960784,\n",
              " 0.050980392156862744,\n",
              " 0.06274509803921569,\n",
              " 0.03175381263616545,\n",
              " 0.051361655773420355,\n",
              " 0.06312636165577329,\n",
              " 0.03175381263616545,\n",
              " 0.05106763044200731,\n",
              " 0.06283233632436025,\n",
              " 0.03137254901960784,\n",
              " 0.050980392156862744,\n",
              " 0.06274509803921569,\n",
              " 0.03906521177209067,\n",
              " 0.051361655773420355,\n",
              " 0.059206639341235885,\n",
              " 0.10040757357556432,\n",
              " 0.09604012037959728,\n",
              " 0.07668429895498309,\n",
              " 0.2490703814482393,\n",
              " 0.22097596100586384,\n",
              " 0.1814980982976931,\n",
              " 0.16976154868726995,\n",
              " 0.1290208079465297,\n",
              " 0.08789880358923181,\n",
              " 0.08479284369114796,\n",
              " 0.058789834201099664,\n",
              " 0.033521195672241946,\n",
              " 0.054132048299545536,\n",
              " 0.05212418300653558,\n",
              " 0.03878364905284124,\n",
              " 0.06014872050514909,\n",
              " 0.06646680329382061,\n",
              " 0.06103587385990025,\n",
              " 0.049438720874413575,\n",
              " 0.05256868284036779,\n",
              " 0.055047357926221424,\n",
              " 0.03572061592998774,\n",
              " 0.0467001772460398,\n",
              " 0.04983660130718991,\n",
              " 0.03582539418780713,\n",
              " 0.05488580554632396,\n",
              " 0.06219766626047761,\n",
              " 0.03529411764705882,\n",
              " 0.054901960784313725,\n",
              " 0.06666666666666667,\n",
              " 0.0309945164506482,\n",
              " 0.055283224400871335,\n",
              " 0.06666666666666667,\n",
              " 0.023529411764705882,\n",
              " 0.043137254901960784,\n",
              " 0.054901960784313725,\n",
              " 0.023529411764705882,\n",
              " 0.043137254901960784,\n",
              " 0.054901960784313725,\n",
              " 0.023529411764705882,\n",
              " 0.043137254901960784,\n",
              " 0.054901960784313725,\n",
              " 0.023529411764705882,\n",
              " 0.043137254901960784,\n",
              " 0.054901960784313725,\n",
              " 0.02401960784313714,\n",
              " 0.04362745098039204,\n",
              " 0.05539215686274498,\n",
              " 0.02397391159853762,\n",
              " 0.043137254901960784,\n",
              " 0.054901960784313725,\n",
              " 0.023529411764705882,\n",
              " 0.043137254901960784,\n",
              " 0.054901960784313725,\n",
              " 0.023529411764705882,\n",
              " 0.043137254901960784,\n",
              " 0.054901960784313725,\n",
              " 0.026960784313725606,\n",
              " 0.043137254901960784,\n",
              " 0.05833333333333345,\n",
              " 0.027450980392156862,\n",
              " 0.043137254901960784,\n",
              " 0.05833333333333345,\n",
              " 0.026350116317713685,\n",
              " 0.043137254901960784,\n",
              " 0.054901960784313725,\n",
              " 0.023529411764705882,\n",
              " 0.043137254901960784,\n",
              " 0.054901960784313725,\n",
              " 0.023529411764705882,\n",
              " 0.043137254901960784,\n",
              " 0.054901960784313725,\n",
              " 0.023529411764705882,\n",
              " 0.043137254901960784,\n",
              " 0.054901960784313725,\n",
              " 0.023529411764705882,\n",
              " 0.043137254901960784,\n",
              " 0.054901960784313725,\n",
              " 0.023529411764705882,\n",
              " 0.04300847457627123,\n",
              " 0.05477318045862417,\n",
              " 0.0196078431372549,\n",
              " 0.04264705882352953,\n",
              " 0.054411764705882465,\n",
              " 0.0196078431372549,\n",
              " 0.0392156862745098,\n",
              " 0.050980392156862744,\n",
              " 0.0196078431372549,\n",
              " 0.0392156862745098,\n",
              " 0.050980392156862744,\n",
              " 0.0196078431372549,\n",
              " 0.043137254901960784,\n",
              " 0.054411764705882465,\n",
              " 0.023529411764705882,\n",
              " 0.043137254901960784,\n",
              " 0.054901960784313725,\n",
              " 0.023529411764705882,\n",
              " 0.043137254901960784,\n",
              " 0.05833333333333345,\n",
              " 0.027450980392156862,\n",
              " 0.043137254901960784,\n",
              " 0.058823529411764705,\n",
              " 0.027450980392156862,\n",
              " 0.043137254901960784,\n",
              " 0.058823529411764705,\n",
              " 0.027450980392156862,\n",
              " 0.043137254901960784,\n",
              " 0.058823529411764705,\n",
              " 0.027450980392156862,\n",
              " 0.043137254901960784,\n",
              " 0.054901960784313725,\n",
              " 0.027450980392156862,\n",
              " 0.043137254901960784,\n",
              " 0.054901960784313725,\n",
              " 0.027450980392156862,\n",
              " 0.043137254901960784,\n",
              " 0.054901960784313725,\n",
              " 0.027450980392156862,\n",
              " 0.043137254901960784,\n",
              " 0.054901960784313725,\n",
              " 0.027450980392156862,\n",
              " 0.043137254901960784,\n",
              " 0.058823529411764705,\n",
              " 0.027450980392156862,\n",
              " 0.045164506480558184,\n",
              " 0.058823529411764705,\n",
              " 0.027450980392156862,\n",
              " 0.047058823529411764,\n",
              " 0.058823529411764705,\n",
              " 0.027450980392156862,\n",
              " 0.047058823529411764,\n",
              " 0.05539215686274498,\n",
              " 0.027450980392156862,\n",
              " 0.047058823529411764,\n",
              " 0.05539215686274498,\n",
              " 0.029744101030242484,\n",
              " 0.047058823529411764,\n",
              " 0.058823529411764705,\n",
              " 0.03137254901960784,\n",
              " 0.047058823529411764,\n",
              " 0.06274509803921569,\n",
              " 0.03137254901960784,\n",
              " 0.048554336989033074,\n",
              " 0.06274509803921569,\n",
              " 0.03137254901960784,\n",
              " 0.047058823529411764,\n",
              " 0.06274509803921569,\n",
              " 0.03137254901960784,\n",
              " 0.047058823529411764,\n",
              " 0.06274509803921569,\n",
              " 0.03170073113991349,\n",
              " 0.04968428049185762,\n",
              " 0.06307328015952134,\n",
              " 0.034218178796942327,\n",
              " 0.051470588235294004,\n",
              " 0.06559072781655018,\n",
              " 0.03529411764705882,\n",
              " 0.054901960784313725,\n",
              " 0.06666666666666667,\n",
              " 0.03246925888999688,\n",
              " 0.052077102027251784,\n",
              " 0.06348870056497206,\n",
              " 0.034392655367231406,\n",
              " 0.05387171817879671,\n",
              " 0.06563642406114964,\n",
              " 0.039585410435360464,\n",
              " 0.059193253572615366,\n",
              " 0.07095795945496831,\n",
              " 0.03668162180126304,\n",
              " 0.05617730142904635,\n",
              " 0.06756397474243964,\n",
              " 0.03617065470255875,\n",
              " 0.054901960784313725,\n",
              " 0.06347208374875393,\n",
              " 0.05793037554004504,\n",
              " 0.0624958457959447,\n",
              " 0.05557078763708895,\n",
              " 0.44609504818875184,\n",
              " 0.4001495513459479,\n",
              " 0.3453805250913795,\n",
              " 0.7305209371884342,\n",
              " 0.6518818544366904,\n",
              " 0.5659521435692938,\n",
              " 0.6970297441010315,\n",
              " 0.6049435028248605,\n",
              " 0.5122922897972768,\n",
              " 0.5039714190761039,\n",
              " 0.43091558657361134,\n",
              " 0.35344798936523647,\n",
              " 0.3189473246925826,\n",
              " 0.2769607843137192,\n",
              " 0.2204802259886946,\n",
              " 0.5111706547025492,\n",
              " 0.47031405782651137,\n",
              " 0.4289423396477142,\n",
              " 0.3045820870721216,\n",
              " 0.2750249252243314,\n",
              " 0.24192007311399585,\n",
              " 0.06662097042206834,\n",
              " 0.057303090727817356,\n",
              " 0.036972416085078716,\n",
              " 0.04395978730475295,\n",
              " 0.054901960784313725,\n",
              " 0.05407942838152156,\n",
              " 0.030994516450648445,\n",
              " 0.058823529411764705,\n",
              " 0.07048853439680933,\n",
              " 0.027446826188102326,\n",
              " 0.058823529411764705,\n",
              " 0.06669990029910296,\n",
              " 0.028649237472766667,\n",
              " 0.0392156862745098,\n",
              " 0.054901960784313725,\n",
              " 0.028649237472766667,\n",
              " 0.0392156862745098,\n",
              " 0.054901960784313725,\n",
              " 0.028790018832391462,\n",
              " 0.03924107307706509,\n",
              " 0.054901960784313725,\n",
              " 0.031971677559912745,\n",
              " 0.043137254901960784,\n",
              " 0.054901960784313725,\n",
              " 0.031971677559912745,\n",
              " 0.043137254901960784,\n",
              " 0.054901960784313725,\n",
              " 0.028050108932461765,\n",
              " 0.0392156862745098,\n",
              " 0.050980392156862744,\n",
              " 0.027684077397437248,\n",
              " 0.03529411764705882,\n",
              " 0.050980392156862744,\n",
              " 0.025150012924190123,\n",
              " 0.03579262213359913,\n",
              " 0.050980392156862744,\n",
              " 0.03137254901960784,\n",
              " 0.0392156862745098,\n",
              " 0.050980392156862744,\n",
              " 0.03137254901960784,\n",
              " 0.043137254901960784,\n",
              " 0.054901960784313725,\n",
              " 0.02794348436172955,\n",
              " 0.043137254901960784,\n",
              " 0.05371155053358458,\n",
              " 0.023529411764705882,\n",
              " 0.0423728813559323,\n",
              " 0.05086361286510842,\n",
              " 0.0196078431372549,\n",
              " 0.039088752261733355,\n",
              " 0.049550422805657295,\n",
              " 0.023067371958199547,\n",
              " 0.039975905616483835,\n",
              " 0.05038126361655784,\n",
              " 0.027450980392156862,\n",
              " 0.04645969498910686,\n",
              " 0.05430283224400882,\n",
              " 0.022499169159189203,\n",
              " 0.042107012296444105,\n",
              " 0.05327258963849214,\n",
              " 0.01568627450980392,\n",
              " 0.0392156862745098,\n",
              " 0.05038126361655784,\n",
              " 0.01568627450980392,\n",
              " 0.043137254901960784,\n",
              " 0.050980392156862744,\n",
              " 0.01568627450980392,\n",
              " 0.043137254901960784,\n",
              " 0.050980392156862744,\n",
              " 0.016982386174808788,\n",
              " 0.043137254901960784,\n",
              " 0.052078486761936355,\n",
              " 0.0196078431372549,\n",
              " 0.043137254901960784,\n",
              " 0.054901960784313725,\n",
              " 0.023529411764705882,\n",
              " 0.043137254901960784,\n",
              " 0.058823529411764705,\n",
              " 0.027450980392156862,\n",
              " 0.043137254901960784,\n",
              " 0.06274509803921569,\n",
              " 0.027450980392156862,\n",
              " 0.039814814814814706,\n",
              " 0.06274509803921569,\n",
              " 0.027450980392156862,\n",
              " 0.039814814814814706,\n",
              " 0.05942265795206961,\n",
              " 0.027450980392156862,\n",
              " 0.039814814814814706,\n",
              " 0.05942265795206961,\n",
              " 0.02772008049924294,\n",
              " 0.0392156862745098,\n",
              " 0.05496288911044647,\n",
              " 0.028050108932461765,\n",
              " 0.0392156862745098,\n",
              " 0.050980392156862744,\n",
              " 0.028649237472766667,\n",
              " 0.0392156862745098,\n",
              " 0.054901960784313725,\n",
              " 0.028649237472766667,\n",
              " 0.03529411764705882,\n",
              " 0.06304466230936812,\n",
              " 0.031971677559912745,\n",
              " 0.0386165577342049,\n",
              " 0.06929304678556897,\n",
              " 0.029823954063734535,\n",
              " 0.03738783649052825,\n",
              " 0.06545133119161038,\n",
              " 0.03529411764705882,\n",
              " 0.047058823529411764,\n",
              " 0.046728795096192995,\n",
              " 0.03529411764705882,\n",
              " 0.04671864037517088,\n",
              " 0.048945293748384355,\n",
              " 0.03335133488423622,\n",
              " 0.04278691702669777,\n",
              " 0.053273512794948366,\n",
              " 0.031971677559912745,\n",
              " 0.04253812636165588,\n",
              " 0.061183117314722354,\n",
              " 0.03529411764705882,\n",
              " 0.042908773678963126,\n",
              " 0.06666666666666667,\n",
              " 0.03137254901960784,\n",
              " 0.04524897529633312,\n",
              " 0.06296342454119123,\n",
              " 0.03137254901960784,\n",
              " ...]"
            ]
          },
          "metadata": {
            "tags": []
          },
          "execution_count": 14
        }
      ]
    },
    {
      "cell_type": "markdown",
      "metadata": {
        "id": "UqAC_4r5zfXu"
      },
      "source": [
        "### 문제 12. images/labels 이미지 데이터의 최소/최대값을 출력"
      ]
    },
    {
      "cell_type": "code",
      "metadata": {
        "id": "ZYyRj1TkzfXu",
        "colab": {
          "base_uri": "https://localhost:8080/"
        },
        "outputId": "6081bb97-5fa7-4476-dfda-070f053ca277"
      },
      "source": [
        "# train/test 전체 데이터에서 각 images, labels의 min, max를 출력하는 코드를 작성하세요.\n",
        "\n",
        "train_images.max()\n",
        "train_labels.max()"
      ],
      "execution_count": null,
      "outputs": [
        {
          "output_type": "execute_result",
          "data": {
            "text/plain": [
              "1"
            ]
          },
          "metadata": {
            "tags": []
          },
          "execution_count": 15
        }
      ]
    },
    {
      "cell_type": "markdown",
      "metadata": {
        "id": "IWWfvi8FzfXu"
      },
      "source": [
        "### 문제 13. labels의 shape을 (배치, 2)에서 (배치, 2), (배치, 2)으로 변경하세요. (배치, (성별,웃음)) => (배치, 남자, 여자), (배치, 웃음, 안웃음)"
      ]
    },
    {
      "cell_type": "code",
      "metadata": {
        "id": "wuSOXHEEzfXu"
      },
      "source": [
        "# (배치, 2)의 labels shape을 (배치, 1)의 shape의 2개의 array로 분리하는 코드를 추가하세요.\n",
        "train_labels.shape\n",
        "train_labels_sex = train_labels[:, 0]"
      ],
      "execution_count": null,
      "outputs": []
    },
    {
      "cell_type": "code",
      "metadata": {
        "colab": {
          "base_uri": "https://localhost:8080/"
        },
        "id": "ov0N_NAYAV5Q",
        "outputId": "768a442b-d45c-4d47-9935-0dbbbdd4ee91"
      },
      "source": [
        "train_labels.shape"
      ],
      "execution_count": null,
      "outputs": [
        {
          "output_type": "execute_result",
          "data": {
            "text/plain": [
              "(2000, 2)"
            ]
          },
          "metadata": {
            "tags": []
          },
          "execution_count": 17
        }
      ]
    },
    {
      "cell_type": "code",
      "metadata": {
        "colab": {
          "base_uri": "https://localhost:8080/"
        },
        "id": "Z1lfuEOnAjoB",
        "outputId": "5b351216-a325-45c2-cd61-557a1cf2bb0c"
      },
      "source": [
        "train_male_labels, train_smile_labels = np.split(train_labels, 2, axis=1)\n",
        "test_male_labels, test_smile_labels = np.split(test_labels, 2, axis=1)\n",
        "\n",
        "print(train_male_labels.shape, train_smile_labels.shape)"
      ],
      "execution_count": null,
      "outputs": [
        {
          "output_type": "stream",
          "text": [
            "(2000, 1) (2000, 1)\n"
          ],
          "name": "stdout"
        }
      ]
    },
    {
      "cell_type": "code",
      "metadata": {
        "id": "C0fQg994Ajq7"
      },
      "source": [
        "train_male_labels = keras.utils.to_categorical(train_male_labels)\n",
        "train_smile_labels = keras.utils.to_categorical(train_smile_labels)\n",
        "test_male_labels = keras.utils.to_categorical(test_male_labels)\n",
        "test_smile_labels = keras.utils.to_categorical(test_smile_labels)"
      ],
      "execution_count": null,
      "outputs": []
    },
    {
      "cell_type": "code",
      "metadata": {
        "colab": {
          "base_uri": "https://localhost:8080/"
        },
        "id": "WI3okzgOCn0y",
        "outputId": "bb941174-4bea-42ed-f0c7-bdfcf4670557"
      },
      "source": [
        "train_male_labels.shape\n"
      ],
      "execution_count": null,
      "outputs": [
        {
          "output_type": "execute_result",
          "data": {
            "text/plain": [
              "(2000, 2)"
            ]
          },
          "metadata": {
            "tags": []
          },
          "execution_count": 20
        }
      ]
    },
    {
      "cell_type": "markdown",
      "metadata": {
        "id": "8K0Z0kU8zfXu"
      },
      "source": [
        "### 문제 14. labels의 shape을 (배치, 2), (배치, 2)에서 (배치, 4)로 합쳐보세요."
      ]
    },
    {
      "cell_type": "code",
      "metadata": {
        "id": "b_fdgA-WzfXv",
        "colab": {
          "base_uri": "https://localhost:8080/"
        },
        "outputId": "0354d22e-107f-4450-e617-40c11630ad1a"
      },
      "source": [
        "# (배치, 2), (배치, 2)의 labels를 (배치, 4)로 합치는 코드를 작성하세요.\n",
        "# (배치, 남성여부, 웃음여부) => (배치, 남성여부), (배치, 웃음여부) => (배치, 여자여부, 남자여부), (배치, 안웃음여부, 웃음여부) => (배치, 여자여부, 남자여부, 안웃음여부, 웃음여부)\n",
        "train_labels2 = np.concatenate([train_male_labels, train_smile_labels], axis=1)\n",
        "test_labels2 = np.concatenate([test_male_labels, test_smile_labels], axis=1)\n",
        "print(train_labels2.shape, test_labels2.shape)"
      ],
      "execution_count": null,
      "outputs": [
        {
          "output_type": "stream",
          "text": [
            "(2000, 4) (200, 4)\n"
          ],
          "name": "stdout"
        }
      ]
    },
    {
      "cell_type": "markdown",
      "metadata": {
        "id": "3XcXNvJCzfXv"
      },
      "source": [
        "## Step 3. 시각화 방법"
      ]
    },
    {
      "cell_type": "markdown",
      "metadata": {
        "id": "E4-KNKc4zfXv"
      },
      "source": [
        "### 문제 15. train_image의 이미지를 5장 획득하여 (5, 세로, 가로, 3)의 shape을 출력하세요."
      ]
    },
    {
      "cell_type": "code",
      "metadata": {
        "id": "DNV-8ovuzfXv",
        "colab": {
          "base_uri": "https://localhost:8080/"
        },
        "outputId": "22aacd15-b6f8-4265-f7ba-d178873be387"
      },
      "source": [
        "# (배치, 세로, 가로, 3)인 train_images에서 (5, 세로, 가로, 3)을 획득하는 코드를 작성하세요.\n",
        "train_images_5 = train_images[:5]\n",
        "train_images_5.shape"
      ],
      "execution_count": null,
      "outputs": [
        {
          "output_type": "execute_result",
          "data": {
            "text/plain": [
              "(5, 72, 59, 3)"
            ]
          },
          "metadata": {
            "tags": []
          },
          "execution_count": 22
        }
      ]
    },
    {
      "cell_type": "markdown",
      "metadata": {
        "id": "NEFpns-jzfXv"
      },
      "source": [
        "### 문제 16. 획득한 5장의 의미지를 (세로, 가로 * 5, 3)의 shape으로 변경해보세요."
      ]
    },
    {
      "cell_type": "code",
      "metadata": {
        "id": "SpajpXewzfXv",
        "colab": {
          "base_uri": "https://localhost:8080/",
          "height": 151
        },
        "outputId": "4fd33aab-e2f9-4538-bded-98ed471a1195"
      },
      "source": [
        "# np.hstack은 height 방향의 배열을 풀어서 width 방향으로 연결해줍니다.\n",
        "# 해당 기능을 쓰면 (height, image_height, image_width, color)의 shape을 (image_height, image_width * height, color)으로 바꿔 줄 수 있습니다.\n",
        "# 코드를 작성해보세요.\n",
        "train_images_5 = np.hstack(train_images_5)\n",
        "train_images_5.shape\n",
        "plt.imshow(train_images_5)"
      ],
      "execution_count": null,
      "outputs": [
        {
          "output_type": "execute_result",
          "data": {
            "text/plain": [
              "<matplotlib.image.AxesImage at 0x7f8579188110>"
            ]
          },
          "metadata": {
            "tags": []
          },
          "execution_count": 23
        },
        {
          "output_type": "display_data",
          "data": {
            "image/png": "[encoded data removed]",
            "text/plain": [
              "<Figure size 432x288 with 1 Axes>"
            ]
          },
          "metadata": {
            "tags": [],
            "needs_background": "light"
          }
        }
      ]
    },
    {
      "cell_type": "markdown",
      "metadata": {
        "id": "cFn1q_0jzfXw"
      },
      "source": [
        "### 문제 17. np.hstack은 tensorflow에서 제공하는 방법이 아니므로 transpose 함수를 이용하여 (세로, 가로 * 5, 3)로 shape을 변경해보세요."
      ]
    },
    {
      "cell_type": "code",
      "metadata": {
        "colab": {
          "base_uri": "https://localhost:8080/"
        },
        "id": "DzgJ15jPH6tF",
        "outputId": "5076bdf1-8280-4f09-c5e3-9c9fbfd4026a"
      },
      "source": [
        "train_images[:5].shape"
      ],
      "execution_count": null,
      "outputs": [
        {
          "output_type": "execute_result",
          "data": {
            "text/plain": [
              "(5, 72, 59, 3)"
            ]
          },
          "metadata": {
            "tags": []
          },
          "execution_count": 24
        }
      ]
    },
    {
      "cell_type": "code",
      "metadata": {
        "id": "22VKC444zfXw",
        "colab": {
          "base_uri": "https://localhost:8080/",
          "height": 151
        },
        "outputId": "7ed1c3e3-d772-4d8d-f71d-daa68323a5da"
      },
      "source": [
        "# transpose는 tensor의 axis를 섞는 기능을 합니다.\n",
        "# 해당 기능을 이용해서 (세로, 가로 * 5, 3)을 작성하는 코드를 작성해보세요.\n",
        "trans_image = tf.transpose(train_images[:5], perm=(1, 0 ,2, 3))\n",
        "trans_image = tf.reshape(trans_image, shape = (72, -1, 3))\n",
        "plt.imshow(trans_image)"
      ],
      "execution_count": null,
      "outputs": [
        {
          "output_type": "execute_result",
          "data": {
            "text/plain": [
              "<matplotlib.image.AxesImage at 0x7f852c101410>"
            ]
          },
          "metadata": {
            "tags": []
          },
          "execution_count": 25
        },
        {
          "output_type": "display_data",
          "data": {
            "image/png": "[encoded data removed]",
            "text/plain": [
              "<Figure size 432x288 with 1 Axes>"
            ]
          },
          "metadata": {
            "tags": [],
            "needs_background": "light"
          }
        }
      ]
    },
    {
      "cell_type": "markdown",
      "metadata": {
        "id": "M4VjTp8FzfXw"
      },
      "source": [
        "### 문제 18. (72, 295, 3)이 된 tensor를 plt로 출력해보세요."
      ]
    },
    {
      "cell_type": "code",
      "metadata": {
        "id": "gMgv1J0-zfXw",
        "colab": {
          "base_uri": "https://localhost:8080/",
          "height": 151
        },
        "outputId": "cdc9d0cb-1f18-4b8b-90f6-2254a554e629"
      },
      "source": [
        "# (72, 295, 3)의 이미지를 plt로 출력해보세요.\n",
        "plt.imshow(trans_image)"
      ],
      "execution_count": null,
      "outputs": [
        {
          "output_type": "execute_result",
          "data": {
            "text/plain": [
              "<matplotlib.image.AxesImage at 0x7f852c112dd0>"
            ]
          },
          "metadata": {
            "tags": []
          },
          "execution_count": 26
        },
        {
          "output_type": "display_data",
          "data": {
            "image/png": "[encoded data removed]",
            "text/plain": [
              "<Figure size 432x288 with 1 Axes>"
            ]
          },
          "metadata": {
            "tags": [],
            "needs_background": "light"
          }
        }
      ]
    },
    {
      "cell_type": "markdown",
      "metadata": {
        "id": "aXxgfeGdzfXw"
      },
      "source": [
        "### 문제 19. smile, male label도 5개 출력해보세요."
      ]
    },
    {
      "cell_type": "code",
      "metadata": {
        "id": "cE5mCP_GzfXx",
        "colab": {
          "base_uri": "https://localhost:8080/"
        },
        "outputId": "4e834f94-1616-4753-c853-094e69c74b09"
      },
      "source": [
        "# smile, male label을 5개 출력하는 코드를 작성해보세요.\n",
        "for male, smile in zip(train_male_labels[:5], train_smile_labels[:5]):\n",
        "  print(male, smile)"
      ],
      "execution_count": null,
      "outputs": [
        {
          "output_type": "stream",
          "text": [
            "[1. 0.] [1. 0.]\n",
            "[0. 1.] [0. 1.]\n",
            "[0. 1.] [1. 0.]\n",
            "[0. 1.] [0. 1.]\n",
            "[0. 1.] [0. 1.]\n"
          ],
          "name": "stdout"
        }
      ]
    },
    {
      "cell_type": "markdown",
      "metadata": {
        "id": "4x0KU_BzzfXx"
      },
      "source": [
        "### 문제 20. smile, male이 각각 몇개 있는지 측정해보세요."
      ]
    },
    {
      "cell_type": "code",
      "metadata": {
        "id": "VDnSgzzKzfXx",
        "colab": {
          "base_uri": "https://localhost:8080/",
          "height": 294
        },
        "outputId": "df7985cb-4a79-4a96-e208-decdc4224c6a"
      },
      "source": [
        "# pandas를 smile, male이 각각 몇개 있는지 plt를 통하여 출력하는 코드를 작성하세요.\n",
        "df = pd.DataFrame(train_labels, columns=['gender', 'smile'])\n",
        "df.groupby(['gender', 'smile']).size().unstack().plot(kind='bar', stacked=True)"
      ],
      "execution_count": null,
      "outputs": [
        {
          "output_type": "execute_result",
          "data": {
            "text/plain": [
              "<matplotlib.axes._subplots.AxesSubplot at 0x7f851c7fa6d0>"
            ]
          },
          "metadata": {
            "tags": []
          },
          "execution_count": 28
        },
        {
          "output_type": "display_data",
          "data": {
            "image/png": "[encoded data removed]",
            "text/plain": [
              "<Figure size 432x288 with 1 Axes>"
            ]
          },
          "metadata": {
            "tags": [],
            "needs_background": "light"
          }
        }
      ]
    },
    {
      "cell_type": "markdown",
      "metadata": {
        "id": "odqpEsI0iH1f"
      },
      "source": [
        "## Step 4. 각각 모델링"
      ]
    },
    {
      "cell_type": "markdown",
      "metadata": {
        "id": "VRJJjjSLiH1h"
      },
      "source": [
        "### 문제 21. smile과 gender 학습셋을 각 각 처리하는 이미지 classification 모델 2개를 작성하세요. (단 label을 각각 따로 처리)"
      ]
    },
    {
      "cell_type": "code",
      "metadata": {
        "id": "-y-r6Wc0iH1h"
      },
      "source": [
        "# input (배치, 72, 59, 3), output (배치, 2)을 처리할 수 있는 모양의 모델 2개를 작성하세요.\n",
        "\n",
        "def simple_model():\n",
        "  inputs = keras.Input(shape = (72,59,3))\n",
        "  x = keras.layers.Conv2D(32, 3, activation='relu')(inputs)\n",
        "  x = keras.layers.MaxPool2D(2)(x)\n",
        "  x = keras.layers.Conv2D(64, 3, activation='relu')(x)\n",
        "  x = keras.layers.MaxPool2D(2)(x)\n",
        "  x = keras.layers.Conv2D(64, 3, activation='relu')(x)\n",
        "  x = keras.layers.MaxPool2D(2)(x)\n",
        "\n",
        "  x = keras.layers.Flatten()(x)\n",
        "  x = keras.layers.Dense(64, activation='relu')(x)\n",
        "  \n",
        "  outputs = keras.layers.Dense(2, activation='softmax')(x)\n",
        "  model = keras.Model(inputs = inputs, outputs = outputs)\n",
        "\n",
        "  return model \n",
        "\n",
        "  \n"
      ],
      "execution_count": null,
      "outputs": []
    },
    {
      "cell_type": "markdown",
      "metadata": {
        "id": "wGQPwl5iiH1i"
      },
      "source": [
        "### 문제 22. 2개의 모델을 할당 받고 서머리를 출력해보세요."
      ]
    },
    {
      "cell_type": "code",
      "metadata": {
        "id": "Fxc4Uu7viH1i"
      },
      "source": [
        "# simple_model() 모델을 2번 할당 받고 서머리를 출력하는 코드를 작성하세요.\n",
        "\n",
        "gender_model = simple_model()\n",
        "smile_model = simple_model()"
      ],
      "execution_count": null,
      "outputs": []
    },
    {
      "cell_type": "code",
      "metadata": {
        "colab": {
          "base_uri": "https://localhost:8080/"
        },
        "id": "fVE4KXIoLjp_",
        "outputId": "9a039df0-c7c8-4939-f801-b5eb0cbd016d"
      },
      "source": [
        "gender_model.summary()\n"
      ],
      "execution_count": null,
      "outputs": [
        {
          "output_type": "stream",
          "text": [
            "Model: \"model\"\n",
            "_________________________________________________________________\n",
            "Layer (type)                 Output Shape              Param #   \n",
            "=================================================================\n",
            "input_1 (InputLayer)         [(None, 72, 59, 3)]       0         \n",
            "_________________________________________________________________\n",
            "conv2d (Conv2D)              (None, 70, 57, 32)        896       \n",
            "_________________________________________________________________\n",
            "max_pooling2d (MaxPooling2D) (None, 35, 28, 32)        0         \n",
            "_________________________________________________________________\n",
            "conv2d_1 (Conv2D)            (None, 33, 26, 64)        18496     \n",
            "_________________________________________________________________\n",
            "max_pooling2d_1 (MaxPooling2 (None, 16, 13, 64)        0         \n",
            "_________________________________________________________________\n",
            "conv2d_2 (Conv2D)            (None, 14, 11, 64)        36928     \n",
            "_________________________________________________________________\n",
            "max_pooling2d_2 (MaxPooling2 (None, 7, 5, 64)          0         \n",
            "_________________________________________________________________\n",
            "flatten (Flatten)            (None, 2240)              0         \n",
            "_________________________________________________________________\n",
            "dense (Dense)                (None, 64)                143424    \n",
            "_________________________________________________________________\n",
            "dense_1 (Dense)              (None, 2)                 130       \n",
            "=================================================================\n",
            "Total params: 199,874\n",
            "Trainable params: 199,874\n",
            "Non-trainable params: 0\n",
            "_________________________________________________________________\n"
          ],
          "name": "stdout"
        }
      ]
    },
    {
      "cell_type": "code",
      "metadata": {
        "colab": {
          "base_uri": "https://localhost:8080/"
        },
        "id": "k0Okl6m2LlDl",
        "outputId": "b3a8098e-32e1-4616-f3e2-ff4bda8304eb"
      },
      "source": [
        "smile_model.summary()"
      ],
      "execution_count": null,
      "outputs": [
        {
          "output_type": "stream",
          "text": [
            "Model: \"model_1\"\n",
            "_________________________________________________________________\n",
            "Layer (type)                 Output Shape              Param #   \n",
            "=================================================================\n",
            "input_2 (InputLayer)         [(None, 72, 59, 3)]       0         \n",
            "_________________________________________________________________\n",
            "conv2d_3 (Conv2D)            (None, 70, 57, 32)        896       \n",
            "_________________________________________________________________\n",
            "max_pooling2d_3 (MaxPooling2 (None, 35, 28, 32)        0         \n",
            "_________________________________________________________________\n",
            "conv2d_4 (Conv2D)            (None, 33, 26, 64)        18496     \n",
            "_________________________________________________________________\n",
            "max_pooling2d_4 (MaxPooling2 (None, 16, 13, 64)        0         \n",
            "_________________________________________________________________\n",
            "conv2d_5 (Conv2D)            (None, 14, 11, 64)        36928     \n",
            "_________________________________________________________________\n",
            "max_pooling2d_5 (MaxPooling2 (None, 7, 5, 64)          0         \n",
            "_________________________________________________________________\n",
            "flatten_1 (Flatten)          (None, 2240)              0         \n",
            "_________________________________________________________________\n",
            "dense_2 (Dense)              (None, 64)                143424    \n",
            "_________________________________________________________________\n",
            "dense_3 (Dense)              (None, 2)                 130       \n",
            "=================================================================\n",
            "Total params: 199,874\n",
            "Trainable params: 199,874\n",
            "Non-trainable params: 0\n",
            "_________________________________________________________________\n"
          ],
          "name": "stdout"
        }
      ]
    },
    {
      "cell_type": "markdown",
      "metadata": {
        "id": "LVykKLdfiH1j"
      },
      "source": [
        "### 문제 23. 만든 모델에 로스와 옵티마이저, 메트릭을 설정하세요."
      ]
    },
    {
      "cell_type": "code",
      "metadata": {
        "id": "IQU8Qq6iiH1j"
      },
      "source": [
        "# 만든 모델에 loss는 categorical_crossentropy, optimizer는 adam 매트릭은 accuracy으로 설정하는 코드를 작성하세요.\n",
        "gender_model.compile(loss = keras.losses.CategoricalCrossentropy(), \n",
        "                     optimizer= keras.optimizers.Adam(), \n",
        "                     metrics= ['accuracy'])\n",
        "\n",
        "smile_model.compile(loss = keras.losses.CategoricalCrossentropy(), \n",
        "                     optimizer= keras.optimizers.Adam(), \n",
        "                     metrics= ['accuracy'])"
      ],
      "execution_count": null,
      "outputs": []
    },
    {
      "cell_type": "markdown",
      "metadata": {
        "id": "vs4MHjKkiH1j"
      },
      "source": [
        "### 문제 24. 만든 모델에 train_images를 학습시켜 보세요."
      ]
    },
    {
      "cell_type": "code",
      "metadata": {
        "id": "UiYocbdmiH1j",
        "colab": {
          "base_uri": "https://localhost:8080/"
        },
        "outputId": "d7f36136-bbab-42be-b6b5-3424f711f75b"
      },
      "source": [
        "# train_images 학습시키고 15 epochs을 돌리고 그 진행 사항을 hist에 저장하는 코드를 작성하세요.\n",
        "\n",
        "smile_hist = smile_model.fit(x=train_images, y = train_smile_labels, validation_data=(test_images, test_smile_labels), epochs=15, verbose=1)"
      ],
      "execution_count": null,
      "outputs": [
        {
          "output_type": "stream",
          "text": [
            "Epoch 1/15\n",
            "63/63 [==============================] - 32s 14ms/step - loss: 0.6867 - accuracy: 0.5360 - val_loss: 0.6987 - val_accuracy: 0.5150\n",
            "Epoch 2/15\n",
            "63/63 [==============================] - 0s 7ms/step - loss: 0.6552 - accuracy: 0.6150 - val_loss: 0.6200 - val_accuracy: 0.6350\n",
            "Epoch 3/15\n",
            "63/63 [==============================] - 0s 7ms/step - loss: 0.5226 - accuracy: 0.7400 - val_loss: 0.3954 - val_accuracy: 0.8200\n",
            "Epoch 4/15\n",
            "63/63 [==============================] - 0s 7ms/step - loss: 0.3533 - accuracy: 0.8400 - val_loss: 0.3115 - val_accuracy: 0.8850\n",
            "Epoch 5/15\n",
            "63/63 [==============================] - 0s 7ms/step - loss: 0.2735 - accuracy: 0.8810 - val_loss: 0.4196 - val_accuracy: 0.8150\n",
            "Epoch 6/15\n",
            "63/63 [==============================] - 0s 7ms/step - loss: 0.2464 - accuracy: 0.8940 - val_loss: 0.2393 - val_accuracy: 0.9050\n",
            "Epoch 7/15\n",
            "63/63 [==============================] - 0s 7ms/step - loss: 0.2262 - accuracy: 0.9040 - val_loss: 0.2217 - val_accuracy: 0.9100\n",
            "Epoch 8/15\n",
            "63/63 [==============================] - 0s 7ms/step - loss: 0.2061 - accuracy: 0.9140 - val_loss: 0.2350 - val_accuracy: 0.8900\n",
            "Epoch 9/15\n",
            "63/63 [==============================] - 0s 7ms/step - loss: 0.1471 - accuracy: 0.9495 - val_loss: 0.2269 - val_accuracy: 0.9100\n",
            "Epoch 10/15\n",
            "63/63 [==============================] - 0s 7ms/step - loss: 0.1238 - accuracy: 0.9540 - val_loss: 0.2524 - val_accuracy: 0.8900\n",
            "Epoch 11/15\n",
            "63/63 [==============================] - 0s 7ms/step - loss: 0.1094 - accuracy: 0.9575 - val_loss: 0.2972 - val_accuracy: 0.8850\n",
            "Epoch 12/15\n",
            "63/63 [==============================] - 0s 7ms/step - loss: 0.0973 - accuracy: 0.9630 - val_loss: 0.2074 - val_accuracy: 0.9100\n",
            "Epoch 13/15\n",
            "63/63 [==============================] - 0s 7ms/step - loss: 0.0581 - accuracy: 0.9815 - val_loss: 0.3071 - val_accuracy: 0.8850\n",
            "Epoch 14/15\n",
            "63/63 [==============================] - 0s 7ms/step - loss: 0.0655 - accuracy: 0.9770 - val_loss: 0.2231 - val_accuracy: 0.9250\n",
            "Epoch 15/15\n",
            "63/63 [==============================] - 0s 7ms/step - loss: 0.0500 - accuracy: 0.9805 - val_loss: 0.3155 - val_accuracy: 0.8950\n"
          ],
          "name": "stdout"
        }
      ]
    },
    {
      "cell_type": "code",
      "metadata": {
        "colab": {
          "base_uri": "https://localhost:8080/"
        },
        "id": "oQ0w2MHHdHXM",
        "outputId": "14f6efa8-960f-47d0-f67f-476155171bdb"
      },
      "source": [
        "gender_hist = gender_model.fit(x=train_images, y = train_male_labels, validation_data=(test_images, test_male_labels), epochs=15, verbose=1)"
      ],
      "execution_count": null,
      "outputs": [
        {
          "output_type": "stream",
          "text": [
            "Epoch 1/15\n",
            "63/63 [==============================] - 1s 9ms/step - loss: 0.5605 - accuracy: 0.7070 - val_loss: 0.5920 - val_accuracy: 0.7200\n",
            "Epoch 2/15\n",
            "63/63 [==============================] - 0s 7ms/step - loss: 0.4302 - accuracy: 0.8060 - val_loss: 0.5148 - val_accuracy: 0.7300\n",
            "Epoch 3/15\n",
            "63/63 [==============================] - 0s 7ms/step - loss: 0.2963 - accuracy: 0.8780 - val_loss: 0.3299 - val_accuracy: 0.8900\n",
            "Epoch 4/15\n",
            "63/63 [==============================] - 0s 7ms/step - loss: 0.2278 - accuracy: 0.9065 - val_loss: 0.2623 - val_accuracy: 0.9300\n",
            "Epoch 5/15\n",
            "63/63 [==============================] - 0s 7ms/step - loss: 0.1596 - accuracy: 0.9345 - val_loss: 0.2448 - val_accuracy: 0.9100\n",
            "Epoch 6/15\n",
            "63/63 [==============================] - 0s 7ms/step - loss: 0.1351 - accuracy: 0.9465 - val_loss: 0.2311 - val_accuracy: 0.9250\n",
            "Epoch 7/15\n",
            "63/63 [==============================] - 0s 7ms/step - loss: 0.1005 - accuracy: 0.9615 - val_loss: 0.2279 - val_accuracy: 0.9350\n",
            "Epoch 8/15\n",
            "63/63 [==============================] - 0s 7ms/step - loss: 0.0935 - accuracy: 0.9660 - val_loss: 0.2595 - val_accuracy: 0.9250\n",
            "Epoch 9/15\n",
            "63/63 [==============================] - 0s 7ms/step - loss: 0.0548 - accuracy: 0.9805 - val_loss: 0.3021 - val_accuracy: 0.9300\n",
            "Epoch 10/15\n",
            "63/63 [==============================] - 0s 7ms/step - loss: 0.0323 - accuracy: 0.9900 - val_loss: 0.2720 - val_accuracy: 0.9300\n",
            "Epoch 11/15\n",
            "63/63 [==============================] - 0s 7ms/step - loss: 0.0330 - accuracy: 0.9885 - val_loss: 0.3003 - val_accuracy: 0.9250\n",
            "Epoch 12/15\n",
            "63/63 [==============================] - 0s 7ms/step - loss: 0.0318 - accuracy: 0.9890 - val_loss: 0.2675 - val_accuracy: 0.9350\n",
            "Epoch 13/15\n",
            "63/63 [==============================] - 0s 7ms/step - loss: 0.0480 - accuracy: 0.9825 - val_loss: 0.3010 - val_accuracy: 0.9200\n",
            "Epoch 14/15\n",
            "63/63 [==============================] - 0s 7ms/step - loss: 0.0247 - accuracy: 0.9900 - val_loss: 0.3504 - val_accuracy: 0.9200\n",
            "Epoch 15/15\n",
            "63/63 [==============================] - 0s 7ms/step - loss: 0.0144 - accuracy: 0.9960 - val_loss: 0.2997 - val_accuracy: 0.9300\n"
          ],
          "name": "stdout"
        }
      ]
    },
    {
      "cell_type": "markdown",
      "metadata": {
        "id": "gPfI5Io9iH1k"
      },
      "source": [
        "### 문제 25. 학습 진행 사항을 plt으로 출력하세요."
      ]
    },
    {
      "cell_type": "code",
      "metadata": {
        "id": "tYG-XR-DiH1k",
        "colab": {
          "base_uri": "https://localhost:8080/",
          "height": 283
        },
        "outputId": "fa1e5039-0431-429b-e096-6e0566720c16"
      },
      "source": [
        "# hist의 accuracy plt의 plot을 이용하여 출력하는 코드를 작성하세요.\n",
        "\n",
        "plt.plot(gender_hist.history['accuracy'], label='gender_acc')\n",
        "plt.plot(gender_hist.history['val_accuracy'], label='gender_val_acc')\n",
        "plt.plot(gender_hist.history['loss'], label='gender_loss')\n",
        "plt.plot(gender_hist.history['val_loss'], label='gender_val_loss')\n",
        "\n",
        "plt.legend()"
      ],
      "execution_count": null,
      "outputs": [
        {
          "output_type": "execute_result",
          "data": {
            "text/plain": [
              "<matplotlib.legend.Legend at 0x7f851a283e90>"
            ]
          },
          "metadata": {
            "tags": []
          },
          "execution_count": 36
        },
        {
          "output_type": "display_data",
          "data": {
            "image/png": "[encoded data removed]",
            "text/plain": [
              "<Figure size 432x288 with 1 Axes>"
            ]
          },
          "metadata": {
            "tags": [],
            "needs_background": "light"
          }
        }
      ]
    },
    {
      "cell_type": "markdown",
      "metadata": {
        "id": "HWwSu6rGiH1k"
      },
      "source": [
        "## Step 5. 결과 확인"
      ]
    },
    {
      "cell_type": "markdown",
      "metadata": {
        "id": "upv45GO-iH1k"
      },
      "source": [
        "### 문제 26. 완성된 모델에서 test_image를 1장 넣고 결과를 res 변수에 저정하세요."
      ]
    },
    {
      "cell_type": "code",
      "metadata": {
        "id": "eFlX9yZVeR29"
      },
      "source": [
        "test_img = tf.expand_dims(test_images[0], 0)"
      ],
      "execution_count": null,
      "outputs": []
    },
    {
      "cell_type": "code",
      "metadata": {
        "id": "JpeC60ONiH1l"
      },
      "source": [
        "# 모델에 test_mages 중 1장을 넣고 결과를 받는 코드를 작성하세요.\n",
        "res = gender_model.predict(test_img)"
      ],
      "execution_count": null,
      "outputs": []
    },
    {
      "cell_type": "code",
      "metadata": {
        "colab": {
          "base_uri": "https://localhost:8080/"
        },
        "id": "QKuiM8fBehQ5",
        "outputId": "7a8ad713-086c-489f-f984-5db6aef16290"
      },
      "source": [
        "res"
      ],
      "execution_count": null,
      "outputs": [
        {
          "output_type": "execute_result",
          "data": {
            "text/plain": [
              "array([[2.2687278e-05, 9.9997735e-01]], dtype=float32)"
            ]
          },
          "metadata": {
            "tags": []
          },
          "execution_count": 39
        }
      ]
    },
    {
      "cell_type": "markdown",
      "metadata": {
        "id": "j-YjXYk_iH1l"
      },
      "source": [
        "### 문제 27. res와 test_images[1]을 plt로 출력하세요"
      ]
    },
    {
      "cell_type": "code",
      "metadata": {
        "id": "yo8smPFiiH1l",
        "colab": {
          "base_uri": "https://localhost:8080/",
          "height": 286
        },
        "outputId": "f8e670b6-7ca1-4ce9-9dc8-74a4d7fee49a"
      },
      "source": [
        "# res와 test_images[1]을 print와 plt로 출력하는 코드를 작성하세요.\n",
        "plt.imshow(test_images[0])"
      ],
      "execution_count": null,
      "outputs": [
        {
          "output_type": "execute_result",
          "data": {
            "text/plain": [
              "<matplotlib.image.AxesImage at 0x7f850663bcd0>"
            ]
          },
          "metadata": {
            "tags": []
          },
          "execution_count": 40
        },
        {
          "output_type": "display_data",
          "data": {
            "image/png": "[encoded data removed]",
            "text/plain": [
              "<Figure size 432x288 with 1 Axes>"
            ]
          },
          "metadata": {
            "tags": [],
            "needs_background": "light"
          }
        }
      ]
    },
    {
      "cell_type": "code",
      "metadata": {
        "colab": {
          "base_uri": "https://localhost:8080/"
        },
        "id": "GqhZNahye7aY",
        "outputId": "8ce2562b-63ca-4b98-a912-b91cb325dac0"
      },
      "source": [
        "test_male_labels[0]"
      ],
      "execution_count": null,
      "outputs": [
        {
          "output_type": "execute_result",
          "data": {
            "text/plain": [
              "array([0., 1.], dtype=float32)"
            ]
          },
          "metadata": {
            "tags": []
          },
          "execution_count": 41
        }
      ]
    },
    {
      "cell_type": "code",
      "metadata": {
        "colab": {
          "base_uri": "https://localhost:8080/",
          "height": 283
        },
        "id": "yZjJcjOEfZO9",
        "outputId": "b5453d58-3cce-4143-a6a9-ed5784bd5629"
      },
      "source": [
        "plt.bar(range(2), res[0])\n",
        "plt.bar(np.array(range(2)) + 0.3, test_male_labels[0])"
      ],
      "execution_count": null,
      "outputs": [
        {
          "output_type": "execute_result",
          "data": {
            "text/plain": [
              "<BarContainer object of 2 artists>"
            ]
          },
          "metadata": {
            "tags": []
          },
          "execution_count": 42
        },
        {
          "output_type": "display_data",
          "data": {
            "image/png": "[encoded data removed]",
            "text/plain": [
              "<Figure size 432x288 with 1 Axes>"
            ]
          },
          "metadata": {
            "tags": [],
            "needs_background": "light"
          }
        }
      ]
    },
    {
      "cell_type": "markdown",
      "metadata": {
        "id": "eNkdDgr0zfX1"
      },
      "source": [
        "## Step 6. 멀티 아웃풋 모델링"
      ]
    },
    {
      "cell_type": "markdown",
      "metadata": {
        "id": "QG159d2rzfX1"
      },
      "source": [
        "### 문제 28. 해당 학습셋을 처리하는 이미지 classification 모델을 작성하세요. (단 label을 2개 동시에 처리)"
      ]
    },
    {
      "cell_type": "code",
      "metadata": {
        "id": "9wZKFa_QzfX1"
      },
      "source": [
        "# input (배치, 72, 59, 3), output (배치, 2)을 처리할 수 있는 모양의 모델을 작성하세요.\n",
        "\n",
        "def multi_model():\n",
        "  inputs = keras.Input(shape = (72,59,3))\n",
        "  x = keras.layers.Conv2D(32, 3, activation='relu')(inputs)\n",
        "  x = keras.layers.MaxPool2D(2)(x)\n",
        "  x = keras.layers.Conv2D(64, 3, activation='relu')(x)\n",
        "  x = keras.layers.MaxPool2D(2)(x)\n",
        "  x = keras.layers.Conv2D(64, 3, activation='relu')(x)\n",
        "  x = keras.layers.MaxPool2D(2)(x)\n",
        "\n",
        "  x = keras.layers.Flatten()(x)\n",
        "  x = keras.layers.Dense(1028, activation='relu')(x)\n",
        "  x = keras.layers.Dense(526, activation='relu')(x)\n",
        "  x = keras.layers.Dense(128, activation='relu')(x)\n",
        "  x = keras.layers.Dense(64, activation='relu')(x)\n",
        "  \n",
        "  gender_outputs = keras.layers.Dense(2, activation='softmax')(x)\n",
        "  smile_outputs = keras.layers.Dense(2, activation='softmax')(x)\n",
        "\n",
        "  outputs = keras.layers.Concatenate(axis=1)([gender_outputs, smile_outputs])\n",
        "\n",
        "  #model = keras.Model(inputs = inputs, outputs = [gender_outputs, smile_outputs])\n",
        "  model = keras.Model(inputs = inputs, outputs = outputs)\n",
        "  return model "
      ],
      "execution_count": null,
      "outputs": []
    },
    {
      "cell_type": "markdown",
      "metadata": {
        "id": "-caAUep7zfX2"
      },
      "source": [
        "### 문제 29. 모델을 할당 받고 서머리를 출력해보세요."
      ]
    },
    {
      "cell_type": "code",
      "metadata": {
        "id": "guruR7iezfX2",
        "colab": {
          "base_uri": "https://localhost:8080/"
        },
        "outputId": "e3fcc980-579e-439b-9399-630ef047d52f"
      },
      "source": [
        "# multi_model() 모델을 할당 받고 서머리를 출력하는 코드를 작성하세요.\n",
        "multi_model = multi_model()\n",
        "multi_model.summary()"
      ],
      "execution_count": null,
      "outputs": [
        {
          "output_type": "stream",
          "text": [
            "Model: \"model_7\"\n",
            "__________________________________________________________________________________________________\n",
            "Layer (type)                    Output Shape         Param #     Connected to                     \n",
            "==================================================================================================\n",
            "input_8 (InputLayer)            [(None, 72, 59, 3)]  0                                            \n",
            "__________________________________________________________________________________________________\n",
            "conv2d_21 (Conv2D)              (None, 70, 57, 32)   896         input_8[0][0]                    \n",
            "__________________________________________________________________________________________________\n",
            "max_pooling2d_21 (MaxPooling2D) (None, 35, 28, 32)   0           conv2d_21[0][0]                  \n",
            "__________________________________________________________________________________________________\n",
            "conv2d_22 (Conv2D)              (None, 33, 26, 64)   18496       max_pooling2d_21[0][0]           \n",
            "__________________________________________________________________________________________________\n",
            "max_pooling2d_22 (MaxPooling2D) (None, 16, 13, 64)   0           conv2d_22[0][0]                  \n",
            "__________________________________________________________________________________________________\n",
            "conv2d_23 (Conv2D)              (None, 14, 11, 64)   36928       max_pooling2d_22[0][0]           \n",
            "__________________________________________________________________________________________________\n",
            "max_pooling2d_23 (MaxPooling2D) (None, 7, 5, 64)     0           conv2d_23[0][0]                  \n",
            "__________________________________________________________________________________________________\n",
            "flatten_7 (Flatten)             (None, 2240)         0           max_pooling2d_23[0][0]           \n",
            "__________________________________________________________________________________________________\n",
            "dense_29 (Dense)                (None, 1028)         2303748     flatten_7[0][0]                  \n",
            "__________________________________________________________________________________________________\n",
            "dense_30 (Dense)                (None, 526)          541254      dense_29[0][0]                   \n",
            "__________________________________________________________________________________________________\n",
            "dense_31 (Dense)                (None, 128)          67456       dense_30[0][0]                   \n",
            "__________________________________________________________________________________________________\n",
            "dense_32 (Dense)                (None, 64)           8256        dense_31[0][0]                   \n",
            "__________________________________________________________________________________________________\n",
            "dense_33 (Dense)                (None, 2)            130         dense_32[0][0]                   \n",
            "__________________________________________________________________________________________________\n",
            "dense_34 (Dense)                (None, 2)            130         dense_32[0][0]                   \n",
            "__________________________________________________________________________________________________\n",
            "concatenate_4 (Concatenate)     (None, 4)            0           dense_33[0][0]                   \n",
            "                                                                 dense_34[0][0]                   \n",
            "==================================================================================================\n",
            "Total params: 2,977,294\n",
            "Trainable params: 2,977,294\n",
            "Non-trainable params: 0\n",
            "__________________________________________________________________________________________________\n"
          ],
          "name": "stdout"
        }
      ]
    },
    {
      "cell_type": "code",
      "metadata": {
        "id": "5ZVLI6YHf80i"
      },
      "source": [
        "# input (배치, 72, 59, 3), output (배치, 2)을 처리할 수 있는 모양의 모델을 작성하세요.\n",
        "\n",
        "def multi_model():\n",
        "  inputs = keras.Input(shape = (72,59,3))\n",
        "  x = keras.layers.Conv2D(32, 3, activation='relu')(inputs)\n",
        "  x = keras.layers.MaxPool2D(2)(x)\n",
        "  x = keras.layers.Conv2D(64, 3, activation='relu')(x)\n",
        "  x = keras.layers.MaxPool2D(2)(x)\n",
        "  x = keras.layers.Conv2D(64, 3, activation='relu')(x)\n",
        "  x = keras.layers.MaxPool2D(2)(x)\n",
        "\n",
        "  x = keras.layers.Flatten()(x)\n",
        "  x = keras.layers.Dense(1028, activation='relu')(x)\n",
        "  x = keras.layers.Dense(526, activation='relu')(x)\n",
        "  x = keras.layers.Dense(128, activation='relu')(x)\n",
        "  x = keras.layers.Dense(64, activation='relu')(x)\n",
        "  \n",
        "  gender_outputs = keras.layers.Dense(2, activation='softmax')(x)\n",
        "  smile_outputs = keras.layers.Dense(2, activation='softmax')(x)\n",
        "\n",
        "  #outputs = keras.layers.Concatenate(axis=1)([gender_outputs, smile_outputs])\n",
        "\n",
        "  model = keras.Model(inputs = inputs, outputs = [gender_outputs, smile_outputs])\n",
        "  #model = keras.Model(inputs = inputs, outputs = outputs)\n",
        "  return model "
      ],
      "execution_count": null,
      "outputs": []
    },
    {
      "cell_type": "code",
      "metadata": {
        "colab": {
          "base_uri": "https://localhost:8080/"
        },
        "id": "9H_uiBzagCf5",
        "outputId": "4a9d5afa-2b42-4d55-ccfa-4a7ff21a8cae"
      },
      "source": [
        "# multi_model() 모델을 할당 받고 서머리를 출력하는 코드를 작성하세요.\n",
        "multi_model_2 = multi_model()\n",
        "multi_model_2.summary()"
      ],
      "execution_count": null,
      "outputs": [
        {
          "output_type": "stream",
          "text": [
            "Model: \"model_6\"\n",
            "__________________________________________________________________________________________________\n",
            "Layer (type)                    Output Shape         Param #     Connected to                     \n",
            "==================================================================================================\n",
            "input_7 (InputLayer)            [(None, 72, 59, 3)]  0                                            \n",
            "__________________________________________________________________________________________________\n",
            "conv2d_18 (Conv2D)              (None, 70, 57, 32)   896         input_7[0][0]                    \n",
            "__________________________________________________________________________________________________\n",
            "max_pooling2d_18 (MaxPooling2D) (None, 35, 28, 32)   0           conv2d_18[0][0]                  \n",
            "__________________________________________________________________________________________________\n",
            "conv2d_19 (Conv2D)              (None, 33, 26, 64)   18496       max_pooling2d_18[0][0]           \n",
            "__________________________________________________________________________________________________\n",
            "max_pooling2d_19 (MaxPooling2D) (None, 16, 13, 64)   0           conv2d_19[0][0]                  \n",
            "__________________________________________________________________________________________________\n",
            "conv2d_20 (Conv2D)              (None, 14, 11, 64)   36928       max_pooling2d_19[0][0]           \n",
            "__________________________________________________________________________________________________\n",
            "max_pooling2d_20 (MaxPooling2D) (None, 7, 5, 64)     0           conv2d_20[0][0]                  \n",
            "__________________________________________________________________________________________________\n",
            "flatten_6 (Flatten)             (None, 2240)         0           max_pooling2d_20[0][0]           \n",
            "__________________________________________________________________________________________________\n",
            "dense_23 (Dense)                (None, 1028)         2303748     flatten_6[0][0]                  \n",
            "__________________________________________________________________________________________________\n",
            "dense_24 (Dense)                (None, 526)          541254      dense_23[0][0]                   \n",
            "__________________________________________________________________________________________________\n",
            "dense_25 (Dense)                (None, 128)          67456       dense_24[0][0]                   \n",
            "__________________________________________________________________________________________________\n",
            "dense_26 (Dense)                (None, 64)           8256        dense_25[0][0]                   \n",
            "__________________________________________________________________________________________________\n",
            "dense_27 (Dense)                (None, 2)            130         dense_26[0][0]                   \n",
            "__________________________________________________________________________________________________\n",
            "dense_28 (Dense)                (None, 2)            130         dense_26[0][0]                   \n",
            "==================================================================================================\n",
            "Total params: 2,977,294\n",
            "Trainable params: 2,977,294\n",
            "Non-trainable params: 0\n",
            "__________________________________________________________________________________________________\n"
          ],
          "name": "stdout"
        }
      ]
    },
    {
      "cell_type": "markdown",
      "metadata": {
        "id": "lp8dbD_FzfX2"
      },
      "source": [
        "### 문제 30. 만든 모델에 로스와 옵티마이저, 메트릭을 설정하세요."
      ]
    },
    {
      "cell_type": "code",
      "metadata": {
        "id": "jXJEdlQ6zfX2"
      },
      "source": [
        "# 만든 모델에 loss는 categorical_crossentropy, optimizer는 adam 매트릭은 accuracy으로 설정하는 코드를 작성하세요.\n",
        "\n",
        "multi_model.compile(loss = keras.losses.CategoricalCrossentropy(), \n",
        "                     optimizer= keras.optimizers.Adam(), \n",
        "                     metrics= ['accuracy'])"
      ],
      "execution_count": null,
      "outputs": []
    },
    {
      "cell_type": "code",
      "metadata": {
        "id": "fgNXwkqsgE_Q"
      },
      "source": [
        "# 만든 모델에 loss는 categorical_crossentropy, optimizer는 adam 매트릭은 accuracy으로 설정하는 코드를 작성하세요.\n",
        "\n",
        "multi_model_2.compile(loss = keras.losses.CategoricalCrossentropy(), \n",
        "                     optimizer= keras.optimizers.Adam(), \n",
        "                     metrics= ['accuracy'])"
      ],
      "execution_count": null,
      "outputs": []
    },
    {
      "cell_type": "markdown",
      "metadata": {
        "id": "_C6Nk21yzfX3"
      },
      "source": [
        "### 문제 31. 만든 모델에 train_images를 학습시켜 보세요."
      ]
    },
    {
      "cell_type": "code",
      "metadata": {
        "colab": {
          "base_uri": "https://localhost:8080/"
        },
        "id": "go6FeISyfAJF",
        "outputId": "fb4d3710-e06b-4d4b-99bd-78b8be7a474c"
      },
      "source": [
        "train_labels2.shape"
      ],
      "execution_count": null,
      "outputs": [
        {
          "output_type": "execute_result",
          "data": {
            "text/plain": [
              "(2000, 4)"
            ]
          },
          "metadata": {
            "tags": []
          },
          "execution_count": 66
        }
      ]
    },
    {
      "cell_type": "code",
      "metadata": {
        "id": "kv4tEjc9zfX3",
        "colab": {
          "base_uri": "https://localhost:8080/"
        },
        "outputId": "d4a161bf-e278-4d9d-dce2-a9810621aa17"
      },
      "source": [
        "# train_images 학습시키고 15 epochs을 돌리고 그 진행 사항을 hist에 저장하는 코드를 작성하세요.\n",
        "hist = multi_model.fit(train_images, train_labels2, validation_data =(test_images, test_labels2), epochs = 15, verbose=1)"
      ],
      "execution_count": null,
      "outputs": [
        {
          "output_type": "stream",
          "text": [
            "Epoch 1/15\n",
            "63/63 [==============================] - 1s 12ms/step - loss: 2.7135 - accuracy: 0.4955 - val_loss: 2.6480 - val_accuracy: 0.7100\n",
            "Epoch 2/15\n",
            "63/63 [==============================] - 1s 8ms/step - loss: 2.6035 - accuracy: 0.7215 - val_loss: 2.6068 - val_accuracy: 0.7100\n",
            "Epoch 3/15\n",
            "63/63 [==============================] - 1s 8ms/step - loss: 2.4920 - accuracy: 0.7300 - val_loss: 2.4664 - val_accuracy: 0.7100\n",
            "Epoch 4/15\n",
            "63/63 [==============================] - 0s 8ms/step - loss: 2.3047 - accuracy: 0.7910 - val_loss: 2.2733 - val_accuracy: 0.8250\n",
            "Epoch 5/15\n",
            "63/63 [==============================] - 1s 8ms/step - loss: 2.0956 - accuracy: 0.8000 - val_loss: 2.0873 - val_accuracy: 0.7350\n",
            "Epoch 6/15\n",
            "63/63 [==============================] - 1s 8ms/step - loss: 1.9163 - accuracy: 0.7640 - val_loss: 2.0756 - val_accuracy: 0.7450\n",
            "Epoch 7/15\n",
            "63/63 [==============================] - 1s 8ms/step - loss: 1.8616 - accuracy: 0.7530 - val_loss: 1.9434 - val_accuracy: 0.7000\n",
            "Epoch 8/15\n",
            "63/63 [==============================] - 1s 8ms/step - loss: 1.7602 - accuracy: 0.7520 - val_loss: 2.0822 - val_accuracy: 0.5950\n",
            "Epoch 9/15\n",
            "63/63 [==============================] - 1s 8ms/step - loss: 1.7577 - accuracy: 0.7760 - val_loss: 2.0409 - val_accuracy: 0.7400\n",
            "Epoch 10/15\n",
            "63/63 [==============================] - 0s 8ms/step - loss: 1.6572 - accuracy: 0.7645 - val_loss: 2.0335 - val_accuracy: 0.7400\n",
            "Epoch 11/15\n",
            "63/63 [==============================] - 1s 8ms/step - loss: 1.6016 - accuracy: 0.8135 - val_loss: 2.1757 - val_accuracy: 0.6750\n",
            "Epoch 12/15\n",
            "63/63 [==============================] - 1s 8ms/step - loss: 1.5841 - accuracy: 0.7500 - val_loss: 2.0690 - val_accuracy: 0.7450\n",
            "Epoch 13/15\n",
            "63/63 [==============================] - 1s 8ms/step - loss: 1.5250 - accuracy: 0.7790 - val_loss: 2.2373 - val_accuracy: 0.7100\n",
            "Epoch 14/15\n",
            "63/63 [==============================] - 1s 8ms/step - loss: 1.4895 - accuracy: 0.7485 - val_loss: 2.1454 - val_accuracy: 0.5550\n",
            "Epoch 15/15\n",
            "63/63 [==============================] - 1s 8ms/step - loss: 1.5009 - accuracy: 0.7355 - val_loss: 2.3020 - val_accuracy: 0.6700\n"
          ],
          "name": "stdout"
        }
      ]
    },
    {
      "cell_type": "code",
      "metadata": {
        "colab": {
          "base_uri": "https://localhost:8080/"
        },
        "id": "5kXjvH6OgIRz",
        "outputId": "c86d7d3e-7e14-41a7-d22d-b28eb30d4d62"
      },
      "source": [
        "# train_images 학습시키고 15 epochs을 돌리고 그 진행 사항을 hist에 저장하는 코드를 작성하세요.\n",
        "hist_2 = multi_model_2.fit(train_images, y = [train_male_labels, train_smile_labels], validation_data =(test_images, [test_male_labels, test_smile_labels]), epochs = 15, verbose=1)"
      ],
      "execution_count": null,
      "outputs": [
        {
          "output_type": "stream",
          "text": [
            "Epoch 1/15\n",
            "63/63 [==============================] - 1s 11ms/step - loss: 0.1081 - dense_27_loss: 0.0344 - dense_28_loss: 0.0737 - dense_27_accuracy: 0.9870 - dense_28_accuracy: 0.9725 - val_loss: 0.8324 - val_dense_27_loss: 0.4415 - val_dense_28_loss: 0.3909 - val_dense_27_accuracy: 0.9050 - val_dense_28_accuracy: 0.8950\n",
            "Epoch 2/15\n",
            "63/63 [==============================] - 1s 9ms/step - loss: 0.1058 - dense_27_loss: 0.0279 - dense_28_loss: 0.0779 - dense_27_accuracy: 0.9900 - dense_28_accuracy: 0.9690 - val_loss: 1.0050 - val_dense_27_loss: 0.5926 - val_dense_28_loss: 0.4124 - val_dense_27_accuracy: 0.8850 - val_dense_28_accuracy: 0.8700\n",
            "Epoch 3/15\n",
            "63/63 [==============================] - 1s 9ms/step - loss: 0.0616 - dense_27_loss: 0.0185 - dense_28_loss: 0.0432 - dense_27_accuracy: 0.9945 - dense_28_accuracy: 0.9845 - val_loss: 0.9715 - val_dense_27_loss: 0.4303 - val_dense_28_loss: 0.5411 - val_dense_27_accuracy: 0.9200 - val_dense_28_accuracy: 0.8650\n",
            "Epoch 4/15\n",
            "63/63 [==============================] - 1s 9ms/step - loss: 0.0605 - dense_27_loss: 0.0269 - dense_28_loss: 0.0336 - dense_27_accuracy: 0.9940 - dense_28_accuracy: 0.9875 - val_loss: 0.8849 - val_dense_27_loss: 0.3764 - val_dense_28_loss: 0.5085 - val_dense_27_accuracy: 0.9100 - val_dense_28_accuracy: 0.8650\n",
            "Epoch 5/15\n",
            "63/63 [==============================] - 1s 9ms/step - loss: 0.0476 - dense_27_loss: 0.0099 - dense_28_loss: 0.0377 - dense_27_accuracy: 0.9970 - dense_28_accuracy: 0.9855 - val_loss: 0.9228 - val_dense_27_loss: 0.4479 - val_dense_28_loss: 0.4749 - val_dense_27_accuracy: 0.8950 - val_dense_28_accuracy: 0.8800\n",
            "Epoch 6/15\n",
            "63/63 [==============================] - 1s 9ms/step - loss: 0.0631 - dense_27_loss: 0.0232 - dense_28_loss: 0.0399 - dense_27_accuracy: 0.9925 - dense_28_accuracy: 0.9875 - val_loss: 1.0265 - val_dense_27_loss: 0.4528 - val_dense_28_loss: 0.5738 - val_dense_27_accuracy: 0.9050 - val_dense_28_accuracy: 0.8450\n",
            "Epoch 7/15\n",
            "63/63 [==============================] - 1s 9ms/step - loss: 0.0608 - dense_27_loss: 0.0219 - dense_28_loss: 0.0389 - dense_27_accuracy: 0.9935 - dense_28_accuracy: 0.9895 - val_loss: 1.1221 - val_dense_27_loss: 0.5949 - val_dense_28_loss: 0.5271 - val_dense_27_accuracy: 0.9000 - val_dense_28_accuracy: 0.8800\n",
            "Epoch 8/15\n",
            "63/63 [==============================] - 1s 9ms/step - loss: 0.0750 - dense_27_loss: 0.0335 - dense_28_loss: 0.0415 - dense_27_accuracy: 0.9880 - dense_28_accuracy: 0.9865 - val_loss: 1.0876 - val_dense_27_loss: 0.4679 - val_dense_28_loss: 0.6197 - val_dense_27_accuracy: 0.9150 - val_dense_28_accuracy: 0.8600\n",
            "Epoch 9/15\n",
            "63/63 [==============================] - 1s 9ms/step - loss: 0.0642 - dense_27_loss: 0.0252 - dense_28_loss: 0.0390 - dense_27_accuracy: 0.9920 - dense_28_accuracy: 0.9865 - val_loss: 1.2148 - val_dense_27_loss: 0.4537 - val_dense_28_loss: 0.7612 - val_dense_27_accuracy: 0.9000 - val_dense_28_accuracy: 0.8350\n",
            "Epoch 10/15\n",
            "63/63 [==============================] - 1s 9ms/step - loss: 0.0540 - dense_27_loss: 0.0166 - dense_28_loss: 0.0373 - dense_27_accuracy: 0.9940 - dense_28_accuracy: 0.9860 - val_loss: 1.0650 - val_dense_27_loss: 0.4564 - val_dense_28_loss: 0.6087 - val_dense_27_accuracy: 0.9300 - val_dense_28_accuracy: 0.8900\n",
            "Epoch 11/15\n",
            "63/63 [==============================] - 1s 9ms/step - loss: 0.0072 - dense_27_loss: 0.0020 - dense_28_loss: 0.0052 - dense_27_accuracy: 0.9995 - dense_28_accuracy: 0.9980 - val_loss: 1.1520 - val_dense_27_loss: 0.5338 - val_dense_28_loss: 0.6182 - val_dense_27_accuracy: 0.9300 - val_dense_28_accuracy: 0.8900\n",
            "Epoch 12/15\n",
            "63/63 [==============================] - 1s 9ms/step - loss: 0.0071 - dense_27_loss: 0.0034 - dense_28_loss: 0.0037 - dense_27_accuracy: 0.9995 - dense_28_accuracy: 0.9990 - val_loss: 1.2806 - val_dense_27_loss: 0.6727 - val_dense_28_loss: 0.6079 - val_dense_27_accuracy: 0.9050 - val_dense_28_accuracy: 0.8900\n",
            "Epoch 13/15\n",
            "63/63 [==============================] - 1s 9ms/step - loss: 0.0426 - dense_27_loss: 0.0098 - dense_28_loss: 0.0327 - dense_27_accuracy: 0.9980 - dense_28_accuracy: 0.9895 - val_loss: 1.0720 - val_dense_27_loss: 0.4806 - val_dense_28_loss: 0.5914 - val_dense_27_accuracy: 0.9050 - val_dense_28_accuracy: 0.8600\n",
            "Epoch 14/15\n",
            "63/63 [==============================] - 1s 9ms/step - loss: 0.0616 - dense_27_loss: 0.0136 - dense_28_loss: 0.0480 - dense_27_accuracy: 0.9945 - dense_28_accuracy: 0.9830 - val_loss: 1.1377 - val_dense_27_loss: 0.4431 - val_dense_28_loss: 0.6946 - val_dense_27_accuracy: 0.9050 - val_dense_28_accuracy: 0.8450\n",
            "Epoch 15/15\n",
            "63/63 [==============================] - 1s 9ms/step - loss: 0.0412 - dense_27_loss: 0.0238 - dense_28_loss: 0.0174 - dense_27_accuracy: 0.9910 - dense_28_accuracy: 0.9945 - val_loss: 1.1727 - val_dense_27_loss: 0.5307 - val_dense_28_loss: 0.6420 - val_dense_27_accuracy: 0.9100 - val_dense_28_accuracy: 0.8750\n"
          ],
          "name": "stdout"
        }
      ]
    },
    {
      "cell_type": "markdown",
      "metadata": {
        "id": "-gtWPhyAzfX3"
      },
      "source": [
        "### 문제 32. 학습 진행 사항을 plt으로 출력하세요."
      ]
    },
    {
      "cell_type": "code",
      "metadata": {
        "id": "8FLOC5Ieg77R"
      },
      "source": [
        ""
      ],
      "execution_count": null,
      "outputs": []
    },
    {
      "cell_type": "code",
      "metadata": {
        "id": "63QWAg0lzfX3",
        "colab": {
          "base_uri": "https://localhost:8080/",
          "height": 283
        },
        "outputId": "496b5659-c8a0-48e0-e0b2-b6b9f6fcd5fb"
      },
      "source": [
        "# hist의 accuracy plt의 plot을 이용하여 출력하는 코드를 작성하세요.\n",
        "\n",
        "plt.plot(hist.history['accuracy'], label='acc')\n",
        "plt.plot(hist.history['val_accuracy'], label='val_acc')\n",
        "plt.plot(hist.history['loss'], label='loss')\n",
        "plt.plot(hist.history['val_loss'], label='val_loss')\n",
        "\n",
        "plt.legend()"
      ],
      "execution_count": null,
      "outputs": [
        {
          "output_type": "execute_result",
          "data": {
            "text/plain": [
              "<matplotlib.legend.Legend at 0x7f847bccf690>"
            ]
          },
          "metadata": {
            "tags": []
          },
          "execution_count": 81
        },
        {
          "output_type": "display_data",
          "data": {
            "image/png": "[encoded data removed]",
            "text/plain": [
              "<Figure size 432x288 with 1 Axes>"
            ]
          },
          "metadata": {
            "tags": [],
            "needs_background": "light"
          }
        }
      ]
    },
    {
      "cell_type": "code",
      "metadata": {
        "id": "FFsFOQO1hRZ2"
      },
      "source": [
        "# hist의 accuracy plt의 plot을 이용하여 출력하는 코드를 작성하세요.\n",
        "\n",
        "plt.plot(hist.history['accuracy'], label='acc')\n",
        "plt.plot(hist.history['val_accuracy'], label='val_acc')\n",
        "plt.plot(hist.history['loss'], label='loss')\n",
        "plt.plot(hist.history['val_loss'], label='val_loss')\n",
        "\n",
        "plt.legend()"
      ],
      "execution_count": null,
      "outputs": []
    },
    {
      "cell_type": "markdown",
      "metadata": {
        "id": "xQOMfXQOzfX4"
      },
      "source": [
        "## Step 7. 결과 확인"
      ]
    },
    {
      "cell_type": "markdown",
      "metadata": {
        "id": "yWMu-OUGzfX4"
      },
      "source": [
        "### 문제 33. 완성된 모델에서 test_image를 1장 넣고 결과를 res 변수에 저정하세요."
      ]
    },
    {
      "cell_type": "code",
      "metadata": {
        "id": "nvBz3eCEzfX4"
      },
      "source": [
        "# 모델에 test_mages 중 1장을 넣고 결과를 받는 코드를 작성하세요.\n",
        "test = tf.expand_dims(test_images[0], 0)\n",
        "\n",
        "res = multi_model_2.predict(x = test)\n",
        "\n"
      ],
      "execution_count": null,
      "outputs": []
    },
    {
      "cell_type": "code",
      "metadata": {
        "colab": {
          "base_uri": "https://localhost:8080/"
        },
        "id": "j6nQ_lZBiD96",
        "outputId": "78fecd9e-e235-4d4c-af79-ef042176f1d0"
      },
      "source": [
        "np.argmax(res[0])"
      ],
      "execution_count": null,
      "outputs": [
        {
          "output_type": "execute_result",
          "data": {
            "text/plain": [
              "1"
            ]
          },
          "metadata": {
            "tags": []
          },
          "execution_count": 88
        }
      ]
    },
    {
      "cell_type": "markdown",
      "metadata": {
        "id": "I5UrN6nizfX4"
      },
      "source": [
        "### 문제 34. res와 test_images[1]을 plt로 출력하세요"
      ]
    },
    {
      "cell_type": "code",
      "metadata": {
        "colab": {
          "base_uri": "https://localhost:8080/",
          "height": 286
        },
        "id": "B4qNe8NnigYe",
        "outputId": "f80c84ed-d2ca-4d31-f553-18f5863f57d9"
      },
      "source": [
        "plt.imshow(test_images[0])"
      ],
      "execution_count": null,
      "outputs": [
        {
          "output_type": "execute_result",
          "data": {
            "text/plain": [
              "<matplotlib.image.AxesImage at 0x7f847baf4e10>"
            ]
          },
          "metadata": {
            "tags": []
          },
          "execution_count": 89
        },
        {
          "output_type": "display_data",
          "data": {
            "image/png": "[encoded data removed]",
            "text/plain": [
              "<Figure size 432x288 with 1 Axes>"
            ]
          },
          "metadata": {
            "tags": [],
            "needs_background": "light"
          }
        }
      ]
    },
    {
      "cell_type": "code",
      "metadata": {
        "id": "zvcDEcvJzfX5",
        "colab": {
          "base_uri": "https://localhost:8080/",
          "height": 283
        },
        "outputId": "0546be25-7d56-425c-bd4a-cf8d0bdb0353"
      },
      "source": [
        "# res와 test_images[1]을 print와 plt로 출력하는 코드를 작성하세요.\n",
        "plt.bar(range(2), res[0][0])\n",
        "plt.bar(np.array(range(2)) + 0.3, test_male_labels[0])"
      ],
      "execution_count": null,
      "outputs": [
        {
          "output_type": "execute_result",
          "data": {
            "text/plain": [
              "<BarContainer object of 2 artists>"
            ]
          },
          "metadata": {
            "tags": []
          },
          "execution_count": 91
        },
        {
          "output_type": "display_data",
          "data": {
            "image/png": "[encoded data removed]",
            "text/plain": [
              "<Figure size 432x288 with 1 Axes>"
            ]
          },
          "metadata": {
            "tags": [],
            "needs_background": "light"
          }
        }
      ]
    },
    {
      "cell_type": "code",
      "metadata": {
        "colab": {
          "base_uri": "https://localhost:8080/",
          "height": 283
        },
        "id": "mrW0Omnkiq3t",
        "outputId": "46d64bd4-2a85-46ef-a927-a618b66e9081"
      },
      "source": [
        "# res와 test_images[1]을 print와 plt로 출력하는 코드를 작성하세요.\n",
        "plt.bar(range(2), res[1][0])\n",
        "plt.bar(np.array(range(2)) + 0.3, test_male_labels[0])"
      ],
      "execution_count": null,
      "outputs": [
        {
          "output_type": "execute_result",
          "data": {
            "text/plain": [
              "<BarContainer object of 2 artists>"
            ]
          },
          "metadata": {
            "tags": []
          },
          "execution_count": 92
        },
        {
          "output_type": "display_data",
          "data": {
            "image/png": "[encoded data removed]",
            "text/plain": [
              "<Figure size 432x288 with 1 Axes>"
            ]
          },
          "metadata": {
            "tags": [],
            "needs_background": "light"
          }
        }
      ]
    },
    {
      "cell_type": "code",
      "metadata": {
        "colab": {
          "base_uri": "https://localhost:8080/"
        },
        "id": "DvNo6fZ4it1l",
        "outputId": "8d42ce1d-b90e-40f1-f77c-acc72ec4f6f7"
      },
      "source": [
        "res[0][0]"
      ],
      "execution_count": null,
      "outputs": [
        {
          "output_type": "execute_result",
          "data": {
            "text/plain": [
              "array([2.9696935e-06, 9.9999702e-01], dtype=float32)"
            ]
          },
          "metadata": {
            "tags": []
          },
          "execution_count": 97
        }
      ]
    },
    {
      "cell_type": "markdown",
      "metadata": {
        "id": "UiIBTxMizfX5"
      },
      "source": [
        "## Step 8. 모델 분리"
      ]
    },
    {
      "cell_type": "markdown",
      "metadata": {
        "id": "AXCh44v4zfX5"
      },
      "source": [
        "###문제 35. model의 뒷단을 수정하여 성별 모델을 분리해보세요."
      ]
    },
    {
      "cell_type": "code",
      "metadata": {
        "colab": {
          "base_uri": "https://localhost:8080/"
        },
        "id": "82fAOTVjj0m3",
        "outputId": "067e8bd8-eab7-4dcf-db75-06944c885ac6"
      },
      "source": [
        "multi_model_2.summary()"
      ],
      "execution_count": null,
      "outputs": [
        {
          "output_type": "stream",
          "text": [
            "Model: \"model_6\"\n",
            "__________________________________________________________________________________________________\n",
            "Layer (type)                    Output Shape         Param #     Connected to                     \n",
            "==================================================================================================\n",
            "input_7 (InputLayer)            [(None, 72, 59, 3)]  0                                            \n",
            "__________________________________________________________________________________________________\n",
            "conv2d_18 (Conv2D)              (None, 70, 57, 32)   896         input_7[0][0]                    \n",
            "__________________________________________________________________________________________________\n",
            "max_pooling2d_18 (MaxPooling2D) (None, 35, 28, 32)   0           conv2d_18[0][0]                  \n",
            "__________________________________________________________________________________________________\n",
            "conv2d_19 (Conv2D)              (None, 33, 26, 64)   18496       max_pooling2d_18[0][0]           \n",
            "__________________________________________________________________________________________________\n",
            "max_pooling2d_19 (MaxPooling2D) (None, 16, 13, 64)   0           conv2d_19[0][0]                  \n",
            "__________________________________________________________________________________________________\n",
            "conv2d_20 (Conv2D)              (None, 14, 11, 64)   36928       max_pooling2d_19[0][0]           \n",
            "__________________________________________________________________________________________________\n",
            "max_pooling2d_20 (MaxPooling2D) (None, 7, 5, 64)     0           conv2d_20[0][0]                  \n",
            "__________________________________________________________________________________________________\n",
            "flatten_6 (Flatten)             (None, 2240)         0           max_pooling2d_20[0][0]           \n",
            "__________________________________________________________________________________________________\n",
            "dense_23 (Dense)                (None, 1028)         2303748     flatten_6[0][0]                  \n",
            "__________________________________________________________________________________________________\n",
            "dense_24 (Dense)                (None, 526)          541254      dense_23[0][0]                   \n",
            "__________________________________________________________________________________________________\n",
            "dense_25 (Dense)                (None, 128)          67456       dense_24[0][0]                   \n",
            "__________________________________________________________________________________________________\n",
            "dense_26 (Dense)                (None, 64)           8256        dense_25[0][0]                   \n",
            "__________________________________________________________________________________________________\n",
            "dense_27 (Dense)                (None, 2)            130         dense_26[0][0]                   \n",
            "__________________________________________________________________________________________________\n",
            "dense_28 (Dense)                (None, 2)            130         dense_26[0][0]                   \n",
            "==================================================================================================\n",
            "Total params: 2,977,294\n",
            "Trainable params: 2,977,294\n",
            "Non-trainable params: 0\n",
            "__________________________________________________________________________________________________\n"
          ],
          "name": "stdout"
        }
      ]
    },
    {
      "cell_type": "code",
      "metadata": {
        "id": "uTZWyAQKzfX5",
        "colab": {
          "base_uri": "https://localhost:8080/"
        },
        "outputId": "4d8259b3-c78c-45b5-e877-cdfd6c91e68c"
      },
      "source": [
        "# model의 뒷단을 수정하여 성별 모델을 분리하고 모델 정보를 확인하는 코드를 작성하세요.\n",
        "\n",
        "gender_model_2 = keras.Model(inputs = multi_model_2.input, outputs = multi_model_2.get_layer('dense_27').output)\n",
        "gender_model_2.summary()"
      ],
      "execution_count": null,
      "outputs": [
        {
          "output_type": "stream",
          "text": [
            "Model: \"model_10\"\n",
            "_________________________________________________________________\n",
            "Layer (type)                 Output Shape              Param #   \n",
            "=================================================================\n",
            "input_7 (InputLayer)         [(None, 72, 59, 3)]       0         \n",
            "_________________________________________________________________\n",
            "conv2d_18 (Conv2D)           (None, 70, 57, 32)        896       \n",
            "_________________________________________________________________\n",
            "max_pooling2d_18 (MaxPooling (None, 35, 28, 32)        0         \n",
            "_________________________________________________________________\n",
            "conv2d_19 (Conv2D)           (None, 33, 26, 64)        18496     \n",
            "_________________________________________________________________\n",
            "max_pooling2d_19 (MaxPooling (None, 16, 13, 64)        0         \n",
            "_________________________________________________________________\n",
            "conv2d_20 (Conv2D)           (None, 14, 11, 64)        36928     \n",
            "_________________________________________________________________\n",
            "max_pooling2d_20 (MaxPooling (None, 7, 5, 64)          0         \n",
            "_________________________________________________________________\n",
            "flatten_6 (Flatten)          (None, 2240)              0         \n",
            "_________________________________________________________________\n",
            "dense_23 (Dense)             (None, 1028)              2303748   \n",
            "_________________________________________________________________\n",
            "dense_24 (Dense)             (None, 526)               541254    \n",
            "_________________________________________________________________\n",
            "dense_25 (Dense)             (None, 128)               67456     \n",
            "_________________________________________________________________\n",
            "dense_26 (Dense)             (None, 64)                8256      \n",
            "_________________________________________________________________\n",
            "dense_27 (Dense)             (None, 2)                 130       \n",
            "=================================================================\n",
            "Total params: 2,977,164\n",
            "Trainable params: 2,977,164\n",
            "Non-trainable params: 0\n",
            "_________________________________________________________________\n"
          ],
          "name": "stdout"
        }
      ]
    },
    {
      "cell_type": "markdown",
      "metadata": {
        "id": "m_bmyR1FzfX6"
      },
      "source": [
        "### 문제 36. 성별모델에서 테스트 데이터 확인"
      ]
    },
    {
      "cell_type": "code",
      "metadata": {
        "id": "AHhv_4NDzfX6",
        "colab": {
          "base_uri": "https://localhost:8080/"
        },
        "outputId": "d8cd280a-ddc6-491c-b5e0-372233a8c22e"
      },
      "source": [
        "# 성별모델에서 테스트 데이터 확인\n",
        "x1 = gender_model_2.predict(test_images[0:1])\n",
        "x1.argmax()"
      ],
      "execution_count": null,
      "outputs": [
        {
          "output_type": "execute_result",
          "data": {
            "text/plain": [
              "1"
            ]
          },
          "metadata": {
            "tags": []
          },
          "execution_count": 105
        }
      ]
    },
    {
      "cell_type": "markdown",
      "metadata": {
        "id": "agZArRLlzfX6"
      },
      "source": [
        "### 문제 37. 뒷단을 수정하여 smile 모델을 분리해보세요."
      ]
    },
    {
      "cell_type": "code",
      "metadata": {
        "id": "teSP_OdezfX7",
        "colab": {
          "base_uri": "https://localhost:8080/"
        },
        "outputId": "eeb86e2e-34f5-4520-8afa-b996598ccd0c"
      },
      "source": [
        "# model의 뒷단을 수정하여 smile 모델을 분리하고 정보를 확인하는 코드를 작성하세요.\n",
        "\n",
        "\n",
        "smile_model_2 = keras.Model(inputs = multi_model_2.input, outputs = multi_model_2.get_layer('dense_28').output)\n",
        "smile_model_2.summary()"
      ],
      "execution_count": null,
      "outputs": [
        {
          "output_type": "stream",
          "text": [
            "Model: \"model_11\"\n",
            "_________________________________________________________________\n",
            "Layer (type)                 Output Shape              Param #   \n",
            "=================================================================\n",
            "input_7 (InputLayer)         [(None, 72, 59, 3)]       0         \n",
            "_________________________________________________________________\n",
            "conv2d_18 (Conv2D)           (None, 70, 57, 32)        896       \n",
            "_________________________________________________________________\n",
            "max_pooling2d_18 (MaxPooling (None, 35, 28, 32)        0         \n",
            "_________________________________________________________________\n",
            "conv2d_19 (Conv2D)           (None, 33, 26, 64)        18496     \n",
            "_________________________________________________________________\n",
            "max_pooling2d_19 (MaxPooling (None, 16, 13, 64)        0         \n",
            "_________________________________________________________________\n",
            "conv2d_20 (Conv2D)           (None, 14, 11, 64)        36928     \n",
            "_________________________________________________________________\n",
            "max_pooling2d_20 (MaxPooling (None, 7, 5, 64)          0         \n",
            "_________________________________________________________________\n",
            "flatten_6 (Flatten)          (None, 2240)              0         \n",
            "_________________________________________________________________\n",
            "dense_23 (Dense)             (None, 1028)              2303748   \n",
            "_________________________________________________________________\n",
            "dense_24 (Dense)             (None, 526)               541254    \n",
            "_________________________________________________________________\n",
            "dense_25 (Dense)             (None, 128)               67456     \n",
            "_________________________________________________________________\n",
            "dense_26 (Dense)             (None, 64)                8256      \n",
            "_________________________________________________________________\n",
            "dense_28 (Dense)             (None, 2)                 130       \n",
            "=================================================================\n",
            "Total params: 2,977,164\n",
            "Trainable params: 2,977,164\n",
            "Non-trainable params: 0\n",
            "_________________________________________________________________\n"
          ],
          "name": "stdout"
        }
      ]
    },
    {
      "cell_type": "markdown",
      "metadata": {
        "id": "JtnyEsMJzfX7"
      },
      "source": [
        "### 문제 38. 스마일 모델에서 테스트 데이터 확인"
      ]
    },
    {
      "cell_type": "code",
      "metadata": {
        "id": "g_n7kPKVzfX7",
        "colab": {
          "base_uri": "https://localhost:8080/"
        },
        "outputId": "eb6c970f-83a6-4df8-fa74-baec1768361a"
      },
      "source": [
        "# 스마일 모델에서 테스트 데이터 확인\n",
        "# 성별모델에서 테스트 데이터 확인\n",
        "x2 = smile_model_2.predict(test_images[0:1])\n",
        "x2.argmax()"
      ],
      "execution_count": null,
      "outputs": [
        {
          "output_type": "execute_result",
          "data": {
            "text/plain": [
              "1"
            ]
          },
          "metadata": {
            "tags": []
          },
          "execution_count": 106
        }
      ]
    },
    {
      "cell_type": "markdown",
      "metadata": {
        "id": "TQqVbazVzfX7"
      },
      "source": [
        "## Step 9. 통합 모델 저장 및 로드, 다운"
      ]
    },
    {
      "cell_type": "markdown",
      "metadata": {
        "id": "o1xMDORMzfX7"
      },
      "source": [
        "### 문제 39. 모델을 저장하세요."
      ]
    },
    {
      "cell_type": "code",
      "metadata": {
        "id": "8SHvKArNzfX8"
      },
      "source": [
        "# 모델을 저장하는 코드를 작성하세요.\n",
        "multi_model_2.save('./lecture004.h5')\n"
      ],
      "execution_count": null,
      "outputs": []
    },
    {
      "cell_type": "code",
      "metadata": {
        "colab": {
          "base_uri": "https://localhost:8080/"
        },
        "id": "5u2IoHW2k_bg",
        "outputId": "c8511dc5-4262-458a-ec3d-ed218ac44359"
      },
      "source": [
        ""
      ],
      "execution_count": null,
      "outputs": [
        {
          "output_type": "stream",
          "text": [
            "/bin/bash: line 0: cd: content/sample_data: No such file or directory\n"
          ],
          "name": "stdout"
        }
      ]
    },
    {
      "cell_type": "code",
      "metadata": {
        "colab": {
          "base_uri": "https://localhost:8080/"
        },
        "id": "C95y3mKfk2Om",
        "outputId": "5843c0a3-6fa3-4c36-b639-bb164657e4a0"
      },
      "source": [
        "!is -al /content"
      ],
      "execution_count": null,
      "outputs": [
        {
          "output_type": "stream",
          "text": [
            "/bin/bash: is: command not found\n"
          ],
          "name": "stdout"
        }
      ]
    },
    {
      "cell_type": "markdown",
      "metadata": {
        "id": "CaDQG8wwzfX8"
      },
      "source": [
        "### 문제 40. 모델 파일을 새로운 모델에 로드하세요."
      ]
    },
    {
      "cell_type": "code",
      "metadata": {
        "id": "WjgDiXdPzfX8"
      },
      "source": [
        "# 모델을 로드하는 코드를 작성하세요.\n",
        "load_model = keras.models.load_model('lecture004.h5')"
      ],
      "execution_count": null,
      "outputs": []
    },
    {
      "cell_type": "markdown",
      "metadata": {
        "id": "RxNAgeE-zfX8"
      },
      "source": [
        "### 문제 41. 로드한 모델을 test 데이터로 평가해보세요.\n"
      ]
    },
    {
      "cell_type": "code",
      "metadata": {
        "colab": {
          "base_uri": "https://localhost:8080/"
        },
        "id": "MTeh-b7alefg",
        "outputId": "9704a5c4-d36d-472a-a823-9296cc4f583f"
      },
      "source": [
        "test_images[0:1]"
      ],
      "execution_count": null,
      "outputs": [
        {
          "output_type": "execute_result",
          "data": {
            "text/plain": [
              "array([[[[5.25710830e-01, 9.02214191e-01, 8.70754403e-01],\n",
              "         [5.64606181e-01, 9.53040877e-01, 9.13725490e-01],\n",
              "         [5.52775008e-01, 9.48853440e-01, 9.05716185e-01],\n",
              "         ...,\n",
              "         [5.92156863e-01, 9.48853440e-01, 9.17647059e-01],\n",
              "         [5.88334995e-01, 9.49019608e-01, 9.21568627e-01],\n",
              "         [5.84313725e-01, 9.52907943e-01, 9.21568627e-01]],\n",
              "\n",
              "        [[5.37387836e-01, 9.10133488e-01, 8.78727706e-01],\n",
              "         [5.60784314e-01, 9.52941176e-01, 9.13725490e-01],\n",
              "         [5.52775008e-01, 9.48687272e-01, 9.05872660e-01],\n",
              "         ...,\n",
              "         [5.92156863e-01, 9.48853440e-01, 9.17647059e-01],\n",
              "         [5.88334995e-01, 9.49019608e-01, 9.21568627e-01],\n",
              "         [5.84313725e-01, 9.52907943e-01, 9.21568627e-01]],\n",
              "\n",
              "        [[5.41276171e-01, 9.17779993e-01, 8.82755899e-01],\n",
              "         [5.60784314e-01, 9.49119309e-01, 9.09903622e-01],\n",
              "         [5.52775008e-01, 9.48687272e-01, 9.09471585e-01],\n",
              "         ...,\n",
              "         [5.92156863e-01, 9.48853440e-01, 9.17647059e-01],\n",
              "         [5.88334995e-01, 9.49019608e-01, 9.21568627e-01],\n",
              "         [5.84313725e-01, 9.52907943e-01, 9.21568627e-01]],\n",
              "\n",
              "        ...,\n",
              "\n",
              "        [[2.75121857e-01, 5.30840349e-01, 6.58440881e-01],\n",
              "         [1.20559156e-01, 2.97205605e-01, 4.56934290e-01],\n",
              "         [5.43660685e-02, 1.51336269e-01, 3.46941583e-01],\n",
              "         ...,\n",
              "         [1.18311270e-01, 3.25999778e-01, 6.13128208e-01],\n",
              "         [8.98554337e-02, 2.98236310e-01, 5.81133913e-01],\n",
              "         [5.81985525e-02, 2.58747831e-01, 5.29944888e-01]],\n",
              "\n",
              "        [[3.67910158e-02, 8.23404786e-02, 2.42832613e-01],\n",
              "         [1.98030907e-02, 4.42090395e-02, 2.21042428e-01],\n",
              "         [3.90522876e-02, 6.34014623e-02, 2.59650216e-01],\n",
              "         ...,\n",
              "         [2.43699457e-02, 2.01323806e-01, 4.76003933e-01],\n",
              "         [2.77459289e-02, 2.04547469e-01, 4.79316218e-01],\n",
              "         [2.74855988e-02, 2.04282984e-01, 4.67061316e-01]],\n",
              "\n",
              "        [[1.74938149e-04, 5.08497655e-02, 1.72669953e-01],\n",
              "         [1.97167756e-02, 5.46947122e-02, 2.04077120e-01],\n",
              "         [1.57379713e-02, 4.71677560e-02, 2.19661848e-01],\n",
              "         ...,\n",
              "         [2.70120195e-02, 1.83877072e-01, 4.54299140e-01],\n",
              "         [4.29272368e-02, 1.95924264e-01, 4.74201470e-01],\n",
              "         [5.47602563e-02, 2.07755899e-01, 5.01698146e-01]]]])"
            ]
          },
          "metadata": {
            "tags": []
          },
          "execution_count": 116
        }
      ]
    },
    {
      "cell_type": "code",
      "metadata": {
        "id": "wBerZi7HzfX8"
      },
      "source": [
        "# 로드한 모델을 test 데이터로 평가해보세요.\n",
        "res = load_model.predict(test_images[0:1])"
      ],
      "execution_count": null,
      "outputs": []
    },
    {
      "cell_type": "code",
      "metadata": {
        "colab": {
          "base_uri": "https://localhost:8080/"
        },
        "id": "PahRLMA7lngb",
        "outputId": "fd9454da-ea17-4c96-f37e-ce513bb9589c"
      },
      "source": [
        "res"
      ],
      "execution_count": null,
      "outputs": [
        {
          "output_type": "execute_result",
          "data": {
            "text/plain": [
              "[array([[2.9696935e-06, 9.9999702e-01]], dtype=float32),\n",
              " array([[1.5320261e-06, 9.9999845e-01]], dtype=float32)]"
            ]
          },
          "metadata": {
            "tags": []
          },
          "execution_count": 121
        }
      ]
    },
    {
      "cell_type": "code",
      "metadata": {
        "colab": {
          "base_uri": "https://localhost:8080/",
          "height": 286
        },
        "id": "AjS430tCluct",
        "outputId": "96e97828-c96a-4fee-a782-91f1623f149f"
      },
      "source": [
        "plt.imshow(test_images[0])"
      ],
      "execution_count": null,
      "outputs": [
        {
          "output_type": "execute_result",
          "data": {
            "text/plain": [
              "<matplotlib.image.AxesImage at 0x7f847bf2ce90>"
            ]
          },
          "metadata": {
            "tags": []
          },
          "execution_count": 125
        },
        {
          "output_type": "display_data",
          "data": {
            "image/png": "[encoded data removed]",
            "text/plain": [
              "<Figure size 432x288 with 1 Axes>"
            ]
          },
          "metadata": {
            "tags": [],
            "needs_background": "light"
          }
        }
      ]
    },
    {
      "cell_type": "code",
      "metadata": {
        "colab": {
          "base_uri": "https://localhost:8080/"
        },
        "id": "nbJsQsEjliRU",
        "outputId": "7ae4abd8-4158-40a3-bbae-ebe01bad059d"
      },
      "source": [
        "np.argmax(res[0])\n"
      ],
      "execution_count": null,
      "outputs": [
        {
          "output_type": "execute_result",
          "data": {
            "text/plain": [
              "1"
            ]
          },
          "metadata": {
            "tags": []
          },
          "execution_count": 122
        }
      ]
    },
    {
      "cell_type": "code",
      "metadata": {
        "colab": {
          "base_uri": "https://localhost:8080/"
        },
        "id": "lp_KYH3UlrYi",
        "outputId": "4c7cdee6-c894-42b1-9e48-8a1ee0d35d3f"
      },
      "source": [
        "np.argmax(res[1])\n"
      ],
      "execution_count": null,
      "outputs": [
        {
          "output_type": "execute_result",
          "data": {
            "text/plain": [
              "1"
            ]
          },
          "metadata": {
            "tags": []
          },
          "execution_count": 123
        }
      ]
    },
    {
      "cell_type": "markdown",
      "metadata": {
        "id": "5Cn2goDdzfX8"
      },
      "source": [
        "### 문제 42. 모델을 내 컴퓨터에 저장해보세요"
      ]
    },
    {
      "cell_type": "code",
      "metadata": {
        "id": "JJVvgXCZzfX8",
        "colab": {
          "base_uri": "https://localhost:8080/",
          "height": 17
        },
        "outputId": "6438a7d2-c53b-4715-fd5e-e5709f4293bf"
      },
      "source": [
        "# 모델을 내 컴퓨터에 저장해보세요.\n",
        "\n",
        "from google.colab import files \n",
        "files.download('lecture004.h5')"
      ],
      "execution_count": null,
      "outputs": [
        {
          "output_type": "display_data",
          "data": {
            "application/javascript": [
              "\n",
              "    async function download(id, filename, size) {\n",
              "      if (!google.colab.kernel.accessAllowed) {\n",
              "        return;\n",
              "      }\n",
              "      const div = document.createElement('div');\n",
              "      const label = document.createElement('label');\n",
              "      label.textContent = `Downloading \"${filename}\": `;\n",
              "      div.appendChild(label);\n",
              "      const progress = document.createElement('progress');\n",
              "      progress.max = size;\n",
              "      div.appendChild(progress);\n",
              "      document.body.appendChild(div);\n",
              "\n",
              "      const buffers = [];\n",
              "      let downloaded = 0;\n",
              "\n",
              "      const channel = await google.colab.kernel.comms.open(id);\n",
              "      // Send a message to notify the kernel that we're ready.\n",
              "      channel.send({})\n",
              "\n",
              "      for await (const message of channel.messages) {\n",
              "        // Send a message to notify the kernel that we're ready.\n",
              "        channel.send({})\n",
              "        if (message.buffers) {\n",
              "          for (const buffer of message.buffers) {\n",
              "            buffers.push(buffer);\n",
              "            downloaded += buffer.byteLength;\n",
              "            progress.value = downloaded;\n",
              "          }\n",
              "        }\n",
              "      }\n",
              "      const blob = new Blob(buffers, {type: 'application/binary'});\n",
              "      const a = document.createElement('a');\n",
              "      a.href = window.URL.createObjectURL(blob);\n",
              "      a.download = filename;\n",
              "      div.appendChild(a);\n",
              "      a.click();\n",
              "      div.remove();\n",
              "    }\n",
              "  "
            ],
            "text/plain": [
              "<IPython.core.display.Javascript object>"
            ]
          },
          "metadata": {
            "tags": []
          }
        },
        {
          "output_type": "display_data",
          "data": {
            "application/javascript": [
              "download(\"download_32f0cd0b-8420-4f21-9c9d-16f5e43c7ed5\", \"lecture004.h5\", 35815288)"
            ],
            "text/plain": [
              "<IPython.core.display.Javascript object>"
            ]
          },
          "metadata": {
            "tags": []
          }
        }
      ]
    },
    {
      "cell_type": "code",
      "metadata": {
        "id": "k3y7lP30J6f1"
      },
      "source": [
        ""
      ],
      "execution_count": null,
      "outputs": []
    }
  ]
}