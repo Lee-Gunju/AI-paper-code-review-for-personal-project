{
  "nbformat": 4,
  "nbformat_minor": 0,
  "metadata": {
    "colab": {
      "name": "Character-level recurrent sequence-to-sequence model.ipynb",
      "provenance": [],
      "collapsed_sections": [],
      "authorship_tag": "ABX9TyNYICQHkIACx6oBJcgGKFiE",
      "include_colab_link": true
    },
    "kernelspec": {
      "name": "python3",
      "display_name": "Python 3"
    },
    "language_info": {
      "name": "python"
    },
    "accelerator": "GPU"
  },
  "cells": [
    {
      "cell_type": "markdown",
      "metadata": {
        "id": "view-in-github",
        "colab_type": "text"
      },
      "source": [
        "<a href=\"https://colab.research.google.com/github/Lee-Gunju/AI-paper-code-review-for-personal-project/blob/master/Character_level_recurrent_sequence_to_sequence_model.ipynb\" target=\"_parent\"><img src=\"https://colab.research.google.com/assets/colab-badge.svg\" alt=\"Open In Colab\"/></a>"
      ]
    },
    {
      "cell_type": "code",
      "metadata": {
        "id": "iGVLNOyieUR_"
      },
      "source": [
        "import numpy as np\n",
        "import tensorflow as tf\n",
        "from tensorflow import keras"
      ],
      "execution_count": null,
      "outputs": []
    },
    {
      "cell_type": "code",
      "metadata": {
        "colab": {
          "base_uri": "https://localhost:8080/"
        },
        "id": "srlexH-Jizgy",
        "outputId": "c0857db0-e14d-4089-b764-1b54c19069bd"
      },
      "source": [
        "!!curl -O http://www.manythings.org/anki/fra-eng.zip\n",
        "!!unzip fra-eng.zip"
      ],
      "execution_count": null,
      "outputs": [
        {
          "output_type": "execute_result",
          "data": {
            "text/plain": [
              "['Archive:  fra-eng.zip',\n",
              " '  inflating: _about.txt              ',\n",
              " '  inflating: fra.txt                 ']"
            ]
          },
          "metadata": {
            "tags": []
          },
          "execution_count": 2
        }
      ]
    },
    {
      "cell_type": "code",
      "metadata": {
        "id": "IrJdBv1ni05Y"
      },
      "source": [
        "batch_size = 64  # Batch size for training.\n",
        "epochs = 100  # Number of epochs to train for.\n",
        "latent_dim = 256  # Latent dimensionality of the encoding space.\n",
        "num_samples = 10000  # Number of samples to train on.\n",
        "# Path to the data txt file on disk.\n",
        "data_path = \"fra.txt\""
      ],
      "execution_count": null,
      "outputs": []
    },
    {
      "cell_type": "code",
      "metadata": {
        "colab": {
          "base_uri": "https://localhost:8080/"
        },
        "id": "wPV-5jVUi3WZ",
        "outputId": "a6fceefc-aea1-446b-ebc0-8bc9baee6555"
      },
      "source": [
        "# Vectorize the data.\n",
        "input_texts = []\n",
        "target_texts = []\n",
        "input_characters = set()\n",
        "target_characters = set()\n",
        "\n",
        "with open(data_path, 'r', encoding='utf-8') as f:\n",
        "  lines = f.read().split('\\n')\n",
        "for line in lines[: min(num_samples, len(lines) -1)]:\n",
        "  input_text, target_text, _ = line.split('\\t')\n",
        "  # We use \"tab\" as the \"start sequence\" character\n",
        "  # for the targets, and \"\\n\" as \"end sequence\" character.\n",
        "  target_text = '\\t' + target_text + '\\n'\n",
        "  input_texts.append(input_text)\n",
        "  target_texts.append(target_text)\n",
        "  for char in input_text:\n",
        "    if char not in input_characters:\n",
        "      input_characters.add(char)\n",
        "\n",
        "  for char in target_text:\n",
        "      if char not in target_characters:\n",
        "        target_characters.add(char) \n",
        "\n",
        "input_characters = sorted(list(input_characters))\n",
        "target_characters = sorted(list(target_characters))\n",
        "num_encoder_tokens = len(input_characters)\n",
        "num_decoder_tokens = len(target_characters)\n",
        "\n",
        "max_encoder_seq_length = max([len(txt) for txt in input_texts])\n",
        "max_decoder_seq_length = max([len(txt) for txt in target_texts])\n",
        "\n",
        "print(\"Number of samples:\", len(input_texts))\n",
        "print(\"Number of unique input tokens:\", num_encoder_tokens)\n",
        "print(\"Number of unique output tokens:\", num_decoder_tokens)\n",
        "print(\"Max sequence length for inputs:\", max_encoder_seq_length)\n",
        "print(\"Max sequence length for outputs:\", max_decoder_seq_length)\n",
        "\n",
        "input_token_index = dict([(char, i) for i, char in enumerate(input_characters)])\n",
        "target_token_index = dict([(char, i) for i, char in enumerate(target_characters)])\n",
        "\n",
        "encoder_input_data = np.zeros((len(input_texts), max_encoder_seq_length, num_encoder_tokens), dtype = 'float32')\n",
        "\n",
        "decoder_input_data = np.zeros(\n",
        "    (len(input_texts), max_decoder_seq_length, num_decoder_tokens), dtype=\"float32\"\n",
        ")\n",
        "decoder_target_data = np.zeros(\n",
        "    (len(input_texts), max_decoder_seq_length, num_decoder_tokens), dtype=\"float32\"\n",
        ")\n",
        "\n",
        "for i, (input_text, target_text) in enumerate(zip(input_texts, target_texts)):\n",
        "    for t, char in enumerate(input_text):\n",
        "        encoder_input_data[i, t, input_token_index[char]] = 1.0\n",
        "    encoder_input_data[i, t + 1 :, input_token_index[\" \"]] = 1.0\n",
        "    for t, char in enumerate(target_text):\n",
        "        # decoder_target_data is ahead of decoder_input_data by one timestep\n",
        "        decoder_input_data[i, t, target_token_index[char]] = 1.0\n",
        "        if t > 0:\n",
        "            # decoder_target_data will be ahead by one timestep\n",
        "            # and will not include the start character.\n",
        "            decoder_target_data[i, t - 1, target_token_index[char]] = 1.0\n",
        "    decoder_input_data[i, t + 1 :, target_token_index[\" \"]] = 1.0\n",
        "    decoder_target_data[i, t:, target_token_index[\" \"]] = 1.0\n"
      ],
      "execution_count": null,
      "outputs": [
        {
          "output_type": "stream",
          "text": [
            "Number of samples: 10000\n",
            "Number of unique input tokens: 71\n",
            "Number of unique output tokens: 93\n",
            "Max sequence length for inputs: 15\n",
            "Max sequence length for outputs: 59\n"
          ],
          "name": "stdout"
        }
      ]
    },
    {
      "cell_type": "code",
      "metadata": {
        "colab": {
          "base_uri": "https://localhost:8080/"
        },
        "id": "Bgap8yjD0L4Z",
        "outputId": "8771b337-3c39-41c3-97c0-13f803076b3a"
      },
      "source": [
        "encoder_input_data[0][2]"
      ],
      "execution_count": null,
      "outputs": [
        {
          "output_type": "execute_result",
          "data": {
            "text/plain": [
              "array([0., 0., 0., 0., 0., 0., 0., 0., 0., 1., 0., 0., 0., 0., 0., 0., 0.,\n",
              "       0., 0., 0., 0., 0., 0., 0., 0., 0., 0., 0., 0., 0., 0., 0., 0., 0.,\n",
              "       0., 0., 0., 0., 0., 0., 0., 0., 0., 0., 0., 0., 0., 0., 0., 0., 0.,\n",
              "       0., 0., 0., 0., 0., 0., 0., 0., 0., 0., 0., 0., 0., 0., 0., 0., 0.,\n",
              "       0., 0., 0.], dtype=float32)"
            ]
          },
          "metadata": {
            "tags": []
          },
          "execution_count": 13
        }
      ]
    },
    {
      "cell_type": "code",
      "metadata": {
        "colab": {
          "base_uri": "https://localhost:8080/"
        },
        "id": "115CQ6ch0Xv6",
        "outputId": "e94a130f-8105-4913-a606-0aa0cbd91908"
      },
      "source": [
        "decoder_input_data[0][2]"
      ],
      "execution_count": null,
      "outputs": [
        {
          "output_type": "execute_result",
          "data": {
            "text/plain": [
              "array([0., 0., 0., 0., 0., 0., 0., 0., 0., 0., 0., 0., 0., 0., 0., 0., 0.,\n",
              "       0., 0., 0., 0., 0., 0., 0., 0., 0., 0., 0., 0., 0., 0., 0., 0., 0.,\n",
              "       0., 0., 0., 0., 0., 0., 0., 0., 0., 0., 0., 1., 0., 0., 0., 0., 0.,\n",
              "       0., 0., 0., 0., 0., 0., 0., 0., 0., 0., 0., 0., 0., 0., 0., 0., 0.,\n",
              "       0., 0., 0., 0., 0., 0., 0., 0., 0., 0., 0., 0., 0., 0., 0., 0., 0.,\n",
              "       0., 0., 0., 0., 0., 0., 0., 0.], dtype=float32)"
            ]
          },
          "metadata": {
            "tags": []
          },
          "execution_count": 28
        }
      ]
    },
    {
      "cell_type": "code",
      "metadata": {
        "colab": {
          "base_uri": "https://localhost:8080/"
        },
        "id": "TO1Y1UYj0t2q",
        "outputId": "e062e8a4-a0ba-4b46-dc95-10306de14998"
      },
      "source": [
        "decoder_target_data[0][1]"
      ],
      "execution_count": null,
      "outputs": [
        {
          "output_type": "execute_result",
          "data": {
            "text/plain": [
              "array([0., 0., 0., 0., 0., 0., 0., 0., 0., 0., 0., 0., 0., 0., 0., 0., 0.,\n",
              "       0., 0., 0., 0., 0., 0., 0., 0., 0., 0., 0., 0., 0., 0., 0., 0., 0.,\n",
              "       0., 0., 0., 0., 0., 0., 0., 0., 0., 0., 0., 1., 0., 0., 0., 0., 0.,\n",
              "       0., 0., 0., 0., 0., 0., 0., 0., 0., 0., 0., 0., 0., 0., 0., 0., 0.,\n",
              "       0., 0., 0., 0., 0., 0., 0., 0., 0., 0., 0., 0., 0., 0., 0., 0., 0.,\n",
              "       0., 0., 0., 0., 0., 0., 0., 0.], dtype=float32)"
            ]
          },
          "metadata": {
            "tags": []
          },
          "execution_count": 29
        }
      ]
    },
    {
      "cell_type": "code",
      "metadata": {
        "id": "aB91PJS-0wwK"
      },
      "source": [
        "# Define an input sequence and process it.\n",
        "encoder_inputs = keras.Input(shape = (None, num_encoder_tokens))\n",
        "encoder = keras.layers.LSTM(latent_dim, return_state = True)\n",
        "encoder_output, state_h, state_c = encoder(encoder_inputs)\n",
        "\n",
        "# We discard `encoder_outputs` and only keep the states.\n",
        "encoder_states = [state_h, state_c]\n",
        "\n",
        "# Set up the decoder, using `encoder_states` as initial state.\n",
        "decoder_inputs = keras.Input(shape = (None, num_decoder_tokens))\n",
        "\n",
        "# We set up our decoder to return full output sequences,\n",
        "# and to return internal states as well. We don't use the\n",
        "# return states in the training model, but we will use them in inference.\n",
        "decoder_lstm = keras.layers.LSTM(latent_dim, return_sequences=True, return_state=True)\n",
        "decoder_outputs, _, _ = decoder_lstm(decoder_inputs, initial_state = encoder_states)\n",
        "decoder_dense = keras.layers.Dense(num_decoder_tokens, activation='softmax')\n",
        "decoder_outputs = decoder_dense(decoder_outputs)\n",
        "\n",
        "# Define the model that will turn\n",
        "# `encoder_input_data` & `decoder_input_data` into `decoder_target_data`\n",
        "model = keras.Model([encoder_inputs, decoder_inputs], decoder_outputs)\n"
      ],
      "execution_count": null,
      "outputs": []
    },
    {
      "cell_type": "code",
      "metadata": {
        "colab": {
          "base_uri": "https://localhost:8080/"
        },
        "id": "4sNPIQPT4iD0",
        "outputId": "15360428-fe09-4de4-8023-9fbf1c90f397"
      },
      "source": [
        "model.summary()"
      ],
      "execution_count": null,
      "outputs": [
        {
          "output_type": "stream",
          "text": [
            "Model: \"model\"\n",
            "__________________________________________________________________________________________________\n",
            "Layer (type)                    Output Shape         Param #     Connected to                     \n",
            "==================================================================================================\n",
            "input_7 (InputLayer)            [(None, None, 71)]   0                                            \n",
            "__________________________________________________________________________________________________\n",
            "input_8 (InputLayer)            [(None, None, 93)]   0                                            \n",
            "__________________________________________________________________________________________________\n",
            "lstm_6 (LSTM)                   [(None, 256), (None, 335872      input_7[0][0]                    \n",
            "__________________________________________________________________________________________________\n",
            "lstm_7 (LSTM)                   [(None, None, 256),  358400      input_8[0][0]                    \n",
            "                                                                 lstm_6[0][1]                     \n",
            "                                                                 lstm_6[0][2]                     \n",
            "__________________________________________________________________________________________________\n",
            "dense (Dense)                   (None, None, 93)     23901       lstm_7[0][0]                     \n",
            "==================================================================================================\n",
            "Total params: 718,173\n",
            "Trainable params: 718,173\n",
            "Non-trainable params: 0\n",
            "__________________________________________________________________________________________________\n"
          ],
          "name": "stdout"
        }
      ]
    },
    {
      "cell_type": "code",
      "metadata": {
        "colab": {
          "base_uri": "https://localhost:8080/"
        },
        "id": "WQN4O_AS4vfy",
        "outputId": "114f3ca2-6cb3-4930-ac9e-313ef80796d8"
      },
      "source": [
        "model.compile(\n",
        "    optimizer=\"rmsprop\", loss=\"categorical_crossentropy\", metrics=[\"accuracy\"]\n",
        ")\n",
        "model.fit(\n",
        "    [encoder_input_data, decoder_input_data],\n",
        "    decoder_target_data,\n",
        "    batch_size=batch_size,\n",
        "    epochs=epochs,\n",
        "    validation_split=0.2,\n",
        ")\n",
        "# Save model\n",
        "model.save(\"s2s\")"
      ],
      "execution_count": null,
      "outputs": [
        {
          "output_type": "stream",
          "text": [
            "Epoch 1/100\n",
            "125/125 [==============================] - 56s 416ms/step - loss: 1.4912 - accuracy: 0.7043 - val_loss: 1.0147 - val_accuracy: 0.7217\n",
            "Epoch 2/100\n",
            "125/125 [==============================] - 51s 407ms/step - loss: 0.8661 - accuracy: 0.7655 - val_loss: 0.8143 - val_accuracy: 0.7683\n",
            "Epoch 3/100\n",
            "125/125 [==============================] - 51s 408ms/step - loss: 0.6802 - accuracy: 0.8102 - val_loss: 0.7020 - val_accuracy: 0.7973\n",
            "Epoch 4/100\n",
            "125/125 [==============================] - 51s 408ms/step - loss: 0.5867 - accuracy: 0.8300 - val_loss: 0.6354 - val_accuracy: 0.8129\n",
            "Epoch 5/100\n",
            "125/125 [==============================] - 51s 410ms/step - loss: 0.5327 - accuracy: 0.8438 - val_loss: 0.5914 - val_accuracy: 0.8275\n",
            "Epoch 6/100\n",
            "125/125 [==============================] - 51s 411ms/step - loss: 0.4958 - accuracy: 0.8547 - val_loss: 0.5626 - val_accuracy: 0.8358\n",
            "Epoch 7/100\n",
            "125/125 [==============================] - 51s 407ms/step - loss: 0.4694 - accuracy: 0.8614 - val_loss: 0.5396 - val_accuracy: 0.8409\n",
            "Epoch 8/100\n",
            "125/125 [==============================] - 51s 410ms/step - loss: 0.4437 - accuracy: 0.8687 - val_loss: 0.5276 - val_accuracy: 0.8442\n",
            "Epoch 9/100\n",
            "125/125 [==============================] - 53s 424ms/step - loss: 0.4245 - accuracy: 0.8735 - val_loss: 0.5138 - val_accuracy: 0.8489\n",
            "Epoch 10/100\n",
            "125/125 [==============================] - 52s 416ms/step - loss: 0.4068 - accuracy: 0.8781 - val_loss: 0.4953 - val_accuracy: 0.8537\n",
            "Epoch 11/100\n",
            "125/125 [==============================] - 52s 418ms/step - loss: 0.3875 - accuracy: 0.8837 - val_loss: 0.4866 - val_accuracy: 0.8562\n",
            "Epoch 12/100\n",
            "125/125 [==============================] - 52s 416ms/step - loss: 0.3702 - accuracy: 0.8890 - val_loss: 0.4728 - val_accuracy: 0.8615\n",
            "Epoch 13/100\n",
            "125/125 [==============================] - 52s 416ms/step - loss: 0.3524 - accuracy: 0.8939 - val_loss: 0.4699 - val_accuracy: 0.8623\n",
            "Epoch 14/100\n",
            "125/125 [==============================] - 51s 411ms/step - loss: 0.3411 - accuracy: 0.8975 - val_loss: 0.4611 - val_accuracy: 0.8651\n",
            "Epoch 15/100\n",
            "125/125 [==============================] - 51s 410ms/step - loss: 0.3252 - accuracy: 0.9025 - val_loss: 0.4598 - val_accuracy: 0.8666\n",
            "Epoch 16/100\n",
            "125/125 [==============================] - 51s 412ms/step - loss: 0.3151 - accuracy: 0.9050 - val_loss: 0.4551 - val_accuracy: 0.8670\n",
            "Epoch 17/100\n",
            "125/125 [==============================] - 52s 418ms/step - loss: 0.3012 - accuracy: 0.9089 - val_loss: 0.4501 - val_accuracy: 0.8692\n",
            "Epoch 18/100\n",
            "125/125 [==============================] - 53s 420ms/step - loss: 0.2901 - accuracy: 0.9125 - val_loss: 0.4483 - val_accuracy: 0.8701\n",
            "Epoch 19/100\n",
            "125/125 [==============================] - 54s 429ms/step - loss: 0.2809 - accuracy: 0.9155 - val_loss: 0.4492 - val_accuracy: 0.8720\n",
            "Epoch 20/100\n",
            "125/125 [==============================] - 53s 428ms/step - loss: 0.2692 - accuracy: 0.9189 - val_loss: 0.4461 - val_accuracy: 0.8731\n",
            "Epoch 21/100\n",
            "125/125 [==============================] - 53s 428ms/step - loss: 0.2594 - accuracy: 0.9215 - val_loss: 0.4478 - val_accuracy: 0.8737\n",
            "Epoch 22/100\n",
            "125/125 [==============================] - 53s 425ms/step - loss: 0.2512 - accuracy: 0.9244 - val_loss: 0.4477 - val_accuracy: 0.8736\n",
            "Epoch 23/100\n",
            "125/125 [==============================] - 53s 425ms/step - loss: 0.2424 - accuracy: 0.9272 - val_loss: 0.4492 - val_accuracy: 0.8752\n",
            "Epoch 24/100\n",
            "125/125 [==============================] - 53s 422ms/step - loss: 0.2340 - accuracy: 0.9293 - val_loss: 0.4507 - val_accuracy: 0.8758\n",
            "Epoch 25/100\n",
            "125/125 [==============================] - 53s 422ms/step - loss: 0.2265 - accuracy: 0.9316 - val_loss: 0.4529 - val_accuracy: 0.8760\n",
            "Epoch 26/100\n",
            "125/125 [==============================] - 54s 430ms/step - loss: 0.2165 - accuracy: 0.9349 - val_loss: 0.4559 - val_accuracy: 0.8755\n",
            "Epoch 27/100\n",
            "125/125 [==============================] - 52s 420ms/step - loss: 0.2107 - accuracy: 0.9362 - val_loss: 0.4547 - val_accuracy: 0.8764\n",
            "Epoch 28/100\n",
            "125/125 [==============================] - 52s 414ms/step - loss: 0.2011 - accuracy: 0.9395 - val_loss: 0.4582 - val_accuracy: 0.8764\n",
            "Epoch 29/100\n",
            "125/125 [==============================] - 52s 417ms/step - loss: 0.1952 - accuracy: 0.9410 - val_loss: 0.4598 - val_accuracy: 0.8776\n",
            "Epoch 30/100\n",
            "125/125 [==============================] - 52s 416ms/step - loss: 0.1901 - accuracy: 0.9423 - val_loss: 0.4642 - val_accuracy: 0.8774\n",
            "Epoch 31/100\n",
            "125/125 [==============================] - 53s 422ms/step - loss: 0.1828 - accuracy: 0.9446 - val_loss: 0.4674 - val_accuracy: 0.8768\n",
            "Epoch 32/100\n",
            "125/125 [==============================] - 52s 416ms/step - loss: 0.1797 - accuracy: 0.9458 - val_loss: 0.4717 - val_accuracy: 0.8766\n",
            "Epoch 33/100\n",
            "125/125 [==============================] - 52s 415ms/step - loss: 0.1720 - accuracy: 0.9482 - val_loss: 0.4752 - val_accuracy: 0.8769\n",
            "Epoch 34/100\n",
            "125/125 [==============================] - 52s 413ms/step - loss: 0.1655 - accuracy: 0.9500 - val_loss: 0.4790 - val_accuracy: 0.8767\n",
            "Epoch 35/100\n",
            "125/125 [==============================] - 52s 413ms/step - loss: 0.1613 - accuracy: 0.9509 - val_loss: 0.4826 - val_accuracy: 0.8770\n",
            "Epoch 36/100\n",
            "125/125 [==============================] - 51s 410ms/step - loss: 0.1576 - accuracy: 0.9521 - val_loss: 0.4893 - val_accuracy: 0.8758\n",
            "Epoch 37/100\n",
            "125/125 [==============================] - 51s 411ms/step - loss: 0.1533 - accuracy: 0.9532 - val_loss: 0.4913 - val_accuracy: 0.8762\n",
            "Epoch 38/100\n",
            "125/125 [==============================] - 52s 412ms/step - loss: 0.1484 - accuracy: 0.9551 - val_loss: 0.4962 - val_accuracy: 0.8760\n",
            "Epoch 39/100\n",
            "125/125 [==============================] - 52s 418ms/step - loss: 0.1464 - accuracy: 0.9554 - val_loss: 0.5002 - val_accuracy: 0.8761\n",
            "Epoch 40/100\n",
            "125/125 [==============================] - 53s 426ms/step - loss: 0.1404 - accuracy: 0.9570 - val_loss: 0.5098 - val_accuracy: 0.8765\n",
            "Epoch 41/100\n",
            "125/125 [==============================] - 52s 419ms/step - loss: 0.1364 - accuracy: 0.9581 - val_loss: 0.5097 - val_accuracy: 0.8761\n",
            "Epoch 42/100\n",
            "125/125 [==============================] - 52s 418ms/step - loss: 0.1314 - accuracy: 0.9599 - val_loss: 0.5167 - val_accuracy: 0.8765\n",
            "Epoch 43/100\n",
            "125/125 [==============================] - 53s 427ms/step - loss: 0.1288 - accuracy: 0.9603 - val_loss: 0.5218 - val_accuracy: 0.8770\n",
            "Epoch 44/100\n",
            "125/125 [==============================] - 53s 425ms/step - loss: 0.1243 - accuracy: 0.9621 - val_loss: 0.5194 - val_accuracy: 0.8763\n",
            "Epoch 45/100\n",
            "125/125 [==============================] - 54s 432ms/step - loss: 0.1215 - accuracy: 0.9626 - val_loss: 0.5301 - val_accuracy: 0.8765\n",
            "Epoch 46/100\n",
            "125/125 [==============================] - 53s 427ms/step - loss: 0.1194 - accuracy: 0.9630 - val_loss: 0.5304 - val_accuracy: 0.8760\n",
            "Epoch 47/100\n",
            "125/125 [==============================] - 54s 434ms/step - loss: 0.1155 - accuracy: 0.9648 - val_loss: 0.5366 - val_accuracy: 0.8771\n",
            "Epoch 48/100\n",
            "125/125 [==============================] - 54s 430ms/step - loss: 0.1143 - accuracy: 0.9648 - val_loss: 0.5401 - val_accuracy: 0.8760\n",
            "Epoch 49/100\n",
            "125/125 [==============================] - 53s 424ms/step - loss: 0.1106 - accuracy: 0.9657 - val_loss: 0.5486 - val_accuracy: 0.8763\n",
            "Epoch 50/100\n",
            "125/125 [==============================] - 52s 417ms/step - loss: 0.1074 - accuracy: 0.9667 - val_loss: 0.5531 - val_accuracy: 0.8754\n",
            "Epoch 51/100\n",
            "125/125 [==============================] - 52s 414ms/step - loss: 0.1044 - accuracy: 0.9673 - val_loss: 0.5527 - val_accuracy: 0.8759\n",
            "Epoch 52/100\n",
            "125/125 [==============================] - 51s 411ms/step - loss: 0.1020 - accuracy: 0.9682 - val_loss: 0.5617 - val_accuracy: 0.8759\n",
            "Epoch 53/100\n",
            "125/125 [==============================] - 51s 409ms/step - loss: 0.0996 - accuracy: 0.9690 - val_loss: 0.5670 - val_accuracy: 0.8748\n",
            "Epoch 54/100\n",
            "125/125 [==============================] - 51s 406ms/step - loss: 0.0972 - accuracy: 0.9696 - val_loss: 0.5686 - val_accuracy: 0.8759\n",
            "Epoch 55/100\n",
            "125/125 [==============================] - 51s 409ms/step - loss: 0.0950 - accuracy: 0.9707 - val_loss: 0.5745 - val_accuracy: 0.8754\n",
            "Epoch 56/100\n",
            "125/125 [==============================] - 51s 408ms/step - loss: 0.0931 - accuracy: 0.9710 - val_loss: 0.5759 - val_accuracy: 0.8755\n",
            "Epoch 57/100\n",
            "125/125 [==============================] - 51s 410ms/step - loss: 0.0900 - accuracy: 0.9721 - val_loss: 0.5868 - val_accuracy: 0.8749\n",
            "Epoch 58/100\n",
            "125/125 [==============================] - 51s 411ms/step - loss: 0.0885 - accuracy: 0.9720 - val_loss: 0.5892 - val_accuracy: 0.8753\n",
            "Epoch 59/100\n",
            "125/125 [==============================] - 52s 418ms/step - loss: 0.0871 - accuracy: 0.9726 - val_loss: 0.5921 - val_accuracy: 0.8754\n",
            "Epoch 60/100\n",
            "125/125 [==============================] - 52s 415ms/step - loss: 0.0839 - accuracy: 0.9735 - val_loss: 0.6016 - val_accuracy: 0.8745\n",
            "Epoch 61/100\n",
            "125/125 [==============================] - 51s 409ms/step - loss: 0.0825 - accuracy: 0.9738 - val_loss: 0.6034 - val_accuracy: 0.8733\n",
            "Epoch 62/100\n",
            "125/125 [==============================] - 51s 409ms/step - loss: 0.0812 - accuracy: 0.9745 - val_loss: 0.6069 - val_accuracy: 0.8744\n",
            "Epoch 63/100\n",
            "125/125 [==============================] - 51s 406ms/step - loss: 0.0788 - accuracy: 0.9750 - val_loss: 0.6130 - val_accuracy: 0.8745\n",
            "Epoch 64/100\n",
            "125/125 [==============================] - 51s 411ms/step - loss: 0.0772 - accuracy: 0.9755 - val_loss: 0.6158 - val_accuracy: 0.8752\n",
            "Epoch 65/100\n",
            "125/125 [==============================] - 51s 411ms/step - loss: 0.0755 - accuracy: 0.9761 - val_loss: 0.6176 - val_accuracy: 0.8750\n",
            "Epoch 66/100\n",
            "125/125 [==============================] - 52s 415ms/step - loss: 0.0747 - accuracy: 0.9762 - val_loss: 0.6271 - val_accuracy: 0.8756\n",
            "Epoch 67/100\n",
            "125/125 [==============================] - 53s 421ms/step - loss: 0.0728 - accuracy: 0.9769 - val_loss: 0.6345 - val_accuracy: 0.8738\n",
            "Epoch 68/100\n",
            "125/125 [==============================] - 52s 417ms/step - loss: 0.0715 - accuracy: 0.9770 - val_loss: 0.6392 - val_accuracy: 0.8741\n",
            "Epoch 69/100\n",
            "125/125 [==============================] - 53s 422ms/step - loss: 0.0704 - accuracy: 0.9774 - val_loss: 0.6413 - val_accuracy: 0.8734\n",
            "Epoch 70/100\n",
            "125/125 [==============================] - 53s 427ms/step - loss: 0.0685 - accuracy: 0.9780 - val_loss: 0.6403 - val_accuracy: 0.8738\n",
            "Epoch 71/100\n",
            "125/125 [==============================] - 53s 427ms/step - loss: 0.0670 - accuracy: 0.9784 - val_loss: 0.6462 - val_accuracy: 0.8741\n",
            "Epoch 72/100\n",
            "125/125 [==============================] - 53s 425ms/step - loss: 0.0656 - accuracy: 0.9786 - val_loss: 0.6489 - val_accuracy: 0.8749\n",
            "Epoch 73/100\n",
            "125/125 [==============================] - 52s 420ms/step - loss: 0.0653 - accuracy: 0.9788 - val_loss: 0.6596 - val_accuracy: 0.8737\n",
            "Epoch 74/100\n",
            "125/125 [==============================] - 54s 428ms/step - loss: 0.0638 - accuracy: 0.9793 - val_loss: 0.6581 - val_accuracy: 0.8735\n",
            "Epoch 75/100\n",
            "125/125 [==============================] - 54s 432ms/step - loss: 0.0623 - accuracy: 0.9795 - val_loss: 0.6609 - val_accuracy: 0.8738\n",
            "Epoch 76/100\n",
            "125/125 [==============================] - 52s 417ms/step - loss: 0.0609 - accuracy: 0.9801 - val_loss: 0.6662 - val_accuracy: 0.8740\n",
            "Epoch 77/100\n",
            "125/125 [==============================] - 53s 422ms/step - loss: 0.0602 - accuracy: 0.9802 - val_loss: 0.6737 - val_accuracy: 0.8738\n",
            "Epoch 78/100\n",
            "125/125 [==============================] - 54s 429ms/step - loss: 0.0592 - accuracy: 0.9807 - val_loss: 0.6757 - val_accuracy: 0.8731\n",
            "Epoch 79/100\n",
            "125/125 [==============================] - 52s 415ms/step - loss: 0.0577 - accuracy: 0.9810 - val_loss: 0.6793 - val_accuracy: 0.8734\n",
            "Epoch 80/100\n",
            "125/125 [==============================] - 52s 415ms/step - loss: 0.0572 - accuracy: 0.9808 - val_loss: 0.6843 - val_accuracy: 0.8736\n",
            "Epoch 81/100\n",
            "125/125 [==============================] - 51s 412ms/step - loss: 0.0565 - accuracy: 0.9813 - val_loss: 0.6873 - val_accuracy: 0.8734\n",
            "Epoch 82/100\n",
            "125/125 [==============================] - 52s 416ms/step - loss: 0.0554 - accuracy: 0.9815 - val_loss: 0.6888 - val_accuracy: 0.8739\n",
            "Epoch 83/100\n",
            "125/125 [==============================] - 52s 417ms/step - loss: 0.0538 - accuracy: 0.9821 - val_loss: 0.6959 - val_accuracy: 0.8733\n",
            "Epoch 84/100\n",
            "125/125 [==============================] - 52s 414ms/step - loss: 0.0522 - accuracy: 0.9827 - val_loss: 0.6992 - val_accuracy: 0.8730\n",
            "Epoch 85/100\n",
            "125/125 [==============================] - 52s 415ms/step - loss: 0.0538 - accuracy: 0.9819 - val_loss: 0.7044 - val_accuracy: 0.8738\n",
            "Epoch 86/100\n",
            "125/125 [==============================] - 52s 418ms/step - loss: 0.0515 - accuracy: 0.9828 - val_loss: 0.7034 - val_accuracy: 0.8738\n",
            "Epoch 87/100\n",
            "125/125 [==============================] - 52s 414ms/step - loss: 0.0510 - accuracy: 0.9825 - val_loss: 0.7087 - val_accuracy: 0.8738\n",
            "Epoch 88/100\n",
            "125/125 [==============================] - 52s 413ms/step - loss: 0.0503 - accuracy: 0.9830 - val_loss: 0.7072 - val_accuracy: 0.8738\n",
            "Epoch 89/100\n",
            "125/125 [==============================] - 52s 417ms/step - loss: 0.0498 - accuracy: 0.9829 - val_loss: 0.7132 - val_accuracy: 0.8736\n",
            "Epoch 90/100\n",
            "125/125 [==============================] - 52s 417ms/step - loss: 0.0486 - accuracy: 0.9833 - val_loss: 0.7141 - val_accuracy: 0.8737\n",
            "Epoch 91/100\n",
            "125/125 [==============================] - 52s 419ms/step - loss: 0.0481 - accuracy: 0.9836 - val_loss: 0.7209 - val_accuracy: 0.8731\n",
            "Epoch 92/100\n",
            "125/125 [==============================] - 52s 416ms/step - loss: 0.0480 - accuracy: 0.9834 - val_loss: 0.7223 - val_accuracy: 0.8738\n",
            "Epoch 93/100\n",
            "125/125 [==============================] - 52s 415ms/step - loss: 0.0462 - accuracy: 0.9843 - val_loss: 0.7226 - val_accuracy: 0.8738\n",
            "Epoch 94/100\n",
            "125/125 [==============================] - 53s 421ms/step - loss: 0.0460 - accuracy: 0.9841 - val_loss: 0.7286 - val_accuracy: 0.8733\n",
            "Epoch 95/100\n",
            "125/125 [==============================] - 54s 435ms/step - loss: 0.0458 - accuracy: 0.9841 - val_loss: 0.7300 - val_accuracy: 0.8736\n",
            "Epoch 96/100\n",
            "125/125 [==============================] - 53s 426ms/step - loss: 0.0450 - accuracy: 0.9843 - val_loss: 0.7301 - val_accuracy: 0.8727\n",
            "Epoch 97/100\n",
            "125/125 [==============================] - 53s 424ms/step - loss: 0.0447 - accuracy: 0.9843 - val_loss: 0.7344 - val_accuracy: 0.8740\n",
            "Epoch 98/100\n",
            "125/125 [==============================] - 52s 420ms/step - loss: 0.0438 - accuracy: 0.9847 - val_loss: 0.7449 - val_accuracy: 0.8729\n",
            "Epoch 99/100\n",
            "125/125 [==============================] - 54s 430ms/step - loss: 0.0430 - accuracy: 0.9849 - val_loss: 0.7477 - val_accuracy: 0.8730\n",
            "Epoch 100/100\n",
            "125/125 [==============================] - 54s 431ms/step - loss: 0.0429 - accuracy: 0.9851 - val_loss: 0.7448 - val_accuracy: 0.8734\n"
          ],
          "name": "stdout"
        },
        {
          "output_type": "stream",
          "text": [
            "WARNING:absl:Found untraced functions such as lstm_cell_6_layer_call_and_return_conditional_losses, lstm_cell_6_layer_call_fn, lstm_cell_7_layer_call_and_return_conditional_losses, lstm_cell_7_layer_call_fn, lstm_cell_6_layer_call_fn while saving (showing 5 of 10). These functions will not be directly callable after loading.\n",
            "WARNING:absl:Found untraced functions such as lstm_cell_6_layer_call_and_return_conditional_losses, lstm_cell_6_layer_call_fn, lstm_cell_7_layer_call_and_return_conditional_losses, lstm_cell_7_layer_call_fn, lstm_cell_6_layer_call_fn while saving (showing 5 of 10). These functions will not be directly callable after loading.\n"
          ],
          "name": "stderr"
        },
        {
          "output_type": "stream",
          "text": [
            "INFO:tensorflow:Assets written to: s2s/assets\n"
          ],
          "name": "stdout"
        },
        {
          "output_type": "stream",
          "text": [
            "INFO:tensorflow:Assets written to: s2s/assets\n"
          ],
          "name": "stderr"
        }
      ]
    },
    {
      "cell_type": "code",
      "metadata": {
        "id": "Pcy1WOSH6oeE"
      },
      "source": [
        "# Define sampling models\n",
        "# Restore the model and construct the encoder and decoder.\n",
        "model = keras.models.load_model(\"s2s\")\n",
        "\n",
        "encoder_inputs = model.input[0]  # input_1\n",
        "encoder_outputs, state_h_enc, state_c_enc = model.layers[2].output  # lstm_1\n",
        "encoder_states = [state_h_enc, state_c_enc]\n",
        "encoder_model = keras.Model(encoder_inputs, encoder_states)\n",
        "\n",
        "decoder_inputs = model.input[1]  # input_2\n",
        "decoder_state_input_h = keras.Input(shape=(latent_dim,), name=\"input_3\")\n",
        "decoder_state_input_c = keras.Input(shape=(latent_dim,), name=\"input_4\")\n",
        "decoder_states_inputs = [decoder_state_input_h, decoder_state_input_c]\n",
        "decoder_lstm = model.layers[3]\n",
        "decoder_outputs, state_h_dec, state_c_dec = decoder_lstm(\n",
        "    decoder_inputs, initial_state=decoder_states_inputs\n",
        ")\n",
        "decoder_states = [state_h_dec, state_c_dec]\n",
        "decoder_dense = model.layers[4]\n",
        "decoder_outputs = decoder_dense(decoder_outputs)\n",
        "decoder_model = keras.Model(\n",
        "    [decoder_inputs] + decoder_states_inputs, [decoder_outputs] + decoder_states\n",
        ")\n",
        "\n",
        "\n",
        "# Reverse-lookup token index to decode sequences back to\n",
        "# something readable.\n",
        "reverse_input_char_index = dict((i, char) for char, i in input_token_index.items())\n",
        "reverse_target_char_index = dict((i, char) for char, i in target_token_index.items())\n",
        "\n",
        "def decode_sequence(input_seq):\n",
        "    # Encode the input as state vectors.\n",
        "    states_value = encoder_model.predict(input_seq)\n",
        "\n",
        "    # Generate empty target sequence of length 1.\n",
        "    target_seq = np.zeros((1, 1, num_decoder_tokens))\n",
        "    # Populate the first character of target sequence with the start character.\n",
        "    target_seq[0, 0, target_token_index[\"\\t\"]] = 1.0\n",
        "\n",
        "    # Sampling loop for a batch of sequences\n",
        "    # (to simplify, here we assume a batch of size 1).\n",
        "    stop_condition = False\n",
        "    decoded_sentence = \"\"\n",
        "    while not stop_condition:\n",
        "        output_tokens, h, c = decoder_model.predict([target_seq] + states_value)\n",
        "\n",
        "        # Sample a token\n",
        "        sampled_token_index = np.argmax(output_tokens[0, -1, :])\n",
        "        sampled_char = reverse_target_char_index[sampled_token_index]\n",
        "        decoded_sentence += sampled_char\n",
        "\n",
        "        # Exit condition: either hit max length\n",
        "        # or find stop character.\n",
        "        if sampled_char == \"\\n\" or len(decoded_sentence) > max_decoder_seq_length:\n",
        "            stop_condition = True\n",
        "\n",
        "        # Update the target sequence (of length 1).\n",
        "        target_seq = np.zeros((1, 1, num_decoder_tokens))\n",
        "        target_seq[0, 0, sampled_token_index] = 1.0\n",
        "\n",
        "        # Update states\n",
        "        states_value = [h, c]\n",
        "    return decoded_sentence"
      ],
      "execution_count": null,
      "outputs": []
    },
    {
      "cell_type": "code",
      "metadata": {
        "colab": {
          "base_uri": "https://localhost:8080/"
        },
        "id": "707DkIci8LIV",
        "outputId": "5a107209-d0f0-42be-9b96-c52b68e1111f"
      },
      "source": [
        "for seq_index in range(20):\n",
        "    # Take one sequence (part of the training set)\n",
        "    # for trying out decoding.\n",
        "    input_seq = encoder_input_data[seq_index : seq_index + 1]\n",
        "    decoded_sentence = decode_sequence(input_seq)\n",
        "    print(\"-\")\n",
        "    print(\"Input sentence:\", input_texts[seq_index])\n",
        "    print(\"Decoded sentence:\", decoded_sentence)"
      ],
      "execution_count": null,
      "outputs": [
        {
          "output_type": "stream",
          "text": [
            "-\n",
            "Input sentence: Go.\n",
            "Decoded sentence: Va !\n",
            "\n",
            "-\n",
            "Input sentence: Go.\n",
            "Decoded sentence: Va !\n",
            "\n",
            "-\n",
            "Input sentence: Go.\n",
            "Decoded sentence: Va !\n",
            "\n",
            "-\n",
            "Input sentence: Hi.\n",
            "Decoded sentence: Salut !\n",
            "\n",
            "-\n",
            "Input sentence: Hi.\n",
            "Decoded sentence: Salut !\n",
            "\n",
            "-\n",
            "Input sentence: Run!\n",
            "Decoded sentence: File !\n",
            "\n",
            "-\n",
            "Input sentence: Run!\n",
            "Decoded sentence: File !\n",
            "\n",
            "-\n",
            "Input sentence: Run!\n",
            "Decoded sentence: File !\n",
            "\n",
            "-\n",
            "Input sentence: Run!\n",
            "Decoded sentence: File !\n",
            "\n",
            "-\n",
            "Input sentence: Run!\n",
            "Decoded sentence: File !\n",
            "\n",
            "-\n",
            "Input sentence: Run!\n",
            "Decoded sentence: File !\n",
            "\n",
            "-\n",
            "Input sentence: Run!\n",
            "Decoded sentence: File !\n",
            "\n",
            "-\n",
            "Input sentence: Run!\n",
            "Decoded sentence: File !\n",
            "\n",
            "-\n",
            "Input sentence: Run.\n",
            "Decoded sentence: Filez !\n",
            "\n",
            "-\n",
            "Input sentence: Run.\n",
            "Decoded sentence: Filez !\n",
            "\n",
            "-\n",
            "Input sentence: Run.\n",
            "Decoded sentence: Filez !\n",
            "\n",
            "-\n",
            "Input sentence: Run.\n",
            "Decoded sentence: Filez !\n",
            "\n",
            "-\n",
            "Input sentence: Run.\n",
            "Decoded sentence: Filez !\n",
            "\n",
            "-\n",
            "Input sentence: Run.\n",
            "Decoded sentence: Filez !\n",
            "\n",
            "-\n",
            "Input sentence: Run.\n",
            "Decoded sentence: Filez !\n",
            "\n"
          ],
          "name": "stdout"
        }
      ]
    },
    {
      "cell_type": "code",
      "metadata": {
        "id": "weIA7nED8Z7L"
      },
      "source": [
        ""
      ],
      "execution_count": null,
      "outputs": []
    }
  ]
}