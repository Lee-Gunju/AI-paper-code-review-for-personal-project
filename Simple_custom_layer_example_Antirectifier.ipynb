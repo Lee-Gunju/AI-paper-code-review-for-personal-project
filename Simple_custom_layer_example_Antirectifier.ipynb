{
  "nbformat": 4,
  "nbformat_minor": 0,
  "metadata": {
    "colab": {
      "name": "Simple custom layer example: Antirectifier.ipynb",
      "provenance": [],
      "collapsed_sections": [],
      "authorship_tag": "ABX9TyMYOsMJknnD7gcmhiipaxI4",
      "include_colab_link": true
    },
    "kernelspec": {
      "name": "python3",
      "display_name": "Python 3"
    },
    "language_info": {
      "name": "python"
    },
    "accelerator": "GPU"
  },
  "cells": [
    {
      "cell_type": "markdown",
      "metadata": {
        "id": "view-in-github",
        "colab_type": "text"
      },
      "source": [
        "<a href=\"https://colab.research.google.com/github/Lee-Gunju/AI-paper-code-review-for-personal-project/blob/master/Simple_custom_layer_example_Antirectifier.ipynb\" target=\"_parent\"><img src=\"https://colab.research.google.com/assets/colab-badge.svg\" alt=\"Open In Colab\"/></a>"
      ]
    },
    {
      "cell_type": "code",
      "metadata": {
        "id": "PcFbns5RWKKn"
      },
      "source": [
        "import tensorflow as tf\n",
        "from tensorflow import keras\n",
        "from tensorflow.keras import layers"
      ],
      "execution_count": null,
      "outputs": []
    },
    {
      "cell_type": "code",
      "metadata": {
        "id": "LZQf9l1_WNCH"
      },
      "source": [
        "class Antirectifier(layers.Layer):\n",
        "    def __init__(self, initializer=\"he_normal\", **kwargs):\n",
        "        super(Antirectifier, self).__init__(**kwargs)\n",
        "        self.initializer = keras.initializers.get(initializer)\n",
        "\n",
        "    def build(self, input_shape):\n",
        "        output_dim = input_shape[-1]\n",
        "        self.kernel = self.add_weight(\n",
        "            shape=(output_dim * 2, output_dim),\n",
        "            initializer=self.initializer,\n",
        "            name=\"kernel\",\n",
        "            trainable=True,\n",
        "        )\n",
        "\n",
        "    def call(self, inputs):\n",
        "        inputs -= tf.reduce_mean(inputs, axis=-1, keepdims=True)\n",
        "        pos = tf.nn.relu(inputs)\n",
        "        neg = tf.nn.relu(-inputs)\n",
        "        concatenated = tf.concat([pos, neg], axis=-1)\n",
        "        mixed = tf.matmul(concatenated, self.kernel)\n",
        "        return mixed\n",
        "\n",
        "    def get_config(self):\n",
        "        # Implement get_config to enable serialization. This is optional.\n",
        "        base_config = super(Antirectifier, self).get_config()\n",
        "        config = {\"initializer\": keras.initializers.serialize(self.initializer)}\n",
        "        return dict(list(base_config.items()) + list(config.items()))"
      ],
      "execution_count": null,
      "outputs": []
    },
    {
      "cell_type": "code",
      "metadata": {
        "colab": {
          "base_uri": "https://localhost:8080/"
        },
        "id": "NSJoEERvWjcc",
        "outputId": "b9607838-8158-4d35-bd6d-20b8bfb8d734"
      },
      "source": [
        "# Training parameters\n",
        "batch_size = 128\n",
        "num_classes = 10\n",
        "epochs = 20\n",
        "\n",
        "# The data, split between train and test sets\n",
        "(x_train, y_train), (x_test, y_test) = keras.datasets.mnist.load_data()\n",
        "\n",
        "x_train = x_train.reshape(-1, 784)\n",
        "x_test = x_test.reshape(-1, 784)\n",
        "x_train = x_train.astype(\"float32\")\n",
        "x_test = x_test.astype(\"float32\")\n",
        "x_train /= 255\n",
        "x_test /= 255\n",
        "print(x_train.shape[0], \"train samples\")\n",
        "print(x_test.shape[0], \"test samples\")"
      ],
      "execution_count": null,
      "outputs": [
        {
          "output_type": "stream",
          "text": [
            "Downloading data from https://storage.googleapis.com/tensorflow/tf-keras-datasets/mnist.npz\n",
            "11493376/11490434 [==============================] - 0s 0us/step\n",
            "60000 train samples\n",
            "10000 test samples\n"
          ],
          "name": "stdout"
        }
      ]
    },
    {
      "cell_type": "code",
      "metadata": {
        "colab": {
          "base_uri": "https://localhost:8080/"
        },
        "id": "j69wyCAFX_LL",
        "outputId": "08d2ad63-9d20-460f-dc3e-d139cf36d906"
      },
      "source": [
        "tf.reduce_mean(x_train[0])"
      ],
      "execution_count": null,
      "outputs": [
        {
          "output_type": "execute_result",
          "data": {
            "text/plain": [
              "<tf.Tensor: shape=(), dtype=float32, numpy=0.13768007>"
            ]
          },
          "metadata": {
            "tags": []
          },
          "execution_count": 10
        }
      ]
    },
    {
      "cell_type": "code",
      "metadata": {
        "colab": {
          "base_uri": "https://localhost:8080/"
        },
        "id": "32P0VdVOYShD",
        "outputId": "af557a67-2799-4b0f-8202-ac662588ad4c"
      },
      "source": [
        "tf.reduce_mean(x_train[0], axis=-1, keepdims=True)"
      ],
      "execution_count": null,
      "outputs": [
        {
          "output_type": "execute_result",
          "data": {
            "text/plain": [
              "<tf.Tensor: shape=(1,), dtype=float32, numpy=array([0.13768007], dtype=float32)>"
            ]
          },
          "metadata": {
            "tags": []
          },
          "execution_count": 14
        }
      ]
    },
    {
      "cell_type": "code",
      "metadata": {
        "colab": {
          "base_uri": "https://localhost:8080/"
        },
        "id": "0SRsP94qYE07",
        "outputId": "5c0d7fa3-df3e-4b6b-b2b4-2141710aeaa0"
      },
      "source": [
        "tf.reduce_sum(x_train[0])"
      ],
      "execution_count": null,
      "outputs": [
        {
          "output_type": "execute_result",
          "data": {
            "text/plain": [
              "<tf.Tensor: shape=(), dtype=float32, numpy=107.94118>"
            ]
          },
          "metadata": {
            "tags": []
          },
          "execution_count": 9
        }
      ]
    },
    {
      "cell_type": "code",
      "metadata": {
        "colab": {
          "base_uri": "https://localhost:8080/"
        },
        "id": "IpxRhPo1YE_r",
        "outputId": "03b35e57-c2f9-4f17-e2be-12b4d0877917"
      },
      "source": [
        "# Build the model\n",
        "model = keras.Sequential(\n",
        "    [\n",
        "        keras.Input(shape=(784,)),\n",
        "        layers.Dense(256),\n",
        "        Antirectifier(),\n",
        "        layers.Dense(256),\n",
        "        Antirectifier(),\n",
        "        layers.Dropout(0.5),\n",
        "        layers.Dense(10),\n",
        "    ]\n",
        ")\n",
        "\n",
        "# Compile the model\n",
        "model.compile(\n",
        "    loss=keras.losses.SparseCategoricalCrossentropy(from_logits=True),\n",
        "    optimizer=keras.optimizers.RMSprop(),\n",
        "    metrics=[keras.metrics.SparseCategoricalAccuracy()],\n",
        ")\n",
        "\n",
        "# Train the model\n",
        "model.fit(x_train, y_train, batch_size=batch_size, epochs=epochs, validation_split=0.15)\n",
        "\n",
        "# Test the model\n",
        "model.evaluate(x_test, y_test)"
      ],
      "execution_count": null,
      "outputs": [
        {
          "output_type": "stream",
          "text": [
            "WARNING:tensorflow:Please add `keras.layers.InputLayer` instead of `keras.Input` to Sequential model. `keras.Input` is intended to be used by Functional model.\n",
            "Epoch 1/20\n",
            "399/399 [==============================] - 5s 4ms/step - loss: 0.3811 - sparse_categorical_accuracy: 0.8893 - val_loss: 0.2691 - val_sparse_categorical_accuracy: 0.9248\n",
            "Epoch 2/20\n",
            "399/399 [==============================] - 2s 4ms/step - loss: 0.1737 - sparse_categorical_accuracy: 0.9524 - val_loss: 0.2646 - val_sparse_categorical_accuracy: 0.9356\n",
            "Epoch 3/20\n",
            "399/399 [==============================] - 2s 4ms/step - loss: 0.1357 - sparse_categorical_accuracy: 0.9624 - val_loss: 0.1593 - val_sparse_categorical_accuracy: 0.9630\n",
            "Epoch 4/20\n",
            "399/399 [==============================] - 2s 4ms/step - loss: 0.1123 - sparse_categorical_accuracy: 0.9698 - val_loss: 0.1416 - val_sparse_categorical_accuracy: 0.9684\n",
            "Epoch 5/20\n",
            "399/399 [==============================] - 2s 4ms/step - loss: 0.0976 - sparse_categorical_accuracy: 0.9751 - val_loss: 0.1542 - val_sparse_categorical_accuracy: 0.9703\n",
            "Epoch 6/20\n",
            "399/399 [==============================] - 2s 4ms/step - loss: 0.0920 - sparse_categorical_accuracy: 0.9761 - val_loss: 0.1235 - val_sparse_categorical_accuracy: 0.9723\n",
            "Epoch 7/20\n",
            "399/399 [==============================] - 2s 4ms/step - loss: 0.0824 - sparse_categorical_accuracy: 0.9790 - val_loss: 0.1362 - val_sparse_categorical_accuracy: 0.9731\n",
            "Epoch 8/20\n",
            "399/399 [==============================] - 2s 4ms/step - loss: 0.0740 - sparse_categorical_accuracy: 0.9825 - val_loss: 0.1424 - val_sparse_categorical_accuracy: 0.9714\n",
            "Epoch 9/20\n",
            "399/399 [==============================] - 2s 4ms/step - loss: 0.0681 - sparse_categorical_accuracy: 0.9820 - val_loss: 0.1397 - val_sparse_categorical_accuracy: 0.9766\n",
            "Epoch 10/20\n",
            "399/399 [==============================] - 2s 4ms/step - loss: 0.0654 - sparse_categorical_accuracy: 0.9840 - val_loss: 0.1666 - val_sparse_categorical_accuracy: 0.9699\n",
            "Epoch 11/20\n",
            "399/399 [==============================] - 2s 4ms/step - loss: 0.0601 - sparse_categorical_accuracy: 0.9847 - val_loss: 0.1315 - val_sparse_categorical_accuracy: 0.9767\n",
            "Epoch 12/20\n",
            "399/399 [==============================] - 2s 4ms/step - loss: 0.0590 - sparse_categorical_accuracy: 0.9863 - val_loss: 0.1731 - val_sparse_categorical_accuracy: 0.9723\n",
            "Epoch 13/20\n",
            "399/399 [==============================] - 2s 4ms/step - loss: 0.0521 - sparse_categorical_accuracy: 0.9872 - val_loss: 0.1990 - val_sparse_categorical_accuracy: 0.9731\n",
            "Epoch 14/20\n",
            "399/399 [==============================] - 2s 4ms/step - loss: 0.0557 - sparse_categorical_accuracy: 0.9875 - val_loss: 0.1728 - val_sparse_categorical_accuracy: 0.9769\n",
            "Epoch 15/20\n",
            "399/399 [==============================] - 2s 4ms/step - loss: 0.0528 - sparse_categorical_accuracy: 0.9882 - val_loss: 0.2241 - val_sparse_categorical_accuracy: 0.9723\n",
            "Epoch 16/20\n",
            "399/399 [==============================] - 2s 4ms/step - loss: 0.0521 - sparse_categorical_accuracy: 0.9893 - val_loss: 0.2160 - val_sparse_categorical_accuracy: 0.9752\n",
            "Epoch 17/20\n",
            "399/399 [==============================] - 2s 4ms/step - loss: 0.0530 - sparse_categorical_accuracy: 0.9891 - val_loss: 0.2380 - val_sparse_categorical_accuracy: 0.9739\n",
            "Epoch 18/20\n",
            "399/399 [==============================] - 2s 4ms/step - loss: 0.0522 - sparse_categorical_accuracy: 0.9898 - val_loss: 0.2387 - val_sparse_categorical_accuracy: 0.9752\n",
            "Epoch 19/20\n",
            "399/399 [==============================] - 2s 4ms/step - loss: 0.0582 - sparse_categorical_accuracy: 0.9888 - val_loss: 0.2558 - val_sparse_categorical_accuracy: 0.9716\n",
            "Epoch 20/20\n",
            "399/399 [==============================] - 2s 4ms/step - loss: 0.0564 - sparse_categorical_accuracy: 0.9903 - val_loss: 0.2308 - val_sparse_categorical_accuracy: 0.9768\n",
            "313/313 [==============================] - 1s 2ms/step - loss: 0.2257 - sparse_categorical_accuracy: 0.9758\n"
          ],
          "name": "stdout"
        },
        {
          "output_type": "execute_result",
          "data": {
            "text/plain": [
              "[0.22567661106586456, 0.9757999777793884]"
            ]
          },
          "metadata": {
            "tags": []
          },
          "execution_count": 15
        }
      ]
    },
    {
      "cell_type": "code",
      "metadata": {
        "id": "Y9l_pwh0ZgcW"
      },
      "source": [
        ""
      ],
      "execution_count": null,
      "outputs": []
    }
  ]
}