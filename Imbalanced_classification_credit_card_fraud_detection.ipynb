{
  "nbformat": 4,
  "nbformat_minor": 0,
  "metadata": {
    "colab": {
      "name": "Imbalanced classification: credit card fraud detection.ipynb",
      "provenance": [],
      "collapsed_sections": [],
      "authorship_tag": "ABX9TyPzTbWFhWFejh+7cgkLfWPx",
      "include_colab_link": true
    },
    "kernelspec": {
      "name": "python3",
      "display_name": "Python 3"
    },
    "language_info": {
      "name": "python"
    },
    "accelerator": "GPU"
  },
  "cells": [
    {
      "cell_type": "markdown",
      "metadata": {
        "id": "view-in-github",
        "colab_type": "text"
      },
      "source": [
        "<a href=\"https://colab.research.google.com/github/Lee-Gunju/AI-paper-code-review-for-personal-project/blob/master/Imbalanced_classification_credit_card_fraud_detection.ipynb\" target=\"_parent\"><img src=\"https://colab.research.google.com/assets/colab-badge.svg\" alt=\"Open In Colab\"/></a>"
      ]
    },
    {
      "cell_type": "code",
      "metadata": {
        "id": "ZQZfsrJaTWdb"
      },
      "source": [
        "import csv\n",
        "import numpy as np"
      ],
      "execution_count": null,
      "outputs": []
    },
    {
      "cell_type": "code",
      "metadata": {
        "id": "6TCDhiDYT8bN"
      },
      "source": [
        "fname = '/content/creditcard.csv'"
      ],
      "execution_count": null,
      "outputs": []
    },
    {
      "cell_type": "code",
      "metadata": {
        "colab": {
          "base_uri": "https://localhost:8080/"
        },
        "id": "ZHQUZytlUIJc",
        "outputId": "dff6a018-d00a-4ede-e3b0-62560ed4ae32"
      },
      "source": [
        "all_features = []\n",
        "all_targets = []\n",
        "\n",
        "with open(fname) as f:\n",
        "  for i, line in enumerate(f):\n",
        "    if i == 0:\n",
        "      print('header', line.strip())\n",
        "      continue\n",
        "    fields = line.strip().split(\",\")\n",
        "    all_features.append([float(v.replace('\"', \"\")) for v in fields[:-1]])\n",
        "    all_targets.append([int(fields[-1].replace('\"', \"\"))])\n",
        "    if i == 1:\n",
        "      print('example feature', all_features[-1])\n",
        "\n",
        "\n",
        "features = np.array(all_features, dtype = 'float32')\n",
        "targets = np.array(all_targets, dtype='uint8')\n",
        "print(\"features.shape:\", features.shape)\n",
        "print(\"targets.shape:\", targets.shape)"
      ],
      "execution_count": null,
      "outputs": [
        {
          "output_type": "stream",
          "text": [
            "header \"Time\",\"V1\",\"V2\",\"V3\",\"V4\",\"V5\",\"V6\",\"V7\",\"V8\",\"V9\",\"V10\",\"V11\",\"V12\",\"V13\",\"V14\",\"V15\",\"V16\",\"V17\",\"V18\",\"V19\",\"V20\",\"V21\",\"V22\",\"V23\",\"V24\",\"V25\",\"V26\",\"V27\",\"V28\",\"Amount\",\"Class\"\n",
            "example feature [0.0, -1.3598071336738, -0.0727811733098497, 2.53634673796914, 1.37815522427443, -0.338320769942518, 0.462387777762292, 0.239598554061257, 0.0986979012610507, 0.363786969611213, 0.0907941719789316, -0.551599533260813, -0.617800855762348, -0.991389847235408, -0.311169353699879, 1.46817697209427, -0.470400525259478, 0.207971241929242, 0.0257905801985591, 0.403992960255733, 0.251412098239705, -0.018306777944153, 0.277837575558899, -0.110473910188767, 0.0669280749146731, 0.128539358273528, -0.189114843888824, 0.133558376740387, -0.0210530534538215, 149.62]\n",
            "features.shape: (284807, 30)\n",
            "targets.shape: (284807, 1)\n"
          ],
          "name": "stdout"
        }
      ]
    },
    {
      "cell_type": "code",
      "metadata": {
        "colab": {
          "base_uri": "https://localhost:8080/"
        },
        "id": "x3BRTk3QY55k",
        "outputId": "3293f772-ffd7-4613-99ed-c998e4d87a20"
      },
      "source": [
        "features[0]"
      ],
      "execution_count": null,
      "outputs": [
        {
          "output_type": "execute_result",
          "data": {
            "text/plain": [
              "array([ 0.0000000e+00, -1.3598071e+00, -7.2781175e-02,  2.5363467e+00,\n",
              "        1.3781552e+00, -3.3832076e-01,  4.6238777e-01,  2.3959856e-01,\n",
              "        9.8697901e-02,  3.6378697e-01,  9.0794168e-02, -5.5159956e-01,\n",
              "       -6.1780083e-01, -9.9138987e-01, -3.1116936e-01,  1.4681770e+00,\n",
              "       -4.7040051e-01,  2.0797125e-01,  2.5790580e-02,  4.0399295e-01,\n",
              "        2.5141209e-01, -1.8306779e-02,  2.7783757e-01, -1.1047391e-01,\n",
              "        6.6928074e-02,  1.2853935e-01, -1.8911484e-01,  1.3355838e-01,\n",
              "       -2.1053053e-02,  1.4962000e+02], dtype=float32)"
            ]
          },
          "metadata": {
            "tags": []
          },
          "execution_count": 37
        }
      ]
    },
    {
      "cell_type": "code",
      "metadata": {
        "colab": {
          "base_uri": "https://localhost:8080/"
        },
        "id": "kaYOCKKMZ3N-",
        "outputId": "dfba3eb0-09c5-468d-cbe7-bbec1e2a6106"
      },
      "source": [
        "num_val_samples = int(len(features) * 0.2)\n",
        "train_features = features[:-num_val_samples]\n",
        "train_targets = targets[:-num_val_samples]\n",
        "val_features = features[-num_val_samples:]\n",
        "val_targets = targets[-num_val_samples:]\n",
        "\n",
        "\n",
        "print(\"Number of training samples:\", len(train_features))\n",
        "print(\"Number of validation samples:\", len(val_features))"
      ],
      "execution_count": null,
      "outputs": [
        {
          "output_type": "stream",
          "text": [
            "Number of training samples: 227846\n",
            "Number of validation samples: 56961\n"
          ],
          "name": "stdout"
        }
      ]
    },
    {
      "cell_type": "code",
      "metadata": {
        "colab": {
          "base_uri": "https://localhost:8080/"
        },
        "id": "uE4GDTuVamJl",
        "outputId": "ee29fb74-448f-4e97-bc4d-0fff524c2e30"
      },
      "source": [
        "counts = np.bincount(train_targets[:, 0])\n",
        "\n",
        "print(\n",
        "    \"Number of positive samples in training data: {} ({:.2f}% of total)\".format(\n",
        "        counts[1], 100 * float(counts[1]) / len(train_targets)\n",
        "    )\n",
        ")\n",
        "\n",
        "weight_for_0 = 1.0 / counts[0]\n",
        "weight_for_1 = 1.0 / counts[1]"
      ],
      "execution_count": null,
      "outputs": [
        {
          "output_type": "stream",
          "text": [
            "Number of positive samples in training data: 417 (0.18% of total)\n"
          ],
          "name": "stdout"
        }
      ]
    },
    {
      "cell_type": "code",
      "metadata": {
        "id": "nYV8ak7lauxE"
      },
      "source": [
        "mean = np.mean(train_features, axis = 0)"
      ],
      "execution_count": null,
      "outputs": []
    },
    {
      "cell_type": "code",
      "metadata": {
        "id": "_Zy6AA0hb0EV"
      },
      "source": [
        "train_features -= mean"
      ],
      "execution_count": null,
      "outputs": []
    },
    {
      "cell_type": "code",
      "metadata": {
        "id": "lBlwe6GFcwEd"
      },
      "source": [
        "val_features -= mean"
      ],
      "execution_count": null,
      "outputs": []
    },
    {
      "cell_type": "code",
      "metadata": {
        "id": "J7VsYYppdCau"
      },
      "source": [
        "std = np.std(train_features, axis=0)"
      ],
      "execution_count": null,
      "outputs": []
    },
    {
      "cell_type": "code",
      "metadata": {
        "id": "gW_iGBVrdFn8"
      },
      "source": [
        "train_features /= std \n",
        "val_features /= std"
      ],
      "execution_count": null,
      "outputs": []
    },
    {
      "cell_type": "code",
      "metadata": {
        "id": "3tmXW5BpdMaE"
      },
      "source": [
        "from tensorflow import keras"
      ],
      "execution_count": null,
      "outputs": []
    },
    {
      "cell_type": "code",
      "metadata": {
        "colab": {
          "base_uri": "https://localhost:8080/"
        },
        "id": "HvDBT-SJdQV8",
        "outputId": "87811267-ddfe-411d-97d9-15c9e80fdde8"
      },
      "source": [
        "model = keras.Sequential([\n",
        "                          keras.layers.Dense(256, activation='relu', input_shape = (train_features.shape[-1],)),\n",
        "                          keras.layers.Dense(256, activation='relu'),\n",
        "                          keras.layers.Dropout(0.3),\n",
        "                          keras.layers.Dense(256, activation=\"relu\"),\n",
        "                          keras.layers.Dropout(0.3),\n",
        "                          keras.layers.Dense(1, activation='sigmoid')\n",
        "])\n",
        "\n",
        "\n",
        "model.summary()"
      ],
      "execution_count": null,
      "outputs": [
        {
          "output_type": "stream",
          "text": [
            "Model: \"sequential\"\n",
            "_________________________________________________________________\n",
            "Layer (type)                 Output Shape              Param #   \n",
            "=================================================================\n",
            "dense_1 (Dense)              (None, 256)               7936      \n",
            "_________________________________________________________________\n",
            "dense_2 (Dense)              (None, 256)               65792     \n",
            "_________________________________________________________________\n",
            "dropout (Dropout)            (None, 256)               0         \n",
            "_________________________________________________________________\n",
            "dense_3 (Dense)              (None, 256)               65792     \n",
            "_________________________________________________________________\n",
            "dropout_1 (Dropout)          (None, 256)               0         \n",
            "_________________________________________________________________\n",
            "dense_4 (Dense)              (None, 1)                 257       \n",
            "=================================================================\n",
            "Total params: 139,777\n",
            "Trainable params: 139,777\n",
            "Non-trainable params: 0\n",
            "_________________________________________________________________\n"
          ],
          "name": "stdout"
        }
      ]
    },
    {
      "cell_type": "code",
      "metadata": {
        "colab": {
          "base_uri": "https://localhost:8080/"
        },
        "id": "OQc9CqVsd309",
        "outputId": "ae733cb2-3b40-4b20-a60e-3a4819c19d2b"
      },
      "source": [
        "metrics = [\n",
        "    keras.metrics.FalseNegatives(name=\"fn\"),\n",
        "    keras.metrics.FalsePositives(name=\"fp\"),\n",
        "    keras.metrics.TrueNegatives(name=\"tn\"),\n",
        "    keras.metrics.TruePositives(name=\"tp\"),\n",
        "    keras.metrics.Precision(name=\"precision\"),\n",
        "    keras.metrics.Recall(name=\"recall\"),\n",
        "    keras.metrics.BinaryAccuracy(name = 'binary_acc')\n",
        "]\n",
        "\n",
        "model.compile(optimizer=keras.optimizers.Adam(1e-2), loss = 'binary_crossentropy', metrics=metrics)\n",
        "\n",
        "callbacks = [keras.callbacks.ModelCheckpoint('fraud_model_at_epoch_{epoch}.h5')]\n",
        "\n",
        "class_weight = {0: weight_for_0, 1: weight_for_1}\n",
        "\n",
        "model.fit(\n",
        "    train_features,\n",
        "    train_targets,\n",
        "    batch_size=2048,\n",
        "    epochs=30,\n",
        "    verbose=2,\n",
        "    callbacks=callbacks,\n",
        "    validation_data=(val_features, val_targets),\n",
        "    class_weight=class_weight,\n",
        ")"
      ],
      "execution_count": null,
      "outputs": [
        {
          "output_type": "stream",
          "text": [
            "Epoch 1/30\n",
            "112/112 - 3s - loss: 2.4459e-07 - fn: 6.0000 - fp: 2015.0000 - tn: 225414.0000 - tp: 411.0000 - precision: 0.1694 - recall: 0.9856 - binary_acc: 0.9911 - val_loss: 0.0188 - val_fn: 10.0000 - val_fp: 309.0000 - val_tn: 56577.0000 - val_tp: 65.0000 - val_precision: 0.1738 - val_recall: 0.8667 - val_binary_acc: 0.9944\n",
            "Epoch 2/30\n",
            "112/112 - 1s - loss: 1.9414e-07 - fn: 1.0000 - fp: 1682.0000 - tn: 225747.0000 - tp: 416.0000 - precision: 0.1983 - recall: 0.9976 - binary_acc: 0.9926 - val_loss: 0.0353 - val_fn: 10.0000 - val_fp: 297.0000 - val_tn: 56589.0000 - val_tp: 65.0000 - val_precision: 0.1796 - val_recall: 0.8667 - val_binary_acc: 0.9946\n",
            "Epoch 3/30\n",
            "112/112 - 1s - loss: 2.1050e-07 - fn: 1.0000 - fp: 1489.0000 - tn: 225940.0000 - tp: 416.0000 - precision: 0.2184 - recall: 0.9976 - binary_acc: 0.9935 - val_loss: 0.1119 - val_fn: 8.0000 - val_fp: 730.0000 - val_tn: 56156.0000 - val_tp: 67.0000 - val_precision: 0.0841 - val_recall: 0.8933 - val_binary_acc: 0.9870\n",
            "Epoch 4/30\n",
            "112/112 - 1s - loss: 2.9552e-07 - fn: 1.0000 - fp: 2280.0000 - tn: 225149.0000 - tp: 416.0000 - precision: 0.1543 - recall: 0.9976 - binary_acc: 0.9900 - val_loss: 0.0144 - val_fn: 10.0000 - val_fp: 230.0000 - val_tn: 56656.0000 - val_tp: 65.0000 - val_precision: 0.2203 - val_recall: 0.8667 - val_binary_acc: 0.9958\n",
            "Epoch 5/30\n",
            "112/112 - 1s - loss: 2.6129e-07 - fn: 1.0000 - fp: 1374.0000 - tn: 226055.0000 - tp: 416.0000 - precision: 0.2324 - recall: 0.9976 - binary_acc: 0.9940 - val_loss: 0.0504 - val_fn: 10.0000 - val_fp: 231.0000 - val_tn: 56655.0000 - val_tp: 65.0000 - val_precision: 0.2196 - val_recall: 0.8667 - val_binary_acc: 0.9958\n",
            "Epoch 6/30\n",
            "112/112 - 1s - loss: 3.6669e-07 - fn: 4.0000 - fp: 3304.0000 - tn: 224125.0000 - tp: 413.0000 - precision: 0.1111 - recall: 0.9904 - binary_acc: 0.9855 - val_loss: 0.0526 - val_fn: 9.0000 - val_fp: 1165.0000 - val_tn: 55721.0000 - val_tp: 66.0000 - val_precision: 0.0536 - val_recall: 0.8800 - val_binary_acc: 0.9794\n",
            "Epoch 7/30\n",
            "112/112 - 1s - loss: 3.5275e-07 - fn: 2.0000 - fp: 4037.0000 - tn: 223392.0000 - tp: 415.0000 - precision: 0.0932 - recall: 0.9952 - binary_acc: 0.9823 - val_loss: 0.0188 - val_fn: 9.0000 - val_fp: 433.0000 - val_tn: 56453.0000 - val_tp: 66.0000 - val_precision: 0.1323 - val_recall: 0.8800 - val_binary_acc: 0.9922\n",
            "Epoch 8/30\n",
            "112/112 - 1s - loss: 2.3538e-07 - fn: 2.0000 - fp: 2647.0000 - tn: 224782.0000 - tp: 415.0000 - precision: 0.1355 - recall: 0.9952 - binary_acc: 0.9884 - val_loss: 0.0261 - val_fn: 8.0000 - val_fp: 580.0000 - val_tn: 56306.0000 - val_tp: 67.0000 - val_precision: 0.1036 - val_recall: 0.8933 - val_binary_acc: 0.9897\n",
            "Epoch 9/30\n",
            "112/112 - 1s - loss: 2.2449e-07 - fn: 2.0000 - fp: 2762.0000 - tn: 224667.0000 - tp: 415.0000 - precision: 0.1306 - recall: 0.9952 - binary_acc: 0.9879 - val_loss: 0.0126 - val_fn: 11.0000 - val_fp: 241.0000 - val_tn: 56645.0000 - val_tp: 64.0000 - val_precision: 0.2098 - val_recall: 0.8533 - val_binary_acc: 0.9956\n",
            "Epoch 10/30\n",
            "112/112 - 1s - loss: 2.4722e-07 - fn: 2.0000 - fp: 2756.0000 - tn: 224673.0000 - tp: 415.0000 - precision: 0.1309 - recall: 0.9952 - binary_acc: 0.9879 - val_loss: 0.0132 - val_fn: 11.0000 - val_fp: 219.0000 - val_tn: 56667.0000 - val_tp: 64.0000 - val_precision: 0.2261 - val_recall: 0.8533 - val_binary_acc: 0.9960\n",
            "Epoch 11/30\n",
            "112/112 - 1s - loss: 2.2644e-07 - fn: 2.0000 - fp: 2479.0000 - tn: 224950.0000 - tp: 415.0000 - precision: 0.1434 - recall: 0.9952 - binary_acc: 0.9891 - val_loss: 0.0242 - val_fn: 9.0000 - val_fp: 488.0000 - val_tn: 56398.0000 - val_tp: 66.0000 - val_precision: 0.1191 - val_recall: 0.8800 - val_binary_acc: 0.9913\n",
            "Epoch 12/30\n",
            "112/112 - 1s - loss: 2.3232e-07 - fn: 1.0000 - fp: 2920.0000 - tn: 224509.0000 - tp: 416.0000 - precision: 0.1247 - recall: 0.9976 - binary_acc: 0.9872 - val_loss: 0.0125 - val_fn: 11.0000 - val_fp: 226.0000 - val_tn: 56660.0000 - val_tp: 64.0000 - val_precision: 0.2207 - val_recall: 0.8533 - val_binary_acc: 0.9958\n",
            "Epoch 13/30\n",
            "112/112 - 1s - loss: 3.1166e-07 - fn: 1.0000 - fp: 1961.0000 - tn: 225468.0000 - tp: 416.0000 - precision: 0.1750 - recall: 0.9976 - binary_acc: 0.9914 - val_loss: 0.0183 - val_fn: 11.0000 - val_fp: 195.0000 - val_tn: 56691.0000 - val_tp: 64.0000 - val_precision: 0.2471 - val_recall: 0.8533 - val_binary_acc: 0.9964\n",
            "Epoch 14/30\n",
            "112/112 - 1s - loss: 2.3739e-07 - fn: 1.0000 - fp: 2343.0000 - tn: 225086.0000 - tp: 416.0000 - precision: 0.1508 - recall: 0.9976 - binary_acc: 0.9897 - val_loss: 0.0127 - val_fn: 11.0000 - val_fp: 203.0000 - val_tn: 56683.0000 - val_tp: 64.0000 - val_precision: 0.2397 - val_recall: 0.8533 - val_binary_acc: 0.9962\n",
            "Epoch 15/30\n",
            "112/112 - 1s - loss: 1.7197e-07 - fn: 3.0000 - fp: 1676.0000 - tn: 225753.0000 - tp: 414.0000 - precision: 0.1981 - recall: 0.9928 - binary_acc: 0.9926 - val_loss: 0.0168 - val_fn: 9.0000 - val_fp: 280.0000 - val_tn: 56606.0000 - val_tp: 66.0000 - val_precision: 0.1908 - val_recall: 0.8800 - val_binary_acc: 0.9949\n",
            "Epoch 16/30\n",
            "112/112 - 1s - loss: 2.2591e-07 - fn: 3.0000 - fp: 2096.0000 - tn: 225333.0000 - tp: 414.0000 - precision: 0.1649 - recall: 0.9928 - binary_acc: 0.9908 - val_loss: 0.1022 - val_fn: 8.0000 - val_fp: 1512.0000 - val_tn: 55374.0000 - val_tp: 67.0000 - val_precision: 0.0424 - val_recall: 0.8933 - val_binary_acc: 0.9733\n",
            "Epoch 17/30\n",
            "112/112 - 1s - loss: 2.7375e-07 - fn: 4.0000 - fp: 2904.0000 - tn: 224525.0000 - tp: 413.0000 - precision: 0.1245 - recall: 0.9904 - binary_acc: 0.9872 - val_loss: 0.0376 - val_fn: 9.0000 - val_fp: 543.0000 - val_tn: 56343.0000 - val_tp: 66.0000 - val_precision: 0.1084 - val_recall: 0.8800 - val_binary_acc: 0.9903\n",
            "Epoch 18/30\n",
            "112/112 - 1s - loss: 1.3935e-07 - fn: 0.0000e+00 - fp: 1611.0000 - tn: 225818.0000 - tp: 417.0000 - precision: 0.2056 - recall: 1.0000 - binary_acc: 0.9929 - val_loss: 0.0153 - val_fn: 10.0000 - val_fp: 240.0000 - val_tn: 56646.0000 - val_tp: 65.0000 - val_precision: 0.2131 - val_recall: 0.8667 - val_binary_acc: 0.9956\n",
            "Epoch 19/30\n",
            "112/112 - 1s - loss: 1.6394e-07 - fn: 2.0000 - fp: 1683.0000 - tn: 225746.0000 - tp: 415.0000 - precision: 0.1978 - recall: 0.9952 - binary_acc: 0.9926 - val_loss: 0.0111 - val_fn: 12.0000 - val_fp: 135.0000 - val_tn: 56751.0000 - val_tp: 63.0000 - val_precision: 0.3182 - val_recall: 0.8400 - val_binary_acc: 0.9974\n",
            "Epoch 20/30\n",
            "112/112 - 1s - loss: 1.0638e-07 - fn: 0.0000e+00 - fp: 1140.0000 - tn: 226289.0000 - tp: 417.0000 - precision: 0.2678 - recall: 1.0000 - binary_acc: 0.9950 - val_loss: 0.0137 - val_fn: 11.0000 - val_fp: 187.0000 - val_tn: 56699.0000 - val_tp: 64.0000 - val_precision: 0.2550 - val_recall: 0.8533 - val_binary_acc: 0.9965\n",
            "Epoch 21/30\n",
            "112/112 - 1s - loss: 7.9435e-07 - fn: 2.0000 - fp: 2012.0000 - tn: 225417.0000 - tp: 415.0000 - precision: 0.1710 - recall: 0.9952 - binary_acc: 0.9912 - val_loss: 0.0130 - val_fn: 12.0000 - val_fp: 138.0000 - val_tn: 56748.0000 - val_tp: 63.0000 - val_precision: 0.3134 - val_recall: 0.8400 - val_binary_acc: 0.9974\n",
            "Epoch 22/30\n",
            "112/112 - 1s - loss: 2.4022e-07 - fn: 3.0000 - fp: 2466.0000 - tn: 224963.0000 - tp: 414.0000 - precision: 0.1437 - recall: 0.9928 - binary_acc: 0.9892 - val_loss: 0.0295 - val_fn: 12.0000 - val_fp: 508.0000 - val_tn: 56378.0000 - val_tp: 63.0000 - val_precision: 0.1103 - val_recall: 0.8400 - val_binary_acc: 0.9909\n",
            "Epoch 23/30\n",
            "112/112 - 1s - loss: 1.5362e-07 - fn: 1.0000 - fp: 1895.0000 - tn: 225534.0000 - tp: 416.0000 - precision: 0.1800 - recall: 0.9976 - binary_acc: 0.9917 - val_loss: 0.0112 - val_fn: 11.0000 - val_fp: 165.0000 - val_tn: 56721.0000 - val_tp: 64.0000 - val_precision: 0.2795 - val_recall: 0.8533 - val_binary_acc: 0.9969\n",
            "Epoch 24/30\n",
            "112/112 - 1s - loss: 1.1947e-07 - fn: 1.0000 - fp: 1345.0000 - tn: 226084.0000 - tp: 416.0000 - precision: 0.2362 - recall: 0.9976 - binary_acc: 0.9941 - val_loss: 0.0113 - val_fn: 11.0000 - val_fp: 156.0000 - val_tn: 56730.0000 - val_tp: 64.0000 - val_precision: 0.2909 - val_recall: 0.8533 - val_binary_acc: 0.9971\n",
            "Epoch 25/30\n",
            "112/112 - 1s - loss: 1.4691e-07 - fn: 1.0000 - fp: 1383.0000 - tn: 226046.0000 - tp: 416.0000 - precision: 0.2312 - recall: 0.9976 - binary_acc: 0.9939 - val_loss: 0.0257 - val_fn: 10.0000 - val_fp: 162.0000 - val_tn: 56724.0000 - val_tp: 65.0000 - val_precision: 0.2863 - val_recall: 0.8667 - val_binary_acc: 0.9970\n",
            "Epoch 26/30\n",
            "112/112 - 1s - loss: 4.9463e-07 - fn: 3.0000 - fp: 3708.0000 - tn: 223721.0000 - tp: 414.0000 - precision: 0.1004 - recall: 0.9928 - binary_acc: 0.9837 - val_loss: 0.0177 - val_fn: 9.0000 - val_fp: 343.0000 - val_tn: 56543.0000 - val_tp: 66.0000 - val_precision: 0.1614 - val_recall: 0.8800 - val_binary_acc: 0.9938\n",
            "Epoch 27/30\n",
            "112/112 - 1s - loss: 2.3643e-07 - fn: 3.0000 - fp: 2767.0000 - tn: 224662.0000 - tp: 414.0000 - precision: 0.1301 - recall: 0.9928 - binary_acc: 0.9878 - val_loss: 0.0166 - val_fn: 11.0000 - val_fp: 323.0000 - val_tn: 56563.0000 - val_tp: 64.0000 - val_precision: 0.1654 - val_recall: 0.8533 - val_binary_acc: 0.9941\n",
            "Epoch 28/30\n",
            "112/112 - 1s - loss: 3.4383e-07 - fn: 2.0000 - fp: 3993.0000 - tn: 223436.0000 - tp: 415.0000 - precision: 0.0941 - recall: 0.9952 - binary_acc: 0.9825 - val_loss: 0.0164 - val_fn: 11.0000 - val_fp: 303.0000 - val_tn: 56583.0000 - val_tp: 64.0000 - val_precision: 0.1744 - val_recall: 0.8533 - val_binary_acc: 0.9945\n",
            "Epoch 29/30\n",
            "112/112 - 1s - loss: 3.2660e-07 - fn: 3.0000 - fp: 2511.0000 - tn: 224918.0000 - tp: 414.0000 - precision: 0.1415 - recall: 0.9928 - binary_acc: 0.9890 - val_loss: 0.0144 - val_fn: 9.0000 - val_fp: 198.0000 - val_tn: 56688.0000 - val_tp: 66.0000 - val_precision: 0.2500 - val_recall: 0.8800 - val_binary_acc: 0.9964\n",
            "Epoch 30/30\n",
            "112/112 - 1s - loss: 1.6528e-07 - fn: 3.0000 - fp: 1878.0000 - tn: 225551.0000 - tp: 414.0000 - precision: 0.1806 - recall: 0.9928 - binary_acc: 0.9917 - val_loss: 0.0108 - val_fn: 13.0000 - val_fp: 137.0000 - val_tn: 56749.0000 - val_tp: 62.0000 - val_precision: 0.3116 - val_recall: 0.8267 - val_binary_acc: 0.9974\n"
          ],
          "name": "stdout"
        },
        {
          "output_type": "execute_result",
          "data": {
            "text/plain": [
              "<tensorflow.python.keras.callbacks.History at 0x7f6994393d10>"
            ]
          },
          "metadata": {
            "tags": []
          },
          "execution_count": 55
        }
      ]
    },
    {
      "cell_type": "code",
      "metadata": {
        "colab": {
          "base_uri": "https://localhost:8080/"
        },
        "id": "N6GiJUXQfOEP",
        "outputId": "2b6ed2ab-dca1-48c5-d219-cac42781301a"
      },
      "source": [
        "model.evaluate(x = val_features, y = val_targets)"
      ],
      "execution_count": null,
      "outputs": [
        {
          "output_type": "stream",
          "text": [
            "1781/1781 [==============================] - 8s 4ms/step - loss: 0.0108 - fn: 13.0000 - fp: 137.0000 - tn: 56749.0000 - tp: 62.0000 - precision: 0.3116 - recall: 0.8267 - binary_acc: 0.9974\n"
          ],
          "name": "stdout"
        },
        {
          "output_type": "execute_result",
          "data": {
            "text/plain": [
              "[0.010843335650861263,\n",
              " 13.0,\n",
              " 137.0,\n",
              " 56749.0,\n",
              " 62.0,\n",
              " 0.311557799577713,\n",
              " 0.8266666531562805,\n",
              " 0.9973666071891785]"
            ]
          },
          "metadata": {
            "tags": []
          },
          "execution_count": 56
        }
      ]
    },
    {
      "cell_type": "code",
      "metadata": {
        "id": "o69-U48lflW1"
      },
      "source": [
        ""
      ],
      "execution_count": null,
      "outputs": []
    }
  ]
}