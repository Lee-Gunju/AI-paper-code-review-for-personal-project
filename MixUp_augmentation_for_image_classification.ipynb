{
  "nbformat": 4,
  "nbformat_minor": 0,
  "metadata": {
    "colab": {
      "name": "MixUp augmentation for image classification.ipynb",
      "provenance": [],
      "collapsed_sections": [],
      "authorship_tag": "ABX9TyP7zsGFJPVOAaKPv7TFu9C/",
      "include_colab_link": true
    },
    "kernelspec": {
      "name": "python3",
      "display_name": "Python 3"
    },
    "language_info": {
      "name": "python"
    },
    "accelerator": "GPU"
  },
  "cells": [
    {
      "cell_type": "markdown",
      "metadata": {
        "id": "view-in-github",
        "colab_type": "text"
      },
      "source": [
        "<a href=\"https://colab.research.google.com/github/Lee-Gunju/AI-paper-code-review-for-personal-project/blob/master/MixUp_augmentation_for_image_classification.ipynb\" target=\"_parent\"><img src=\"https://colab.research.google.com/assets/colab-badge.svg\" alt=\"Open In Colab\"/></a>"
      ]
    },
    {
      "cell_type": "code",
      "metadata": {
        "id": "bHUz0K_z-799"
      },
      "source": [
        "import numpy as np\n",
        "import tensorflow as tf\n",
        "import matplotlib.pyplot as plt\n",
        "from tensorflow.keras import layers"
      ],
      "execution_count": null,
      "outputs": []
    },
    {
      "cell_type": "code",
      "metadata": {
        "colab": {
          "base_uri": "https://localhost:8080/"
        },
        "id": "tfpDyOBOAuq-",
        "outputId": "d031c36c-bb46-44b6-874c-1cde6dccadb4"
      },
      "source": [
        "(x_train, y_train), (x_test, y_test) = tf.keras.datasets.fashion_mnist.load_data()\n",
        "\n",
        "x_train = x_train.astype(\"float32\") / 255.0\n",
        "x_train = np.reshape(x_train, (-1, 28, 28, 1))\n",
        "y_train = tf.one_hot(y_train, 10)\n",
        "\n",
        "x_test = x_test.astype(\"float32\") / 255.0\n",
        "x_test = np.reshape(x_test, (-1, 28, 28, 1))\n",
        "y_test = tf.one_hot(y_test, 10)"
      ],
      "execution_count": null,
      "outputs": [
        {
          "output_type": "stream",
          "text": [
            "Downloading data from https://storage.googleapis.com/tensorflow/tf-keras-datasets/train-labels-idx1-ubyte.gz\n",
            "32768/29515 [=================================] - 0s 0us/step\n",
            "Downloading data from https://storage.googleapis.com/tensorflow/tf-keras-datasets/train-images-idx3-ubyte.gz\n",
            "26427392/26421880 [==============================] - 0s 0us/step\n",
            "Downloading data from https://storage.googleapis.com/tensorflow/tf-keras-datasets/t10k-labels-idx1-ubyte.gz\n",
            "8192/5148 [===============================================] - 0s 0us/step\n",
            "Downloading data from https://storage.googleapis.com/tensorflow/tf-keras-datasets/t10k-images-idx3-ubyte.gz\n",
            "4423680/4422102 [==============================] - 0s 0us/step\n"
          ],
          "name": "stdout"
        }
      ]
    },
    {
      "cell_type": "code",
      "metadata": {
        "id": "O_QRebcmAw3U"
      },
      "source": [
        "AUTO = tf.data.AUTOTUNE\n",
        "BATCH_SIZE = 64\n",
        "EPOCHS = 10"
      ],
      "execution_count": null,
      "outputs": []
    },
    {
      "cell_type": "code",
      "metadata": {
        "id": "RKDBMnegAysE"
      },
      "source": [
        "# Put aside a few samples to create our validation set\n",
        "val_samples = 2000\n",
        "x_val, y_val = x_train[:val_samples], y_train[:val_samples]\n",
        "new_x_train, new_y_train = x_train[val_samples:], y_train[val_samples:]"
      ],
      "execution_count": null,
      "outputs": []
    },
    {
      "cell_type": "code",
      "metadata": {
        "id": "60lEAIXLBKJg"
      },
      "source": [
        "train_ds_one = (tf.data.Dataset.from_tensor_slices((new_x_train, new_y_train)).shuffle(BATCH_SIZE * 100).batch(BATCH_SIZE))\n",
        "train_ds_two = (tf.data.Dataset.from_tensor_slices((new_x_train, new_y_train)).shuffle(BATCH_SIZE * 100).batch(BATCH_SIZE))\n",
        "\n",
        "# Because we will be mixing up the images and their corresponding labels, we will be\n",
        "# combining two shuffled datasets from the same training data.\n",
        "\n",
        "train_ds = tf.data.Dataset.zip((train_ds_one, train_ds_two))\n",
        "\n",
        "val_ds = tf.data.Dataset.from_tensor_slices((x_val, y_val)).batch(BATCH_SIZE)\n",
        "\n",
        "test_ds = tf.data.Dataset.from_tensor_slices((x_test, y_test)).batch(BATCH_SIZE)"
      ],
      "execution_count": null,
      "outputs": []
    },
    {
      "cell_type": "code",
      "metadata": {
        "colab": {
          "base_uri": "https://localhost:8080/"
        },
        "id": "uPt5Lt8xB2Qf",
        "outputId": "10dc235d-4807-4820-d1fb-ef3cbb832d26"
      },
      "source": [
        "train_ds"
      ],
      "execution_count": null,
      "outputs": [
        {
          "output_type": "execute_result",
          "data": {
            "text/plain": [
              "<ZipDataset shapes: (((None, 28, 28, 1), (None, 10)), ((None, 28, 28, 1), (None, 10))), types: ((tf.float32, tf.float32), (tf.float32, tf.float32))>"
            ]
          },
          "metadata": {
            "tags": []
          },
          "execution_count": 7
        }
      ]
    },
    {
      "cell_type": "code",
      "metadata": {
        "id": "XXNHTYV1B4qb"
      },
      "source": [
        "def sample_beta_distribution(size, alpha_0 , alpha_1 ):\n",
        "    gamma_1_sample = tf.random.gamma(shape=[size], alpha=alpha_0)\n",
        "    gamma_2_sample = tf.random.gamma(shape=[size], alpha=alpha_1)\n",
        "    return gamma_1_sample / (gamma_1_sample + gamma_2_sample)\n",
        "\n",
        "\n",
        "def mix_up(ds_one, ds_two, alpha=0.2):\n",
        "    # Unpack two datasets\n",
        "    images_one, labels_one = ds_one\n",
        "    images_two, labels_two = ds_two\n",
        "    batch_size = tf.shape(images_one)[0]\n",
        "\n",
        "    # Sample lambda and reshape it to do the mixup\n",
        "    l = sample_beta_distribution(batch_size, alpha, alpha)\n",
        "    x_l = tf.reshape(l, (batch_size, 1, 1, 1))\n",
        "    y_l = tf.reshape(l, (batch_size, 1))\n",
        "\n",
        "    # Perform mixup on both images and labels by combining a pair of images/labels\n",
        "    # (one from each dataset) into one image/label\n",
        "    images = images_one * x_l + images_two * (1 - x_l)\n",
        "    labels = labels_one * y_l + labels_two * (1 - y_l)\n",
        "    return (images, labels)  \n"
      ],
      "execution_count": null,
      "outputs": []
    },
    {
      "cell_type": "code",
      "metadata": {
        "colab": {
          "base_uri": "https://localhost:8080/"
        },
        "id": "fV6b5qMYCejb",
        "outputId": "2d3c91cb-3543-4e18-838c-59a0d5b402d8"
      },
      "source": [
        "tf.random.gamma(shape=[3], alpha=0.2)"
      ],
      "execution_count": null,
      "outputs": [
        {
          "output_type": "execute_result",
          "data": {
            "text/plain": [
              "<tf.Tensor: shape=(3,), dtype=float32, numpy=array([1.5409025e-11, 2.6937302e-02, 1.7993152e+00], dtype=float32)>"
            ]
          },
          "metadata": {
            "tags": []
          },
          "execution_count": 8
        }
      ]
    },
    {
      "cell_type": "code",
      "metadata": {
        "colab": {
          "base_uri": "https://localhost:8080/",
          "height": 737
        },
        "id": "flrrIoCPCgvU",
        "outputId": "e64b3bc3-9bed-4656-e1b8-c1ca82d6ed86"
      },
      "source": [
        "# First create the new dataset using our `mix_up` utility\n",
        "train_ds_mu = train_ds.map(\n",
        "    lambda ds_one, ds_two: mix_up(ds_one, ds_two, alpha=0.2), num_parallel_calls=AUTO\n",
        ")\n",
        "\n",
        "# Let's preview 9 samples from the dataset\n",
        "sample_images, sample_labels = next(iter(train_ds_mu))\n",
        "plt.figure(figsize=(10, 10))\n",
        "for i, (image, label) in enumerate(zip(sample_images[:9], sample_labels[:9])):\n",
        "    ax = plt.subplot(3, 3, i + 1)\n",
        "    plt.imshow(image.numpy().squeeze())\n",
        "    print(label.numpy().tolist())\n",
        "    plt.axis(\"off\")"
      ],
      "execution_count": null,
      "outputs": [
        {
          "output_type": "stream",
          "text": [
            "[0.0, 0.0, 0.0, 0.01711803674697876, 0.0, 0.0, 0.0, 0.0, 0.9828819632530212, 0.0]\n",
            "[0.0, 0.9999857544898987, 0.0, 0.0, 0.0, 1.424551010131836e-05, 0.0, 0.0, 0.0, 0.0]\n",
            "[0.0, 0.0, 0.0, 0.0, 0.0, 0.0, 0.0, 0.0, 1.0, 0.0]\n",
            "[0.0, 0.0, 0.0, 0.0, 0.0, 0.3781689405441284, 0.0, 0.0, 0.6218310594558716, 0.0]\n",
            "[0.0, 0.0, 0.4130052924156189, 0.0, 0.0, 0.0, 0.0, 0.5869947075843811, 0.0, 0.0]\n",
            "[0.0, 0.03403717279434204, 0.965962827205658, 0.0, 0.0, 0.0, 0.0, 0.0, 0.0, 0.0]\n",
            "[0.0, 0.9704918265342712, 0.0, 0.0, 0.0, 0.0, 0.0, 0.0, 0.0, 0.02950817346572876]\n",
            "[0.0, 0.0, 0.0, 0.6784801483154297, 0.0, 0.0, 0.3215198218822479, 0.0, 0.0, 0.0]\n",
            "[0.0, 0.0, 0.0, 0.0, 0.0, 0.0, 0.0, 0.02113446779549122, 0.0, 0.9788655042648315]\n"
          ],
          "name": "stdout"
        },
        {
          "output_type": "display_data",
          "data": {
            "image/png": "[encoded data removed]",
            "text/plain": [
              "<Figure size 720x720 with 9 Axes>"
            ]
          },
          "metadata": {
            "tags": [],
            "needs_background": "light"
          }
        }
      ]
    },
    {
      "cell_type": "code",
      "metadata": {
        "id": "i3fdyYxrD3K7"
      },
      "source": [
        "def get_training_model():\n",
        "    model = tf.keras.Sequential(\n",
        "        [\n",
        "            layers.Conv2D(16, (5, 5), activation=\"relu\", input_shape=(28, 28, 1)),\n",
        "            layers.MaxPooling2D(pool_size=(2, 2)),\n",
        "            layers.Conv2D(32, (5, 5), activation=\"relu\"),\n",
        "            layers.MaxPooling2D(pool_size=(2, 2)),\n",
        "            layers.Dropout(0.2),\n",
        "            layers.GlobalAvgPool2D(),\n",
        "            layers.Dense(128, activation=\"relu\"),\n",
        "            layers.Dense(10, activation=\"softmax\"),\n",
        "        ]\n",
        "    )\n",
        "    return model"
      ],
      "execution_count": null,
      "outputs": []
    },
    {
      "cell_type": "code",
      "metadata": {
        "id": "d5ItiDc0D-vp"
      },
      "source": [
        "initial_model = get_training_model()\n",
        "initial_model.save_weights(\"initial_weights.h5\")"
      ],
      "execution_count": null,
      "outputs": []
    },
    {
      "cell_type": "code",
      "metadata": {
        "colab": {
          "base_uri": "https://localhost:8080/"
        },
        "id": "mzJenLXdEDGB",
        "outputId": "28311757-8200-45b2-c58c-1e1cc2de1cd6"
      },
      "source": [
        "model = get_training_model()\n",
        "model.load_weights(\"initial_weights.h5\")\n",
        "model.compile(loss=\"categorical_crossentropy\", optimizer=\"adam\", metrics=[\"accuracy\"])\n",
        "model.fit(train_ds_mu, validation_data=val_ds, epochs=EPOCHS)\n",
        "_, test_acc = model.evaluate(test_ds)\n",
        "print(\"Test accuracy: {:.2f}%\".format(test_acc * 100))"
      ],
      "execution_count": null,
      "outputs": [
        {
          "output_type": "stream",
          "text": [
            "Epoch 1/10\n",
            "907/907 [==============================] - 35s 4ms/step - loss: 1.2028 - accuracy: 0.6224 - val_loss: 0.6914 - val_accuracy: 0.7410\n",
            "Epoch 2/10\n",
            "907/907 [==============================] - 3s 4ms/step - loss: 0.9587 - accuracy: 0.7188 - val_loss: 0.5903 - val_accuracy: 0.7855\n",
            "Epoch 3/10\n",
            "907/907 [==============================] - 4s 4ms/step - loss: 0.8809 - accuracy: 0.7616 - val_loss: 0.5238 - val_accuracy: 0.8215\n",
            "Epoch 4/10\n",
            "907/907 [==============================] - 4s 4ms/step - loss: 0.8293 - accuracy: 0.7806 - val_loss: 0.4659 - val_accuracy: 0.8440\n",
            "Epoch 5/10\n",
            "907/907 [==============================] - 3s 4ms/step - loss: 0.7943 - accuracy: 0.7965 - val_loss: 0.4634 - val_accuracy: 0.8495\n",
            "Epoch 6/10\n",
            "907/907 [==============================] - 3s 4ms/step - loss: 0.7703 - accuracy: 0.8051 - val_loss: 0.4165 - val_accuracy: 0.8565\n",
            "Epoch 7/10\n",
            "907/907 [==============================] - 3s 4ms/step - loss: 0.7488 - accuracy: 0.8129 - val_loss: 0.4043 - val_accuracy: 0.8600\n",
            "Epoch 8/10\n",
            "907/907 [==============================] - 3s 4ms/step - loss: 0.7283 - accuracy: 0.8189 - val_loss: 0.3998 - val_accuracy: 0.8565\n",
            "Epoch 9/10\n",
            "907/907 [==============================] - 3s 4ms/step - loss: 0.7179 - accuracy: 0.8227 - val_loss: 0.3781 - val_accuracy: 0.8715\n",
            "Epoch 10/10\n",
            "907/907 [==============================] - 3s 4ms/step - loss: 0.7061 - accuracy: 0.8248 - val_loss: 0.3646 - val_accuracy: 0.8720\n",
            "157/157 [==============================] - 0s 2ms/step - loss: 0.3957 - accuracy: 0.8668\n",
            "Test accuracy: 86.68%\n"
          ],
          "name": "stdout"
        }
      ]
    },
    {
      "cell_type": "code",
      "metadata": {
        "colab": {
          "base_uri": "https://localhost:8080/"
        },
        "id": "7loxfaCnEG6M",
        "outputId": "442ee3a0-5a31-4991-abe9-43fb844e1575"
      },
      "source": [
        "model = get_training_model()\n",
        "model.load_weights(\"initial_weights.h5\")\n",
        "model.compile(loss=\"categorical_crossentropy\", optimizer=\"adam\", metrics=[\"accuracy\"])\n",
        "# Notice that we are NOT using the mixed up dataset here\n",
        "model.fit(train_ds_one, validation_data=val_ds, epochs=EPOCHS)\n",
        "_, test_acc = model.evaluate(test_ds)\n",
        "print(\"Test accuracy: {:.2f}%\".format(test_acc * 100))"
      ],
      "execution_count": null,
      "outputs": [
        {
          "output_type": "stream",
          "text": [
            "Epoch 1/10\n",
            "907/907 [==============================] - 4s 3ms/step - loss: 0.8994 - accuracy: 0.6625 - val_loss: 0.6945 - val_accuracy: 0.7405\n",
            "Epoch 2/10\n",
            "907/907 [==============================] - 3s 3ms/step - loss: 0.6575 - accuracy: 0.7498 - val_loss: 0.5812 - val_accuracy: 0.7860\n",
            "Epoch 3/10\n",
            "907/907 [==============================] - 3s 3ms/step - loss: 0.5823 - accuracy: 0.7824 - val_loss: 0.5446 - val_accuracy: 0.8020\n",
            "Epoch 4/10\n",
            "907/907 [==============================] - 3s 3ms/step - loss: 0.5196 - accuracy: 0.8097 - val_loss: 0.4672 - val_accuracy: 0.8395\n",
            "Epoch 5/10\n",
            "907/907 [==============================] - 3s 3ms/step - loss: 0.4761 - accuracy: 0.8265 - val_loss: 0.4127 - val_accuracy: 0.8530\n",
            "Epoch 6/10\n",
            "907/907 [==============================] - 3s 3ms/step - loss: 0.4415 - accuracy: 0.8385 - val_loss: 0.4035 - val_accuracy: 0.8575\n",
            "Epoch 7/10\n",
            "907/907 [==============================] - 3s 3ms/step - loss: 0.4160 - accuracy: 0.8491 - val_loss: 0.3735 - val_accuracy: 0.8655\n",
            "Epoch 8/10\n",
            "907/907 [==============================] - 3s 3ms/step - loss: 0.3983 - accuracy: 0.8540 - val_loss: 0.3701 - val_accuracy: 0.8645\n",
            "Epoch 9/10\n",
            "907/907 [==============================] - 3s 3ms/step - loss: 0.3837 - accuracy: 0.8601 - val_loss: 0.3513 - val_accuracy: 0.8780\n",
            "Epoch 10/10\n",
            "907/907 [==============================] - 3s 3ms/step - loss: 0.3727 - accuracy: 0.8632 - val_loss: 0.3576 - val_accuracy: 0.8695\n",
            "157/157 [==============================] - 0s 2ms/step - loss: 0.3847 - accuracy: 0.8615\n",
            "Test accuracy: 86.15%\n"
          ],
          "name": "stdout"
        }
      ]
    },
    {
      "cell_type": "code",
      "metadata": {
        "id": "tSuDD6xkEKJ6"
      },
      "source": [
        ""
      ],
      "execution_count": null,
      "outputs": []
    }
  ]
}